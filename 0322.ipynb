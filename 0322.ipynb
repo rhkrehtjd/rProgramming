{
 "cells": [
  {
   "cell_type": "code",
   "execution_count": 127,
   "id": "8d323671-733e-454c-91cd-43a76b494e66",
   "metadata": {},
   "outputs": [
    {
     "data": {
      "text/html": [
       "1000000"
      ],
      "text/latex": [
       "1000000"
      ],
      "text/markdown": [
       "1000000"
      ],
      "text/plain": [
       "[1] 1000000"
      ]
     },
     "metadata": {},
     "output_type": "display_data"
    },
    {
     "data": {
      "text/html": [
       "1.998541"
      ],
      "text/latex": [
       "1.998541"
      ],
      "text/markdown": [
       "1.998541"
      ],
      "text/plain": [
       "[1] 1.998541"
      ]
     },
     "metadata": {},
     "output_type": "display_data"
    },
    {
     "data": {
      "text/html": [
       "0.499846137757494"
      ],
      "text/latex": [
       "0.499846137757494"
      ],
      "text/markdown": [
       "0.499846137757494"
      ],
      "text/plain": [
       "[1] 0.4998461"
      ]
     },
     "metadata": {},
     "output_type": "display_data"
    },
    {
     "data": {
      "text/html": [
       "0.500153862242506"
      ],
      "text/latex": [
       "0.500153862242506"
      ],
      "text/markdown": [
       "0.500153862242506"
      ],
      "text/plain": [
       "[1] 0.5001539"
      ]
     },
     "metadata": {},
     "output_type": "display_data"
    }
   ],
   "source": [
    "# R의 rgeom() 함수는 성공 전까지의 실패횟수를 확률변수로 정의\n",
    "# 따라서 rgeom(1,1/2)의 결과가 0이 나왔다면 실패없이 바로 성공을 의미\n",
    "# 이때 1을 더해주면 최초의 성공까지의 총 시도횟수가 카운트 된 것\n",
    "birth = rgeom(1000000,1/2) + 1\n",
    "\n",
    "# 딸을 낳기까지 1번의 출생부터 ~ 10번의 출생까지만 man_and_woman에 저장\n",
    "man_and_woman = birth[which(birth<=10)] \n",
    "\n",
    "# 자녀를 10명까지만 출산할 수 있으므로 birth가 11이상인 것은 실패로 간주해야함\n",
    "# 이 경우들은 모두 10으로 수정해야함\n",
    "# 이때 이 경우는 모두 남자 아이가 될 것\n",
    "all_man = rep(10,length( birth[which(birth>=11)] ))\n",
    "\n",
    "# 1)\n",
    "mean(c(man_and_woman,all_man))\n",
    "\n",
    "# 2)\n",
    "\n",
    "# 예를 들어 man_and_woman의 원소가 5라면 이 경우는 4명의 남자와 1명의 여자로 구성됨\n",
    "# 따라서 man_and_woman의 총 원소의 개수를 구하면 여자아이의 수를 구할 수 있음\n",
    "woman = sum(length(man_and_woman))\n",
    "# man_and_woman의 각 원소엔 여자아이 1명이 껴 있으므로 1을 빼주어야 함\n",
    "man = sum(c(all_man, man_and_woman -1 ))\n",
    "\n",
    "woman/(man+woman) # 여자의 비율\n",
    "man/ (man+woman) # 남자의 비율\n",
    "\n",
    "# 3)\n",
    "# 위 모의 실험 결과에 따라 각 가정당 자녀의 수는 약 2명이며 성비는 약 1:1로 유지되기 때문에 \n",
    "# 이 부족 사회의 인구 변화는 없을 것이다. "
   ]
  },
  {
   "cell_type": "code",
   "execution_count": null,
   "id": "40479309-b3de-4bd3-a351-8fb2ae6f9d92",
   "metadata": {},
   "outputs": [],
   "source": []
  }
 ],
 "metadata": {
  "kernelspec": {
   "display_name": "R",
   "language": "R",
   "name": "ir"
  },
  "language_info": {
   "codemirror_mode": "r",
   "file_extension": ".r",
   "mimetype": "text/x-r-source",
   "name": "R",
   "pygments_lexer": "r",
   "version": "4.2.2"
  }
 },
 "nbformat": 4,
 "nbformat_minor": 5
}
