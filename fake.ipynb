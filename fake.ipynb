{
 "cells": [
  {
   "cell_type": "code",
   "execution_count": 2,
   "id": "9d6702db-bdeb-4bef-8abd-b4b6027459a3",
   "metadata": {},
   "outputs": [
    {
     "data": {
      "text/html": [
       "<table class=\"dataframe\">\n",
       "<caption>A data.frame: 20 × 7</caption>\n",
       "<thead>\n",
       "\t<tr><th scope=col>Field.Name</th><th scope=col>Area</th><th scope=col>Slope</th><th scope=col>Vegetation</th><th scope=col>Soil.pH</th><th scope=col>Damp</th><th scope=col>Worm.density</th></tr>\n",
       "\t<tr><th scope=col>&lt;chr&gt;</th><th scope=col>&lt;dbl&gt;</th><th scope=col>&lt;int&gt;</th><th scope=col>&lt;chr&gt;</th><th scope=col>&lt;dbl&gt;</th><th scope=col>&lt;lgl&gt;</th><th scope=col>&lt;int&gt;</th></tr>\n",
       "</thead>\n",
       "<tbody>\n",
       "\t<tr><td>Nashs.Field      </td><td>3.6</td><td>11</td><td>Grassland</td><td>4.1</td><td>FALSE</td><td>4</td></tr>\n",
       "\t<tr><td>Silwood.Bottom   </td><td>5.1</td><td> 2</td><td>Arable   </td><td>5.2</td><td>FALSE</td><td>7</td></tr>\n",
       "\t<tr><td>Nursery.Field    </td><td>2.8</td><td> 3</td><td>Grassland</td><td>4.3</td><td>FALSE</td><td>2</td></tr>\n",
       "\t<tr><td>Rush.Meadow      </td><td>2.4</td><td> 5</td><td>Meadow   </td><td>4.9</td><td> TRUE</td><td>5</td></tr>\n",
       "\t<tr><td>Gunness.Thicket  </td><td>3.8</td><td> 0</td><td>Scrub    </td><td>4.2</td><td>FALSE</td><td>6</td></tr>\n",
       "\t<tr><td>Oak.Mead         </td><td>3.1</td><td> 2</td><td>Grassland</td><td>3.9</td><td>FALSE</td><td>2</td></tr>\n",
       "\t<tr><td>Church.Field     </td><td>3.5</td><td> 3</td><td>Grassland</td><td>4.2</td><td>FALSE</td><td>3</td></tr>\n",
       "\t<tr><td>Ashurst          </td><td>2.1</td><td> 0</td><td>Arable   </td><td>4.8</td><td>FALSE</td><td>4</td></tr>\n",
       "\t<tr><td>The.Orchard      </td><td>1.9</td><td> 0</td><td>Orchard  </td><td>5.7</td><td>FALSE</td><td>9</td></tr>\n",
       "\t<tr><td>Rookery.Slope    </td><td>1.5</td><td> 4</td><td>Grassland</td><td>5.0</td><td> TRUE</td><td>7</td></tr>\n",
       "\t<tr><td>Garden.Wood      </td><td>2.9</td><td>10</td><td>Scrub    </td><td>5.2</td><td>FALSE</td><td>8</td></tr>\n",
       "\t<tr><td>North.Gravel     </td><td>3.3</td><td> 1</td><td>Grassland</td><td>4.1</td><td>FALSE</td><td>1</td></tr>\n",
       "\t<tr><td>South.Gravel     </td><td>3.7</td><td> 2</td><td>Grassland</td><td>4.0</td><td>FALSE</td><td>2</td></tr>\n",
       "\t<tr><td>Observatory.Ridge</td><td>1.8</td><td> 6</td><td>Grassland</td><td>3.8</td><td>FALSE</td><td>0</td></tr>\n",
       "\t<tr><td>Pond.Field       </td><td>4.1</td><td> 0</td><td>Meadow   </td><td>5.0</td><td> TRUE</td><td>6</td></tr>\n",
       "\t<tr><td>Water.Meadow     </td><td>3.9</td><td> 0</td><td>Meadow   </td><td>4.9</td><td> TRUE</td><td>8</td></tr>\n",
       "\t<tr><td>Cheapside        </td><td>2.2</td><td> 8</td><td>Scrub    </td><td>4.7</td><td> TRUE</td><td>4</td></tr>\n",
       "\t<tr><td>Pound.Hill       </td><td>4.4</td><td> 2</td><td>Arable   </td><td>4.5</td><td>FALSE</td><td>5</td></tr>\n",
       "\t<tr><td>Gravel.Pit       </td><td>2.9</td><td> 1</td><td>Grassland</td><td>3.5</td><td>FALSE</td><td>1</td></tr>\n",
       "\t<tr><td>Farm.Wood        </td><td>0.8</td><td>10</td><td>Scrub    </td><td>5.1</td><td> TRUE</td><td>3</td></tr>\n",
       "</tbody>\n",
       "</table>\n"
      ],
      "text/latex": [
       "A data.frame: 20 × 7\n",
       "\\begin{tabular}{lllllll}\n",
       " Field.Name & Area & Slope & Vegetation & Soil.pH & Damp & Worm.density\\\\\n",
       " <chr> & <dbl> & <int> & <chr> & <dbl> & <lgl> & <int>\\\\\n",
       "\\hline\n",
       "\t Nashs.Field       & 3.6 & 11 & Grassland & 4.1 & FALSE & 4\\\\\n",
       "\t Silwood.Bottom    & 5.1 &  2 & Arable    & 5.2 & FALSE & 7\\\\\n",
       "\t Nursery.Field     & 2.8 &  3 & Grassland & 4.3 & FALSE & 2\\\\\n",
       "\t Rush.Meadow       & 2.4 &  5 & Meadow    & 4.9 &  TRUE & 5\\\\\n",
       "\t Gunness.Thicket   & 3.8 &  0 & Scrub     & 4.2 & FALSE & 6\\\\\n",
       "\t Oak.Mead          & 3.1 &  2 & Grassland & 3.9 & FALSE & 2\\\\\n",
       "\t Church.Field      & 3.5 &  3 & Grassland & 4.2 & FALSE & 3\\\\\n",
       "\t Ashurst           & 2.1 &  0 & Arable    & 4.8 & FALSE & 4\\\\\n",
       "\t The.Orchard       & 1.9 &  0 & Orchard   & 5.7 & FALSE & 9\\\\\n",
       "\t Rookery.Slope     & 1.5 &  4 & Grassland & 5.0 &  TRUE & 7\\\\\n",
       "\t Garden.Wood       & 2.9 & 10 & Scrub     & 5.2 & FALSE & 8\\\\\n",
       "\t North.Gravel      & 3.3 &  1 & Grassland & 4.1 & FALSE & 1\\\\\n",
       "\t South.Gravel      & 3.7 &  2 & Grassland & 4.0 & FALSE & 2\\\\\n",
       "\t Observatory.Ridge & 1.8 &  6 & Grassland & 3.8 & FALSE & 0\\\\\n",
       "\t Pond.Field        & 4.1 &  0 & Meadow    & 5.0 &  TRUE & 6\\\\\n",
       "\t Water.Meadow      & 3.9 &  0 & Meadow    & 4.9 &  TRUE & 8\\\\\n",
       "\t Cheapside         & 2.2 &  8 & Scrub     & 4.7 &  TRUE & 4\\\\\n",
       "\t Pound.Hill        & 4.4 &  2 & Arable    & 4.5 & FALSE & 5\\\\\n",
       "\t Gravel.Pit        & 2.9 &  1 & Grassland & 3.5 & FALSE & 1\\\\\n",
       "\t Farm.Wood         & 0.8 & 10 & Scrub     & 5.1 &  TRUE & 3\\\\\n",
       "\\end{tabular}\n"
      ],
      "text/markdown": [
       "\n",
       "A data.frame: 20 × 7\n",
       "\n",
       "| Field.Name &lt;chr&gt; | Area &lt;dbl&gt; | Slope &lt;int&gt; | Vegetation &lt;chr&gt; | Soil.pH &lt;dbl&gt; | Damp &lt;lgl&gt; | Worm.density &lt;int&gt; |\n",
       "|---|---|---|---|---|---|---|\n",
       "| Nashs.Field       | 3.6 | 11 | Grassland | 4.1 | FALSE | 4 |\n",
       "| Silwood.Bottom    | 5.1 |  2 | Arable    | 5.2 | FALSE | 7 |\n",
       "| Nursery.Field     | 2.8 |  3 | Grassland | 4.3 | FALSE | 2 |\n",
       "| Rush.Meadow       | 2.4 |  5 | Meadow    | 4.9 |  TRUE | 5 |\n",
       "| Gunness.Thicket   | 3.8 |  0 | Scrub     | 4.2 | FALSE | 6 |\n",
       "| Oak.Mead          | 3.1 |  2 | Grassland | 3.9 | FALSE | 2 |\n",
       "| Church.Field      | 3.5 |  3 | Grassland | 4.2 | FALSE | 3 |\n",
       "| Ashurst           | 2.1 |  0 | Arable    | 4.8 | FALSE | 4 |\n",
       "| The.Orchard       | 1.9 |  0 | Orchard   | 5.7 | FALSE | 9 |\n",
       "| Rookery.Slope     | 1.5 |  4 | Grassland | 5.0 |  TRUE | 7 |\n",
       "| Garden.Wood       | 2.9 | 10 | Scrub     | 5.2 | FALSE | 8 |\n",
       "| North.Gravel      | 3.3 |  1 | Grassland | 4.1 | FALSE | 1 |\n",
       "| South.Gravel      | 3.7 |  2 | Grassland | 4.0 | FALSE | 2 |\n",
       "| Observatory.Ridge | 1.8 |  6 | Grassland | 3.8 | FALSE | 0 |\n",
       "| Pond.Field        | 4.1 |  0 | Meadow    | 5.0 |  TRUE | 6 |\n",
       "| Water.Meadow      | 3.9 |  0 | Meadow    | 4.9 |  TRUE | 8 |\n",
       "| Cheapside         | 2.2 |  8 | Scrub     | 4.7 |  TRUE | 4 |\n",
       "| Pound.Hill        | 4.4 |  2 | Arable    | 4.5 | FALSE | 5 |\n",
       "| Gravel.Pit        | 2.9 |  1 | Grassland | 3.5 | FALSE | 1 |\n",
       "| Farm.Wood         | 0.8 | 10 | Scrub     | 5.1 |  TRUE | 3 |\n",
       "\n"
      ],
      "text/plain": [
       "   Field.Name        Area Slope Vegetation Soil.pH Damp  Worm.density\n",
       "1  Nashs.Field       3.6  11    Grassland  4.1     FALSE 4           \n",
       "2  Silwood.Bottom    5.1   2    Arable     5.2     FALSE 7           \n",
       "3  Nursery.Field     2.8   3    Grassland  4.3     FALSE 2           \n",
       "4  Rush.Meadow       2.4   5    Meadow     4.9      TRUE 5           \n",
       "5  Gunness.Thicket   3.8   0    Scrub      4.2     FALSE 6           \n",
       "6  Oak.Mead          3.1   2    Grassland  3.9     FALSE 2           \n",
       "7  Church.Field      3.5   3    Grassland  4.2     FALSE 3           \n",
       "8  Ashurst           2.1   0    Arable     4.8     FALSE 4           \n",
       "9  The.Orchard       1.9   0    Orchard    5.7     FALSE 9           \n",
       "10 Rookery.Slope     1.5   4    Grassland  5.0      TRUE 7           \n",
       "11 Garden.Wood       2.9  10    Scrub      5.2     FALSE 8           \n",
       "12 North.Gravel      3.3   1    Grassland  4.1     FALSE 1           \n",
       "13 South.Gravel      3.7   2    Grassland  4.0     FALSE 2           \n",
       "14 Observatory.Ridge 1.8   6    Grassland  3.8     FALSE 0           \n",
       "15 Pond.Field        4.1   0    Meadow     5.0      TRUE 6           \n",
       "16 Water.Meadow      3.9   0    Meadow     4.9      TRUE 8           \n",
       "17 Cheapside         2.2   8    Scrub      4.7      TRUE 4           \n",
       "18 Pound.Hill        4.4   2    Arable     4.5     FALSE 5           \n",
       "19 Gravel.Pit        2.9   1    Grassland  3.5     FALSE 1           \n",
       "20 Farm.Wood         0.8  10    Scrub      5.1      TRUE 3           "
      ]
     },
     "metadata": {},
     "output_type": "display_data"
    }
   ],
   "source": [
    "url <- \"http://www.bio.ic.ac.uk/research/mjcraw/therbook/data/worms.txt\"\n",
    "(worms <- read.table(url, header=TRUE))"
   ]
  },
  {
   "cell_type": "code",
   "execution_count": 4,
   "id": "cfec1f39-e5fd-4313-9515-6dd7bf8533c9",
   "metadata": {},
   "outputs": [
    {
     "data": {
      "text/html": [
       "<table class=\"dataframe\">\n",
       "<caption>A data.frame: 5 × 5</caption>\n",
       "<thead>\n",
       "\t<tr><th scope=col>veg</th><th scope=col>Area</th><th scope=col>Slope</th><th scope=col>Soil.pH</th><th scope=col>Worm.density</th></tr>\n",
       "\t<tr><th scope=col>&lt;chr&gt;</th><th scope=col>&lt;dbl&gt;</th><th scope=col>&lt;dbl&gt;</th><th scope=col>&lt;dbl&gt;</th><th scope=col>&lt;dbl&gt;</th></tr>\n",
       "</thead>\n",
       "<tbody>\n",
       "\t<tr><td>Arable   </td><td>3.866667</td><td>1.333333</td><td>4.833333</td><td>5.333333</td></tr>\n",
       "\t<tr><td>Grassland</td><td>2.911111</td><td>3.666667</td><td>4.100000</td><td>2.444444</td></tr>\n",
       "\t<tr><td>Meadow   </td><td>3.466667</td><td>1.666667</td><td>4.933333</td><td>6.333333</td></tr>\n",
       "\t<tr><td>Orchard  </td><td>1.900000</td><td>0.000000</td><td>5.700000</td><td>9.000000</td></tr>\n",
       "\t<tr><td>Scrub    </td><td>2.425000</td><td>7.000000</td><td>4.800000</td><td>5.250000</td></tr>\n",
       "</tbody>\n",
       "</table>\n"
      ],
      "text/latex": [
       "A data.frame: 5 × 5\n",
       "\\begin{tabular}{lllll}\n",
       " veg & Area & Slope & Soil.pH & Worm.density\\\\\n",
       " <chr> & <dbl> & <dbl> & <dbl> & <dbl>\\\\\n",
       "\\hline\n",
       "\t Arable    & 3.866667 & 1.333333 & 4.833333 & 5.333333\\\\\n",
       "\t Grassland & 2.911111 & 3.666667 & 4.100000 & 2.444444\\\\\n",
       "\t Meadow    & 3.466667 & 1.666667 & 4.933333 & 6.333333\\\\\n",
       "\t Orchard   & 1.900000 & 0.000000 & 5.700000 & 9.000000\\\\\n",
       "\t Scrub     & 2.425000 & 7.000000 & 4.800000 & 5.250000\\\\\n",
       "\\end{tabular}\n"
      ],
      "text/markdown": [
       "\n",
       "A data.frame: 5 × 5\n",
       "\n",
       "| veg &lt;chr&gt; | Area &lt;dbl&gt; | Slope &lt;dbl&gt; | Soil.pH &lt;dbl&gt; | Worm.density &lt;dbl&gt; |\n",
       "|---|---|---|---|---|\n",
       "| Arable    | 3.866667 | 1.333333 | 4.833333 | 5.333333 |\n",
       "| Grassland | 2.911111 | 3.666667 | 4.100000 | 2.444444 |\n",
       "| Meadow    | 3.466667 | 1.666667 | 4.933333 | 6.333333 |\n",
       "| Orchard   | 1.900000 | 0.000000 | 5.700000 | 9.000000 |\n",
       "| Scrub     | 2.425000 | 7.000000 | 4.800000 | 5.250000 |\n",
       "\n"
      ],
      "text/plain": [
       "  veg       Area     Slope    Soil.pH  Worm.density\n",
       "1 Arable    3.866667 1.333333 4.833333 5.333333    \n",
       "2 Grassland 2.911111 3.666667 4.100000 2.444444    \n",
       "3 Meadow    3.466667 1.666667 4.933333 6.333333    \n",
       "4 Orchard   1.900000 0.000000 5.700000 9.000000    \n",
       "5 Scrub     2.425000 7.000000 4.800000 5.250000    "
      ]
     },
     "metadata": {},
     "output_type": "display_data"
    }
   ],
   "source": [
    "aggregate(worms[,c(2,3,5,7)], by = list(veg=worms$Vegetation),mean)"
   ]
  },
  {
   "cell_type": "code",
   "execution_count": 5,
   "id": "920ac5bc-f7b6-46c6-935b-107155adacfc",
   "metadata": {},
   "outputs": [
    {
     "data": {
      "text/html": [
       "<table class=\"dataframe\">\n",
       "<caption>A data.frame: 7 × 6</caption>\n",
       "<thead>\n",
       "\t<tr><th scope=col>veg</th><th scope=col>d</th><th scope=col>Area</th><th scope=col>Slope</th><th scope=col>Soil.pH</th><th scope=col>Worm.density</th></tr>\n",
       "\t<tr><th scope=col>&lt;chr&gt;</th><th scope=col>&lt;lgl&gt;</th><th scope=col>&lt;dbl&gt;</th><th scope=col>&lt;dbl&gt;</th><th scope=col>&lt;dbl&gt;</th><th scope=col>&lt;dbl&gt;</th></tr>\n",
       "</thead>\n",
       "<tbody>\n",
       "\t<tr><td>Arable   </td><td>FALSE</td><td>3.866667</td><td>1.333333</td><td>4.833333</td><td>5.333333</td></tr>\n",
       "\t<tr><td>Grassland</td><td>FALSE</td><td>3.087500</td><td>3.625000</td><td>3.987500</td><td>1.875000</td></tr>\n",
       "\t<tr><td>Orchard  </td><td>FALSE</td><td>1.900000</td><td>0.000000</td><td>5.700000</td><td>9.000000</td></tr>\n",
       "\t<tr><td>Scrub    </td><td>FALSE</td><td>3.350000</td><td>5.000000</td><td>4.700000</td><td>7.000000</td></tr>\n",
       "\t<tr><td>Grassland</td><td> TRUE</td><td>1.500000</td><td>4.000000</td><td>5.000000</td><td>7.000000</td></tr>\n",
       "\t<tr><td>Meadow   </td><td> TRUE</td><td>3.466667</td><td>1.666667</td><td>4.933333</td><td>6.333333</td></tr>\n",
       "\t<tr><td>Scrub    </td><td> TRUE</td><td>1.500000</td><td>9.000000</td><td>4.900000</td><td>3.500000</td></tr>\n",
       "</tbody>\n",
       "</table>\n"
      ],
      "text/latex": [
       "A data.frame: 7 × 6\n",
       "\\begin{tabular}{llllll}\n",
       " veg & d & Area & Slope & Soil.pH & Worm.density\\\\\n",
       " <chr> & <lgl> & <dbl> & <dbl> & <dbl> & <dbl>\\\\\n",
       "\\hline\n",
       "\t Arable    & FALSE & 3.866667 & 1.333333 & 4.833333 & 5.333333\\\\\n",
       "\t Grassland & FALSE & 3.087500 & 3.625000 & 3.987500 & 1.875000\\\\\n",
       "\t Orchard   & FALSE & 1.900000 & 0.000000 & 5.700000 & 9.000000\\\\\n",
       "\t Scrub     & FALSE & 3.350000 & 5.000000 & 4.700000 & 7.000000\\\\\n",
       "\t Grassland &  TRUE & 1.500000 & 4.000000 & 5.000000 & 7.000000\\\\\n",
       "\t Meadow    &  TRUE & 3.466667 & 1.666667 & 4.933333 & 6.333333\\\\\n",
       "\t Scrub     &  TRUE & 1.500000 & 9.000000 & 4.900000 & 3.500000\\\\\n",
       "\\end{tabular}\n"
      ],
      "text/markdown": [
       "\n",
       "A data.frame: 7 × 6\n",
       "\n",
       "| veg &lt;chr&gt; | d &lt;lgl&gt; | Area &lt;dbl&gt; | Slope &lt;dbl&gt; | Soil.pH &lt;dbl&gt; | Worm.density &lt;dbl&gt; |\n",
       "|---|---|---|---|---|---|\n",
       "| Arable    | FALSE | 3.866667 | 1.333333 | 4.833333 | 5.333333 |\n",
       "| Grassland | FALSE | 3.087500 | 3.625000 | 3.987500 | 1.875000 |\n",
       "| Orchard   | FALSE | 1.900000 | 0.000000 | 5.700000 | 9.000000 |\n",
       "| Scrub     | FALSE | 3.350000 | 5.000000 | 4.700000 | 7.000000 |\n",
       "| Grassland |  TRUE | 1.500000 | 4.000000 | 5.000000 | 7.000000 |\n",
       "| Meadow    |  TRUE | 3.466667 | 1.666667 | 4.933333 | 6.333333 |\n",
       "| Scrub     |  TRUE | 1.500000 | 9.000000 | 4.900000 | 3.500000 |\n",
       "\n"
      ],
      "text/plain": [
       "  veg       d     Area     Slope    Soil.pH  Worm.density\n",
       "1 Arable    FALSE 3.866667 1.333333 4.833333 5.333333    \n",
       "2 Grassland FALSE 3.087500 3.625000 3.987500 1.875000    \n",
       "3 Orchard   FALSE 1.900000 0.000000 5.700000 9.000000    \n",
       "4 Scrub     FALSE 3.350000 5.000000 4.700000 7.000000    \n",
       "5 Grassland  TRUE 1.500000 4.000000 5.000000 7.000000    \n",
       "6 Meadow     TRUE 3.466667 1.666667 4.933333 6.333333    \n",
       "7 Scrub      TRUE 1.500000 9.000000 4.900000 3.500000    "
      ]
     },
     "metadata": {},
     "output_type": "display_data"
    }
   ],
   "source": [
    "aggregate(worms[,c(2,3,5,7)], by = list(veg=worms$Vegetation,d = worms$Damp),mean)"
   ]
  },
  {
   "cell_type": "code",
   "execution_count": null,
   "id": "2391e0d4-aacd-498c-b5bb-88d26cd29e7c",
   "metadata": {},
   "outputs": [],
   "source": []
  }
 ],
 "metadata": {
  "kernelspec": {
   "display_name": "R",
   "language": "R",
   "name": "ir"
  },
  "language_info": {
   "codemirror_mode": "r",
   "file_extension": ".r",
   "mimetype": "text/x-r-source",
   "name": "R",
   "pygments_lexer": "r",
   "version": "4.2.2"
  }
 },
 "nbformat": 4,
 "nbformat_minor": 5
}
