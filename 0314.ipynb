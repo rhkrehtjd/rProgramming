{
 "cells": [
  {
   "cell_type": "code",
   "execution_count": 18,
   "id": "63d06ada-c27d-484f-8696-b8a01759cce8",
   "metadata": {},
   "outputs": [],
   "source": [
    "a=\"abc\""
   ]
  },
  {
   "cell_type": "code",
   "execution_count": 21,
   "id": "8c018f9b-2f5d-4dd4-8b8f-bd31defc4d7a",
   "metadata": {},
   "outputs": [],
   "source": [
    "b=\"123\""
   ]
  },
  {
   "cell_type": "code",
   "execution_count": 22,
   "id": "3907d657-03d5-4da6-a74f-ff0853292ad2",
   "metadata": {},
   "outputs": [],
   "source": [
    "c = c(a,b)"
   ]
  },
  {
   "cell_type": "code",
   "execution_count": 23,
   "id": "de4cbd5b-489f-4f46-ae47-72d022d2d1de",
   "metadata": {},
   "outputs": [
    {
     "data": {
      "text/html": [
       "'abc'"
      ],
      "text/latex": [
       "'abc'"
      ],
      "text/markdown": [
       "'abc'"
      ],
      "text/plain": [
       "[1] \"abc\""
      ]
     },
     "metadata": {},
     "output_type": "display_data"
    }
   ],
   "source": [
    "c[1]"
   ]
  },
  {
   "cell_type": "code",
   "execution_count": 24,
   "id": "466af179-8563-4921-a306-33d3575676b7",
   "metadata": {},
   "outputs": [
    {
     "data": {
      "text/html": [
       "'abc123'"
      ],
      "text/latex": [
       "'abc123'"
      ],
      "text/markdown": [
       "'abc123'"
      ],
      "text/plain": [
       "[1] \"abc123\""
      ]
     },
     "metadata": {},
     "output_type": "display_data"
    }
   ],
   "source": [
    "paste(a, b, sep=\"\")  "
   ]
  },
  {
   "cell_type": "code",
   "execution_count": 25,
   "id": "73aaca6f-82d1-460a-9764-cfbaa5c91c28",
   "metadata": {},
   "outputs": [],
   "source": [
    "drive <- \"c:\"\n",
    "folder <- \"temp\"\n",
    "file <- \"file\"\n",
    "extension <- \".txt\""
   ]
  },
  {
   "cell_type": "code",
   "execution_count": 26,
   "id": "a9a4031f-f0af-4987-bf47-9e8588e7cbfe",
   "metadata": {},
   "outputs": [
    {
     "data": {
      "text/html": [
       "'c: temp file .txt'"
      ],
      "text/latex": [
       "'c: temp file .txt'"
      ],
      "text/markdown": [
       "'c: temp file .txt'"
      ],
      "text/plain": [
       "[1] \"c: temp file .txt\""
      ]
     },
     "metadata": {},
     "output_type": "display_data"
    }
   ],
   "source": [
    "paste(drive, folder, file, extension)  "
   ]
  },
  {
   "cell_type": "code",
   "execution_count": 27,
   "id": "a4da2e6b-797f-4436-9801-41fe6a04f8bc",
   "metadata": {},
   "outputs": [
    {
     "data": {
      "text/html": [
       "'c:\\\\temp\\\\file.txt'"
      ],
      "text/latex": [
       "'c:\\textbackslash{}\\textbackslash{}temp\\textbackslash{}\\textbackslash{}file.txt'"
      ],
      "text/markdown": [
       "'c:\\\\temp\\\\file.txt'"
      ],
      "text/plain": [
       "[1] \"c:\\\\temp\\\\file.txt\""
      ]
     },
     "metadata": {},
     "output_type": "display_data"
    }
   ],
   "source": [
    "paste(drive, \"\\\\\", folder, \"\\\\\", file, extension,sep=\"\") "
   ]
  },
  {
   "cell_type": "code",
   "execution_count": 28,
   "id": "808d6457-433c-4c55-bc43-05200230c264",
   "metadata": {},
   "outputs": [],
   "source": [
    "phrase <- \"the quick brown fox jumps over the lazy dog\""
   ]
  },
  {
   "cell_type": "code",
   "execution_count": 30,
   "id": "cbebfa95-8d41-459c-9eb9-67b4ab198748",
   "metadata": {},
   "outputs": [
    {
     "data": {
      "text/html": [
       "\n",
       "<table style=\"width: 100%;\"><tr><td>substr {base}</td><td style=\"text-align: right;\">R Documentation</td></tr></table>\n",
       "\n",
       "<h2>Substrings of a Character Vector</h2>\n",
       "\n",
       "<h3>Description</h3>\n",
       "\n",
       "<p>Extract or replace substrings in a character vector.\n",
       "</p>\n",
       "\n",
       "\n",
       "<h3>Usage</h3>\n",
       "\n",
       "<pre><code class='language-R'>substr(x, start, stop)\n",
       "substring(text, first, last = 1000000L)\n",
       "\n",
       "substr(x, start, stop) &lt;- value\n",
       "substring(text, first, last = 1000000L) &lt;- value\n",
       "</code></pre>\n",
       "\n",
       "\n",
       "<h3>Arguments</h3>\n",
       "\n",
       "<table>\n",
       "<tr style=\"vertical-align: top;\"><td><code>x, text</code></td>\n",
       "<td>\n",
       "<p>a character vector.</p>\n",
       "</td></tr>\n",
       "<tr style=\"vertical-align: top;\"><td><code>start, first</code></td>\n",
       "<td>\n",
       "<p>integer.  The first element to be extracted or replaced.</p>\n",
       "</td></tr>\n",
       "<tr style=\"vertical-align: top;\"><td><code>stop, last</code></td>\n",
       "<td>\n",
       "<p>integer.  The last element to be extracted or replaced.</p>\n",
       "</td></tr>\n",
       "<tr style=\"vertical-align: top;\"><td><code>value</code></td>\n",
       "<td>\n",
       "<p>a character vector, recycled if necessary.</p>\n",
       "</td></tr>\n",
       "</table>\n",
       "\n",
       "\n",
       "<h3>Details</h3>\n",
       "\n",
       "<p><code>substring</code> is compatible with S, with <code>first</code> and\n",
       "<code>last</code> instead of <code>start</code> and <code>stop</code>.\n",
       "For vector arguments, it expands the arguments cyclically to the\n",
       "length of the longest <em>provided</em> none are of zero length.\n",
       "</p>\n",
       "<p>When extracting, if <code>start</code> is larger than the string length then\n",
       "<code>\"\"</code> is returned.\n",
       "</p>\n",
       "<p>For the extraction functions, <code>x</code> or <code>text</code> will be\n",
       "converted to a character vector by <code>as.character</code> if it is not\n",
       "already one.\n",
       "</p>\n",
       "<p>For the replacement functions, if <code>start</code> is larger than the\n",
       "string length then no replacement is done.  If the portion to be\n",
       "replaced is longer than the replacement string, then only the\n",
       "portion the length of the string is replaced.\n",
       "</p>\n",
       "<p>If any argument is an <code>NA</code> element, the corresponding element of\n",
       "the answer is <code>NA</code>.\n",
       "</p>\n",
       "<p>Elements of the result will be have the encoding declared as that of\n",
       "the current locale (see <code>Encoding</code>) if the corresponding\n",
       "input had a declared Latin-1 or UTF-8 encoding and the current locale\n",
       "is either Latin-1 or UTF-8.\n",
       "</p>\n",
       "<p>If an input element has declared <code>\"bytes\"</code> encoding (see\n",
       "<code>Encoding</code>, the subsetting is done in units of bytes not\n",
       "characters.\n",
       "</p>\n",
       "\n",
       "\n",
       "<h3>Value</h3>\n",
       "\n",
       "<p>For <code>substr</code>, a character vector of the same length and with the\n",
       "same attributes as <code>x</code> (after possible coercion).\n",
       "</p>\n",
       "<p>For <code>substring</code>, a character vector of length the longest of the\n",
       "arguments.  This will have names taken from <code>x</code> (if it has any\n",
       "after coercion, repeated as needed), and other attributes copied from\n",
       "<code>x</code> if it is the longest of the arguments).\n",
       "</p>\n",
       "<p>For the replacement functions, a character vector of the same length as\n",
       "<code>x</code> or <code>text</code>, with <code>attributes</code> such as\n",
       "<code>names</code> preserved.\n",
       "</p>\n",
       "<p>Elements of <code>x</code> or <code>text</code> with a declared encoding (see\n",
       "<code>Encoding</code>) will be returned with the same encoding.\n",
       "</p>\n",
       "\n",
       "\n",
       "<h3>Note</h3>\n",
       "\n",
       "<p>The S version of <code>substring&lt;-</code> ignores <code>last</code>; this version\n",
       "does not.\n",
       "</p>\n",
       "<p>These functions are often used with <code>nchar</code> to truncate a\n",
       "display.  That does not really work (you want to limit the width, not\n",
       "the number of characters, so it would be better to use\n",
       "<code>strtrim</code>), but at least make sure you use the default\n",
       "<code>nchar(type = \"c\")</code>.\n",
       "</p>\n",
       "\n",
       "\n",
       "<h3>References</h3>\n",
       "\n",
       "<p>Becker, R. A., Chambers, J. M. and Wilks, A. R. (1988)\n",
       "<em>The New S Language</em>.\n",
       "Wadsworth &amp; Brooks/Cole.  (<code>substring</code>.)\n",
       "</p>\n",
       "\n",
       "\n",
       "<h3>See Also</h3>\n",
       "\n",
       "<p><code>strsplit</code>, <code>paste</code>, <code>nchar</code>.\n",
       "</p>\n",
       "\n",
       "\n",
       "<h3>Examples</h3>\n",
       "\n",
       "<pre><code class='language-R'>substr(\"abcdef\", 2, 4)\n",
       "substring(\"abcdef\", 1:6, 1:6)\n",
       "## strsplit() is more efficient ...\n",
       "\n",
       "substr(rep(\"abcdef\", 4), 1:4, 4:5)\n",
       "x &lt;- c(\"asfef\", \"qwerty\", \"yuiop[\", \"b\", \"stuff.blah.yech\")\n",
       "substr(x, 2, 5)\n",
       "substring(x, 2, 4:6)\n",
       "\n",
       "X &lt;- x\n",
       "names(X) &lt;- LETTERS[seq_along(x)]\n",
       "comment(X) &lt;- noquote(\"is a named vector\")\n",
       "str(aX &lt;- attributes(X))\n",
       "substring(x, 2) &lt;- c(\"..\", \"+++\")\n",
       "substring(X, 2) &lt;- c(\"..\", \"+++\")\n",
       "X\n",
       "stopifnot(x == X, identical(aX, attributes(X)), nzchar(comment(X)))\n",
       "</code></pre>\n",
       "\n",
       "<hr /><div style=\"text-align: center;\">[Package <em>base</em> version 4.2.2 ]</div>\n",
       "</div>"
      ],
      "text/latex": [
       "\\inputencoding{utf8}\n",
       "\\HeaderA{substr}{Substrings of a Character Vector}{substr}\n",
       "\\aliasA{substr<\\Rdash{}}{substr}{substr<.Rdash.}\n",
       "\\aliasA{substring}{substr}{substring}\n",
       "\\aliasA{substring<\\Rdash{}}{substr}{substring<.Rdash.}\n",
       "\\keyword{character}{substr}\n",
       "%\n",
       "\\begin{Description}\\relax\n",
       "Extract or replace substrings in a character vector.\n",
       "\\end{Description}\n",
       "%\n",
       "\\begin{Usage}\n",
       "\\begin{verbatim}\n",
       "substr(x, start, stop)\n",
       "substring(text, first, last = 1000000L)\n",
       "\n",
       "substr(x, start, stop) <- value\n",
       "substring(text, first, last = 1000000L) <- value\n",
       "\\end{verbatim}\n",
       "\\end{Usage}\n",
       "%\n",
       "\\begin{Arguments}\n",
       "\\begin{ldescription}\n",
       "\\item[\\code{x, text}] a character vector.\n",
       "\\item[\\code{start, first}] integer.  The first element to be extracted or replaced.\n",
       "\\item[\\code{stop, last}] integer.  The last element to be extracted or replaced.\n",
       "\\item[\\code{value}] a character vector, recycled if necessary.\n",
       "\\end{ldescription}\n",
       "\\end{Arguments}\n",
       "%\n",
       "\\begin{Details}\\relax\n",
       "\\code{substring} is compatible with S, with \\code{first} and\n",
       "\\code{last} instead of \\code{start} and \\code{stop}.\n",
       "For vector arguments, it expands the arguments cyclically to the\n",
       "length of the longest \\emph{provided} none are of zero length.\n",
       "\n",
       "When extracting, if \\code{start} is larger than the string length then\n",
       "\\code{\"\"} is returned.\n",
       "\n",
       "For the extraction functions, \\code{x} or \\code{text} will be\n",
       "converted to a character vector by \\code{\\LinkA{as.character}{as.character}} if it is not\n",
       "already one.\n",
       "\n",
       "For the replacement functions, if \\code{start} is larger than the\n",
       "string length then no replacement is done.  If the portion to be\n",
       "replaced is longer than the replacement string, then only the\n",
       "portion the length of the string is replaced.\n",
       "\n",
       "If any argument is an \\code{NA} element, the corresponding element of\n",
       "the answer is \\code{NA}.\n",
       "\n",
       "Elements of the result will be have the encoding declared as that of\n",
       "the current locale (see \\code{\\LinkA{Encoding}{Encoding}}) if the corresponding\n",
       "input had a declared Latin-1 or UTF-8 encoding and the current locale\n",
       "is either Latin-1 or UTF-8.\n",
       "\n",
       "If an input element has declared \\code{\"bytes\"} encoding (see\n",
       "\\code{\\LinkA{Encoding}{Encoding}}, the subsetting is done in units of bytes not\n",
       "characters.\n",
       "\\end{Details}\n",
       "%\n",
       "\\begin{Value}\n",
       "For \\code{substr}, a character vector of the same length and with the\n",
       "same attributes as \\code{x} (after possible coercion).\n",
       "\n",
       "For \\code{substring}, a character vector of length the longest of the\n",
       "arguments.  This will have names taken from \\code{x} (if it has any\n",
       "after coercion, repeated as needed), and other attributes copied from\n",
       "\\code{x} if it is the longest of the arguments).\n",
       "\n",
       "For the replacement functions, a character vector of the same length as\n",
       "\\code{x} or \\code{text}, with \\code{\\LinkA{attributes}{attributes}} such as\n",
       "\\code{\\LinkA{names}{names}} preserved.\n",
       "\n",
       "Elements of \\code{x} or \\code{text} with a declared encoding (see\n",
       "\\code{\\LinkA{Encoding}{Encoding}}) will be returned with the same encoding.\n",
       "\\end{Value}\n",
       "%\n",
       "\\begin{Note}\\relax\n",
       "The S version of \\code{substring<-} ignores \\code{last}; this version\n",
       "does not.\n",
       "\n",
       "These functions are often used with \\code{\\LinkA{nchar}{nchar}} to truncate a\n",
       "display.  That does not really work (you want to limit the width, not\n",
       "the number of characters, so it would be better to use\n",
       "\\code{\\LinkA{strtrim}{strtrim}}), but at least make sure you use the default\n",
       "\\code{nchar(type = \"c\")}.\n",
       "\\end{Note}\n",
       "%\n",
       "\\begin{References}\\relax\n",
       "Becker, R. A., Chambers, J. M. and Wilks, A. R. (1988)\n",
       "\\emph{The New S Language}.\n",
       "Wadsworth \\& Brooks/Cole.  (\\code{substring}.)\n",
       "\\end{References}\n",
       "%\n",
       "\\begin{SeeAlso}\\relax\n",
       "\\code{\\LinkA{strsplit}{strsplit}}, \\code{\\LinkA{paste}{paste}}, \\code{\\LinkA{nchar}{nchar}}.\n",
       "\\end{SeeAlso}\n",
       "%\n",
       "\\begin{Examples}\n",
       "\\begin{ExampleCode}\n",
       "substr(\"abcdef\", 2, 4)\n",
       "substring(\"abcdef\", 1:6, 1:6)\n",
       "## strsplit() is more efficient ...\n",
       "\n",
       "substr(rep(\"abcdef\", 4), 1:4, 4:5)\n",
       "x <- c(\"asfef\", \"qwerty\", \"yuiop[\", \"b\", \"stuff.blah.yech\")\n",
       "substr(x, 2, 5)\n",
       "substring(x, 2, 4:6)\n",
       "\n",
       "X <- x\n",
       "names(X) <- LETTERS[seq_along(x)]\n",
       "comment(X) <- noquote(\"is a named vector\")\n",
       "str(aX <- attributes(X))\n",
       "substring(x, 2) <- c(\"..\", \"+++\")\n",
       "substring(X, 2) <- c(\"..\", \"+++\")\n",
       "X\n",
       "stopifnot(x == X, identical(aX, attributes(X)), nzchar(comment(X)))\n",
       "\\end{ExampleCode}\n",
       "\\end{Examples}"
      ],
      "text/plain": [
       "substr                  package:base                   R Documentation\n",
       "\n",
       "_\bS_\bu_\bb_\bs_\bt_\br_\bi_\bn_\bg_\bs _\bo_\bf _\ba _\bC_\bh_\ba_\br_\ba_\bc_\bt_\be_\br _\bV_\be_\bc_\bt_\bo_\br\n",
       "\n",
       "_\bD_\be_\bs_\bc_\br_\bi_\bp_\bt_\bi_\bo_\bn:\n",
       "\n",
       "     Extract or replace substrings in a character vector.\n",
       "\n",
       "_\bU_\bs_\ba_\bg_\be:\n",
       "\n",
       "     substr(x, start, stop)\n",
       "     substring(text, first, last = 1000000L)\n",
       "     \n",
       "     substr(x, start, stop) <- value\n",
       "     substring(text, first, last = 1000000L) <- value\n",
       "     \n",
       "_\bA_\br_\bg_\bu_\bm_\be_\bn_\bt_\bs:\n",
       "\n",
       " x, text: a character vector.\n",
       "\n",
       "start, first: integer.  The first element to be extracted or replaced.\n",
       "\n",
       "stop, last: integer.  The last element to be extracted or replaced.\n",
       "\n",
       "   value: a character vector, recycled if necessary.\n",
       "\n",
       "_\bD_\be_\bt_\ba_\bi_\bl_\bs:\n",
       "\n",
       "     ‘substring’ is compatible with S, with ‘first’ and ‘last’\n",
       "     instead of ‘start’ and ‘stop’.  For vector arguments, it\n",
       "     expands the arguments cyclically to the length of the longest\n",
       "     _provided_ none are of zero length.\n",
       "\n",
       "     When extracting, if ‘start’ is larger than the string length\n",
       "     then ‘\"\"’ is returned.\n",
       "\n",
       "     For the extraction functions, ‘x’ or ‘text’ will be converted\n",
       "     to a character vector by ‘as.character’ if it is not already\n",
       "     one.\n",
       "\n",
       "     For the replacement functions, if ‘start’ is larger than the\n",
       "     string length then no replacement is done.  If the portion to be\n",
       "     replaced is longer than the replacement string, then only the\n",
       "     portion the length of the string is replaced.\n",
       "\n",
       "     If any argument is an ‘NA’ element, the corresponding element of\n",
       "     the answer is ‘NA’.\n",
       "\n",
       "     Elements of the result will be have the encoding declared as that\n",
       "     of the current locale (see ‘Encoding’) if the corresponding\n",
       "     input had a declared Latin-1 or UTF-8 encoding and the current\n",
       "     locale is either Latin-1 or UTF-8.\n",
       "\n",
       "     If an input element has declared ‘\"bytes\"’ encoding (see\n",
       "     ‘Encoding’, the subsetting is done in units of bytes not\n",
       "     characters.\n",
       "\n",
       "_\bV_\ba_\bl_\bu_\be:\n",
       "\n",
       "     For ‘substr’, a character vector of the same length and with the\n",
       "     same attributes as ‘x’ (after possible coercion).\n",
       "\n",
       "     For ‘substring’, a character vector of length the longest of the\n",
       "     arguments.  This will have names taken from ‘x’ (if it has any\n",
       "     after coercion, repeated as needed), and other attributes copied\n",
       "     from ‘x’ if it is the longest of the arguments).\n",
       "\n",
       "     For the replacement functions, a character vector of the same\n",
       "     length as ‘x’ or ‘text’, with ‘attributes’ such as ‘names’\n",
       "     preserved.\n",
       "\n",
       "     Elements of ‘x’ or ‘text’ with a declared encoding (see\n",
       "     ‘Encoding’) will be returned with the same encoding.\n",
       "\n",
       "_\bN_\bo_\bt_\be:\n",
       "\n",
       "     The S version of ‘substring<-’ ignores ‘last’; this version\n",
       "     does not.\n",
       "\n",
       "     These functions are often used with ‘nchar’ to truncate a\n",
       "     display.  That does not really work (you want to limit the width,\n",
       "     not the number of characters, so it would be better to use\n",
       "     ‘strtrim’), but at least make sure you use the default\n",
       "     ‘nchar(type = \"c\")’.\n",
       "\n",
       "_\bR_\be_\bf_\be_\br_\be_\bn_\bc_\be_\bs:\n",
       "\n",
       "     Becker, R. A., Chambers, J. M. and Wilks, A. R. (1988) _The New S\n",
       "     Language_.  Wadsworth & Brooks/Cole.  (‘substring’.)\n",
       "\n",
       "_\bS_\be_\be _\bA_\bl_\bs_\bo:\n",
       "\n",
       "     ‘strsplit’, ‘paste’, ‘nchar’.\n",
       "\n",
       "_\bE_\bx_\ba_\bm_\bp_\bl_\be_\bs:\n",
       "\n",
       "     substr(\"abcdef\", 2, 4)\n",
       "     substring(\"abcdef\", 1:6, 1:6)\n",
       "     ## strsplit() is more efficient ...\n",
       "     \n",
       "     substr(rep(\"abcdef\", 4), 1:4, 4:5)\n",
       "     x <- c(\"asfef\", \"qwerty\", \"yuiop[\", \"b\", \"stuff.blah.yech\")\n",
       "     substr(x, 2, 5)\n",
       "     substring(x, 2, 4:6)\n",
       "     \n",
       "     X <- x\n",
       "     names(X) <- LETTERS[seq_along(x)]\n",
       "     comment(X) <- noquote(\"is a named vector\")\n",
       "     str(aX <- attributes(X))\n",
       "     substring(x, 2) <- c(\"..\", \"+++\")\n",
       "     substring(X, 2) <- c(\"..\", \"+++\")\n",
       "     X\n",
       "     stopifnot(x == X, identical(aX, attributes(X)), nzchar(comment(X)))\n",
       "     "
      ]
     },
     "metadata": {},
     "output_type": "display_data"
    }
   ],
   "source": [
    "?substr"
   ]
  },
  {
   "cell_type": "code",
   "execution_count": 31,
   "id": "af39fdf2-6aa5-47fb-94d2-ab32dddcdd7a",
   "metadata": {},
   "outputs": [
    {
     "data": {
      "text/html": [
       "43"
      ],
      "text/latex": [
       "43"
      ],
      "text/markdown": [
       "43"
      ],
      "text/plain": [
       "[1] 43"
      ]
     },
     "metadata": {},
     "output_type": "display_data"
    }
   ],
   "source": [
    "nchar(phrase)"
   ]
  },
  {
   "cell_type": "code",
   "execution_count": 34,
   "id": "ca9318c1-fa8d-47a2-bc00-eb974c05dec8",
   "metadata": {},
   "outputs": [
    {
     "data": {
      "text/html": [
       "<ol>\n",
       "\t<li><style>\n",
       ".list-inline {list-style: none; margin:0; padding: 0}\n",
       ".list-inline>li {display: inline-block}\n",
       ".list-inline>li:not(:last-child)::after {content: \"\\00b7\"; padding: 0 .5ex}\n",
       "</style>\n",
       "<ol class=list-inline><li>'t'</li><li>'h'</li><li>'e'</li><li>' '</li><li>'q'</li><li>'u'</li><li>'i'</li><li>'c'</li><li>'k'</li><li>' '</li><li>'b'</li><li>'r'</li><li>'o'</li><li>'w'</li><li>'n'</li><li>' '</li><li>'f'</li><li>'o'</li><li>'x'</li><li>' '</li><li>'j'</li><li>'u'</li><li>'m'</li><li>'p'</li><li>'s'</li><li>' '</li><li>'o'</li><li>'v'</li><li>'e'</li><li>'r'</li><li>' '</li><li>'t'</li><li>'h'</li><li>'e'</li><li>' '</li><li>'l'</li><li>'a'</li><li>'z'</li><li>'y'</li><li>' '</li><li>'d'</li><li>'o'</li><li>'g'</li></ol>\n",
       "</li>\n",
       "</ol>\n"
      ],
      "text/latex": [
       "\\begin{enumerate}\n",
       "\\item \\begin{enumerate*}\n",
       "\\item 't'\n",
       "\\item 'h'\n",
       "\\item 'e'\n",
       "\\item ' '\n",
       "\\item 'q'\n",
       "\\item 'u'\n",
       "\\item 'i'\n",
       "\\item 'c'\n",
       "\\item 'k'\n",
       "\\item ' '\n",
       "\\item 'b'\n",
       "\\item 'r'\n",
       "\\item 'o'\n",
       "\\item 'w'\n",
       "\\item 'n'\n",
       "\\item ' '\n",
       "\\item 'f'\n",
       "\\item 'o'\n",
       "\\item 'x'\n",
       "\\item ' '\n",
       "\\item 'j'\n",
       "\\item 'u'\n",
       "\\item 'm'\n",
       "\\item 'p'\n",
       "\\item 's'\n",
       "\\item ' '\n",
       "\\item 'o'\n",
       "\\item 'v'\n",
       "\\item 'e'\n",
       "\\item 'r'\n",
       "\\item ' '\n",
       "\\item 't'\n",
       "\\item 'h'\n",
       "\\item 'e'\n",
       "\\item ' '\n",
       "\\item 'l'\n",
       "\\item 'a'\n",
       "\\item 'z'\n",
       "\\item 'y'\n",
       "\\item ' '\n",
       "\\item 'd'\n",
       "\\item 'o'\n",
       "\\item 'g'\n",
       "\\end{enumerate*}\n",
       "\n",
       "\\end{enumerate}\n"
      ],
      "text/markdown": [
       "1. 1. 't'\n",
       "2. 'h'\n",
       "3. 'e'\n",
       "4. ' '\n",
       "5. 'q'\n",
       "6. 'u'\n",
       "7. 'i'\n",
       "8. 'c'\n",
       "9. 'k'\n",
       "10. ' '\n",
       "11. 'b'\n",
       "12. 'r'\n",
       "13. 'o'\n",
       "14. 'w'\n",
       "15. 'n'\n",
       "16. ' '\n",
       "17. 'f'\n",
       "18. 'o'\n",
       "19. 'x'\n",
       "20. ' '\n",
       "21. 'j'\n",
       "22. 'u'\n",
       "23. 'm'\n",
       "24. 'p'\n",
       "25. 's'\n",
       "26. ' '\n",
       "27. 'o'\n",
       "28. 'v'\n",
       "29. 'e'\n",
       "30. 'r'\n",
       "31. ' '\n",
       "32. 't'\n",
       "33. 'h'\n",
       "34. 'e'\n",
       "35. ' '\n",
       "36. 'l'\n",
       "37. 'a'\n",
       "38. 'z'\n",
       "39. 'y'\n",
       "40. ' '\n",
       "41. 'd'\n",
       "42. 'o'\n",
       "43. 'g'\n",
       "\n",
       "\n",
       "\n",
       "\n",
       "\n"
      ],
      "text/plain": [
       "[[1]]\n",
       " [1] \"t\" \"h\" \"e\" \" \" \"q\" \"u\" \"i\" \"c\" \"k\" \" \" \"b\" \"r\" \"o\" \"w\" \"n\" \" \" \"f\" \"o\" \"x\"\n",
       "[20] \" \" \"j\" \"u\" \"m\" \"p\" \"s\" \" \" \"o\" \"v\" \"e\" \"r\" \" \" \"t\" \"h\" \"e\" \" \" \"l\" \"a\" \"z\"\n",
       "[39] \"y\" \" \" \"d\" \"o\" \"g\"\n"
      ]
     },
     "metadata": {},
     "output_type": "display_data"
    }
   ],
   "source": [
    "strsplit(phrase, split=NULL)   "
   ]
  },
  {
   "cell_type": "code",
   "execution_count": 42,
   "id": "b6658cbb-fb57-4007-bf0e-ceedb6f40699",
   "metadata": {},
   "outputs": [],
   "source": [
    "#?strsplit"
   ]
  },
  {
   "cell_type": "code",
   "execution_count": 37,
   "id": "50986381-8307-470c-a7d8-c4f312488a9f",
   "metadata": {},
   "outputs": [
    {
     "data": {
      "text/html": [
       "'the quick brown fox jumps over the lazy dog'"
      ],
      "text/latex": [
       "'the quick brown fox jumps over the lazy dog'"
      ],
      "text/markdown": [
       "'the quick brown fox jumps over the lazy dog'"
      ],
      "text/plain": [
       "[1] \"the quick brown fox jumps over the lazy dog\""
      ]
     },
     "metadata": {},
     "output_type": "display_data"
    }
   ],
   "source": [
    "phrase"
   ]
  },
  {
   "cell_type": "code",
   "execution_count": 54,
   "id": "7f0726bc-951b-470f-b680-318b17718ee9",
   "metadata": {},
   "outputs": [],
   "source": [
    "strsplit = strsplit(phrase, split=c('lazy'))   "
   ]
  },
  {
   "cell_type": "code",
   "execution_count": 55,
   "id": "f379e997-ce89-40ec-9754-da6b41a67355",
   "metadata": {},
   "outputs": [
    {
     "data": {
      "text/html": [
       "<ol>\n",
       "\t<li><style>\n",
       ".list-inline {list-style: none; margin:0; padding: 0}\n",
       ".list-inline>li {display: inline-block}\n",
       ".list-inline>li:not(:last-child)::after {content: \"\\00b7\"; padding: 0 .5ex}\n",
       "</style>\n",
       "<ol class=list-inline><li>'the quick brown fox jumps over the '</li><li>' dog'</li></ol>\n",
       "</li>\n",
       "</ol>\n"
      ],
      "text/latex": [
       "\\begin{enumerate}\n",
       "\\item \\begin{enumerate*}\n",
       "\\item 'the quick brown fox jumps over the '\n",
       "\\item ' dog'\n",
       "\\end{enumerate*}\n",
       "\n",
       "\\end{enumerate}\n"
      ],
      "text/markdown": [
       "1. 1. 'the quick brown fox jumps over the '\n",
       "2. ' dog'\n",
       "\n",
       "\n",
       "\n",
       "\n",
       "\n"
      ],
      "text/plain": [
       "[[1]]\n",
       "[1] \"the quick brown fox jumps over the \" \" dog\"                               \n"
      ]
     },
     "metadata": {},
     "output_type": "display_data"
    }
   ],
   "source": [
    "strsplit"
   ]
  },
  {
   "cell_type": "code",
   "execution_count": 58,
   "id": "6176c584-3d28-4f33-9a48-c4a5a3e55d88",
   "metadata": {},
   "outputs": [
    {
     "data": {
      "text/html": [
       "'list'"
      ],
      "text/latex": [
       "'list'"
      ],
      "text/markdown": [
       "'list'"
      ],
      "text/plain": [
       "[1] \"list\""
      ]
     },
     "metadata": {},
     "output_type": "display_data"
    }
   ],
   "source": [
    "class(strsplit)"
   ]
  },
  {
   "cell_type": "code",
   "execution_count": 61,
   "id": "5e500e27-0042-420e-80fb-6cc3ba031fa8",
   "metadata": {},
   "outputs": [
    {
     "data": {
      "text/html": [
       "1"
      ],
      "text/latex": [
       "1"
      ],
      "text/markdown": [
       "1"
      ],
      "text/plain": [
       "[1] 1"
      ]
     },
     "metadata": {},
     "output_type": "display_data"
    }
   ],
   "source": [
    "length(strsplit)"
   ]
  },
  {
   "cell_type": "code",
   "execution_count": 69,
   "id": "d0dee1f1-ebac-46b9-8e31-28a568d83b0d",
   "metadata": {},
   "outputs": [
    {
     "data": {
      "text/html": [
       "<style>\n",
       ".list-inline {list-style: none; margin:0; padding: 0}\n",
       ".list-inline>li {display: inline-block}\n",
       ".list-inline>li:not(:last-child)::after {content: \"\\00b7\"; padding: 0 .5ex}\n",
       "</style>\n",
       "<ol class=list-inline><li>'the quick brown fox jumps over the '</li><li>' dog'</li></ol>\n"
      ],
      "text/latex": [
       "\\begin{enumerate*}\n",
       "\\item 'the quick brown fox jumps over the '\n",
       "\\item ' dog'\n",
       "\\end{enumerate*}\n"
      ],
      "text/markdown": [
       "1. 'the quick brown fox jumps over the '\n",
       "2. ' dog'\n",
       "\n",
       "\n"
      ],
      "text/plain": [
       "[1] \"the quick brown fox jumps over the \" \" dog\"                               "
      ]
     },
     "metadata": {},
     "output_type": "display_data"
    }
   ],
   "source": [
    "strsplit[[1]]"
   ]
  },
  {
   "cell_type": "code",
   "execution_count": 71,
   "id": "a35cf682-5899-4a48-ad62-5b8a43f9663f",
   "metadata": {},
   "outputs": [
    {
     "data": {
      "text/html": [
       "'the quick brown fox jumps over the '"
      ],
      "text/latex": [
       "'the quick brown fox jumps over the '"
      ],
      "text/markdown": [
       "'the quick brown fox jumps over the '"
      ],
      "text/plain": [
       "[1] \"the quick brown fox jumps over the \""
      ]
     },
     "metadata": {},
     "output_type": "display_data"
    }
   ],
   "source": [
    "strsplit[[1]][1]"
   ]
  },
  {
   "cell_type": "code",
   "execution_count": 76,
   "id": "dd0add87-8436-49e6-8184-4a3dfefba1fd",
   "metadata": {},
   "outputs": [
    {
     "data": {
      "text/html": [
       "'the quick brown fox jumps over the '"
      ],
      "text/latex": [
       "'the quick brown fox jumps over the '"
      ],
      "text/markdown": [
       "'the quick brown fox jumps over the '"
      ],
      "text/plain": [
       "[1] \"the quick brown fox jumps over the \""
      ]
     },
     "metadata": {},
     "output_type": "display_data"
    }
   ],
   "source": [
    "strsplit[[1]][1]"
   ]
  },
  {
   "cell_type": "code",
   "execution_count": 77,
   "id": "a197d4bb-8328-4188-8028-7bec98122b4a",
   "metadata": {},
   "outputs": [
    {
     "data": {
      "text/html": [
       "'character'"
      ],
      "text/latex": [
       "'character'"
      ],
      "text/markdown": [
       "'character'"
      ],
      "text/plain": [
       "[1] \"character\""
      ]
     },
     "metadata": {},
     "output_type": "display_data"
    }
   ],
   "source": [
    "class(strsplit[[1]][1])"
   ]
  },
  {
   "cell_type": "code",
   "execution_count": 72,
   "id": "11c5141f-165b-4995-b6a8-bb333d6177e2",
   "metadata": {},
   "outputs": [
    {
     "data": {
      "text/html": [
       "' dog'"
      ],
      "text/latex": [
       "' dog'"
      ],
      "text/markdown": [
       "' dog'"
      ],
      "text/plain": [
       "[1] \" dog\""
      ]
     },
     "metadata": {},
     "output_type": "display_data"
    }
   ],
   "source": [
    "strsplit[[1]][2]"
   ]
  },
  {
   "cell_type": "code",
   "execution_count": 79,
   "id": "c30ad47d-6902-442d-82ab-a92a7588aa55",
   "metadata": {},
   "outputs": [
    {
     "data": {
      "text/plain": [
       "\n",
       "  a b c d e f g h i j k l m n o p q r s t u v w x y z \n",
       "8 1 1 1 1 3 1 1 2 1 1 1 1 1 1 4 1 1 2 1 2 2 1 1 1 1 1 "
      ]
     },
     "metadata": {},
     "output_type": "display_data"
    }
   ],
   "source": [
    "table(strsplit(phrase,split=NULL))"
   ]
  },
  {
   "cell_type": "code",
   "execution_count": 80,
   "id": "ca8eea24-45cb-4e3a-aec3-402dd72406ec",
   "metadata": {},
   "outputs": [
    {
     "data": {
      "text/html": [
       "<ol>\n",
       "\t<li><style>\n",
       ".list-inline {list-style: none; margin:0; padding: 0}\n",
       ".list-inline>li {display: inline-block}\n",
       ".list-inline>li:not(:last-child)::after {content: \"\\00b7\"; padding: 0 .5ex}\n",
       "</style>\n",
       "<ol class=list-inline><li>'the'</li><li>'quick'</li><li>'brown'</li><li>'fox'</li><li>'jumps'</li><li>'over'</li><li>'the'</li><li>'lazy'</li><li>'dog'</li></ol>\n",
       "</li>\n",
       "</ol>\n"
      ],
      "text/latex": [
       "\\begin{enumerate}\n",
       "\\item \\begin{enumerate*}\n",
       "\\item 'the'\n",
       "\\item 'quick'\n",
       "\\item 'brown'\n",
       "\\item 'fox'\n",
       "\\item 'jumps'\n",
       "\\item 'over'\n",
       "\\item 'the'\n",
       "\\item 'lazy'\n",
       "\\item 'dog'\n",
       "\\end{enumerate*}\n",
       "\n",
       "\\end{enumerate}\n"
      ],
      "text/markdown": [
       "1. 1. 'the'\n",
       "2. 'quick'\n",
       "3. 'brown'\n",
       "4. 'fox'\n",
       "5. 'jumps'\n",
       "6. 'over'\n",
       "7. 'the'\n",
       "8. 'lazy'\n",
       "9. 'dog'\n",
       "\n",
       "\n",
       "\n",
       "\n",
       "\n"
      ],
      "text/plain": [
       "[[1]]\n",
       "[1] \"the\"   \"quick\" \"brown\" \"fox\"   \"jumps\" \"over\"  \"the\"   \"lazy\"  \"dog\"  \n"
      ]
     },
     "metadata": {},
     "output_type": "display_data"
    }
   ],
   "source": [
    "strsplit(phrase,split=\" \")"
   ]
  },
  {
   "cell_type": "code",
   "execution_count": 81,
   "id": "5d55d602-48c7-4985-85ad-216b89ec21b8",
   "metadata": {},
   "outputs": [
    {
     "data": {
      "text/html": [
       "'list'"
      ],
      "text/latex": [
       "'list'"
      ],
      "text/markdown": [
       "'list'"
      ],
      "text/plain": [
       "[1] \"list\""
      ]
     },
     "metadata": {},
     "output_type": "display_data"
    }
   ],
   "source": [
    "class(strsplit(phrase,split=\" \"))"
   ]
  },
  {
   "cell_type": "code",
   "execution_count": 83,
   "id": "a02f12d9-4ba7-4296-bb48-459f2647b943",
   "metadata": {},
   "outputs": [
    {
     "data": {
      "text/html": [
       "<style>\n",
       ".list-inline {list-style: none; margin:0; padding: 0}\n",
       ".list-inline>li {display: inline-block}\n",
       ".list-inline>li:not(:last-child)::after {content: \"\\00b7\"; padding: 0 .5ex}\n",
       "</style>\n",
       "<ol class=list-inline><li>'the'</li><li>'quick'</li><li>'brown'</li><li>'fox'</li><li>'jumps'</li><li>'over'</li><li>'the'</li><li>'lazy'</li><li>'dog'</li></ol>\n"
      ],
      "text/latex": [
       "\\begin{enumerate*}\n",
       "\\item 'the'\n",
       "\\item 'quick'\n",
       "\\item 'brown'\n",
       "\\item 'fox'\n",
       "\\item 'jumps'\n",
       "\\item 'over'\n",
       "\\item 'the'\n",
       "\\item 'lazy'\n",
       "\\item 'dog'\n",
       "\\end{enumerate*}\n"
      ],
      "text/markdown": [
       "1. 'the'\n",
       "2. 'quick'\n",
       "3. 'brown'\n",
       "4. 'fox'\n",
       "5. 'jumps'\n",
       "6. 'over'\n",
       "7. 'the'\n",
       "8. 'lazy'\n",
       "9. 'dog'\n",
       "\n",
       "\n"
      ],
      "text/plain": [
       "[1] \"the\"   \"quick\" \"brown\" \"fox\"   \"jumps\" \"over\"  \"the\"   \"lazy\"  \"dog\"  "
      ]
     },
     "metadata": {},
     "output_type": "display_data"
    }
   ],
   "source": [
    "strsplit(phrase,split=\" \")[[1]]"
   ]
  },
  {
   "cell_type": "code",
   "execution_count": 85,
   "id": "e8f734b0-6b03-49ff-a687-0248d267b2fb",
   "metadata": {},
   "outputs": [
    {
     "data": {
      "text/html": [
       "'the'"
      ],
      "text/latex": [
       "'the'"
      ],
      "text/markdown": [
       "'the'"
      ],
      "text/plain": [
       "[1] \"the\""
      ]
     },
     "metadata": {},
     "output_type": "display_data"
    }
   ],
   "source": [
    "strsplit(phrase,split=\" \")[[1]][1]"
   ]
  },
  {
   "cell_type": "code",
   "execution_count": 92,
   "id": "9fea4f40-a267-4d40-89a8-5b4987cf1070",
   "metadata": {},
   "outputs": [
    {
     "data": {
      "text/html": [
       "<ol>\n",
       "\t<li><style>\n",
       ".list-inline {list-style: none; margin:0; padding: 0}\n",
       ".list-inline>li {display: inline-block}\n",
       ".list-inline>li:not(:last-child)::after {content: \"\\00b7\"; padding: 0 .5ex}\n",
       "</style>\n",
       "<ol class=list-inline><li>'t'</li><li>'h'</li><li>'e'</li><li>' '</li><li>'q'</li><li>'u'</li><li>'i'</li><li>'c'</li><li>'k'</li><li>' '</li><li>'b'</li><li>'r'</li><li>'o'</li><li>'w'</li><li>'n'</li><li>' '</li><li>'f'</li><li>'o'</li><li>'x'</li><li>' '</li><li>'j'</li><li>'u'</li><li>'m'</li><li>'p'</li><li>'s'</li><li>' '</li><li>'o'</li><li>'v'</li><li>'e'</li><li>'r'</li><li>' '</li><li>'t'</li><li>'h'</li><li>'e'</li><li>' '</li><li>'l'</li><li>'a'</li><li>'z'</li><li>'y'</li><li>' '</li><li>'d'</li><li>'o'</li><li>'g'</li></ol>\n",
       "</li>\n",
       "</ol>\n"
      ],
      "text/latex": [
       "\\begin{enumerate}\n",
       "\\item \\begin{enumerate*}\n",
       "\\item 't'\n",
       "\\item 'h'\n",
       "\\item 'e'\n",
       "\\item ' '\n",
       "\\item 'q'\n",
       "\\item 'u'\n",
       "\\item 'i'\n",
       "\\item 'c'\n",
       "\\item 'k'\n",
       "\\item ' '\n",
       "\\item 'b'\n",
       "\\item 'r'\n",
       "\\item 'o'\n",
       "\\item 'w'\n",
       "\\item 'n'\n",
       "\\item ' '\n",
       "\\item 'f'\n",
       "\\item 'o'\n",
       "\\item 'x'\n",
       "\\item ' '\n",
       "\\item 'j'\n",
       "\\item 'u'\n",
       "\\item 'm'\n",
       "\\item 'p'\n",
       "\\item 's'\n",
       "\\item ' '\n",
       "\\item 'o'\n",
       "\\item 'v'\n",
       "\\item 'e'\n",
       "\\item 'r'\n",
       "\\item ' '\n",
       "\\item 't'\n",
       "\\item 'h'\n",
       "\\item 'e'\n",
       "\\item ' '\n",
       "\\item 'l'\n",
       "\\item 'a'\n",
       "\\item 'z'\n",
       "\\item 'y'\n",
       "\\item ' '\n",
       "\\item 'd'\n",
       "\\item 'o'\n",
       "\\item 'g'\n",
       "\\end{enumerate*}\n",
       "\n",
       "\\end{enumerate}\n"
      ],
      "text/markdown": [
       "1. 1. 't'\n",
       "2. 'h'\n",
       "3. 'e'\n",
       "4. ' '\n",
       "5. 'q'\n",
       "6. 'u'\n",
       "7. 'i'\n",
       "8. 'c'\n",
       "9. 'k'\n",
       "10. ' '\n",
       "11. 'b'\n",
       "12. 'r'\n",
       "13. 'o'\n",
       "14. 'w'\n",
       "15. 'n'\n",
       "16. ' '\n",
       "17. 'f'\n",
       "18. 'o'\n",
       "19. 'x'\n",
       "20. ' '\n",
       "21. 'j'\n",
       "22. 'u'\n",
       "23. 'm'\n",
       "24. 'p'\n",
       "25. 's'\n",
       "26. ' '\n",
       "27. 'o'\n",
       "28. 'v'\n",
       "29. 'e'\n",
       "30. 'r'\n",
       "31. ' '\n",
       "32. 't'\n",
       "33. 'h'\n",
       "34. 'e'\n",
       "35. ' '\n",
       "36. 'l'\n",
       "37. 'a'\n",
       "38. 'z'\n",
       "39. 'y'\n",
       "40. ' '\n",
       "41. 'd'\n",
       "42. 'o'\n",
       "43. 'g'\n",
       "\n",
       "\n",
       "\n",
       "\n",
       "\n"
      ],
      "text/plain": [
       "[[1]]\n",
       " [1] \"t\" \"h\" \"e\" \" \" \"q\" \"u\" \"i\" \"c\" \"k\" \" \" \"b\" \"r\" \"o\" \"w\" \"n\" \" \" \"f\" \"o\" \"x\"\n",
       "[20] \" \" \"j\" \"u\" \"m\" \"p\" \"s\" \" \" \"o\" \"v\" \"e\" \"r\" \" \" \"t\" \"h\" \"e\" \" \" \"l\" \"a\" \"z\"\n",
       "[39] \"y\" \" \" \"d\" \"o\" \"g\"\n"
      ]
     },
     "metadata": {},
     "output_type": "display_data"
    }
   ],
   "source": [
    "strsplit(phrase, split=NULL) "
   ]
  },
  {
   "cell_type": "markdown",
   "id": "00d3053f-0e0e-4eae-94df-7e3d59ed56d7",
   "metadata": {},
   "source": [
    "> lapply = list + apply\n",
    "\n",
    "> sapply = lapply 함수에서 사용자 편의성을 고려한 함수, 연산 결과 = 벡터 형태로 출력\n",
    "\n",
    "> vapply = 출력되는 결과의 양식을 지정할 수 있따. "
   ]
  },
  {
   "cell_type": "code",
   "execution_count": 94,
   "id": "4db45b82-d7d9-4c42-b583-b55bc2d61604",
   "metadata": {},
   "outputs": [],
   "source": [
    "#?sapply"
   ]
  },
  {
   "cell_type": "code",
   "execution_count": 96,
   "id": "51bdca0c-6c9b-4ce4-a049-38d4fcb2d222",
   "metadata": {},
   "outputs": [
    {
     "data": {
      "text/html": [
       "<ol>\n",
       "\t<li><style>\n",
       ".list-inline {list-style: none; margin:0; padding: 0}\n",
       ".list-inline>li {display: inline-block}\n",
       ".list-inline>li:not(:last-child)::after {content: \"\\00b7\"; padding: 0 .5ex}\n",
       "</style>\n",
       "<ol class=list-inline><li>'g'</li><li>'o'</li><li>'d'</li><li>' '</li><li>'y'</li><li>'z'</li><li>'a'</li><li>'l'</li><li>' '</li><li>'e'</li><li>'h'</li><li>'t'</li><li>' '</li><li>'r'</li><li>'e'</li><li>'v'</li><li>'o'</li><li>' '</li><li>'s'</li><li>'p'</li><li>'m'</li><li>'u'</li><li>'j'</li><li>' '</li><li>'x'</li><li>'o'</li><li>'f'</li><li>' '</li><li>'n'</li><li>'w'</li><li>'o'</li><li>'r'</li><li>'b'</li><li>' '</li><li>'k'</li><li>'c'</li><li>'i'</li><li>'u'</li><li>'q'</li><li>' '</li><li>'e'</li><li>'h'</li><li>'t'</li></ol>\n",
       "</li>\n",
       "</ol>\n"
      ],
      "text/latex": [
       "\\begin{enumerate}\n",
       "\\item \\begin{enumerate*}\n",
       "\\item 'g'\n",
       "\\item 'o'\n",
       "\\item 'd'\n",
       "\\item ' '\n",
       "\\item 'y'\n",
       "\\item 'z'\n",
       "\\item 'a'\n",
       "\\item 'l'\n",
       "\\item ' '\n",
       "\\item 'e'\n",
       "\\item 'h'\n",
       "\\item 't'\n",
       "\\item ' '\n",
       "\\item 'r'\n",
       "\\item 'e'\n",
       "\\item 'v'\n",
       "\\item 'o'\n",
       "\\item ' '\n",
       "\\item 's'\n",
       "\\item 'p'\n",
       "\\item 'm'\n",
       "\\item 'u'\n",
       "\\item 'j'\n",
       "\\item ' '\n",
       "\\item 'x'\n",
       "\\item 'o'\n",
       "\\item 'f'\n",
       "\\item ' '\n",
       "\\item 'n'\n",
       "\\item 'w'\n",
       "\\item 'o'\n",
       "\\item 'r'\n",
       "\\item 'b'\n",
       "\\item ' '\n",
       "\\item 'k'\n",
       "\\item 'c'\n",
       "\\item 'i'\n",
       "\\item 'u'\n",
       "\\item 'q'\n",
       "\\item ' '\n",
       "\\item 'e'\n",
       "\\item 'h'\n",
       "\\item 't'\n",
       "\\end{enumerate*}\n",
       "\n",
       "\\end{enumerate}\n"
      ],
      "text/markdown": [
       "1. 1. 'g'\n",
       "2. 'o'\n",
       "3. 'd'\n",
       "4. ' '\n",
       "5. 'y'\n",
       "6. 'z'\n",
       "7. 'a'\n",
       "8. 'l'\n",
       "9. ' '\n",
       "10. 'e'\n",
       "11. 'h'\n",
       "12. 't'\n",
       "13. ' '\n",
       "14. 'r'\n",
       "15. 'e'\n",
       "16. 'v'\n",
       "17. 'o'\n",
       "18. ' '\n",
       "19. 's'\n",
       "20. 'p'\n",
       "21. 'm'\n",
       "22. 'u'\n",
       "23. 'j'\n",
       "24. ' '\n",
       "25. 'x'\n",
       "26. 'o'\n",
       "27. 'f'\n",
       "28. ' '\n",
       "29. 'n'\n",
       "30. 'w'\n",
       "31. 'o'\n",
       "32. 'r'\n",
       "33. 'b'\n",
       "34. ' '\n",
       "35. 'k'\n",
       "36. 'c'\n",
       "37. 'i'\n",
       "38. 'u'\n",
       "39. 'q'\n",
       "40. ' '\n",
       "41. 'e'\n",
       "42. 'h'\n",
       "43. 't'\n",
       "\n",
       "\n",
       "\n",
       "\n",
       "\n"
      ],
      "text/plain": [
       "[[1]]\n",
       " [1] \"g\" \"o\" \"d\" \" \" \"y\" \"z\" \"a\" \"l\" \" \" \"e\" \"h\" \"t\" \" \" \"r\" \"e\" \"v\" \"o\" \" \" \"s\"\n",
       "[20] \"p\" \"m\" \"u\" \"j\" \" \" \"x\" \"o\" \"f\" \" \" \"n\" \"w\" \"o\" \"r\" \"b\" \" \" \"k\" \"c\" \"i\" \"u\"\n",
       "[39] \"q\" \" \" \"e\" \"h\" \"t\"\n"
      ]
     },
     "metadata": {},
     "output_type": "display_data"
    }
   ],
   "source": [
    "lapply(strsplit(phrase, split=NULL), rev)"
   ]
  },
  {
   "cell_type": "code",
   "execution_count": 98,
   "id": "594eee2a-1d5b-41ab-9240-e71a3e96c5b3",
   "metadata": {},
   "outputs": [
    {
     "data": {
      "text/html": [
       "'list'"
      ],
      "text/latex": [
       "'list'"
      ],
      "text/markdown": [
       "'list'"
      ],
      "text/plain": [
       "[1] \"list\""
      ]
     },
     "metadata": {},
     "output_type": "display_data"
    }
   ],
   "source": [
    "class(lapply(strsplit(phrase, split=NULL), rev))"
   ]
  },
  {
   "cell_type": "code",
   "execution_count": 100,
   "id": "57ec4f25-108c-4384-ae90-fa8fe2fd086c",
   "metadata": {},
   "outputs": [
    {
     "data": {
      "text/html": [
       "'god yzal eht revo spmuj xof nworb kciuq eht'"
      ],
      "text/latex": [
       "'god yzal eht revo spmuj xof nworb kciuq eht'"
      ],
      "text/markdown": [
       "'god yzal eht revo spmuj xof nworb kciuq eht'"
      ],
      "text/plain": [
       "[1] \"god yzal eht revo spmuj xof nworb kciuq eht\""
      ]
     },
     "metadata": {},
     "output_type": "display_data"
    }
   ],
   "source": [
    "sapply(lapply(strsplit(phrase, split=NULL), rev), paste, collapse=\"\")"
   ]
  },
  {
   "cell_type": "code",
   "execution_count": 101,
   "id": "af0bc234-5c56-43fd-8f2f-078e15c2a51c",
   "metadata": {},
   "outputs": [
    {
     "data": {
      "text/html": [
       "'g-o-d- -y-z-a-l- -e-h-t- -r-e-v-o- -s-p-m-u-j- -x-o-f- -n-w-o-r-b- -k-c-i-u-q- -e-h-t'"
      ],
      "text/latex": [
       "'g-o-d- -y-z-a-l- -e-h-t- -r-e-v-o- -s-p-m-u-j- -x-o-f- -n-w-o-r-b- -k-c-i-u-q- -e-h-t'"
      ],
      "text/markdown": [
       "'g-o-d- -y-z-a-l- -e-h-t- -r-e-v-o- -s-p-m-u-j- -x-o-f- -n-w-o-r-b- -k-c-i-u-q- -e-h-t'"
      ],
      "text/plain": [
       "[1] \"g-o-d- -y-z-a-l- -e-h-t- -r-e-v-o- -s-p-m-u-j- -x-o-f- -n-w-o-r-b- -k-c-i-u-q- -e-h-t\""
      ]
     },
     "metadata": {},
     "output_type": "display_data"
    }
   ],
   "source": [
    "sapply(lapply(strsplit(phrase, split=NULL), rev), paste, collapse=\"-\")"
   ]
  },
  {
   "cell_type": "code",
   "execution_count": 103,
   "id": "aea2f528-e55d-40a1-807f-349376936c5c",
   "metadata": {},
   "outputs": [
    {
     "data": {
      "text/html": [
       "' quick brown fox jumps over '"
      ],
      "text/latex": [
       "' quick brown fox jumps over '"
      ],
      "text/markdown": [
       "' quick brown fox jumps over '"
      ],
      "text/plain": [
       "[1] \" quick brown fox jumps over \""
      ]
     },
     "metadata": {},
     "output_type": "display_data"
    }
   ],
   "source": [
    "strsplit(phrase,\"the\")[[1]][2]"
   ]
  },
  {
   "cell_type": "code",
   "execution_count": 104,
   "id": "e0bd876f-9a54-4ea3-b683-6c6808dfddde",
   "metadata": {},
   "outputs": [
    {
     "data": {
      "text/html": [
       "28"
      ],
      "text/latex": [
       "28"
      ],
      "text/markdown": [
       "28"
      ],
      "text/plain": [
       "[1] 28"
      ]
     },
     "metadata": {},
     "output_type": "display_data"
    }
   ],
   "source": [
    "nchar(strsplit(phrase,\"the\")[[1]] [2])  "
   ]
  },
  {
   "cell_type": "code",
   "execution_count": 105,
   "id": "21a1bba3-e6a8-473a-b6eb-91052c4ee5b0",
   "metadata": {},
   "outputs": [],
   "source": [
    "first <- c(5,8,3,5,3,6,4,4,2,8,8,8,4,4,6)\n",
    "second <- c(8,6,4,2)"
   ]
  },
  {
   "cell_type": "code",
   "execution_count": 107,
   "id": "e2c9fe9c-690b-422f-b797-f9a98e05c408",
   "metadata": {},
   "outputs": [
    {
     "data": {
      "text/html": [
       "<style>\n",
       ".list-inline {list-style: none; margin:0; padding: 0}\n",
       ".list-inline>li {display: inline-block}\n",
       ".list-inline>li:not(:last-child)::after {content: \"\\00b7\"; padding: 0 .5ex}\n",
       "</style>\n",
       "<ol class=list-inline><li>&lt;NA&gt;</li><li>1</li><li>&lt;NA&gt;</li><li>&lt;NA&gt;</li><li>&lt;NA&gt;</li><li>2</li><li>3</li><li>3</li><li>4</li><li>1</li><li>1</li><li>1</li><li>3</li><li>3</li><li>2</li></ol>\n"
      ],
      "text/latex": [
       "\\begin{enumerate*}\n",
       "\\item <NA>\n",
       "\\item 1\n",
       "\\item <NA>\n",
       "\\item <NA>\n",
       "\\item <NA>\n",
       "\\item 2\n",
       "\\item 3\n",
       "\\item 3\n",
       "\\item 4\n",
       "\\item 1\n",
       "\\item 1\n",
       "\\item 1\n",
       "\\item 3\n",
       "\\item 3\n",
       "\\item 2\n",
       "\\end{enumerate*}\n"
      ],
      "text/markdown": [
       "1. &lt;NA&gt;\n",
       "2. 1\n",
       "3. &lt;NA&gt;\n",
       "4. &lt;NA&gt;\n",
       "5. &lt;NA&gt;\n",
       "6. 2\n",
       "7. 3\n",
       "8. 3\n",
       "9. 4\n",
       "10. 1\n",
       "11. 1\n",
       "12. 1\n",
       "13. 3\n",
       "14. 3\n",
       "15. 2\n",
       "\n",
       "\n"
      ],
      "text/plain": [
       " [1] NA  1 NA NA NA  2  3  3  4  1  1  1  3  3  2"
      ]
     },
     "metadata": {},
     "output_type": "display_data"
    }
   ],
   "source": [
    "match(first,second)"
   ]
  },
  {
   "cell_type": "code",
   "execution_count": 108,
   "id": "08c28002-4794-4bad-9e35-98711eda70aa",
   "metadata": {},
   "outputs": [],
   "source": [
    "url <- \"https://raw.githubusercontent.com/kshan226/data/main/worldfloras.txt\"\n",
    "\n",
    "df <- read.table(url, header=TRUE)"
   ]
  },
  {
   "cell_type": "code",
   "execution_count": 112,
   "id": "13392f49-11ea-4591-85cf-49437e1a303d",
   "metadata": {},
   "outputs": [
    {
     "data": {
      "text/html": [
       "161"
      ],
      "text/latex": [
       "161"
      ],
      "text/markdown": [
       "161"
      ],
      "text/plain": [
       "[1] 161"
      ]
     },
     "metadata": {},
     "output_type": "display_data"
    }
   ],
   "source": [
    "length(df$Country)"
   ]
  },
  {
   "cell_type": "code",
   "execution_count": 113,
   "id": "53f47781-80b3-4618-9073-14213aef5c16",
   "metadata": {},
   "outputs": [],
   "source": [
    "Country <- df$Country  "
   ]
  },
  {
   "cell_type": "code",
   "execution_count": 115,
   "id": "c0f7ae13-7241-4144-84cd-e2b3d52ea3e5",
   "metadata": {},
   "outputs": [
    {
     "data": {
      "text/html": [
       "<style>\n",
       ".list-inline {list-style: none; margin:0; padding: 0}\n",
       ".list-inline>li {display: inline-block}\n",
       ".list-inline>li:not(:last-child)::after {content: \"\\00b7\"; padding: 0 .5ex}\n",
       "</style>\n",
       "<ol class=list-inline><li>27</li><li>34</li><li>40</li><li>116</li><li>118</li><li>119</li><li>120</li><li>152</li></ol>\n"
      ],
      "text/latex": [
       "\\begin{enumerate*}\n",
       "\\item 27\n",
       "\\item 34\n",
       "\\item 40\n",
       "\\item 116\n",
       "\\item 118\n",
       "\\item 119\n",
       "\\item 120\n",
       "\\item 152\n",
       "\\end{enumerate*}\n"
      ],
      "text/markdown": [
       "1. 27\n",
       "2. 34\n",
       "3. 40\n",
       "4. 116\n",
       "5. 118\n",
       "6. 119\n",
       "7. 120\n",
       "8. 152\n",
       "\n",
       "\n"
      ],
      "text/plain": [
       "[1]  27  34  40 116 118 119 120 152"
      ]
     },
     "metadata": {},
     "output_type": "display_data"
    }
   ],
   "source": [
    "grep(\"R\",Country)"
   ]
  },
  {
   "cell_type": "code",
   "execution_count": 116,
   "id": "09a5ef4d-c0bc-48c8-b0b3-cb1468246d63",
   "metadata": {},
   "outputs": [
    {
     "data": {
      "text/html": [
       "<style>\n",
       ".list-inline {list-style: none; margin:0; padding: 0}\n",
       ".list-inline>li {display: inline-block}\n",
       ".list-inline>li:not(:last-child)::after {content: \"\\00b7\"; padding: 0 .5ex}\n",
       "</style>\n",
       "<ol class=list-inline><li>'Central African Republic'</li><li>'Costa Rica'</li><li>'Dominican Republic'</li><li>'Puerto Rico'</li><li>'Reunion'</li><li>'Romania'</li><li>'Rwanda'</li><li>'USSR'</li></ol>\n"
      ],
      "text/latex": [
       "\\begin{enumerate*}\n",
       "\\item 'Central African Republic'\n",
       "\\item 'Costa Rica'\n",
       "\\item 'Dominican Republic'\n",
       "\\item 'Puerto Rico'\n",
       "\\item 'Reunion'\n",
       "\\item 'Romania'\n",
       "\\item 'Rwanda'\n",
       "\\item 'USSR'\n",
       "\\end{enumerate*}\n"
      ],
      "text/markdown": [
       "1. 'Central African Republic'\n",
       "2. 'Costa Rica'\n",
       "3. 'Dominican Republic'\n",
       "4. 'Puerto Rico'\n",
       "5. 'Reunion'\n",
       "6. 'Romania'\n",
       "7. 'Rwanda'\n",
       "8. 'USSR'\n",
       "\n",
       "\n"
      ],
      "text/plain": [
       "[1] \"Central African Republic\" \"Costa Rica\"              \n",
       "[3] \"Dominican Republic\"       \"Puerto Rico\"             \n",
       "[5] \"Reunion\"                  \"Romania\"                 \n",
       "[7] \"Rwanda\"                   \"USSR\"                    "
      ]
     },
     "metadata": {},
     "output_type": "display_data"
    }
   ],
   "source": [
    "Country[grep(\"R\",Country)]"
   ]
  },
  {
   "cell_type": "code",
   "execution_count": 117,
   "id": "1ad5d630-8429-4d42-bce0-f0f812d90679",
   "metadata": {},
   "outputs": [
    {
     "data": {
      "text/html": [
       "<style>\n",
       ".list-inline {list-style: none; margin:0; padding: 0}\n",
       ".list-inline>li {display: inline-block}\n",
       ".list-inline>li:not(:last-child)::after {content: \"\\00b7\"; padding: 0 .5ex}\n",
       "</style>\n",
       "<ol class=list-inline><li>'Reunion'</li><li>'Romania'</li><li>'Rwanda'</li></ol>\n"
      ],
      "text/latex": [
       "\\begin{enumerate*}\n",
       "\\item 'Reunion'\n",
       "\\item 'Romania'\n",
       "\\item 'Rwanda'\n",
       "\\end{enumerate*}\n"
      ],
      "text/markdown": [
       "1. 'Reunion'\n",
       "2. 'Romania'\n",
       "3. 'Rwanda'\n",
       "\n",
       "\n"
      ],
      "text/plain": [
       "[1] \"Reunion\" \"Romania\" \"Rwanda\" "
      ]
     },
     "metadata": {},
     "output_type": "display_data"
    }
   ],
   "source": [
    "Country[grep(\"^R\", Country)] "
   ]
  },
  {
   "cell_type": "code",
   "execution_count": 118,
   "id": "b316fea6-adf3-44ff-92a6-5b1e1392e170",
   "metadata": {},
   "outputs": [
    {
     "data": {
      "text/html": [
       "<style>\n",
       ".list-inline {list-style: none; margin:0; padding: 0}\n",
       ".list-inline>li {display: inline-block}\n",
       ".list-inline>li:not(:last-child)::after {content: \"\\00b7\"; padding: 0 .5ex}\n",
       "</style>\n",
       "<ol class=list-inline><li>'Central African Republic'</li><li>'Costa Rica'</li><li>'Dominican Republic'</li><li>'Puerto Rico'</li></ol>\n"
      ],
      "text/latex": [
       "\\begin{enumerate*}\n",
       "\\item 'Central African Republic'\n",
       "\\item 'Costa Rica'\n",
       "\\item 'Dominican Republic'\n",
       "\\item 'Puerto Rico'\n",
       "\\end{enumerate*}\n"
      ],
      "text/markdown": [
       "1. 'Central African Republic'\n",
       "2. 'Costa Rica'\n",
       "3. 'Dominican Republic'\n",
       "4. 'Puerto Rico'\n",
       "\n",
       "\n"
      ],
      "text/plain": [
       "[1] \"Central African Republic\" \"Costa Rica\"              \n",
       "[3] \"Dominican Republic\"       \"Puerto Rico\"             "
      ]
     },
     "metadata": {},
     "output_type": "display_data"
    }
   ],
   "source": [
    "Country[grep(\" R\", Country)]    "
   ]
  },
  {
   "cell_type": "code",
   "execution_count": 119,
   "id": "28af9667-aa81-43e5-9351-2d3b01e229e5",
   "metadata": {},
   "outputs": [
    {
     "data": {
      "text/html": [
       "<style>\n",
       ".list-inline {list-style: none; margin:0; padding: 0}\n",
       ".list-inline>li {display: inline-block}\n",
       ".list-inline>li:not(:last-child)::after {content: \"\\00b7\"; padding: 0 .5ex}\n",
       "</style>\n",
       "<ol class=list-inline><li>'Hungary'</li><li>'Italy'</li><li>'Norway'</li><li>'Paraguay'</li><li>'Sicily'</li><li>'Turkey'</li><li>'Uruguay'</li></ol>\n"
      ],
      "text/latex": [
       "\\begin{enumerate*}\n",
       "\\item 'Hungary'\n",
       "\\item 'Italy'\n",
       "\\item 'Norway'\n",
       "\\item 'Paraguay'\n",
       "\\item 'Sicily'\n",
       "\\item 'Turkey'\n",
       "\\item 'Uruguay'\n",
       "\\end{enumerate*}\n"
      ],
      "text/markdown": [
       "1. 'Hungary'\n",
       "2. 'Italy'\n",
       "3. 'Norway'\n",
       "4. 'Paraguay'\n",
       "5. 'Sicily'\n",
       "6. 'Turkey'\n",
       "7. 'Uruguay'\n",
       "\n",
       "\n"
      ],
      "text/plain": [
       "[1] \"Hungary\"  \"Italy\"    \"Norway\"   \"Paraguay\" \"Sicily\"   \"Turkey\"   \"Uruguay\" "
      ]
     },
     "metadata": {},
     "output_type": "display_data"
    }
   ],
   "source": [
    "Country[grep(\"y$\", Country)]"
   ]
  },
  {
   "cell_type": "code",
   "execution_count": 120,
   "id": "2c62ce6f-9f1f-4ad4-b5f8-cab0c8feefc1",
   "metadata": {},
   "outputs": [
    {
     "data": {
      "text/html": [
       "<style>\n",
       ".list-inline {list-style: none; margin:0; padding: 0}\n",
       ".list-inline>li {display: inline-block}\n",
       ".list-inline>li:not(:last-child)::after {content: \"\\00b7\"; padding: 0 .5ex}\n",
       "</style>\n",
       "<ol class=list-inline><li>'Burkina Faso'</li><li>'Denmark'</li><li>'Dominican Republic'</li><li>'Ecuador'</li><li>'Egypt'</li><li>'El Salvador'</li><li>'Ethiopia'</li><li>'Finland'</li><li>'France'</li><li>'French Guiana'</li><li>'Germany East'</li></ol>\n"
      ],
      "text/latex": [
       "\\begin{enumerate*}\n",
       "\\item 'Burkina Faso'\n",
       "\\item 'Denmark'\n",
       "\\item 'Dominican Republic'\n",
       "\\item 'Ecuador'\n",
       "\\item 'Egypt'\n",
       "\\item 'El Salvador'\n",
       "\\item 'Ethiopia'\n",
       "\\item 'Finland'\n",
       "\\item 'France'\n",
       "\\item 'French Guiana'\n",
       "\\item 'Germany East'\n",
       "\\end{enumerate*}\n"
      ],
      "text/markdown": [
       "1. 'Burkina Faso'\n",
       "2. 'Denmark'\n",
       "3. 'Dominican Republic'\n",
       "4. 'Ecuador'\n",
       "5. 'Egypt'\n",
       "6. 'El Salvador'\n",
       "7. 'Ethiopia'\n",
       "8. 'Finland'\n",
       "9. 'France'\n",
       "10. 'French Guiana'\n",
       "11. 'Germany East'\n",
       "\n",
       "\n"
      ],
      "text/plain": [
       " [1] \"Burkina Faso\"       \"Denmark\"            \"Dominican Republic\"\n",
       " [4] \"Ecuador\"            \"Egypt\"              \"El Salvador\"       \n",
       " [7] \"Ethiopia\"           \"Finland\"            \"France\"            \n",
       "[10] \"French Guiana\"      \"Germany East\"      "
      ]
     },
     "metadata": {},
     "output_type": "display_data"
    }
   ],
   "source": [
    "Country[grep(\"[D-F]\", Country)]"
   ]
  },
  {
   "cell_type": "code",
   "execution_count": 121,
   "id": "6f351028-0ed9-4a0a-a28c-8c6ac7dbe507",
   "metadata": {},
   "outputs": [
    {
     "data": {
      "text/html": [
       "<style>\n",
       ".list-inline {list-style: none; margin:0; padding: 0}\n",
       ".list-inline>li {display: inline-block}\n",
       ".list-inline>li:not(:last-child)::after {content: \"\\00b7\"; padding: 0 .5ex}\n",
       "</style>\n",
       "<ol class=list-inline><li>'Hungary'</li><li>'Italy'</li><li>'Norway'</li><li>'Paraguay'</li><li>'Sicily'</li><li>'Turkey'</li><li>'Uruguay'</li><li>'USA'</li><li>'USSR'</li></ol>\n"
      ],
      "text/latex": [
       "\\begin{enumerate*}\n",
       "\\item 'Hungary'\n",
       "\\item 'Italy'\n",
       "\\item 'Norway'\n",
       "\\item 'Paraguay'\n",
       "\\item 'Sicily'\n",
       "\\item 'Turkey'\n",
       "\\item 'Uruguay'\n",
       "\\item 'USA'\n",
       "\\item 'USSR'\n",
       "\\end{enumerate*}\n"
      ],
      "text/markdown": [
       "1. 'Hungary'\n",
       "2. 'Italy'\n",
       "3. 'Norway'\n",
       "4. 'Paraguay'\n",
       "5. 'Sicily'\n",
       "6. 'Turkey'\n",
       "7. 'Uruguay'\n",
       "8. 'USA'\n",
       "9. 'USSR'\n",
       "\n",
       "\n"
      ],
      "text/plain": [
       "[1] \"Hungary\"  \"Italy\"    \"Norway\"   \"Paraguay\" \"Sicily\"   \"Turkey\"   \"Uruguay\" \n",
       "[8] \"USA\"      \"USSR\"    "
      ]
     },
     "metadata": {},
     "output_type": "display_data"
    }
   ],
   "source": [
    "Country[-grep(\"[a-u]$\", Country)]  "
   ]
  },
  {
   "cell_type": "code",
   "execution_count": 122,
   "id": "276cfc7b-ebf4-4ff3-862f-565d148a3ddc",
   "metadata": {},
   "outputs": [
    {
     "data": {
      "text/html": [
       "<style>\n",
       ".list-inline {list-style: none; margin:0; padding: 0}\n",
       ".list-inline>li {display: inline-block}\n",
       ".list-inline>li:not(:last-child)::after {content: \"\\00b7\"; padding: 0 .5ex}\n",
       "</style>\n",
       "<ol class=list-inline><li>'Cyprus'</li><li>'Syria'</li></ol>\n"
      ],
      "text/latex": [
       "\\begin{enumerate*}\n",
       "\\item 'Cyprus'\n",
       "\\item 'Syria'\n",
       "\\end{enumerate*}\n"
      ],
      "text/markdown": [
       "1. 'Cyprus'\n",
       "2. 'Syria'\n",
       "\n",
       "\n"
      ],
      "text/plain": [
       "[1] \"Cyprus\" \"Syria\" "
      ]
     },
     "metadata": {},
     "output_type": "display_data"
    }
   ],
   "source": [
    "Country[grep(\"^.y\", Country)] "
   ]
  },
  {
   "cell_type": "code",
   "execution_count": 123,
   "id": "c5ddff1f-4945-423f-897b-636cfdd8c6e7",
   "metadata": {},
   "outputs": [
    {
     "data": {
      "text/html": [
       "<style>\n",
       ".list-inline {list-style: none; margin:0; padding: 0}\n",
       ".list-inline>li {display: inline-block}\n",
       ".list-inline>li:not(:last-child)::after {content: \"\\00b7\"; padding: 0 .5ex}\n",
       "</style>\n",
       "<ol class=list-inline><li>'Egypt'</li><li>'Guyana'</li><li>'Seychelles'</li></ol>\n"
      ],
      "text/latex": [
       "\\begin{enumerate*}\n",
       "\\item 'Egypt'\n",
       "\\item 'Guyana'\n",
       "\\item 'Seychelles'\n",
       "\\end{enumerate*}\n"
      ],
      "text/markdown": [
       "1. 'Egypt'\n",
       "2. 'Guyana'\n",
       "3. 'Seychelles'\n",
       "\n",
       "\n"
      ],
      "text/plain": [
       "[1] \"Egypt\"      \"Guyana\"     \"Seychelles\""
      ]
     },
     "metadata": {},
     "output_type": "display_data"
    }
   ],
   "source": [
    "Country[grep(\"^..y\", Country)]"
   ]
  },
  {
   "cell_type": "code",
   "execution_count": 125,
   "id": "c00d21eb-789c-43d6-9b02-f091087fb157",
   "metadata": {},
   "outputs": [
    {
     "data": {
      "text/html": [
       "<style>\n",
       ".list-inline {list-style: none; margin:0; padding: 0}\n",
       ".list-inline>li {display: inline-block}\n",
       ".list-inline>li:not(:last-child)::after {content: \"\\00b7\"; padding: 0 .5ex}\n",
       "</style>\n",
       "<ol class=list-inline><li>'Norway'</li><li>'Sicily'</li><li>'Turkey'</li></ol>\n"
      ],
      "text/latex": [
       "\\begin{enumerate*}\n",
       "\\item 'Norway'\n",
       "\\item 'Sicily'\n",
       "\\item 'Turkey'\n",
       "\\end{enumerate*}\n"
      ],
      "text/markdown": [
       "1. 'Norway'\n",
       "2. 'Sicily'\n",
       "3. 'Turkey'\n",
       "\n",
       "\n"
      ],
      "text/plain": [
       "[1] \"Norway\" \"Sicily\" \"Turkey\""
      ]
     },
     "metadata": {},
     "output_type": "display_data"
    }
   ],
   "source": [
    "Country[grep(\"^.{5}y\", Country)]"
   ]
  },
  {
   "cell_type": "code",
   "execution_count": 126,
   "id": "e3820e28-73b5-4862-a7d9-8f9601aa8387",
   "metadata": {},
   "outputs": [
    {
     "data": {
      "text/html": [
       "<style>\n",
       ".list-inline {list-style: none; margin:0; padding: 0}\n",
       ".list-inline>li {display: inline-block}\n",
       ".list-inline>li:not(:last-child)::after {content: \"\\00b7\"; padding: 0 .5ex}\n",
       "</style>\n",
       "<ol class=list-inline><li>'Chad'</li><li>'Cuba'</li><li>'Iran'</li><li>'Iraq'</li><li>'Laos'</li><li>'Mali'</li><li>'Oman'</li><li>'Peru'</li><li>'Togo'</li><li>'USA'</li><li>'USSR'</li></ol>\n"
      ],
      "text/latex": [
       "\\begin{enumerate*}\n",
       "\\item 'Chad'\n",
       "\\item 'Cuba'\n",
       "\\item 'Iran'\n",
       "\\item 'Iraq'\n",
       "\\item 'Laos'\n",
       "\\item 'Mali'\n",
       "\\item 'Oman'\n",
       "\\item 'Peru'\n",
       "\\item 'Togo'\n",
       "\\item 'USA'\n",
       "\\item 'USSR'\n",
       "\\end{enumerate*}\n"
      ],
      "text/markdown": [
       "1. 'Chad'\n",
       "2. 'Cuba'\n",
       "3. 'Iran'\n",
       "4. 'Iraq'\n",
       "5. 'Laos'\n",
       "6. 'Mali'\n",
       "7. 'Oman'\n",
       "8. 'Peru'\n",
       "9. 'Togo'\n",
       "10. 'USA'\n",
       "11. 'USSR'\n",
       "\n",
       "\n"
      ],
      "text/plain": [
       " [1] \"Chad\" \"Cuba\" \"Iran\" \"Iraq\" \"Laos\" \"Mali\" \"Oman\" \"Peru\" \"Togo\" \"USA\" \n",
       "[11] \"USSR\""
      ]
     },
     "metadata": {},
     "output_type": "display_data"
    }
   ],
   "source": [
    "Country[grep(\"^.{1,4}$\", Country)]"
   ]
  },
  {
   "cell_type": "code",
   "execution_count": 127,
   "id": "f33c75e5-5f2b-408e-b38b-754064272bdb",
   "metadata": {},
   "outputs": [
    {
     "data": {
      "text/html": [
       "<style>\n",
       ".list-inline {list-style: none; margin:0; padding: 0}\n",
       ".list-inline>li {display: inline-block}\n",
       ".list-inline>li:not(:last-child)::after {content: \"\\00b7\"; padding: 0 .5ex}\n",
       "</style>\n",
       "<ol class=list-inline><li>'Balearic Islands'</li><li>'Central African Republic'</li><li>'Dominican Republic'</li><li>'Papua New Guinea'</li><li>'Solomon Islands'</li><li>'Trinidad &amp; Tobago'</li><li>'Tristan da Cunha'</li></ol>\n"
      ],
      "text/latex": [
       "\\begin{enumerate*}\n",
       "\\item 'Balearic Islands'\n",
       "\\item 'Central African Republic'\n",
       "\\item 'Dominican Republic'\n",
       "\\item 'Papua New Guinea'\n",
       "\\item 'Solomon Islands'\n",
       "\\item 'Trinidad \\& Tobago'\n",
       "\\item 'Tristan da Cunha'\n",
       "\\end{enumerate*}\n"
      ],
      "text/markdown": [
       "1. 'Balearic Islands'\n",
       "2. 'Central African Republic'\n",
       "3. 'Dominican Republic'\n",
       "4. 'Papua New Guinea'\n",
       "5. 'Solomon Islands'\n",
       "6. 'Trinidad &amp; Tobago'\n",
       "7. 'Tristan da Cunha'\n",
       "\n",
       "\n"
      ],
      "text/plain": [
       "[1] \"Balearic Islands\"         \"Central African Republic\"\n",
       "[3] \"Dominican Republic\"       \"Papua New Guinea\"        \n",
       "[5] \"Solomon Islands\"          \"Trinidad & Tobago\"       \n",
       "[7] \"Tristan da Cunha\"        "
      ]
     },
     "metadata": {},
     "output_type": "display_data"
    }
   ],
   "source": [
    "Country[grep(\"^.{15,}$\", Country)]"
   ]
  },
  {
   "cell_type": "code",
   "execution_count": 128,
   "id": "991510e8-2c16-49cb-8ae7-a68d7eeddd22",
   "metadata": {},
   "outputs": [],
   "source": [
    "text <- c(\"arm\", \"leg\", \"head\", \"foot\", \"hand\", \"hindleg\", \"elbow\")"
   ]
  },
  {
   "cell_type": "code",
   "execution_count": 129,
   "id": "606d8bc7-c0b6-4ab8-94c3-83812c61aee6",
   "metadata": {},
   "outputs": [
    {
     "data": {
      "text/html": [
       "<style>\n",
       ".list-inline {list-style: none; margin:0; padding: 0}\n",
       ".list-inline>li {display: inline-block}\n",
       ".list-inline>li:not(:last-child)::after {content: \"\\00b7\"; padding: 0 .5ex}\n",
       "</style>\n",
       "<ol class=list-inline><li>-1</li><li>-1</li><li>-1</li><li>2</li><li>-1</li><li>-1</li><li>4</li></ol>\n"
      ],
      "text/latex": [
       "\\begin{enumerate*}\n",
       "\\item -1\n",
       "\\item -1\n",
       "\\item -1\n",
       "\\item 2\n",
       "\\item -1\n",
       "\\item -1\n",
       "\\item 4\n",
       "\\end{enumerate*}\n"
      ],
      "text/markdown": [
       "1. -1\n",
       "2. -1\n",
       "3. -1\n",
       "4. 2\n",
       "5. -1\n",
       "6. -1\n",
       "7. 4\n",
       "\n",
       "\n"
      ],
      "text/plain": [
       "[1] -1 -1 -1  2 -1 -1  4\n",
       "attr(,\"match.length\")\n",
       "[1] -1 -1 -1  1 -1 -1  1\n",
       "attr(,\"index.type\")\n",
       "[1] \"chars\"\n",
       "attr(,\"useBytes\")\n",
       "[1] TRUE"
      ]
     },
     "metadata": {},
     "output_type": "display_data"
    }
   ],
   "source": [
    "regexpr(\"o\", text)    "
   ]
  },
  {
   "cell_type": "code",
   "execution_count": 133,
   "id": "1e67f7a6-51f8-4b9c-8340-754d66d1d3aa",
   "metadata": {},
   "outputs": [
    {
     "data": {
      "text/html": [
       "<style>\n",
       ".list-inline {list-style: none; margin:0; padding: 0}\n",
       ".list-inline>li {display: inline-block}\n",
       ".list-inline>li:not(:last-child)::after {content: \"\\00b7\"; padding: 0 .5ex}\n",
       "</style>\n",
       "<ol class=list-inline><li>4</li><li>7</li></ol>\n"
      ],
      "text/latex": [
       "\\begin{enumerate*}\n",
       "\\item 4\n",
       "\\item 7\n",
       "\\end{enumerate*}\n"
      ],
      "text/markdown": [
       "1. 4\n",
       "2. 7\n",
       "\n",
       "\n"
      ],
      "text/plain": [
       "[1] 4 7"
      ]
     },
     "metadata": {},
     "output_type": "display_data"
    }
   ],
   "source": [
    "grep(\"o\", text)  "
   ]
  },
  {
   "cell_type": "code",
   "execution_count": 135,
   "id": "0d4b396d-1a6f-461a-9057-bd05fac0f6a7",
   "metadata": {},
   "outputs": [
    {
     "data": {
      "text/html": [
       "<style>\n",
       ".list-inline {list-style: none; margin:0; padding: 0}\n",
       ".list-inline>li {display: inline-block}\n",
       ".list-inline>li:not(:last-child)::after {content: \"\\00b7\"; padding: 0 .5ex}\n",
       "</style>\n",
       "<ol class=list-inline><li>'foot'</li><li>'elbow'</li></ol>\n"
      ],
      "text/latex": [
       "\\begin{enumerate*}\n",
       "\\item 'foot'\n",
       "\\item 'elbow'\n",
       "\\end{enumerate*}\n"
      ],
      "text/markdown": [
       "1. 'foot'\n",
       "2. 'elbow'\n",
       "\n",
       "\n"
      ],
      "text/plain": [
       "[1] \"foot\"  \"elbow\""
      ]
     },
     "metadata": {},
     "output_type": "display_data"
    }
   ],
   "source": [
    "text[grep(\"o\",text)]"
   ]
  },
  {
   "cell_type": "code",
   "execution_count": 137,
   "id": "2323c674-38fe-4cd3-90cb-7b65d10cb703",
   "metadata": {},
   "outputs": [
    {
     "data": {
      "text/html": [
       "<ol>\n",
       "\t<li><style>\n",
       ".list-inline {list-style: none; margin:0; padding: 0}\n",
       ".list-inline>li {display: inline-block}\n",
       ".list-inline>li:not(:last-child)::after {content: \"\\00b7\"; padding: 0 .5ex}\n",
       "</style>\n",
       "<ol class=list-inline><li>2</li><li>3</li></ol>\n",
       "</li>\n",
       "\t<li>4</li>\n",
       "</ol>\n"
      ],
      "text/latex": [
       "\\begin{enumerate}\n",
       "\\item \\begin{enumerate*}\n",
       "\\item 2\n",
       "\\item 3\n",
       "\\end{enumerate*}\n",
       "\n",
       "\\item 4\n",
       "\\end{enumerate}\n"
      ],
      "text/markdown": [
       "1. 1. 2\n",
       "2. 3\n",
       "\n",
       "\n",
       "\n",
       "2. 4\n",
       "\n",
       "\n"
      ],
      "text/plain": [
       "[[1]]\n",
       "[1] 2 3\n",
       "attr(,\"match.length\")\n",
       "[1] 1 1\n",
       "attr(,\"index.type\")\n",
       "[1] \"chars\"\n",
       "attr(,\"useBytes\")\n",
       "[1] TRUE\n",
       "\n",
       "[[2]]\n",
       "[1] 4\n",
       "attr(,\"match.length\")\n",
       "[1] 1\n",
       "attr(,\"index.type\")\n",
       "[1] \"chars\"\n",
       "attr(,\"useBytes\")\n",
       "[1] TRUE\n"
      ]
     },
     "metadata": {},
     "output_type": "display_data"
    }
   ],
   "source": [
    "gregexpr(\"o\", c(\"foot\", \"elbow\"))"
   ]
  },
  {
   "cell_type": "code",
   "execution_count": 145,
   "id": "7063f76b-7f22-4a74-8590-b1b2a84b6aa3",
   "metadata": {},
   "outputs": [
    {
     "data": {
      "text/html": [
       "<ol>\n",
       "\t<li>1</li>\n",
       "\t<li>1</li>\n",
       "\t<li>1</li>\n",
       "\t<li>2</li>\n",
       "\t<li>1</li>\n",
       "\t<li>1</li>\n",
       "\t<li>1</li>\n",
       "</ol>\n"
      ],
      "text/latex": [
       "\\begin{enumerate}\n",
       "\\item 1\n",
       "\\item 1\n",
       "\\item 1\n",
       "\\item 2\n",
       "\\item 1\n",
       "\\item 1\n",
       "\\item 1\n",
       "\\end{enumerate}\n"
      ],
      "text/markdown": [
       "1. 1\n",
       "2. 1\n",
       "3. 1\n",
       "4. 2\n",
       "5. 1\n",
       "6. 1\n",
       "7. 1\n",
       "\n",
       "\n"
      ],
      "text/plain": [
       "[[1]]\n",
       "[1] 1\n",
       "\n",
       "[[2]]\n",
       "[1] 1\n",
       "\n",
       "[[3]]\n",
       "[1] 1\n",
       "\n",
       "[[4]]\n",
       "[1] 2\n",
       "\n",
       "[[5]]\n",
       "[1] 1\n",
       "\n",
       "[[6]]\n",
       "[1] 1\n",
       "\n",
       "[[7]]\n",
       "[1] 1\n"
      ]
     },
     "metadata": {},
     "output_type": "display_data"
    }
   ],
   "source": [
    "lapply(gregexpr(\"o\", text), length)"
   ]
  },
  {
   "cell_type": "code",
   "execution_count": 146,
   "id": "3ee8eb36-1048-4e65-bbe4-073da1167ab9",
   "metadata": {},
   "outputs": [],
   "source": [
    "listt = lapply(gregexpr(\"o\", text), length)"
   ]
  },
  {
   "cell_type": "code",
   "execution_count": 149,
   "id": "c33c0918-c94c-4e26-8037-c9edc45740be",
   "metadata": {},
   "outputs": [
    {
     "data": {
      "text/html": [
       "1"
      ],
      "text/latex": [
       "1"
      ],
      "text/markdown": [
       "1"
      ],
      "text/plain": [
       "[1] 1"
      ]
     },
     "metadata": {},
     "output_type": "display_data"
    }
   ],
   "source": [
    "listt[[1]]"
   ]
  },
  {
   "cell_type": "code",
   "execution_count": 151,
   "id": "4e575796-ab1f-45e0-bdc2-3d36126eac9d",
   "metadata": {},
   "outputs": [
    {
     "data": {
      "text/html": [
       "2"
      ],
      "text/latex": [
       "2"
      ],
      "text/markdown": [
       "2"
      ],
      "text/plain": [
       "[1] 2"
      ]
     },
     "metadata": {},
     "output_type": "display_data"
    }
   ],
   "source": [
    "listt[[4]]"
   ]
  },
  {
   "cell_type": "code",
   "execution_count": 144,
   "id": "d3b78927-3843-4734-aebe-76910e8328fe",
   "metadata": {},
   "outputs": [
    {
     "data": {
      "text/html": [
       "'list'"
      ],
      "text/latex": [
       "'list'"
      ],
      "text/markdown": [
       "'list'"
      ],
      "text/plain": [
       "[1] \"list\""
      ]
     },
     "metadata": {},
     "output_type": "display_data"
    }
   ],
   "source": [
    "class(lapply(gregexpr(\"o\", text), length))"
   ]
  },
  {
   "cell_type": "markdown",
   "id": "2c1278f2-3acf-4ac8-a711-9b79c5b5e48b",
   "metadata": {},
   "source": [
    "> unlist : list -> vector"
   ]
  },
  {
   "cell_type": "code",
   "execution_count": 139,
   "id": "787a0f08-2c9a-41b5-84af-61496279341b",
   "metadata": {},
   "outputs": [],
   "source": [
    "freq <- unlist (lapply(gregexpr(\"o\", text), length))"
   ]
  },
  {
   "cell_type": "code",
   "execution_count": 140,
   "id": "d6472194-f618-43e0-ab03-f7b11b0185b2",
   "metadata": {},
   "outputs": [
    {
     "data": {
      "text/html": [
       "<style>\n",
       ".list-inline {list-style: none; margin:0; padding: 0}\n",
       ".list-inline>li {display: inline-block}\n",
       ".list-inline>li:not(:last-child)::after {content: \"\\00b7\"; padding: 0 .5ex}\n",
       "</style>\n",
       "<ol class=list-inline><li>1</li><li>1</li><li>1</li><li>2</li><li>1</li><li>1</li><li>1</li></ol>\n"
      ],
      "text/latex": [
       "\\begin{enumerate*}\n",
       "\\item 1\n",
       "\\item 1\n",
       "\\item 1\n",
       "\\item 2\n",
       "\\item 1\n",
       "\\item 1\n",
       "\\item 1\n",
       "\\end{enumerate*}\n"
      ],
      "text/markdown": [
       "1. 1\n",
       "2. 1\n",
       "3. 1\n",
       "4. 2\n",
       "5. 1\n",
       "6. 1\n",
       "7. 1\n",
       "\n",
       "\n"
      ],
      "text/plain": [
       "[1] 1 1 1 2 1 1 1"
      ]
     },
     "metadata": {},
     "output_type": "display_data"
    }
   ],
   "source": [
    "freq"
   ]
  },
  {
   "cell_type": "code",
   "execution_count": 157,
   "id": "af762bfb-5e68-4147-a0be-b9feafe8dd7c",
   "metadata": {},
   "outputs": [],
   "source": [
    "present <- ifelse(regexpr(\"o\", text)<0,0,1)"
   ]
  },
  {
   "cell_type": "code",
   "execution_count": 158,
   "id": "674fada3-89bc-402d-ab02-e8c2a35575fc",
   "metadata": {},
   "outputs": [
    {
     "data": {
      "text/html": [
       "<style>\n",
       ".list-inline {list-style: none; margin:0; padding: 0}\n",
       ".list-inline>li {display: inline-block}\n",
       ".list-inline>li:not(:last-child)::after {content: \"\\00b7\"; padding: 0 .5ex}\n",
       "</style>\n",
       "<ol class=list-inline><li>-1</li><li>-1</li><li>-1</li><li>2</li><li>-1</li><li>-1</li><li>4</li></ol>\n"
      ],
      "text/latex": [
       "\\begin{enumerate*}\n",
       "\\item -1\n",
       "\\item -1\n",
       "\\item -1\n",
       "\\item 2\n",
       "\\item -1\n",
       "\\item -1\n",
       "\\item 4\n",
       "\\end{enumerate*}\n"
      ],
      "text/markdown": [
       "1. -1\n",
       "2. -1\n",
       "3. -1\n",
       "4. 2\n",
       "5. -1\n",
       "6. -1\n",
       "7. 4\n",
       "\n",
       "\n"
      ],
      "text/plain": [
       "[1] -1 -1 -1  2 -1 -1  4\n",
       "attr(,\"match.length\")\n",
       "[1] -1 -1 -1  1 -1 -1  1\n",
       "attr(,\"index.type\")\n",
       "[1] \"chars\"\n",
       "attr(,\"useBytes\")\n",
       "[1] TRUE"
      ]
     },
     "metadata": {},
     "output_type": "display_data"
    }
   ],
   "source": [
    "regexpr(\"o\", text)"
   ]
  },
  {
   "cell_type": "code",
   "execution_count": 160,
   "id": "6eed529a-bd96-42ad-aabf-7a6cc8403d95",
   "metadata": {},
   "outputs": [
    {
     "data": {
      "text/html": [
       "<style>\n",
       ".list-inline {list-style: none; margin:0; padding: 0}\n",
       ".list-inline>li {display: inline-block}\n",
       ".list-inline>li:not(:last-child)::after {content: \"\\00b7\"; padding: 0 .5ex}\n",
       "</style>\n",
       "<ol class=list-inline><li>1</li><li>1</li><li>1</li><li>2</li><li>1</li><li>1</li><li>1</li></ol>\n"
      ],
      "text/latex": [
       "\\begin{enumerate*}\n",
       "\\item 1\n",
       "\\item 1\n",
       "\\item 1\n",
       "\\item 2\n",
       "\\item 1\n",
       "\\item 1\n",
       "\\item 1\n",
       "\\end{enumerate*}\n"
      ],
      "text/markdown": [
       "1. 1\n",
       "2. 1\n",
       "3. 1\n",
       "4. 2\n",
       "5. 1\n",
       "6. 1\n",
       "7. 1\n",
       "\n",
       "\n"
      ],
      "text/plain": [
       "[1] 1 1 1 2 1 1 1"
      ]
     },
     "metadata": {},
     "output_type": "display_data"
    }
   ],
   "source": [
    "freq"
   ]
  },
  {
   "cell_type": "code",
   "execution_count": 161,
   "id": "26d49d31-15a1-47dd-8f12-33a2d4152b91",
   "metadata": {},
   "outputs": [
    {
     "data": {
      "text/html": [
       "<style>\n",
       ".list-inline {list-style: none; margin:0; padding: 0}\n",
       ".list-inline>li {display: inline-block}\n",
       ".list-inline>li:not(:last-child)::after {content: \"\\00b7\"; padding: 0 .5ex}\n",
       "</style>\n",
       "<ol class=list-inline><li>0</li><li>0</li><li>0</li><li>1</li><li>0</li><li>0</li><li>1</li></ol>\n"
      ],
      "text/latex": [
       "\\begin{enumerate*}\n",
       "\\item 0\n",
       "\\item 0\n",
       "\\item 0\n",
       "\\item 1\n",
       "\\item 0\n",
       "\\item 0\n",
       "\\item 1\n",
       "\\end{enumerate*}\n"
      ],
      "text/markdown": [
       "1. 0\n",
       "2. 0\n",
       "3. 0\n",
       "4. 1\n",
       "5. 0\n",
       "6. 0\n",
       "7. 1\n",
       "\n",
       "\n"
      ],
      "text/plain": [
       "[1] 0 0 0 1 0 0 1"
      ]
     },
     "metadata": {},
     "output_type": "display_data"
    }
   ],
   "source": [
    "present"
   ]
  },
  {
   "cell_type": "code",
   "execution_count": 159,
   "id": "1a453389-e60b-4d0e-ab55-0e4be9440e4f",
   "metadata": {},
   "outputs": [
    {
     "data": {
      "text/html": [
       "<style>\n",
       ".list-inline {list-style: none; margin:0; padding: 0}\n",
       ".list-inline>li {display: inline-block}\n",
       ".list-inline>li:not(:last-child)::after {content: \"\\00b7\"; padding: 0 .5ex}\n",
       "</style>\n",
       "<ol class=list-inline><li>0</li><li>0</li><li>0</li><li>2</li><li>0</li><li>0</li><li>1</li></ol>\n"
      ],
      "text/latex": [
       "\\begin{enumerate*}\n",
       "\\item 0\n",
       "\\item 0\n",
       "\\item 0\n",
       "\\item 2\n",
       "\\item 0\n",
       "\\item 0\n",
       "\\item 1\n",
       "\\end{enumerate*}\n"
      ],
      "text/markdown": [
       "1. 0\n",
       "2. 0\n",
       "3. 0\n",
       "4. 2\n",
       "5. 0\n",
       "6. 0\n",
       "7. 1\n",
       "\n",
       "\n"
      ],
      "text/plain": [
       "[1] 0 0 0 2 0 0 1"
      ]
     },
     "metadata": {},
     "output_type": "display_data"
    }
   ],
   "source": [
    "freq*present"
   ]
  },
  {
   "cell_type": "code",
   "execution_count": 162,
   "id": "d9554ebd-d3bc-4edc-bdde-af71aadb299a",
   "metadata": {},
   "outputs": [],
   "source": [
    "stock <- c(\"car\",\"van\")\n",
    "requests <- c(\"truck\",\"suv\",\"van\",\"sports\",\"car\",\"waggon\",\"car\")"
   ]
  },
  {
   "cell_type": "code",
   "execution_count": 163,
   "id": "bd154030-5add-41b4-9cc7-5f9f9eeb208d",
   "metadata": {},
   "outputs": [
    {
     "data": {
      "text/html": [
       "<style>\n",
       ".list-inline {list-style: none; margin:0; padding: 0}\n",
       ".list-inline>li {display: inline-block}\n",
       ".list-inline>li:not(:last-child)::after {content: \"\\00b7\"; padding: 0 .5ex}\n",
       "</style>\n",
       "<ol class=list-inline><li>3</li><li>5</li><li>7</li></ol>\n"
      ],
      "text/latex": [
       "\\begin{enumerate*}\n",
       "\\item 3\n",
       "\\item 5\n",
       "\\item 7\n",
       "\\end{enumerate*}\n"
      ],
      "text/markdown": [
       "1. 3\n",
       "2. 5\n",
       "3. 7\n",
       "\n",
       "\n"
      ],
      "text/plain": [
       "[1] 3 5 7"
      ]
     },
     "metadata": {},
     "output_type": "display_data"
    }
   ],
   "source": [
    "which(requests %in% stock)"
   ]
  },
  {
   "cell_type": "code",
   "execution_count": 164,
   "id": "4ad10dd2-207d-490c-b90e-556f0d53812a",
   "metadata": {},
   "outputs": [
    {
     "data": {
      "text/html": [
       "<style>\n",
       ".list-inline {list-style: none; margin:0; padding: 0}\n",
       ".list-inline>li {display: inline-block}\n",
       ".list-inline>li:not(:last-child)::after {content: \"\\00b7\"; padding: 0 .5ex}\n",
       "</style>\n",
       "<ol class=list-inline><li>'van'</li><li>'car'</li><li>'car'</li></ol>\n"
      ],
      "text/latex": [
       "\\begin{enumerate*}\n",
       "\\item 'van'\n",
       "\\item 'car'\n",
       "\\item 'car'\n",
       "\\end{enumerate*}\n"
      ],
      "text/markdown": [
       "1. 'van'\n",
       "2. 'car'\n",
       "3. 'car'\n",
       "\n",
       "\n"
      ],
      "text/plain": [
       "[1] \"van\" \"car\" \"car\""
      ]
     },
     "metadata": {},
     "output_type": "display_data"
    }
   ],
   "source": [
    "requests [which(requests %in% stock)]"
   ]
  },
  {
   "cell_type": "code",
   "execution_count": 165,
   "id": "db2873b8-aec4-49d7-913d-87e43ee45451",
   "metadata": {},
   "outputs": [],
   "source": [
    "result <- stock[match(requests, stock)]"
   ]
  },
  {
   "cell_type": "code",
   "execution_count": 166,
   "id": "50863b3f-3760-41f8-97dd-d27b8d152a65",
   "metadata": {},
   "outputs": [
    {
     "data": {
      "text/html": [
       "<style>\n",
       ".list-inline {list-style: none; margin:0; padding: 0}\n",
       ".list-inline>li {display: inline-block}\n",
       ".list-inline>li:not(:last-child)::after {content: \"\\00b7\"; padding: 0 .5ex}\n",
       "</style>\n",
       "<ol class=list-inline><li>NA</li><li>NA</li><li>'van'</li><li>NA</li><li>'car'</li><li>NA</li><li>'car'</li></ol>\n"
      ],
      "text/latex": [
       "\\begin{enumerate*}\n",
       "\\item NA\n",
       "\\item NA\n",
       "\\item 'van'\n",
       "\\item NA\n",
       "\\item 'car'\n",
       "\\item NA\n",
       "\\item 'car'\n",
       "\\end{enumerate*}\n"
      ],
      "text/markdown": [
       "1. NA\n",
       "2. NA\n",
       "3. 'van'\n",
       "4. NA\n",
       "5. 'car'\n",
       "6. NA\n",
       "7. 'car'\n",
       "\n",
       "\n"
      ],
      "text/plain": [
       "[1] NA    NA    \"van\" NA    \"car\" NA    \"car\""
      ]
     },
     "metadata": {},
     "output_type": "display_data"
    }
   ],
   "source": [
    "result"
   ]
  },
  {
   "cell_type": "code",
   "execution_count": 167,
   "id": "14447dbf-093c-4ea1-9249-c92c54d6a291",
   "metadata": {},
   "outputs": [
    {
     "data": {
      "text/html": [
       "4"
      ],
      "text/latex": [
       "4"
      ],
      "text/markdown": [
       "4"
      ],
      "text/plain": [
       "[1] 4"
      ]
     },
     "metadata": {},
     "output_type": "display_data"
    }
   ],
   "source": [
    "arithmetic.mean <- function(x) sum(x)/length(x)\n",
    "\n",
    "y <- c(3,3,4,5,5)\n",
    "arithmetic.mean(y)"
   ]
  },
  {
   "cell_type": "code",
   "execution_count": 168,
   "id": "6d58cce3-d842-430f-bb73-8c9da34bfa1b",
   "metadata": {},
   "outputs": [],
   "source": [
    "med <- function(x) {\n",
    "  if (length(x)%%2 == 0) (sort(x)[length(x)/2]+sort(x)[1+ length(x)/2])/2\n",
    "  else sort(x)[ceiling(length(x)/2)]\n",
    "}\n"
   ]
  },
  {
   "cell_type": "code",
   "execution_count": 169,
   "id": "93799e8a-66fc-4dac-a9ea-63a8b3c48037",
   "metadata": {},
   "outputs": [
    {
     "data": {
      "text/html": [
       "4"
      ],
      "text/latex": [
       "4"
      ],
      "text/markdown": [
       "4"
      ],
      "text/plain": [
       "[1] 4"
      ]
     },
     "metadata": {},
     "output_type": "display_data"
    }
   ],
   "source": [
    "med(y)"
   ]
  },
  {
   "cell_type": "code",
   "execution_count": 170,
   "id": "5ebe6b45-9ec9-4a03-aeb3-1a8cbce61353",
   "metadata": {},
   "outputs": [
    {
     "data": {
      "text/html": [
       "4.5"
      ],
      "text/latex": [
       "4.5"
      ],
      "text/markdown": [
       "4.5"
      ],
      "text/plain": [
       "[1] 4.5"
      ]
     },
     "metadata": {},
     "output_type": "display_data"
    }
   ],
   "source": [
    "med(y[-1])"
   ]
  },
  {
   "cell_type": "code",
   "execution_count": 172,
   "id": "1cf17a5a-0b49-46a5-be96-6de8e8b6c464",
   "metadata": {},
   "outputs": [],
   "source": [
    "se <- function(x) sqrt(var(x)/length(x))"
   ]
  },
  {
   "cell_type": "code",
   "execution_count": 173,
   "id": "8a8c638b-a2d0-4ea7-be4e-7fd5103702be",
   "metadata": {},
   "outputs": [],
   "source": [
    "ci95 <- function(x) { t.value <- qt(0.975, length(x)-1)  \n",
    "  standard.error <- se(x)  \n",
    "  ci <- t.value*standard.error\n",
    "  cat(\"95 Confidence Interval = \", mean(x) -ci, \"to \", mean(x) +ci,\"\\n\") \n",
    "}"
   ]
  },
  {
   "cell_type": "code",
   "execution_count": 175,
   "id": "9966d481-7cce-4f8e-b514-cc0360678164",
   "metadata": {},
   "outputs": [
    {
     "name": "stdout",
     "output_type": "stream",
     "text": [
      "95 Confidence Interval =  24.62765 to  25.50293 \n"
     ]
    }
   ],
   "source": [
    "set.seed(1)\n",
    "x = rnorm(150,25,3)\n",
    "ci95(x)"
   ]
  },
  {
   "cell_type": "code",
   "execution_count": 176,
   "id": "d2c0b8cc-d1fc-465d-a0a7-13772d2bb952",
   "metadata": {},
   "outputs": [],
   "source": [
    "n=30\n",
    "xv = rnorm(n)\n",
    "sem = numeric(n)"
   ]
  },
  {
   "cell_type": "code",
   "execution_count": 177,
   "id": "f4e25fda-d306-448a-b80d-19095326505e",
   "metadata": {},
   "outputs": [
    {
     "data": {
      "text/html": [
       "<style>\n",
       ".list-inline {list-style: none; margin:0; padding: 0}\n",
       ".list-inline>li {display: inline-block}\n",
       ".list-inline>li:not(:last-child)::after {content: \"\\00b7\"; padding: 0 .5ex}\n",
       "</style>\n",
       "<ol class=list-inline><li>0</li><li>0</li><li>0</li><li>0</li><li>0</li><li>0</li><li>0</li><li>0</li><li>0</li><li>0</li><li>0</li><li>0</li><li>0</li><li>0</li><li>0</li><li>0</li><li>0</li><li>0</li><li>0</li><li>0</li><li>0</li><li>0</li><li>0</li><li>0</li><li>0</li><li>0</li><li>0</li><li>0</li><li>0</li><li>0</li></ol>\n"
      ],
      "text/latex": [
       "\\begin{enumerate*}\n",
       "\\item 0\n",
       "\\item 0\n",
       "\\item 0\n",
       "\\item 0\n",
       "\\item 0\n",
       "\\item 0\n",
       "\\item 0\n",
       "\\item 0\n",
       "\\item 0\n",
       "\\item 0\n",
       "\\item 0\n",
       "\\item 0\n",
       "\\item 0\n",
       "\\item 0\n",
       "\\item 0\n",
       "\\item 0\n",
       "\\item 0\n",
       "\\item 0\n",
       "\\item 0\n",
       "\\item 0\n",
       "\\item 0\n",
       "\\item 0\n",
       "\\item 0\n",
       "\\item 0\n",
       "\\item 0\n",
       "\\item 0\n",
       "\\item 0\n",
       "\\item 0\n",
       "\\item 0\n",
       "\\item 0\n",
       "\\end{enumerate*}\n"
      ],
      "text/markdown": [
       "1. 0\n",
       "2. 0\n",
       "3. 0\n",
       "4. 0\n",
       "5. 0\n",
       "6. 0\n",
       "7. 0\n",
       "8. 0\n",
       "9. 0\n",
       "10. 0\n",
       "11. 0\n",
       "12. 0\n",
       "13. 0\n",
       "14. 0\n",
       "15. 0\n",
       "16. 0\n",
       "17. 0\n",
       "18. 0\n",
       "19. 0\n",
       "20. 0\n",
       "21. 0\n",
       "22. 0\n",
       "23. 0\n",
       "24. 0\n",
       "25. 0\n",
       "26. 0\n",
       "27. 0\n",
       "28. 0\n",
       "29. 0\n",
       "30. 0\n",
       "\n",
       "\n"
      ],
      "text/plain": [
       " [1] 0 0 0 0 0 0 0 0 0 0 0 0 0 0 0 0 0 0 0 0 0 0 0 0 0 0 0 0 0 0"
      ]
     },
     "metadata": {},
     "output_type": "display_data"
    }
   ],
   "source": [
    "sem"
   ]
  },
  {
   "cell_type": "code",
   "execution_count": 178,
   "id": "2166ce38-b0f6-4645-bf08-65a3fcb44899",
   "metadata": {},
   "outputs": [
    {
     "data": {
      "text/html": [
       "30"
      ],
      "text/latex": [
       "30"
      ],
      "text/markdown": [
       "30"
      ],
      "text/plain": [
       "[1] 30"
      ]
     },
     "metadata": {},
     "output_type": "display_data"
    }
   ],
   "source": [
    "length(sem)"
   ]
  },
  {
   "cell_type": "code",
   "execution_count": 179,
   "id": "c353ce42-a78e-4c2b-a4bf-f42c6f36bf3e",
   "metadata": {},
   "outputs": [],
   "source": [
    "xy.error.bars <- function (x, y, xbar, ybar){\n",
    "  plot(x, y, pch=16, ylim=c(min(y-ybar), max(y+ybar)), \n",
    "       xlim=c(min(x-xbar), max(x+xbar)))\n",
    "\n",
    "  arrows(x, y-ybar, x, y+ybar, code=3, angle=90, length=0.1)  # y축 오차 막대 \n",
    "  arrows(x-xbar, y, x+xbar, y, code=3, angle=90, length=0.1)   # x축 오차 막대 \n",
    "}"
   ]
  },
  {
   "cell_type": "code",
   "execution_count": 180,
   "id": "c1585cee-2c64-485a-a09e-7a88ede13af5",
   "metadata": {},
   "outputs": [],
   "source": [
    "parmax <- function (a,b) {\n",
    "  c <- pmax(a,b)    # pmax() 함수는 a와 b의 각 원소 쌍의 최댓값을 구한다\n",
    "  median(c)     # 중앙값 반환\n",
    "}"
   ]
  },
  {
   "cell_type": "code",
   "execution_count": 181,
   "id": "65fd2b05-8147-43af-8ec9-563f985ff32b",
   "metadata": {},
   "outputs": [],
   "source": [
    "x <- c(1,9,2,8,3,7)\n",
    "y <- c(9,2,8,3,7,2)\n"
   ]
  },
  {
   "cell_type": "code",
   "execution_count": 182,
   "id": "f02b1915-faa6-4009-abe6-a4285bb1e954",
   "metadata": {},
   "outputs": [
    {
     "data": {
      "text/html": [
       "<style>\n",
       ".list-inline {list-style: none; margin:0; padding: 0}\n",
       ".list-inline>li {display: inline-block}\n",
       ".list-inline>li:not(:last-child)::after {content: \"\\00b7\"; padding: 0 .5ex}\n",
       "</style>\n",
       "<ol class=list-inline><li>9</li><li>9</li><li>8</li><li>8</li><li>7</li><li>7</li></ol>\n"
      ],
      "text/latex": [
       "\\begin{enumerate*}\n",
       "\\item 9\n",
       "\\item 9\n",
       "\\item 8\n",
       "\\item 8\n",
       "\\item 7\n",
       "\\item 7\n",
       "\\end{enumerate*}\n"
      ],
      "text/markdown": [
       "1. 9\n",
       "2. 9\n",
       "3. 8\n",
       "4. 8\n",
       "5. 7\n",
       "6. 7\n",
       "\n",
       "\n"
      ],
      "text/plain": [
       "[1] 9 9 8 8 7 7"
      ]
     },
     "metadata": {},
     "output_type": "display_data"
    }
   ],
   "source": [
    "pmax(x,y)"
   ]
  },
  {
   "cell_type": "code",
   "execution_count": 183,
   "id": "ff9a49c1-08cb-44dc-8b58-f31f05e83f8d",
   "metadata": {},
   "outputs": [
    {
     "data": {
      "text/html": [
       "8"
      ],
      "text/latex": [
       "8"
      ],
      "text/markdown": [
       "8"
      ],
      "text/plain": [
       "[1] 8"
      ]
     },
     "metadata": {},
     "output_type": "display_data"
    }
   ],
   "source": [
    "parmax(x,y)"
   ]
  },
  {
   "cell_type": "code",
   "execution_count": 184,
   "id": "b5f390d0-ffb9-47ec-9d88-1de5deb6227a",
   "metadata": {},
   "outputs": [
    {
     "data": {
      "text/html": [
       "<style>\n",
       ".list-inline {list-style: none; margin:0; padding: 0}\n",
       ".list-inline>li {display: inline-block}\n",
       ".list-inline>li:not(:last-child)::after {content: \"\\00b7\"; padding: 0 .5ex}\n",
       "</style>\n",
       "<ol class=list-inline><li>2</li><li>5</li><li>12</li><li>23</li><li>38</li><li>57</li><li>80</li><li>107</li></ol>\n"
      ],
      "text/latex": [
       "\\begin{enumerate*}\n",
       "\\item 2\n",
       "\\item 5\n",
       "\\item 12\n",
       "\\item 23\n",
       "\\item 38\n",
       "\\item 57\n",
       "\\item 80\n",
       "\\item 107\n",
       "\\end{enumerate*}\n"
      ],
      "text/markdown": [
       "1. 2\n",
       "2. 5\n",
       "3. 12\n",
       "4. 23\n",
       "5. 38\n",
       "6. 57\n",
       "7. 80\n",
       "8. 107\n",
       "\n",
       "\n"
      ],
      "text/plain": [
       "[1]   2   5  12  23  38  57  80 107"
      ]
     },
     "metadata": {},
     "output_type": "display_data"
    }
   ],
   "source": [
    "(function(x,y){ z <- 2* x^2 + y^2; x+y+z })(0:7, 1)"
   ]
  },
  {
   "cell_type": "code",
   "execution_count": 185,
   "id": "28d9a89c-3e0d-4447-99d3-ec344af30a43",
   "metadata": {},
   "outputs": [],
   "source": [
    "baseurl <- \"http://www.bio.ic.ac.uk/research/mjcraw/therbook/data/\""
   ]
  },
  {
   "cell_type": "code",
   "execution_count": 186,
   "id": "3da5481c-602c-45e5-baad-27b3eb800240",
   "metadata": {},
   "outputs": [],
   "source": [
    "filename <- \"worms.txt\"  "
   ]
  },
  {
   "cell_type": "code",
   "execution_count": 188,
   "id": "2e720a5d-b5da-45d7-8698-9787272ee7be",
   "metadata": {},
   "outputs": [],
   "source": [
    "fileurl <- paste(baseurl, filename, sep=\"\")"
   ]
  },
  {
   "cell_type": "code",
   "execution_count": 189,
   "id": "34a3f653-81df-4ccb-a76a-5ba3dd31cfb1",
   "metadata": {},
   "outputs": [],
   "source": [
    "worms = read.table(fileurl, header=TRUE)"
   ]
  },
  {
   "cell_type": "code",
   "execution_count": 190,
   "id": "82783de2-b6bc-4e4f-85b7-afcea90f86c5",
   "metadata": {},
   "outputs": [
    {
     "data": {
      "text/html": [
       "4.3"
      ],
      "text/latex": [
       "4.3"
      ],
      "text/markdown": [
       "4.3"
      ],
      "text/plain": [
       "[1] 4.3"
      ]
     },
     "metadata": {},
     "output_type": "display_data"
    }
   ],
   "source": [
    "worms[3,5]"
   ]
  },
  {
   "cell_type": "code",
   "execution_count": 192,
   "id": "c910f984-a6db-439b-b33f-a6477ca49378",
   "metadata": {},
   "outputs": [
    {
     "data": {
      "text/html": [
       "<style>\n",
       ".list-inline {list-style: none; margin:0; padding: 0}\n",
       ".list-inline>li {display: inline-block}\n",
       ".list-inline>li:not(:last-child)::after {content: \"\\00b7\"; padding: 0 .5ex}\n",
       "</style>\n",
       "<ol class=list-inline><li>0</li><li>6</li><li>8</li><li>4</li><li>5</li><li>1</li></ol>\n"
      ],
      "text/latex": [
       "\\begin{enumerate*}\n",
       "\\item 0\n",
       "\\item 6\n",
       "\\item 8\n",
       "\\item 4\n",
       "\\item 5\n",
       "\\item 1\n",
       "\\end{enumerate*}\n"
      ],
      "text/markdown": [
       "1. 0\n",
       "2. 6\n",
       "3. 8\n",
       "4. 4\n",
       "5. 5\n",
       "6. 1\n",
       "\n",
       "\n"
      ],
      "text/plain": [
       "[1] 0 6 8 4 5 1"
      ]
     },
     "metadata": {},
     "output_type": "display_data"
    }
   ],
   "source": [
    "worms[14:19,7]"
   ]
  },
  {
   "cell_type": "code",
   "execution_count": 193,
   "id": "b84c2f95-60f1-4d7a-8bd0-f15d33857883",
   "metadata": {},
   "outputs": [
    {
     "data": {
      "text/html": [
       "<table class=\"dataframe\">\n",
       "<caption>A data.frame: 5 × 2</caption>\n",
       "<thead>\n",
       "\t<tr><th></th><th scope=col>Area</th><th scope=col>Slope</th></tr>\n",
       "\t<tr><th></th><th scope=col>&lt;dbl&gt;</th><th scope=col>&lt;int&gt;</th></tr>\n",
       "</thead>\n",
       "<tbody>\n",
       "\t<tr><th scope=row>1</th><td>3.6</td><td>11</td></tr>\n",
       "\t<tr><th scope=row>2</th><td>5.1</td><td> 2</td></tr>\n",
       "\t<tr><th scope=row>3</th><td>2.8</td><td> 3</td></tr>\n",
       "\t<tr><th scope=row>4</th><td>2.4</td><td> 5</td></tr>\n",
       "\t<tr><th scope=row>5</th><td>3.8</td><td> 0</td></tr>\n",
       "</tbody>\n",
       "</table>\n"
      ],
      "text/latex": [
       "A data.frame: 5 × 2\n",
       "\\begin{tabular}{r|ll}\n",
       "  & Area & Slope\\\\\n",
       "  & <dbl> & <int>\\\\\n",
       "\\hline\n",
       "\t1 & 3.6 & 11\\\\\n",
       "\t2 & 5.1 &  2\\\\\n",
       "\t3 & 2.8 &  3\\\\\n",
       "\t4 & 2.4 &  5\\\\\n",
       "\t5 & 3.8 &  0\\\\\n",
       "\\end{tabular}\n"
      ],
      "text/markdown": [
       "\n",
       "A data.frame: 5 × 2\n",
       "\n",
       "| <!--/--> | Area &lt;dbl&gt; | Slope &lt;int&gt; |\n",
       "|---|---|---|\n",
       "| 1 | 3.6 | 11 |\n",
       "| 2 | 5.1 |  2 |\n",
       "| 3 | 2.8 |  3 |\n",
       "| 4 | 2.4 |  5 |\n",
       "| 5 | 3.8 |  0 |\n",
       "\n"
      ],
      "text/plain": [
       "  Area Slope\n",
       "1 3.6  11   \n",
       "2 5.1   2   \n",
       "3 2.8   3   \n",
       "4 2.4   5   \n",
       "5 3.8   0   "
      ]
     },
     "metadata": {},
     "output_type": "display_data"
    }
   ],
   "source": [
    "worms[1:5,2:3]"
   ]
  },
  {
   "cell_type": "code",
   "execution_count": 194,
   "id": "9b0f03c3-e363-4bd1-8f1a-1a11ee719b87",
   "metadata": {},
   "outputs": [
    {
     "data": {
      "text/html": [
       "<table class=\"dataframe\">\n",
       "<caption>A data.frame: 3 × 3</caption>\n",
       "<thead>\n",
       "\t<tr><th></th><th scope=col>Area</th><th scope=col>Vegetation</th><th scope=col>Damp</th></tr>\n",
       "\t<tr><th></th><th scope=col>&lt;dbl&gt;</th><th scope=col>&lt;chr&gt;</th><th scope=col>&lt;lgl&gt;</th></tr>\n",
       "</thead>\n",
       "<tbody>\n",
       "\t<tr><th scope=row>1</th><td>3.6</td><td>Grassland</td><td>FALSE</td></tr>\n",
       "\t<tr><th scope=row>3</th><td>2.8</td><td>Grassland</td><td>FALSE</td></tr>\n",
       "\t<tr><th scope=row>5</th><td>3.8</td><td>Scrub    </td><td>FALSE</td></tr>\n",
       "</tbody>\n",
       "</table>\n"
      ],
      "text/latex": [
       "A data.frame: 3 × 3\n",
       "\\begin{tabular}{r|lll}\n",
       "  & Area & Vegetation & Damp\\\\\n",
       "  & <dbl> & <chr> & <lgl>\\\\\n",
       "\\hline\n",
       "\t1 & 3.6 & Grassland & FALSE\\\\\n",
       "\t3 & 2.8 & Grassland & FALSE\\\\\n",
       "\t5 & 3.8 & Scrub     & FALSE\\\\\n",
       "\\end{tabular}\n"
      ],
      "text/markdown": [
       "\n",
       "A data.frame: 3 × 3\n",
       "\n",
       "| <!--/--> | Area &lt;dbl&gt; | Vegetation &lt;chr&gt; | Damp &lt;lgl&gt; |\n",
       "|---|---|---|---|\n",
       "| 1 | 3.6 | Grassland | FALSE |\n",
       "| 3 | 2.8 | Grassland | FALSE |\n",
       "| 5 | 3.8 | Scrub     | FALSE |\n",
       "\n"
      ],
      "text/plain": [
       "  Area Vegetation Damp \n",
       "1 3.6  Grassland  FALSE\n",
       "3 2.8  Grassland  FALSE\n",
       "5 3.8  Scrub      FALSE"
      ]
     },
     "metadata": {},
     "output_type": "display_data"
    }
   ],
   "source": [
    "worms[c(1,3,5),c(2,4,6)]"
   ]
  },
  {
   "cell_type": "code",
   "execution_count": 195,
   "id": "e366db1b-66ae-4858-ae09-3539cbbe27b4",
   "metadata": {},
   "outputs": [
    {
     "data": {
      "text/html": [
       "<table class=\"dataframe\">\n",
       "<caption>A data.frame: 1 × 7</caption>\n",
       "<thead>\n",
       "\t<tr><th></th><th scope=col>Field.Name</th><th scope=col>Area</th><th scope=col>Slope</th><th scope=col>Vegetation</th><th scope=col>Soil.pH</th><th scope=col>Damp</th><th scope=col>Worm.density</th></tr>\n",
       "\t<tr><th></th><th scope=col>&lt;chr&gt;</th><th scope=col>&lt;dbl&gt;</th><th scope=col>&lt;int&gt;</th><th scope=col>&lt;chr&gt;</th><th scope=col>&lt;dbl&gt;</th><th scope=col>&lt;lgl&gt;</th><th scope=col>&lt;int&gt;</th></tr>\n",
       "</thead>\n",
       "<tbody>\n",
       "\t<tr><th scope=row>3</th><td>Nursery.Field</td><td>2.8</td><td>3</td><td>Grassland</td><td>4.3</td><td>FALSE</td><td>2</td></tr>\n",
       "</tbody>\n",
       "</table>\n"
      ],
      "text/latex": [
       "A data.frame: 1 × 7\n",
       "\\begin{tabular}{r|lllllll}\n",
       "  & Field.Name & Area & Slope & Vegetation & Soil.pH & Damp & Worm.density\\\\\n",
       "  & <chr> & <dbl> & <int> & <chr> & <dbl> & <lgl> & <int>\\\\\n",
       "\\hline\n",
       "\t3 & Nursery.Field & 2.8 & 3 & Grassland & 4.3 & FALSE & 2\\\\\n",
       "\\end{tabular}\n"
      ],
      "text/markdown": [
       "\n",
       "A data.frame: 1 × 7\n",
       "\n",
       "| <!--/--> | Field.Name &lt;chr&gt; | Area &lt;dbl&gt; | Slope &lt;int&gt; | Vegetation &lt;chr&gt; | Soil.pH &lt;dbl&gt; | Damp &lt;lgl&gt; | Worm.density &lt;int&gt; |\n",
       "|---|---|---|---|---|---|---|---|\n",
       "| 3 | Nursery.Field | 2.8 | 3 | Grassland | 4.3 | FALSE | 2 |\n",
       "\n"
      ],
      "text/plain": [
       "  Field.Name    Area Slope Vegetation Soil.pH Damp  Worm.density\n",
       "3 Nursery.Field 2.8  3     Grassland  4.3     FALSE 2           "
      ]
     },
     "metadata": {},
     "output_type": "display_data"
    }
   ],
   "source": [
    "worms[3,]"
   ]
  },
  {
   "cell_type": "code",
   "execution_count": 196,
   "id": "6aa2d599-9312-4171-b980-754adf16fc4e",
   "metadata": {},
   "outputs": [
    {
     "data": {
      "text/html": [
       "<style>\n",
       ".list-inline {list-style: none; margin:0; padding: 0}\n",
       ".list-inline>li {display: inline-block}\n",
       ".list-inline>li:not(:last-child)::after {content: \"\\00b7\"; padding: 0 .5ex}\n",
       "</style>\n",
       "<ol class=list-inline><li>11</li><li>2</li><li>3</li><li>5</li><li>0</li><li>2</li><li>3</li><li>0</li><li>0</li><li>4</li><li>10</li><li>1</li><li>2</li><li>6</li><li>0</li><li>0</li><li>8</li><li>2</li><li>1</li><li>10</li></ol>\n"
      ],
      "text/latex": [
       "\\begin{enumerate*}\n",
       "\\item 11\n",
       "\\item 2\n",
       "\\item 3\n",
       "\\item 5\n",
       "\\item 0\n",
       "\\item 2\n",
       "\\item 3\n",
       "\\item 0\n",
       "\\item 0\n",
       "\\item 4\n",
       "\\item 10\n",
       "\\item 1\n",
       "\\item 2\n",
       "\\item 6\n",
       "\\item 0\n",
       "\\item 0\n",
       "\\item 8\n",
       "\\item 2\n",
       "\\item 1\n",
       "\\item 10\n",
       "\\end{enumerate*}\n"
      ],
      "text/markdown": [
       "1. 11\n",
       "2. 2\n",
       "3. 3\n",
       "4. 5\n",
       "5. 0\n",
       "6. 2\n",
       "7. 3\n",
       "8. 0\n",
       "9. 0\n",
       "10. 4\n",
       "11. 10\n",
       "12. 1\n",
       "13. 2\n",
       "14. 6\n",
       "15. 0\n",
       "16. 0\n",
       "17. 8\n",
       "18. 2\n",
       "19. 1\n",
       "20. 10\n",
       "\n",
       "\n"
      ],
      "text/plain": [
       " [1] 11  2  3  5  0  2  3  0  0  4 10  1  2  6  0  0  8  2  1 10"
      ]
     },
     "metadata": {},
     "output_type": "display_data"
    }
   ],
   "source": [
    "worms[,3]"
   ]
  },
  {
   "cell_type": "code",
   "execution_count": 198,
   "id": "a85caa17-a647-493a-9dbe-aec8ebb6a3dc",
   "metadata": {},
   "outputs": [
    {
     "data": {
      "text/html": [
       "'integer'"
      ],
      "text/latex": [
       "'integer'"
      ],
      "text/markdown": [
       "'integer'"
      ],
      "text/plain": [
       "[1] \"integer\""
      ]
     },
     "metadata": {},
     "output_type": "display_data"
    }
   ],
   "source": [
    "\n",
    "class(worms[ , 3]) "
   ]
  },
  {
   "cell_type": "code",
   "execution_count": 199,
   "id": "f4d438ce-022e-4431-894d-0bf24c91fc09",
   "metadata": {},
   "outputs": [
    {
     "data": {
      "text/html": [
       "<table class=\"dataframe\">\n",
       "<caption>A data.frame: 20 × 2</caption>\n",
       "<thead>\n",
       "\t<tr><th scope=col>Field.Name</th><th scope=col>Soil.pH</th></tr>\n",
       "\t<tr><th scope=col>&lt;chr&gt;</th><th scope=col>&lt;dbl&gt;</th></tr>\n",
       "</thead>\n",
       "<tbody>\n",
       "\t<tr><td>Nashs.Field      </td><td>4.1</td></tr>\n",
       "\t<tr><td>Silwood.Bottom   </td><td>5.2</td></tr>\n",
       "\t<tr><td>Nursery.Field    </td><td>4.3</td></tr>\n",
       "\t<tr><td>Rush.Meadow      </td><td>4.9</td></tr>\n",
       "\t<tr><td>Gunness.Thicket  </td><td>4.2</td></tr>\n",
       "\t<tr><td>Oak.Mead         </td><td>3.9</td></tr>\n",
       "\t<tr><td>Church.Field     </td><td>4.2</td></tr>\n",
       "\t<tr><td>Ashurst          </td><td>4.8</td></tr>\n",
       "\t<tr><td>The.Orchard      </td><td>5.7</td></tr>\n",
       "\t<tr><td>Rookery.Slope    </td><td>5.0</td></tr>\n",
       "\t<tr><td>Garden.Wood      </td><td>5.2</td></tr>\n",
       "\t<tr><td>North.Gravel     </td><td>4.1</td></tr>\n",
       "\t<tr><td>South.Gravel     </td><td>4.0</td></tr>\n",
       "\t<tr><td>Observatory.Ridge</td><td>3.8</td></tr>\n",
       "\t<tr><td>Pond.Field       </td><td>5.0</td></tr>\n",
       "\t<tr><td>Water.Meadow     </td><td>4.9</td></tr>\n",
       "\t<tr><td>Cheapside        </td><td>4.7</td></tr>\n",
       "\t<tr><td>Pound.Hill       </td><td>4.5</td></tr>\n",
       "\t<tr><td>Gravel.Pit       </td><td>3.5</td></tr>\n",
       "\t<tr><td>Farm.Wood        </td><td>5.1</td></tr>\n",
       "</tbody>\n",
       "</table>\n"
      ],
      "text/latex": [
       "A data.frame: 20 × 2\n",
       "\\begin{tabular}{ll}\n",
       " Field.Name & Soil.pH\\\\\n",
       " <chr> & <dbl>\\\\\n",
       "\\hline\n",
       "\t Nashs.Field       & 4.1\\\\\n",
       "\t Silwood.Bottom    & 5.2\\\\\n",
       "\t Nursery.Field     & 4.3\\\\\n",
       "\t Rush.Meadow       & 4.9\\\\\n",
       "\t Gunness.Thicket   & 4.2\\\\\n",
       "\t Oak.Mead          & 3.9\\\\\n",
       "\t Church.Field      & 4.2\\\\\n",
       "\t Ashurst           & 4.8\\\\\n",
       "\t The.Orchard       & 5.7\\\\\n",
       "\t Rookery.Slope     & 5.0\\\\\n",
       "\t Garden.Wood       & 5.2\\\\\n",
       "\t North.Gravel      & 4.1\\\\\n",
       "\t South.Gravel      & 4.0\\\\\n",
       "\t Observatory.Ridge & 3.8\\\\\n",
       "\t Pond.Field        & 5.0\\\\\n",
       "\t Water.Meadow      & 4.9\\\\\n",
       "\t Cheapside         & 4.7\\\\\n",
       "\t Pound.Hill        & 4.5\\\\\n",
       "\t Gravel.Pit        & 3.5\\\\\n",
       "\t Farm.Wood         & 5.1\\\\\n",
       "\\end{tabular}\n"
      ],
      "text/markdown": [
       "\n",
       "A data.frame: 20 × 2\n",
       "\n",
       "| Field.Name &lt;chr&gt; | Soil.pH &lt;dbl&gt; |\n",
       "|---|---|\n",
       "| Nashs.Field       | 4.1 |\n",
       "| Silwood.Bottom    | 5.2 |\n",
       "| Nursery.Field     | 4.3 |\n",
       "| Rush.Meadow       | 4.9 |\n",
       "| Gunness.Thicket   | 4.2 |\n",
       "| Oak.Mead          | 3.9 |\n",
       "| Church.Field      | 4.2 |\n",
       "| Ashurst           | 4.8 |\n",
       "| The.Orchard       | 5.7 |\n",
       "| Rookery.Slope     | 5.0 |\n",
       "| Garden.Wood       | 5.2 |\n",
       "| North.Gravel      | 4.1 |\n",
       "| South.Gravel      | 4.0 |\n",
       "| Observatory.Ridge | 3.8 |\n",
       "| Pond.Field        | 5.0 |\n",
       "| Water.Meadow      | 4.9 |\n",
       "| Cheapside         | 4.7 |\n",
       "| Pound.Hill        | 4.5 |\n",
       "| Gravel.Pit        | 3.5 |\n",
       "| Farm.Wood         | 5.1 |\n",
       "\n"
      ],
      "text/plain": [
       "   Field.Name        Soil.pH\n",
       "1  Nashs.Field       4.1    \n",
       "2  Silwood.Bottom    5.2    \n",
       "3  Nursery.Field     4.3    \n",
       "4  Rush.Meadow       4.9    \n",
       "5  Gunness.Thicket   4.2    \n",
       "6  Oak.Mead          3.9    \n",
       "7  Church.Field      4.2    \n",
       "8  Ashurst           4.8    \n",
       "9  The.Orchard       5.7    \n",
       "10 Rookery.Slope     5.0    \n",
       "11 Garden.Wood       5.2    \n",
       "12 North.Gravel      4.1    \n",
       "13 South.Gravel      4.0    \n",
       "14 Observatory.Ridge 3.8    \n",
       "15 Pond.Field        5.0    \n",
       "16 Water.Meadow      4.9    \n",
       "17 Cheapside         4.7    \n",
       "18 Pound.Hill        4.5    \n",
       "19 Gravel.Pit        3.5    \n",
       "20 Farm.Wood         5.1    "
      ]
     },
     "metadata": {},
     "output_type": "display_data"
    }
   ],
   "source": [
    "worms[,c(1,5)]"
   ]
  },
  {
   "cell_type": "code",
   "execution_count": 200,
   "id": "255cbe23-d073-4dfc-a412-17b65d51792a",
   "metadata": {},
   "outputs": [
    {
     "data": {
      "text/html": [
       "<table class=\"dataframe\">\n",
       "<caption>A data.frame: 1 × 7</caption>\n",
       "<thead>\n",
       "\t<tr><th></th><th scope=col>Field.Name</th><th scope=col>Area</th><th scope=col>Slope</th><th scope=col>Vegetation</th><th scope=col>Soil.pH</th><th scope=col>Damp</th><th scope=col>Worm.density</th></tr>\n",
       "\t<tr><th></th><th scope=col>&lt;chr&gt;</th><th scope=col>&lt;dbl&gt;</th><th scope=col>&lt;int&gt;</th><th scope=col>&lt;chr&gt;</th><th scope=col>&lt;dbl&gt;</th><th scope=col>&lt;lgl&gt;</th><th scope=col>&lt;int&gt;</th></tr>\n",
       "</thead>\n",
       "<tbody>\n",
       "\t<tr><th scope=row>3</th><td>Nursery.Field</td><td>2.8</td><td>3</td><td>Grassland</td><td>4.3</td><td>FALSE</td><td>2</td></tr>\n",
       "</tbody>\n",
       "</table>\n"
      ],
      "text/latex": [
       "A data.frame: 1 × 7\n",
       "\\begin{tabular}{r|lllllll}\n",
       "  & Field.Name & Area & Slope & Vegetation & Soil.pH & Damp & Worm.density\\\\\n",
       "  & <chr> & <dbl> & <int> & <chr> & <dbl> & <lgl> & <int>\\\\\n",
       "\\hline\n",
       "\t3 & Nursery.Field & 2.8 & 3 & Grassland & 4.3 & FALSE & 2\\\\\n",
       "\\end{tabular}\n"
      ],
      "text/markdown": [
       "\n",
       "A data.frame: 1 × 7\n",
       "\n",
       "| <!--/--> | Field.Name &lt;chr&gt; | Area &lt;dbl&gt; | Slope &lt;int&gt; | Vegetation &lt;chr&gt; | Soil.pH &lt;dbl&gt; | Damp &lt;lgl&gt; | Worm.density &lt;int&gt; |\n",
       "|---|---|---|---|---|---|---|---|\n",
       "| 3 | Nursery.Field | 2.8 | 3 | Grassland | 4.3 | FALSE | 2 |\n",
       "\n"
      ],
      "text/plain": [
       "  Field.Name    Area Slope Vegetation Soil.pH Damp  Worm.density\n",
       "3 Nursery.Field 2.8  3     Grassland  4.3     FALSE 2           "
      ]
     },
     "metadata": {},
     "output_type": "display_data"
    }
   ],
   "source": [
    "worms[3,]"
   ]
  },
  {
   "cell_type": "code",
   "execution_count": 201,
   "id": "66bcc3e8-61f4-45b0-9187-eea567332de4",
   "metadata": {},
   "outputs": [
    {
     "data": {
      "text/html": [
       "<style>\n",
       ".list-inline {list-style: none; margin:0; padding: 0}\n",
       ".list-inline>li {display: inline-block}\n",
       ".list-inline>li:not(:last-child)::after {content: \"\\00b7\"; padding: 0 .5ex}\n",
       "</style>\n",
       "<ol class=list-inline><li>11</li><li>2</li><li>3</li><li>5</li><li>0</li><li>2</li><li>3</li><li>0</li><li>0</li><li>4</li><li>10</li><li>1</li><li>2</li><li>6</li><li>0</li><li>0</li><li>8</li><li>2</li><li>1</li><li>10</li></ol>\n"
      ],
      "text/latex": [
       "\\begin{enumerate*}\n",
       "\\item 11\n",
       "\\item 2\n",
       "\\item 3\n",
       "\\item 5\n",
       "\\item 0\n",
       "\\item 2\n",
       "\\item 3\n",
       "\\item 0\n",
       "\\item 0\n",
       "\\item 4\n",
       "\\item 10\n",
       "\\item 1\n",
       "\\item 2\n",
       "\\item 6\n",
       "\\item 0\n",
       "\\item 0\n",
       "\\item 8\n",
       "\\item 2\n",
       "\\item 1\n",
       "\\item 10\n",
       "\\end{enumerate*}\n"
      ],
      "text/markdown": [
       "1. 11\n",
       "2. 2\n",
       "3. 3\n",
       "4. 5\n",
       "5. 0\n",
       "6. 2\n",
       "7. 3\n",
       "8. 0\n",
       "9. 0\n",
       "10. 4\n",
       "11. 10\n",
       "12. 1\n",
       "13. 2\n",
       "14. 6\n",
       "15. 0\n",
       "16. 0\n",
       "17. 8\n",
       "18. 2\n",
       "19. 1\n",
       "20. 10\n",
       "\n",
       "\n"
      ],
      "text/plain": [
       " [1] 11  2  3  5  0  2  3  0  0  4 10  1  2  6  0  0  8  2  1 10"
      ]
     },
     "metadata": {},
     "output_type": "display_data"
    }
   ],
   "source": [
    "worms[,3]"
   ]
  },
  {
   "cell_type": "code",
   "execution_count": 202,
   "id": "10aa173a-22dd-458f-ac9e-182de669bf6b",
   "metadata": {},
   "outputs": [
    {
     "data": {
      "text/html": [
       "<table class=\"dataframe\">\n",
       "<caption>A data.frame: 20 × 2</caption>\n",
       "<thead>\n",
       "\t<tr><th scope=col>Field.Name</th><th scope=col>Soil.pH</th></tr>\n",
       "\t<tr><th scope=col>&lt;chr&gt;</th><th scope=col>&lt;dbl&gt;</th></tr>\n",
       "</thead>\n",
       "<tbody>\n",
       "\t<tr><td>Nashs.Field      </td><td>4.1</td></tr>\n",
       "\t<tr><td>Silwood.Bottom   </td><td>5.2</td></tr>\n",
       "\t<tr><td>Nursery.Field    </td><td>4.3</td></tr>\n",
       "\t<tr><td>Rush.Meadow      </td><td>4.9</td></tr>\n",
       "\t<tr><td>Gunness.Thicket  </td><td>4.2</td></tr>\n",
       "\t<tr><td>Oak.Mead         </td><td>3.9</td></tr>\n",
       "\t<tr><td>Church.Field     </td><td>4.2</td></tr>\n",
       "\t<tr><td>Ashurst          </td><td>4.8</td></tr>\n",
       "\t<tr><td>The.Orchard      </td><td>5.7</td></tr>\n",
       "\t<tr><td>Rookery.Slope    </td><td>5.0</td></tr>\n",
       "\t<tr><td>Garden.Wood      </td><td>5.2</td></tr>\n",
       "\t<tr><td>North.Gravel     </td><td>4.1</td></tr>\n",
       "\t<tr><td>South.Gravel     </td><td>4.0</td></tr>\n",
       "\t<tr><td>Observatory.Ridge</td><td>3.8</td></tr>\n",
       "\t<tr><td>Pond.Field       </td><td>5.0</td></tr>\n",
       "\t<tr><td>Water.Meadow     </td><td>4.9</td></tr>\n",
       "\t<tr><td>Cheapside        </td><td>4.7</td></tr>\n",
       "\t<tr><td>Pound.Hill       </td><td>4.5</td></tr>\n",
       "\t<tr><td>Gravel.Pit       </td><td>3.5</td></tr>\n",
       "\t<tr><td>Farm.Wood        </td><td>5.1</td></tr>\n",
       "</tbody>\n",
       "</table>\n"
      ],
      "text/latex": [
       "A data.frame: 20 × 2\n",
       "\\begin{tabular}{ll}\n",
       " Field.Name & Soil.pH\\\\\n",
       " <chr> & <dbl>\\\\\n",
       "\\hline\n",
       "\t Nashs.Field       & 4.1\\\\\n",
       "\t Silwood.Bottom    & 5.2\\\\\n",
       "\t Nursery.Field     & 4.3\\\\\n",
       "\t Rush.Meadow       & 4.9\\\\\n",
       "\t Gunness.Thicket   & 4.2\\\\\n",
       "\t Oak.Mead          & 3.9\\\\\n",
       "\t Church.Field      & 4.2\\\\\n",
       "\t Ashurst           & 4.8\\\\\n",
       "\t The.Orchard       & 5.7\\\\\n",
       "\t Rookery.Slope     & 5.0\\\\\n",
       "\t Garden.Wood       & 5.2\\\\\n",
       "\t North.Gravel      & 4.1\\\\\n",
       "\t South.Gravel      & 4.0\\\\\n",
       "\t Observatory.Ridge & 3.8\\\\\n",
       "\t Pond.Field        & 5.0\\\\\n",
       "\t Water.Meadow      & 4.9\\\\\n",
       "\t Cheapside         & 4.7\\\\\n",
       "\t Pound.Hill        & 4.5\\\\\n",
       "\t Gravel.Pit        & 3.5\\\\\n",
       "\t Farm.Wood         & 5.1\\\\\n",
       "\\end{tabular}\n"
      ],
      "text/markdown": [
       "\n",
       "A data.frame: 20 × 2\n",
       "\n",
       "| Field.Name &lt;chr&gt; | Soil.pH &lt;dbl&gt; |\n",
       "|---|---|\n",
       "| Nashs.Field       | 4.1 |\n",
       "| Silwood.Bottom    | 5.2 |\n",
       "| Nursery.Field     | 4.3 |\n",
       "| Rush.Meadow       | 4.9 |\n",
       "| Gunness.Thicket   | 4.2 |\n",
       "| Oak.Mead          | 3.9 |\n",
       "| Church.Field      | 4.2 |\n",
       "| Ashurst           | 4.8 |\n",
       "| The.Orchard       | 5.7 |\n",
       "| Rookery.Slope     | 5.0 |\n",
       "| Garden.Wood       | 5.2 |\n",
       "| North.Gravel      | 4.1 |\n",
       "| South.Gravel      | 4.0 |\n",
       "| Observatory.Ridge | 3.8 |\n",
       "| Pond.Field        | 5.0 |\n",
       "| Water.Meadow      | 4.9 |\n",
       "| Cheapside         | 4.7 |\n",
       "| Pound.Hill        | 4.5 |\n",
       "| Gravel.Pit        | 3.5 |\n",
       "| Farm.Wood         | 5.1 |\n",
       "\n"
      ],
      "text/plain": [
       "   Field.Name        Soil.pH\n",
       "1  Nashs.Field       4.1    \n",
       "2  Silwood.Bottom    5.2    \n",
       "3  Nursery.Field     4.3    \n",
       "4  Rush.Meadow       4.9    \n",
       "5  Gunness.Thicket   4.2    \n",
       "6  Oak.Mead          3.9    \n",
       "7  Church.Field      4.2    \n",
       "8  Ashurst           4.8    \n",
       "9  The.Orchard       5.7    \n",
       "10 Rookery.Slope     5.0    \n",
       "11 Garden.Wood       5.2    \n",
       "12 North.Gravel      4.1    \n",
       "13 South.Gravel      4.0    \n",
       "14 Observatory.Ridge 3.8    \n",
       "15 Pond.Field        5.0    \n",
       "16 Water.Meadow      4.9    \n",
       "17 Cheapside         4.7    \n",
       "18 Pound.Hill        4.5    \n",
       "19 Gravel.Pit        3.5    \n",
       "20 Farm.Wood         5.1    "
      ]
     },
     "metadata": {},
     "output_type": "display_data"
    }
   ],
   "source": [
    "worms[,c(1,5)]"
   ]
  },
  {
   "cell_type": "code",
   "execution_count": null,
   "id": "3c670b00-a7d5-4b0d-86a4-90eb77bdad8b",
   "metadata": {},
   "outputs": [],
   "source": []
  }
 ],
 "metadata": {
  "kernelspec": {
   "display_name": "R",
   "language": "R",
   "name": "ir"
  },
  "language_info": {
   "codemirror_mode": "r",
   "file_extension": ".r",
   "mimetype": "text/x-r-source",
   "name": "R",
   "pygments_lexer": "r",
   "version": "4.2.2"
  }
 },
 "nbformat": 4,
 "nbformat_minor": 5
}
