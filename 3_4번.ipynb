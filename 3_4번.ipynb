{
 "cells": [
  {
   "cell_type": "markdown",
   "id": "36566c7d-7cbe-43f7-a9f8-2236ceee351f",
   "metadata": {},
   "source": [
    "# 1번"
   ]
  },
  {
   "cell_type": "code",
   "execution_count": 2,
   "id": "ef595da7-dcdd-4454-8971-7d13f8b79745",
   "metadata": {},
   "outputs": [
    {
     "data": {
      "text/html": [
       "4.5625"
      ],
      "text/latex": [
       "4.5625"
      ],
      "text/markdown": [
       "4.5625"
      ],
      "text/plain": [
       "[1] 4.5625"
      ]
     },
     "metadata": {},
     "output_type": "display_data"
    },
    {
     "data": {
      "text/html": [
       "0.5625"
      ],
      "text/latex": [
       "0.5625"
      ],
      "text/markdown": [
       "0.5625"
      ],
      "text/plain": [
       "[1] 0.5625"
      ]
     },
     "metadata": {},
     "output_type": "display_data"
    }
   ],
   "source": [
    "beta_1 = 90/160\n",
    "beta_0 = 13 - beta_1*15\n",
    "\n",
    "beta_0\n",
    "beta_1"
   ]
  },
  {
   "cell_type": "markdown",
   "id": "1c8854db-492a-4c8f-8f19-23c479014248",
   "metadata": {},
   "source": [
    "# 2번"
   ]
  },
  {
   "cell_type": "code",
   "execution_count": 3,
   "id": "99da5fe0-08bf-4c34-ade5-57d481314993",
   "metadata": {},
   "outputs": [
    {
     "data": {
      "text/html": [
       "50.625"
      ],
      "text/latex": [
       "50.625"
      ],
      "text/markdown": [
       "50.625"
      ],
      "text/plain": [
       "[1] 50.625"
      ]
     },
     "metadata": {},
     "output_type": "display_data"
    },
    {
     "data": {
      "text/html": [
       "1.80972222222222"
      ],
      "text/latex": [
       "1.80972222222222"
      ],
      "text/markdown": [
       "1.80972222222222"
      ],
      "text/plain": [
       "[1] 1.809722"
      ]
     },
     "metadata": {},
     "output_type": "display_data"
    },
    {
     "data": {
      "text/html": [
       "27.9739063699156"
      ],
      "text/latex": [
       "27.9739063699156"
      ],
      "text/markdown": [
       "27.9739063699156"
      ],
      "text/plain": [
       "[1] 27.97391"
      ]
     },
     "metadata": {},
     "output_type": "display_data"
    }
   ],
   "source": [
    "ssr = 90^2 / 160\n",
    "sst = 83.2\n",
    "sse = sst-ssr\n",
    "\n",
    "msr = ssr\n",
    "mse = sse/18\n",
    "F_0 = msr/mse\n",
    "\n",
    "msr\n",
    "mse\n",
    "F_0"
   ]
  },
  {
   "cell_type": "code",
   "execution_count": 6,
   "id": "adbd06ee-5258-412c-9294-3020f7f0226b",
   "metadata": {},
   "outputs": [
    {
     "data": {
      "text/html": [
       "4.41387341917057"
      ],
      "text/latex": [
       "4.41387341917057"
      ],
      "text/markdown": [
       "4.41387341917057"
      ],
      "text/plain": [
       "[1] 4.413873"
      ]
     },
     "metadata": {},
     "output_type": "display_data"
    }
   ],
   "source": [
    "F = qf(0.95,1,18)\n",
    "F"
   ]
  },
  {
   "cell_type": "code",
   "execution_count": 7,
   "id": "d29ad6e4-8f73-4729-ab65-30fd7d9c18ef",
   "metadata": {},
   "outputs": [
    {
     "data": {
      "text/html": [
       "TRUE"
      ],
      "text/latex": [
       "TRUE"
      ],
      "text/markdown": [
       "TRUE"
      ],
      "text/plain": [
       "[1] TRUE"
      ]
     },
     "metadata": {},
     "output_type": "display_data"
    }
   ],
   "source": [
    "F_0>F"
   ]
  },
  {
   "cell_type": "markdown",
   "id": "e7c3acba-94f9-478f-a4cb-8a157aea2f1e",
   "metadata": {},
   "source": [
    "### 회귀선이 유의함을 알 수 있다. "
   ]
  },
  {
   "cell_type": "markdown",
   "id": "b00fb395-6ec7-4a9d-9f39-1f0eedab6214",
   "metadata": {},
   "source": [
    "---"
   ]
  },
  {
   "cell_type": "markdown",
   "id": "ed9922b3-1d9a-4d7e-a291-723c021f72ea",
   "metadata": {},
   "source": [
    "# 3번"
   ]
  },
  {
   "cell_type": "code",
   "execution_count": 8,
   "id": "2648e881-4185-45ac-8327-33c9cd4a6699",
   "metadata": {},
   "outputs": [
    {
     "data": {
      "text/html": [
       "0.780047150941728"
      ],
      "text/latex": [
       "0.780047150941728"
      ],
      "text/markdown": [
       "0.780047150941728"
      ],
      "text/plain": [
       "[1] 0.7800472"
      ]
     },
     "metadata": {},
     "output_type": "display_data"
    }
   ],
   "source": [
    "90/sqrt(160*83.2)"
   ]
  }
 ],
 "metadata": {
  "kernelspec": {
   "display_name": "R",
   "language": "R",
   "name": "ir"
  },
  "language_info": {
   "codemirror_mode": "r",
   "file_extension": ".r",
   "mimetype": "text/x-r-source",
   "name": "R",
   "pygments_lexer": "r",
   "version": "4.2.2"
  }
 },
 "nbformat": 4,
 "nbformat_minor": 5
}
