{
 "cells": [
  {
   "cell_type": "code",
   "execution_count": 1,
   "id": "922bdef4-f86b-458e-aebf-9d10e1e52cc1",
   "metadata": {},
   "outputs": [],
   "source": [
    "baseurl <- \"http://www.bio.ic.ac.uk/research/mjcraw/therbook/data/\""
   ]
  },
  {
   "cell_type": "code",
   "execution_count": 2,
   "id": "cd674154-1f31-4688-9487-526c31adbd2a",
   "metadata": {},
   "outputs": [],
   "source": [
    "filename <- \"worms.txt\"  "
   ]
  },
  {
   "cell_type": "code",
   "execution_count": 3,
   "id": "53b816d5-7004-4226-a52e-ff621a94cf26",
   "metadata": {},
   "outputs": [],
   "source": [
    "fileurl <- paste(baseurl, filename, sep=\"\")"
   ]
  },
  {
   "cell_type": "code",
   "execution_count": 4,
   "id": "a1321b68-c57c-4a5b-9e1c-6994b1d043b6",
   "metadata": {},
   "outputs": [],
   "source": [
    "worms = read.table(fileurl, header=TRUE)"
   ]
  },
  {
   "cell_type": "code",
   "execution_count": 5,
   "id": "34ea1964-e985-489d-8315-df35867c81cf",
   "metadata": {},
   "outputs": [
    {
     "data": {
      "text/html": [
       "<table class=\"dataframe\">\n",
       "<caption>A data.frame: 6 × 7</caption>\n",
       "<thead>\n",
       "\t<tr><th></th><th scope=col>Field.Name</th><th scope=col>Area</th><th scope=col>Slope</th><th scope=col>Vegetation</th><th scope=col>Soil.pH</th><th scope=col>Damp</th><th scope=col>Worm.density</th></tr>\n",
       "\t<tr><th></th><th scope=col>&lt;chr&gt;</th><th scope=col>&lt;dbl&gt;</th><th scope=col>&lt;int&gt;</th><th scope=col>&lt;chr&gt;</th><th scope=col>&lt;dbl&gt;</th><th scope=col>&lt;lgl&gt;</th><th scope=col>&lt;int&gt;</th></tr>\n",
       "</thead>\n",
       "<tbody>\n",
       "\t<tr><th scope=row>1</th><td>Nashs.Field    </td><td>3.6</td><td>11</td><td>Grassland</td><td>4.1</td><td>FALSE</td><td>4</td></tr>\n",
       "\t<tr><th scope=row>2</th><td>Silwood.Bottom </td><td>5.1</td><td> 2</td><td>Arable   </td><td>5.2</td><td>FALSE</td><td>7</td></tr>\n",
       "\t<tr><th scope=row>3</th><td>Nursery.Field  </td><td>2.8</td><td> 3</td><td>Grassland</td><td>4.3</td><td>FALSE</td><td>2</td></tr>\n",
       "\t<tr><th scope=row>4</th><td>Rush.Meadow    </td><td>2.4</td><td> 5</td><td>Meadow   </td><td>4.9</td><td> TRUE</td><td>5</td></tr>\n",
       "\t<tr><th scope=row>5</th><td>Gunness.Thicket</td><td>3.8</td><td> 0</td><td>Scrub    </td><td>4.2</td><td>FALSE</td><td>6</td></tr>\n",
       "\t<tr><th scope=row>6</th><td>Oak.Mead       </td><td>3.1</td><td> 2</td><td>Grassland</td><td>3.9</td><td>FALSE</td><td>2</td></tr>\n",
       "</tbody>\n",
       "</table>\n"
      ],
      "text/latex": [
       "A data.frame: 6 × 7\n",
       "\\begin{tabular}{r|lllllll}\n",
       "  & Field.Name & Area & Slope & Vegetation & Soil.pH & Damp & Worm.density\\\\\n",
       "  & <chr> & <dbl> & <int> & <chr> & <dbl> & <lgl> & <int>\\\\\n",
       "\\hline\n",
       "\t1 & Nashs.Field     & 3.6 & 11 & Grassland & 4.1 & FALSE & 4\\\\\n",
       "\t2 & Silwood.Bottom  & 5.1 &  2 & Arable    & 5.2 & FALSE & 7\\\\\n",
       "\t3 & Nursery.Field   & 2.8 &  3 & Grassland & 4.3 & FALSE & 2\\\\\n",
       "\t4 & Rush.Meadow     & 2.4 &  5 & Meadow    & 4.9 &  TRUE & 5\\\\\n",
       "\t5 & Gunness.Thicket & 3.8 &  0 & Scrub     & 4.2 & FALSE & 6\\\\\n",
       "\t6 & Oak.Mead        & 3.1 &  2 & Grassland & 3.9 & FALSE & 2\\\\\n",
       "\\end{tabular}\n"
      ],
      "text/markdown": [
       "\n",
       "A data.frame: 6 × 7\n",
       "\n",
       "| <!--/--> | Field.Name &lt;chr&gt; | Area &lt;dbl&gt; | Slope &lt;int&gt; | Vegetation &lt;chr&gt; | Soil.pH &lt;dbl&gt; | Damp &lt;lgl&gt; | Worm.density &lt;int&gt; |\n",
       "|---|---|---|---|---|---|---|---|\n",
       "| 1 | Nashs.Field     | 3.6 | 11 | Grassland | 4.1 | FALSE | 4 |\n",
       "| 2 | Silwood.Bottom  | 5.1 |  2 | Arable    | 5.2 | FALSE | 7 |\n",
       "| 3 | Nursery.Field   | 2.8 |  3 | Grassland | 4.3 | FALSE | 2 |\n",
       "| 4 | Rush.Meadow     | 2.4 |  5 | Meadow    | 4.9 |  TRUE | 5 |\n",
       "| 5 | Gunness.Thicket | 3.8 |  0 | Scrub     | 4.2 | FALSE | 6 |\n",
       "| 6 | Oak.Mead        | 3.1 |  2 | Grassland | 3.9 | FALSE | 2 |\n",
       "\n"
      ],
      "text/plain": [
       "  Field.Name      Area Slope Vegetation Soil.pH Damp  Worm.density\n",
       "1 Nashs.Field     3.6  11    Grassland  4.1     FALSE 4           \n",
       "2 Silwood.Bottom  5.1   2    Arable     5.2     FALSE 7           \n",
       "3 Nursery.Field   2.8   3    Grassland  4.3     FALSE 2           \n",
       "4 Rush.Meadow     2.4   5    Meadow     4.9      TRUE 5           \n",
       "5 Gunness.Thicket 3.8   0    Scrub      4.2     FALSE 6           \n",
       "6 Oak.Mead        3.1   2    Grassland  3.9     FALSE 2           "
      ]
     },
     "metadata": {},
     "output_type": "display_data"
    }
   ],
   "source": [
    "head(worms)"
   ]
  },
  {
   "cell_type": "code",
   "execution_count": 8,
   "id": "ae76b94d-ee8a-4396-840a-12c21d20106a",
   "metadata": {},
   "outputs": [
    {
     "data": {
      "text/html": [
       "<table class=\"dataframe\">\n",
       "<caption>A data.frame: 6 × 7</caption>\n",
       "<thead>\n",
       "\t<tr><th></th><th scope=col>Field.Name</th><th scope=col>Area</th><th scope=col>Slope</th><th scope=col>Vegetation</th><th scope=col>Soil.pH</th><th scope=col>Damp</th><th scope=col>Worm.density</th></tr>\n",
       "\t<tr><th></th><th scope=col>&lt;chr&gt;</th><th scope=col>&lt;dbl&gt;</th><th scope=col>&lt;int&gt;</th><th scope=col>&lt;chr&gt;</th><th scope=col>&lt;dbl&gt;</th><th scope=col>&lt;lgl&gt;</th><th scope=col>&lt;int&gt;</th></tr>\n",
       "</thead>\n",
       "<tbody>\n",
       "\t<tr><th scope=row>4</th><td>Rush.Meadow    </td><td>2.4</td><td>5</td><td>Meadow   </td><td>4.9</td><td> TRUE</td><td>5</td></tr>\n",
       "\t<tr><th scope=row>5</th><td>Gunness.Thicket</td><td>3.8</td><td>0</td><td>Scrub    </td><td>4.2</td><td>FALSE</td><td>6</td></tr>\n",
       "\t<tr><th scope=row>10</th><td>Rookery.Slope  </td><td>1.5</td><td>4</td><td>Grassland</td><td>5.0</td><td> TRUE</td><td>7</td></tr>\n",
       "\t<tr><th scope=row>15</th><td>Pond.Field     </td><td>4.1</td><td>0</td><td>Meadow   </td><td>5.0</td><td> TRUE</td><td>6</td></tr>\n",
       "\t<tr><th scope=row>16</th><td>Water.Meadow   </td><td>3.9</td><td>0</td><td>Meadow   </td><td>4.9</td><td> TRUE</td><td>8</td></tr>\n",
       "\t<tr><th scope=row>18</th><td>Pound.Hill     </td><td>4.4</td><td>2</td><td>Arable   </td><td>4.5</td><td>FALSE</td><td>5</td></tr>\n",
       "</tbody>\n",
       "</table>\n"
      ],
      "text/latex": [
       "A data.frame: 6 × 7\n",
       "\\begin{tabular}{r|lllllll}\n",
       "  & Field.Name & Area & Slope & Vegetation & Soil.pH & Damp & Worm.density\\\\\n",
       "  & <chr> & <dbl> & <int> & <chr> & <dbl> & <lgl> & <int>\\\\\n",
       "\\hline\n",
       "\t4 & Rush.Meadow     & 2.4 & 5 & Meadow    & 4.9 &  TRUE & 5\\\\\n",
       "\t5 & Gunness.Thicket & 3.8 & 0 & Scrub     & 4.2 & FALSE & 6\\\\\n",
       "\t10 & Rookery.Slope   & 1.5 & 4 & Grassland & 5.0 &  TRUE & 7\\\\\n",
       "\t15 & Pond.Field      & 4.1 & 0 & Meadow    & 5.0 &  TRUE & 6\\\\\n",
       "\t16 & Water.Meadow    & 3.9 & 0 & Meadow    & 4.9 &  TRUE & 8\\\\\n",
       "\t18 & Pound.Hill      & 4.4 & 2 & Arable    & 4.5 & FALSE & 5\\\\\n",
       "\\end{tabular}\n"
      ],
      "text/markdown": [
       "\n",
       "A data.frame: 6 × 7\n",
       "\n",
       "| <!--/--> | Field.Name &lt;chr&gt; | Area &lt;dbl&gt; | Slope &lt;int&gt; | Vegetation &lt;chr&gt; | Soil.pH &lt;dbl&gt; | Damp &lt;lgl&gt; | Worm.density &lt;int&gt; |\n",
       "|---|---|---|---|---|---|---|---|\n",
       "| 4 | Rush.Meadow     | 2.4 | 5 | Meadow    | 4.9 |  TRUE | 5 |\n",
       "| 5 | Gunness.Thicket | 3.8 | 0 | Scrub     | 4.2 | FALSE | 6 |\n",
       "| 10 | Rookery.Slope   | 1.5 | 4 | Grassland | 5.0 |  TRUE | 7 |\n",
       "| 15 | Pond.Field      | 4.1 | 0 | Meadow    | 5.0 |  TRUE | 6 |\n",
       "| 16 | Water.Meadow    | 3.9 | 0 | Meadow    | 4.9 |  TRUE | 8 |\n",
       "| 18 | Pound.Hill      | 4.4 | 2 | Arable    | 4.5 | FALSE | 5 |\n",
       "\n"
      ],
      "text/plain": [
       "   Field.Name      Area Slope Vegetation Soil.pH Damp  Worm.density\n",
       "4  Rush.Meadow     2.4  5     Meadow     4.9      TRUE 5           \n",
       "5  Gunness.Thicket 3.8  0     Scrub      4.2     FALSE 6           \n",
       "10 Rookery.Slope   1.5  4     Grassland  5.0      TRUE 7           \n",
       "15 Pond.Field      4.1  0     Meadow     5.0      TRUE 6           \n",
       "16 Water.Meadow    3.9  0     Meadow     4.9      TRUE 8           \n",
       "18 Pound.Hill      4.4  2     Arable     4.5     FALSE 5           "
      ]
     },
     "metadata": {},
     "output_type": "display_data"
    }
   ],
   "source": [
    "worms[worms$Worm.density>median(worms$Worm.density) & worms$Soil.pH<5.2,]"
   ]
  },
  {
   "cell_type": "code",
   "execution_count": 10,
   "id": "0e01f0fd-d2fd-4007-b1c1-fe826a870e84",
   "metadata": {},
   "outputs": [
    {
     "data": {
      "text/html": [
       "<table class=\"dataframe\">\n",
       "<caption>A data.frame: 20 × 4</caption>\n",
       "<thead>\n",
       "\t<tr><th scope=col>Area</th><th scope=col>Slope</th><th scope=col>Soil.pH</th><th scope=col>Worm.density</th></tr>\n",
       "\t<tr><th scope=col>&lt;dbl&gt;</th><th scope=col>&lt;int&gt;</th><th scope=col>&lt;dbl&gt;</th><th scope=col>&lt;int&gt;</th></tr>\n",
       "</thead>\n",
       "<tbody>\n",
       "\t<tr><td>3.6</td><td>11</td><td>4.1</td><td>4</td></tr>\n",
       "\t<tr><td>5.1</td><td> 2</td><td>5.2</td><td>7</td></tr>\n",
       "\t<tr><td>2.8</td><td> 3</td><td>4.3</td><td>2</td></tr>\n",
       "\t<tr><td>2.4</td><td> 5</td><td>4.9</td><td>5</td></tr>\n",
       "\t<tr><td>3.8</td><td> 0</td><td>4.2</td><td>6</td></tr>\n",
       "\t<tr><td>3.1</td><td> 2</td><td>3.9</td><td>2</td></tr>\n",
       "\t<tr><td>3.5</td><td> 3</td><td>4.2</td><td>3</td></tr>\n",
       "\t<tr><td>2.1</td><td> 0</td><td>4.8</td><td>4</td></tr>\n",
       "\t<tr><td>1.9</td><td> 0</td><td>5.7</td><td>9</td></tr>\n",
       "\t<tr><td>1.5</td><td> 4</td><td>5.0</td><td>7</td></tr>\n",
       "\t<tr><td>2.9</td><td>10</td><td>5.2</td><td>8</td></tr>\n",
       "\t<tr><td>3.3</td><td> 1</td><td>4.1</td><td>1</td></tr>\n",
       "\t<tr><td>3.7</td><td> 2</td><td>4.0</td><td>2</td></tr>\n",
       "\t<tr><td>1.8</td><td> 6</td><td>3.8</td><td>0</td></tr>\n",
       "\t<tr><td>4.1</td><td> 0</td><td>5.0</td><td>6</td></tr>\n",
       "\t<tr><td>3.9</td><td> 0</td><td>4.9</td><td>8</td></tr>\n",
       "\t<tr><td>2.2</td><td> 8</td><td>4.7</td><td>4</td></tr>\n",
       "\t<tr><td>4.4</td><td> 2</td><td>4.5</td><td>5</td></tr>\n",
       "\t<tr><td>2.9</td><td> 1</td><td>3.5</td><td>1</td></tr>\n",
       "\t<tr><td>0.8</td><td>10</td><td>5.1</td><td>3</td></tr>\n",
       "</tbody>\n",
       "</table>\n"
      ],
      "text/latex": [
       "A data.frame: 20 × 4\n",
       "\\begin{tabular}{llll}\n",
       " Area & Slope & Soil.pH & Worm.density\\\\\n",
       " <dbl> & <int> & <dbl> & <int>\\\\\n",
       "\\hline\n",
       "\t 3.6 & 11 & 4.1 & 4\\\\\n",
       "\t 5.1 &  2 & 5.2 & 7\\\\\n",
       "\t 2.8 &  3 & 4.3 & 2\\\\\n",
       "\t 2.4 &  5 & 4.9 & 5\\\\\n",
       "\t 3.8 &  0 & 4.2 & 6\\\\\n",
       "\t 3.1 &  2 & 3.9 & 2\\\\\n",
       "\t 3.5 &  3 & 4.2 & 3\\\\\n",
       "\t 2.1 &  0 & 4.8 & 4\\\\\n",
       "\t 1.9 &  0 & 5.7 & 9\\\\\n",
       "\t 1.5 &  4 & 5.0 & 7\\\\\n",
       "\t 2.9 & 10 & 5.2 & 8\\\\\n",
       "\t 3.3 &  1 & 4.1 & 1\\\\\n",
       "\t 3.7 &  2 & 4.0 & 2\\\\\n",
       "\t 1.8 &  6 & 3.8 & 0\\\\\n",
       "\t 4.1 &  0 & 5.0 & 6\\\\\n",
       "\t 3.9 &  0 & 4.9 & 8\\\\\n",
       "\t 2.2 &  8 & 4.7 & 4\\\\\n",
       "\t 4.4 &  2 & 4.5 & 5\\\\\n",
       "\t 2.9 &  1 & 3.5 & 1\\\\\n",
       "\t 0.8 & 10 & 5.1 & 3\\\\\n",
       "\\end{tabular}\n"
      ],
      "text/markdown": [
       "\n",
       "A data.frame: 20 × 4\n",
       "\n",
       "| Area &lt;dbl&gt; | Slope &lt;int&gt; | Soil.pH &lt;dbl&gt; | Worm.density &lt;int&gt; |\n",
       "|---|---|---|---|\n",
       "| 3.6 | 11 | 4.1 | 4 |\n",
       "| 5.1 |  2 | 5.2 | 7 |\n",
       "| 2.8 |  3 | 4.3 | 2 |\n",
       "| 2.4 |  5 | 4.9 | 5 |\n",
       "| 3.8 |  0 | 4.2 | 6 |\n",
       "| 3.1 |  2 | 3.9 | 2 |\n",
       "| 3.5 |  3 | 4.2 | 3 |\n",
       "| 2.1 |  0 | 4.8 | 4 |\n",
       "| 1.9 |  0 | 5.7 | 9 |\n",
       "| 1.5 |  4 | 5.0 | 7 |\n",
       "| 2.9 | 10 | 5.2 | 8 |\n",
       "| 3.3 |  1 | 4.1 | 1 |\n",
       "| 3.7 |  2 | 4.0 | 2 |\n",
       "| 1.8 |  6 | 3.8 | 0 |\n",
       "| 4.1 |  0 | 5.0 | 6 |\n",
       "| 3.9 |  0 | 4.9 | 8 |\n",
       "| 2.2 |  8 | 4.7 | 4 |\n",
       "| 4.4 |  2 | 4.5 | 5 |\n",
       "| 2.9 |  1 | 3.5 | 1 |\n",
       "| 0.8 | 10 | 5.1 | 3 |\n",
       "\n"
      ],
      "text/plain": [
       "   Area Slope Soil.pH Worm.density\n",
       "1  3.6  11    4.1     4           \n",
       "2  5.1   2    5.2     7           \n",
       "3  2.8   3    4.3     2           \n",
       "4  2.4   5    4.9     5           \n",
       "5  3.8   0    4.2     6           \n",
       "6  3.1   2    3.9     2           \n",
       "7  3.5   3    4.2     3           \n",
       "8  2.1   0    4.8     4           \n",
       "9  1.9   0    5.7     9           \n",
       "10 1.5   4    5.0     7           \n",
       "11 2.9  10    5.2     8           \n",
       "12 3.3   1    4.1     1           \n",
       "13 3.7   2    4.0     2           \n",
       "14 1.8   6    3.8     0           \n",
       "15 4.1   0    5.0     6           \n",
       "16 3.9   0    4.9     8           \n",
       "17 2.2   8    4.7     4           \n",
       "18 4.4   2    4.5     5           \n",
       "19 2.9   1    3.5     1           \n",
       "20 0.8  10    5.1     3           "
      ]
     },
     "metadata": {},
     "output_type": "display_data"
    }
   ],
   "source": [
    "worms[,sapply(worms,is.numeric)]"
   ]
  },
  {
   "cell_type": "code",
   "execution_count": 11,
   "id": "d6d1d97e-eb0b-4d57-8ad3-88c7d6fbac7a",
   "metadata": {},
   "outputs": [
    {
     "data": {
      "text/html": [
       "<style>\n",
       ".list-inline {list-style: none; margin:0; padding: 0}\n",
       ".list-inline>li {display: inline-block}\n",
       ".list-inline>li:not(:last-child)::after {content: \"\\00b7\"; padding: 0 .5ex}\n",
       "</style>\n",
       "<ol class=list-inline><li>1</li><li>2</li><li>3</li></ol>\n"
      ],
      "text/latex": [
       "\\begin{enumerate*}\n",
       "\\item 1\n",
       "\\item 2\n",
       "\\item 3\n",
       "\\end{enumerate*}\n"
      ],
      "text/markdown": [
       "1. 1\n",
       "2. 2\n",
       "3. 3\n",
       "\n",
       "\n"
      ],
      "text/plain": [
       "[1] 1 2 3"
      ]
     },
     "metadata": {},
     "output_type": "display_data"
    }
   ],
   "source": [
    "1:3"
   ]
  },
  {
   "cell_type": "code",
   "execution_count": 12,
   "id": "2a1b0506-a588-4c38-a9d0-f2a85c54700a",
   "metadata": {},
   "outputs": [
    {
     "data": {
      "text/html": [
       "<table class=\"dataframe\">\n",
       "<caption>A data.frame: 10 × 7</caption>\n",
       "<thead>\n",
       "\t<tr><th></th><th scope=col>Field.Name</th><th scope=col>Area</th><th scope=col>Slope</th><th scope=col>Vegetation</th><th scope=col>Soil.pH</th><th scope=col>Damp</th><th scope=col>Worm.density</th></tr>\n",
       "\t<tr><th></th><th scope=col>&lt;chr&gt;</th><th scope=col>&lt;dbl&gt;</th><th scope=col>&lt;int&gt;</th><th scope=col>&lt;chr&gt;</th><th scope=col>&lt;dbl&gt;</th><th scope=col>&lt;lgl&gt;</th><th scope=col>&lt;int&gt;</th></tr>\n",
       "</thead>\n",
       "<tbody>\n",
       "\t<tr><th scope=row>1</th><td>Nashs.Field    </td><td>3.6</td><td>11</td><td>Grassland</td><td>4.1</td><td>FALSE</td><td>4</td></tr>\n",
       "\t<tr><th scope=row>2</th><td>Silwood.Bottom </td><td>5.1</td><td> 2</td><td>Arable   </td><td>5.2</td><td>FALSE</td><td>7</td></tr>\n",
       "\t<tr><th scope=row>3</th><td>Nursery.Field  </td><td>2.8</td><td> 3</td><td>Grassland</td><td>4.3</td><td>FALSE</td><td>2</td></tr>\n",
       "\t<tr><th scope=row>4</th><td>Rush.Meadow    </td><td>2.4</td><td> 5</td><td>Meadow   </td><td>4.9</td><td> TRUE</td><td>5</td></tr>\n",
       "\t<tr><th scope=row>5</th><td>Gunness.Thicket</td><td>3.8</td><td> 0</td><td>Scrub    </td><td>4.2</td><td>FALSE</td><td>6</td></tr>\n",
       "\t<tr><th scope=row>16</th><td>Water.Meadow   </td><td>3.9</td><td> 0</td><td>Meadow   </td><td>4.9</td><td> TRUE</td><td>8</td></tr>\n",
       "\t<tr><th scope=row>17</th><td>Cheapside      </td><td>2.2</td><td> 8</td><td>Scrub    </td><td>4.7</td><td> TRUE</td><td>4</td></tr>\n",
       "\t<tr><th scope=row>18</th><td>Pound.Hill     </td><td>4.4</td><td> 2</td><td>Arable   </td><td>4.5</td><td>FALSE</td><td>5</td></tr>\n",
       "\t<tr><th scope=row>19</th><td>Gravel.Pit     </td><td>2.9</td><td> 1</td><td>Grassland</td><td>3.5</td><td>FALSE</td><td>1</td></tr>\n",
       "\t<tr><th scope=row>20</th><td>Farm.Wood      </td><td>0.8</td><td>10</td><td>Scrub    </td><td>5.1</td><td> TRUE</td><td>3</td></tr>\n",
       "</tbody>\n",
       "</table>\n"
      ],
      "text/latex": [
       "A data.frame: 10 × 7\n",
       "\\begin{tabular}{r|lllllll}\n",
       "  & Field.Name & Area & Slope & Vegetation & Soil.pH & Damp & Worm.density\\\\\n",
       "  & <chr> & <dbl> & <int> & <chr> & <dbl> & <lgl> & <int>\\\\\n",
       "\\hline\n",
       "\t1 & Nashs.Field     & 3.6 & 11 & Grassland & 4.1 & FALSE & 4\\\\\n",
       "\t2 & Silwood.Bottom  & 5.1 &  2 & Arable    & 5.2 & FALSE & 7\\\\\n",
       "\t3 & Nursery.Field   & 2.8 &  3 & Grassland & 4.3 & FALSE & 2\\\\\n",
       "\t4 & Rush.Meadow     & 2.4 &  5 & Meadow    & 4.9 &  TRUE & 5\\\\\n",
       "\t5 & Gunness.Thicket & 3.8 &  0 & Scrub     & 4.2 & FALSE & 6\\\\\n",
       "\t16 & Water.Meadow    & 3.9 &  0 & Meadow    & 4.9 &  TRUE & 8\\\\\n",
       "\t17 & Cheapside       & 2.2 &  8 & Scrub     & 4.7 &  TRUE & 4\\\\\n",
       "\t18 & Pound.Hill      & 4.4 &  2 & Arable    & 4.5 & FALSE & 5\\\\\n",
       "\t19 & Gravel.Pit      & 2.9 &  1 & Grassland & 3.5 & FALSE & 1\\\\\n",
       "\t20 & Farm.Wood       & 0.8 & 10 & Scrub     & 5.1 &  TRUE & 3\\\\\n",
       "\\end{tabular}\n"
      ],
      "text/markdown": [
       "\n",
       "A data.frame: 10 × 7\n",
       "\n",
       "| <!--/--> | Field.Name &lt;chr&gt; | Area &lt;dbl&gt; | Slope &lt;int&gt; | Vegetation &lt;chr&gt; | Soil.pH &lt;dbl&gt; | Damp &lt;lgl&gt; | Worm.density &lt;int&gt; |\n",
       "|---|---|---|---|---|---|---|---|\n",
       "| 1 | Nashs.Field     | 3.6 | 11 | Grassland | 4.1 | FALSE | 4 |\n",
       "| 2 | Silwood.Bottom  | 5.1 |  2 | Arable    | 5.2 | FALSE | 7 |\n",
       "| 3 | Nursery.Field   | 2.8 |  3 | Grassland | 4.3 | FALSE | 2 |\n",
       "| 4 | Rush.Meadow     | 2.4 |  5 | Meadow    | 4.9 |  TRUE | 5 |\n",
       "| 5 | Gunness.Thicket | 3.8 |  0 | Scrub     | 4.2 | FALSE | 6 |\n",
       "| 16 | Water.Meadow    | 3.9 |  0 | Meadow    | 4.9 |  TRUE | 8 |\n",
       "| 17 | Cheapside       | 2.2 |  8 | Scrub     | 4.7 |  TRUE | 4 |\n",
       "| 18 | Pound.Hill      | 4.4 |  2 | Arable    | 4.5 | FALSE | 5 |\n",
       "| 19 | Gravel.Pit      | 2.9 |  1 | Grassland | 3.5 | FALSE | 1 |\n",
       "| 20 | Farm.Wood       | 0.8 | 10 | Scrub     | 5.1 |  TRUE | 3 |\n",
       "\n"
      ],
      "text/plain": [
       "   Field.Name      Area Slope Vegetation Soil.pH Damp  Worm.density\n",
       "1  Nashs.Field     3.6  11    Grassland  4.1     FALSE 4           \n",
       "2  Silwood.Bottom  5.1   2    Arable     5.2     FALSE 7           \n",
       "3  Nursery.Field   2.8   3    Grassland  4.3     FALSE 2           \n",
       "4  Rush.Meadow     2.4   5    Meadow     4.9      TRUE 5           \n",
       "5  Gunness.Thicket 3.8   0    Scrub      4.2     FALSE 6           \n",
       "16 Water.Meadow    3.9   0    Meadow     4.9      TRUE 8           \n",
       "17 Cheapside       2.2   8    Scrub      4.7      TRUE 4           \n",
       "18 Pound.Hill      4.4   2    Arable     4.5     FALSE 5           \n",
       "19 Gravel.Pit      2.9   1    Grassland  3.5     FALSE 1           \n",
       "20 Farm.Wood       0.8  10    Scrub      5.1      TRUE 3           "
      ]
     },
     "metadata": {},
     "output_type": "display_data"
    }
   ],
   "source": [
    "worms[-(6:15),]"
   ]
  },
  {
   "cell_type": "code",
   "execution_count": 15,
   "id": "f12c302a-1f84-4f3b-af8f-589820847def",
   "metadata": {},
   "outputs": [
    {
     "data": {
      "text/html": [
       "<style>\n",
       ".list-inline {list-style: none; margin:0; padding: 0}\n",
       ".list-inline>li {display: inline-block}\n",
       ".list-inline>li:not(:last-child)::after {content: \"\\00b7\"; padding: 0 .5ex}\n",
       "</style>\n",
       "<ol class=list-inline><li>FALSE</li><li>FALSE</li><li>FALSE</li><li>TRUE</li><li>FALSE</li><li>FALSE</li><li>FALSE</li><li>FALSE</li><li>FALSE</li><li>TRUE</li><li>FALSE</li><li>FALSE</li><li>FALSE</li><li>FALSE</li><li>TRUE</li><li>TRUE</li><li>TRUE</li><li>FALSE</li><li>FALSE</li><li>TRUE</li></ol>\n"
      ],
      "text/latex": [
       "\\begin{enumerate*}\n",
       "\\item FALSE\n",
       "\\item FALSE\n",
       "\\item FALSE\n",
       "\\item TRUE\n",
       "\\item FALSE\n",
       "\\item FALSE\n",
       "\\item FALSE\n",
       "\\item FALSE\n",
       "\\item FALSE\n",
       "\\item TRUE\n",
       "\\item FALSE\n",
       "\\item FALSE\n",
       "\\item FALSE\n",
       "\\item FALSE\n",
       "\\item TRUE\n",
       "\\item TRUE\n",
       "\\item TRUE\n",
       "\\item FALSE\n",
       "\\item FALSE\n",
       "\\item TRUE\n",
       "\\end{enumerate*}\n"
      ],
      "text/markdown": [
       "1. FALSE\n",
       "2. FALSE\n",
       "3. FALSE\n",
       "4. TRUE\n",
       "5. FALSE\n",
       "6. FALSE\n",
       "7. FALSE\n",
       "8. FALSE\n",
       "9. FALSE\n",
       "10. TRUE\n",
       "11. FALSE\n",
       "12. FALSE\n",
       "13. FALSE\n",
       "14. FALSE\n",
       "15. TRUE\n",
       "16. TRUE\n",
       "17. TRUE\n",
       "18. FALSE\n",
       "19. FALSE\n",
       "20. TRUE\n",
       "\n",
       "\n"
      ],
      "text/plain": [
       " [1] FALSE FALSE FALSE  TRUE FALSE FALSE FALSE FALSE FALSE  TRUE FALSE FALSE\n",
       "[13] FALSE FALSE  TRUE  TRUE  TRUE FALSE FALSE  TRUE"
      ]
     },
     "metadata": {},
     "output_type": "display_data"
    }
   ],
   "source": [
    "worms$Damp"
   ]
  },
  {
   "cell_type": "code",
   "execution_count": 14,
   "id": "bd4589df-6316-4927-a49d-389cf022e332",
   "metadata": {},
   "outputs": [
    {
     "data": {
      "text/html": [
       "<style>\n",
       ".list-inline {list-style: none; margin:0; padding: 0}\n",
       ".list-inline>li {display: inline-block}\n",
       ".list-inline>li:not(:last-child)::after {content: \"\\00b7\"; padding: 0 .5ex}\n",
       "</style>\n",
       "<ol class=list-inline><li>TRUE</li><li>TRUE</li><li>TRUE</li><li>FALSE</li><li>TRUE</li><li>TRUE</li><li>TRUE</li><li>TRUE</li><li>TRUE</li><li>FALSE</li><li>TRUE</li><li>TRUE</li><li>TRUE</li><li>TRUE</li><li>FALSE</li><li>FALSE</li><li>FALSE</li><li>TRUE</li><li>TRUE</li><li>FALSE</li></ol>\n"
      ],
      "text/latex": [
       "\\begin{enumerate*}\n",
       "\\item TRUE\n",
       "\\item TRUE\n",
       "\\item TRUE\n",
       "\\item FALSE\n",
       "\\item TRUE\n",
       "\\item TRUE\n",
       "\\item TRUE\n",
       "\\item TRUE\n",
       "\\item TRUE\n",
       "\\item FALSE\n",
       "\\item TRUE\n",
       "\\item TRUE\n",
       "\\item TRUE\n",
       "\\item TRUE\n",
       "\\item FALSE\n",
       "\\item FALSE\n",
       "\\item FALSE\n",
       "\\item TRUE\n",
       "\\item TRUE\n",
       "\\item FALSE\n",
       "\\end{enumerate*}\n"
      ],
      "text/markdown": [
       "1. TRUE\n",
       "2. TRUE\n",
       "3. TRUE\n",
       "4. FALSE\n",
       "5. TRUE\n",
       "6. TRUE\n",
       "7. TRUE\n",
       "8. TRUE\n",
       "9. TRUE\n",
       "10. FALSE\n",
       "11. TRUE\n",
       "12. TRUE\n",
       "13. TRUE\n",
       "14. TRUE\n",
       "15. FALSE\n",
       "16. FALSE\n",
       "17. FALSE\n",
       "18. TRUE\n",
       "19. TRUE\n",
       "20. FALSE\n",
       "\n",
       "\n"
      ],
      "text/plain": [
       " [1]  TRUE  TRUE  TRUE FALSE  TRUE  TRUE  TRUE  TRUE  TRUE FALSE  TRUE  TRUE\n",
       "[13]  TRUE  TRUE FALSE FALSE FALSE  TRUE  TRUE FALSE"
      ]
     },
     "metadata": {},
     "output_type": "display_data"
    }
   ],
   "source": [
    "worms$Damp == FALSE"
   ]
  },
  {
   "cell_type": "code",
   "execution_count": 13,
   "id": "ea04cd04-ad32-465d-b0b3-a9deb47bf9d4",
   "metadata": {},
   "outputs": [
    {
     "data": {
      "text/html": [
       "<table class=\"dataframe\">\n",
       "<caption>A data.frame: 19 × 7</caption>\n",
       "<thead>\n",
       "\t<tr><th></th><th scope=col>Field.Name</th><th scope=col>Area</th><th scope=col>Slope</th><th scope=col>Vegetation</th><th scope=col>Soil.pH</th><th scope=col>Damp</th><th scope=col>Worm.density</th></tr>\n",
       "\t<tr><th></th><th scope=col>&lt;chr&gt;</th><th scope=col>&lt;dbl&gt;</th><th scope=col>&lt;int&gt;</th><th scope=col>&lt;chr&gt;</th><th scope=col>&lt;dbl&gt;</th><th scope=col>&lt;lgl&gt;</th><th scope=col>&lt;int&gt;</th></tr>\n",
       "</thead>\n",
       "<tbody>\n",
       "\t<tr><th scope=row>2</th><td>Silwood.Bottom   </td><td>5.1</td><td> 2</td><td>Arable   </td><td>5.2</td><td>FALSE</td><td>7</td></tr>\n",
       "\t<tr><th scope=row>3</th><td>Nursery.Field    </td><td>2.8</td><td> 3</td><td>Grassland</td><td>4.3</td><td>FALSE</td><td>2</td></tr>\n",
       "\t<tr><th scope=row>4</th><td>Rush.Meadow      </td><td>2.4</td><td> 5</td><td>Meadow   </td><td>4.9</td><td> TRUE</td><td>5</td></tr>\n",
       "\t<tr><th scope=row>5</th><td>Gunness.Thicket  </td><td>3.8</td><td> 0</td><td>Scrub    </td><td>4.2</td><td>FALSE</td><td>6</td></tr>\n",
       "\t<tr><th scope=row>6</th><td>Oak.Mead         </td><td>3.1</td><td> 2</td><td>Grassland</td><td>3.9</td><td>FALSE</td><td>2</td></tr>\n",
       "\t<tr><th scope=row>7</th><td>Church.Field     </td><td>3.5</td><td> 3</td><td>Grassland</td><td>4.2</td><td>FALSE</td><td>3</td></tr>\n",
       "\t<tr><th scope=row>8</th><td>Ashurst          </td><td>2.1</td><td> 0</td><td>Arable   </td><td>4.8</td><td>FALSE</td><td>4</td></tr>\n",
       "\t<tr><th scope=row>9</th><td>The.Orchard      </td><td>1.9</td><td> 0</td><td>Orchard  </td><td>5.7</td><td>FALSE</td><td>9</td></tr>\n",
       "\t<tr><th scope=row>10</th><td>Rookery.Slope    </td><td>1.5</td><td> 4</td><td>Grassland</td><td>5.0</td><td> TRUE</td><td>7</td></tr>\n",
       "\t<tr><th scope=row>11</th><td>Garden.Wood      </td><td>2.9</td><td>10</td><td>Scrub    </td><td>5.2</td><td>FALSE</td><td>8</td></tr>\n",
       "\t<tr><th scope=row>12</th><td>North.Gravel     </td><td>3.3</td><td> 1</td><td>Grassland</td><td>4.1</td><td>FALSE</td><td>1</td></tr>\n",
       "\t<tr><th scope=row>13</th><td>South.Gravel     </td><td>3.7</td><td> 2</td><td>Grassland</td><td>4.0</td><td>FALSE</td><td>2</td></tr>\n",
       "\t<tr><th scope=row>14</th><td>Observatory.Ridge</td><td>1.8</td><td> 6</td><td>Grassland</td><td>3.8</td><td>FALSE</td><td>0</td></tr>\n",
       "\t<tr><th scope=row>15</th><td>Pond.Field       </td><td>4.1</td><td> 0</td><td>Meadow   </td><td>5.0</td><td> TRUE</td><td>6</td></tr>\n",
       "\t<tr><th scope=row>16</th><td>Water.Meadow     </td><td>3.9</td><td> 0</td><td>Meadow   </td><td>4.9</td><td> TRUE</td><td>8</td></tr>\n",
       "\t<tr><th scope=row>17</th><td>Cheapside        </td><td>2.2</td><td> 8</td><td>Scrub    </td><td>4.7</td><td> TRUE</td><td>4</td></tr>\n",
       "\t<tr><th scope=row>18</th><td>Pound.Hill       </td><td>4.4</td><td> 2</td><td>Arable   </td><td>4.5</td><td>FALSE</td><td>5</td></tr>\n",
       "\t<tr><th scope=row>19</th><td>Gravel.Pit       </td><td>2.9</td><td> 1</td><td>Grassland</td><td>3.5</td><td>FALSE</td><td>1</td></tr>\n",
       "\t<tr><th scope=row>20</th><td>Farm.Wood        </td><td>0.8</td><td>10</td><td>Scrub    </td><td>5.1</td><td> TRUE</td><td>3</td></tr>\n",
       "</tbody>\n",
       "</table>\n"
      ],
      "text/latex": [
       "A data.frame: 19 × 7\n",
       "\\begin{tabular}{r|lllllll}\n",
       "  & Field.Name & Area & Slope & Vegetation & Soil.pH & Damp & Worm.density\\\\\n",
       "  & <chr> & <dbl> & <int> & <chr> & <dbl> & <lgl> & <int>\\\\\n",
       "\\hline\n",
       "\t2 & Silwood.Bottom    & 5.1 &  2 & Arable    & 5.2 & FALSE & 7\\\\\n",
       "\t3 & Nursery.Field     & 2.8 &  3 & Grassland & 4.3 & FALSE & 2\\\\\n",
       "\t4 & Rush.Meadow       & 2.4 &  5 & Meadow    & 4.9 &  TRUE & 5\\\\\n",
       "\t5 & Gunness.Thicket   & 3.8 &  0 & Scrub     & 4.2 & FALSE & 6\\\\\n",
       "\t6 & Oak.Mead          & 3.1 &  2 & Grassland & 3.9 & FALSE & 2\\\\\n",
       "\t7 & Church.Field      & 3.5 &  3 & Grassland & 4.2 & FALSE & 3\\\\\n",
       "\t8 & Ashurst           & 2.1 &  0 & Arable    & 4.8 & FALSE & 4\\\\\n",
       "\t9 & The.Orchard       & 1.9 &  0 & Orchard   & 5.7 & FALSE & 9\\\\\n",
       "\t10 & Rookery.Slope     & 1.5 &  4 & Grassland & 5.0 &  TRUE & 7\\\\\n",
       "\t11 & Garden.Wood       & 2.9 & 10 & Scrub     & 5.2 & FALSE & 8\\\\\n",
       "\t12 & North.Gravel      & 3.3 &  1 & Grassland & 4.1 & FALSE & 1\\\\\n",
       "\t13 & South.Gravel      & 3.7 &  2 & Grassland & 4.0 & FALSE & 2\\\\\n",
       "\t14 & Observatory.Ridge & 1.8 &  6 & Grassland & 3.8 & FALSE & 0\\\\\n",
       "\t15 & Pond.Field        & 4.1 &  0 & Meadow    & 5.0 &  TRUE & 6\\\\\n",
       "\t16 & Water.Meadow      & 3.9 &  0 & Meadow    & 4.9 &  TRUE & 8\\\\\n",
       "\t17 & Cheapside         & 2.2 &  8 & Scrub     & 4.7 &  TRUE & 4\\\\\n",
       "\t18 & Pound.Hill        & 4.4 &  2 & Arable    & 4.5 & FALSE & 5\\\\\n",
       "\t19 & Gravel.Pit        & 2.9 &  1 & Grassland & 3.5 & FALSE & 1\\\\\n",
       "\t20 & Farm.Wood         & 0.8 & 10 & Scrub     & 5.1 &  TRUE & 3\\\\\n",
       "\\end{tabular}\n"
      ],
      "text/markdown": [
       "\n",
       "A data.frame: 19 × 7\n",
       "\n",
       "| <!--/--> | Field.Name &lt;chr&gt; | Area &lt;dbl&gt; | Slope &lt;int&gt; | Vegetation &lt;chr&gt; | Soil.pH &lt;dbl&gt; | Damp &lt;lgl&gt; | Worm.density &lt;int&gt; |\n",
       "|---|---|---|---|---|---|---|---|\n",
       "| 2 | Silwood.Bottom    | 5.1 |  2 | Arable    | 5.2 | FALSE | 7 |\n",
       "| 3 | Nursery.Field     | 2.8 |  3 | Grassland | 4.3 | FALSE | 2 |\n",
       "| 4 | Rush.Meadow       | 2.4 |  5 | Meadow    | 4.9 |  TRUE | 5 |\n",
       "| 5 | Gunness.Thicket   | 3.8 |  0 | Scrub     | 4.2 | FALSE | 6 |\n",
       "| 6 | Oak.Mead          | 3.1 |  2 | Grassland | 3.9 | FALSE | 2 |\n",
       "| 7 | Church.Field      | 3.5 |  3 | Grassland | 4.2 | FALSE | 3 |\n",
       "| 8 | Ashurst           | 2.1 |  0 | Arable    | 4.8 | FALSE | 4 |\n",
       "| 9 | The.Orchard       | 1.9 |  0 | Orchard   | 5.7 | FALSE | 9 |\n",
       "| 10 | Rookery.Slope     | 1.5 |  4 | Grassland | 5.0 |  TRUE | 7 |\n",
       "| 11 | Garden.Wood       | 2.9 | 10 | Scrub     | 5.2 | FALSE | 8 |\n",
       "| 12 | North.Gravel      | 3.3 |  1 | Grassland | 4.1 | FALSE | 1 |\n",
       "| 13 | South.Gravel      | 3.7 |  2 | Grassland | 4.0 | FALSE | 2 |\n",
       "| 14 | Observatory.Ridge | 1.8 |  6 | Grassland | 3.8 | FALSE | 0 |\n",
       "| 15 | Pond.Field        | 4.1 |  0 | Meadow    | 5.0 |  TRUE | 6 |\n",
       "| 16 | Water.Meadow      | 3.9 |  0 | Meadow    | 4.9 |  TRUE | 8 |\n",
       "| 17 | Cheapside         | 2.2 |  8 | Scrub     | 4.7 |  TRUE | 4 |\n",
       "| 18 | Pound.Hill        | 4.4 |  2 | Arable    | 4.5 | FALSE | 5 |\n",
       "| 19 | Gravel.Pit        | 2.9 |  1 | Grassland | 3.5 | FALSE | 1 |\n",
       "| 20 | Farm.Wood         | 0.8 | 10 | Scrub     | 5.1 |  TRUE | 3 |\n",
       "\n"
      ],
      "text/plain": [
       "   Field.Name        Area Slope Vegetation Soil.pH Damp  Worm.density\n",
       "2  Silwood.Bottom    5.1   2    Arable     5.2     FALSE 7           \n",
       "3  Nursery.Field     2.8   3    Grassland  4.3     FALSE 2           \n",
       "4  Rush.Meadow       2.4   5    Meadow     4.9      TRUE 5           \n",
       "5  Gunness.Thicket   3.8   0    Scrub      4.2     FALSE 6           \n",
       "6  Oak.Mead          3.1   2    Grassland  3.9     FALSE 2           \n",
       "7  Church.Field      3.5   3    Grassland  4.2     FALSE 3           \n",
       "8  Ashurst           2.1   0    Arable     4.8     FALSE 4           \n",
       "9  The.Orchard       1.9   0    Orchard    5.7     FALSE 9           \n",
       "10 Rookery.Slope     1.5   4    Grassland  5.0      TRUE 7           \n",
       "11 Garden.Wood       2.9  10    Scrub      5.2     FALSE 8           \n",
       "12 North.Gravel      3.3   1    Grassland  4.1     FALSE 1           \n",
       "13 South.Gravel      3.7   2    Grassland  4.0     FALSE 2           \n",
       "14 Observatory.Ridge 1.8   6    Grassland  3.8     FALSE 0           \n",
       "15 Pond.Field        4.1   0    Meadow     5.0      TRUE 6           \n",
       "16 Water.Meadow      3.9   0    Meadow     4.9      TRUE 8           \n",
       "17 Cheapside         2.2   8    Scrub      4.7      TRUE 4           \n",
       "18 Pound.Hill        4.4   2    Arable     4.5     FALSE 5           \n",
       "19 Gravel.Pit        2.9   1    Grassland  3.5     FALSE 1           \n",
       "20 Farm.Wood         0.8  10    Scrub      5.1      TRUE 3           "
      ]
     },
     "metadata": {},
     "output_type": "display_data"
    }
   ],
   "source": [
    "worms[-(worms$Damp == FALSE), ]\n"
   ]
  },
  {
   "cell_type": "code",
   "execution_count": 16,
   "id": "a77b6ee8-6f94-431f-85b9-c12145d81c04",
   "metadata": {},
   "outputs": [
    {
     "data": {
      "text/html": [
       "<table class=\"dataframe\">\n",
       "<caption>A data.frame: 6 × 7</caption>\n",
       "<thead>\n",
       "\t<tr><th></th><th scope=col>Field.Name</th><th scope=col>Area</th><th scope=col>Slope</th><th scope=col>Vegetation</th><th scope=col>Soil.pH</th><th scope=col>Damp</th><th scope=col>Worm.density</th></tr>\n",
       "\t<tr><th></th><th scope=col>&lt;chr&gt;</th><th scope=col>&lt;dbl&gt;</th><th scope=col>&lt;int&gt;</th><th scope=col>&lt;chr&gt;</th><th scope=col>&lt;dbl&gt;</th><th scope=col>&lt;lgl&gt;</th><th scope=col>&lt;int&gt;</th></tr>\n",
       "</thead>\n",
       "<tbody>\n",
       "\t<tr><th scope=row>4</th><td>Rush.Meadow  </td><td>2.4</td><td> 5</td><td>Meadow   </td><td>4.9</td><td>TRUE</td><td>5</td></tr>\n",
       "\t<tr><th scope=row>10</th><td>Rookery.Slope</td><td>1.5</td><td> 4</td><td>Grassland</td><td>5.0</td><td>TRUE</td><td>7</td></tr>\n",
       "\t<tr><th scope=row>15</th><td>Pond.Field   </td><td>4.1</td><td> 0</td><td>Meadow   </td><td>5.0</td><td>TRUE</td><td>6</td></tr>\n",
       "\t<tr><th scope=row>16</th><td>Water.Meadow </td><td>3.9</td><td> 0</td><td>Meadow   </td><td>4.9</td><td>TRUE</td><td>8</td></tr>\n",
       "\t<tr><th scope=row>17</th><td>Cheapside    </td><td>2.2</td><td> 8</td><td>Scrub    </td><td>4.7</td><td>TRUE</td><td>4</td></tr>\n",
       "\t<tr><th scope=row>20</th><td>Farm.Wood    </td><td>0.8</td><td>10</td><td>Scrub    </td><td>5.1</td><td>TRUE</td><td>3</td></tr>\n",
       "</tbody>\n",
       "</table>\n"
      ],
      "text/latex": [
       "A data.frame: 6 × 7\n",
       "\\begin{tabular}{r|lllllll}\n",
       "  & Field.Name & Area & Slope & Vegetation & Soil.pH & Damp & Worm.density\\\\\n",
       "  & <chr> & <dbl> & <int> & <chr> & <dbl> & <lgl> & <int>\\\\\n",
       "\\hline\n",
       "\t4 & Rush.Meadow   & 2.4 &  5 & Meadow    & 4.9 & TRUE & 5\\\\\n",
       "\t10 & Rookery.Slope & 1.5 &  4 & Grassland & 5.0 & TRUE & 7\\\\\n",
       "\t15 & Pond.Field    & 4.1 &  0 & Meadow    & 5.0 & TRUE & 6\\\\\n",
       "\t16 & Water.Meadow  & 3.9 &  0 & Meadow    & 4.9 & TRUE & 8\\\\\n",
       "\t17 & Cheapside     & 2.2 &  8 & Scrub     & 4.7 & TRUE & 4\\\\\n",
       "\t20 & Farm.Wood     & 0.8 & 10 & Scrub     & 5.1 & TRUE & 3\\\\\n",
       "\\end{tabular}\n"
      ],
      "text/markdown": [
       "\n",
       "A data.frame: 6 × 7\n",
       "\n",
       "| <!--/--> | Field.Name &lt;chr&gt; | Area &lt;dbl&gt; | Slope &lt;int&gt; | Vegetation &lt;chr&gt; | Soil.pH &lt;dbl&gt; | Damp &lt;lgl&gt; | Worm.density &lt;int&gt; |\n",
       "|---|---|---|---|---|---|---|---|\n",
       "| 4 | Rush.Meadow   | 2.4 |  5 | Meadow    | 4.9 | TRUE | 5 |\n",
       "| 10 | Rookery.Slope | 1.5 |  4 | Grassland | 5.0 | TRUE | 7 |\n",
       "| 15 | Pond.Field    | 4.1 |  0 | Meadow    | 5.0 | TRUE | 6 |\n",
       "| 16 | Water.Meadow  | 3.9 |  0 | Meadow    | 4.9 | TRUE | 8 |\n",
       "| 17 | Cheapside     | 2.2 |  8 | Scrub     | 4.7 | TRUE | 4 |\n",
       "| 20 | Farm.Wood     | 0.8 | 10 | Scrub     | 5.1 | TRUE | 3 |\n",
       "\n"
      ],
      "text/plain": [
       "   Field.Name    Area Slope Vegetation Soil.pH Damp Worm.density\n",
       "4  Rush.Meadow   2.4   5    Meadow     4.9     TRUE 5           \n",
       "10 Rookery.Slope 1.5   4    Grassland  5.0     TRUE 7           \n",
       "15 Pond.Field    4.1   0    Meadow     5.0     TRUE 6           \n",
       "16 Water.Meadow  3.9   0    Meadow     4.9     TRUE 8           \n",
       "17 Cheapside     2.2   8    Scrub      4.7     TRUE 4           \n",
       "20 Farm.Wood     0.8  10    Scrub      5.1     TRUE 3           "
      ]
     },
     "metadata": {},
     "output_type": "display_data"
    }
   ],
   "source": [
    "worms[worms$Damp == \n",
    "TRUE\n",
    ",]"
   ]
  },
  {
   "cell_type": "code",
   "execution_count": 18,
   "id": "c0af1281-39aa-47cf-b8b0-6cf5dec4d2dd",
   "metadata": {},
   "outputs": [
    {
     "data": {
      "text/html": [
       "<table class=\"dataframe\">\n",
       "<caption>A data.frame: 11 × 7</caption>\n",
       "<thead>\n",
       "\t<tr><th></th><th scope=col>Field.Name</th><th scope=col>Area</th><th scope=col>Slope</th><th scope=col>Vegetation</th><th scope=col>Soil.pH</th><th scope=col>Damp</th><th scope=col>Worm.density</th></tr>\n",
       "\t<tr><th></th><th scope=col>&lt;chr&gt;</th><th scope=col>&lt;dbl&gt;</th><th scope=col>&lt;int&gt;</th><th scope=col>&lt;chr&gt;</th><th scope=col>&lt;dbl&gt;</th><th scope=col>&lt;lgl&gt;</th><th scope=col>&lt;int&gt;</th></tr>\n",
       "</thead>\n",
       "<tbody>\n",
       "\t<tr><th scope=row>2</th><td>Silwood.Bottom </td><td>5.1</td><td> 2</td><td>Arable </td><td>5.2</td><td>FALSE</td><td>7</td></tr>\n",
       "\t<tr><th scope=row>4</th><td>Rush.Meadow    </td><td>2.4</td><td> 5</td><td>Meadow </td><td>4.9</td><td> TRUE</td><td>5</td></tr>\n",
       "\t<tr><th scope=row>5</th><td>Gunness.Thicket</td><td>3.8</td><td> 0</td><td>Scrub  </td><td>4.2</td><td>FALSE</td><td>6</td></tr>\n",
       "\t<tr><th scope=row>8</th><td>Ashurst        </td><td>2.1</td><td> 0</td><td>Arable </td><td>4.8</td><td>FALSE</td><td>4</td></tr>\n",
       "\t<tr><th scope=row>9</th><td>The.Orchard    </td><td>1.9</td><td> 0</td><td>Orchard</td><td>5.7</td><td>FALSE</td><td>9</td></tr>\n",
       "\t<tr><th scope=row>11</th><td>Garden.Wood    </td><td>2.9</td><td>10</td><td>Scrub  </td><td>5.2</td><td>FALSE</td><td>8</td></tr>\n",
       "\t<tr><th scope=row>15</th><td>Pond.Field     </td><td>4.1</td><td> 0</td><td>Meadow </td><td>5.0</td><td> TRUE</td><td>6</td></tr>\n",
       "\t<tr><th scope=row>16</th><td>Water.Meadow   </td><td>3.9</td><td> 0</td><td>Meadow </td><td>4.9</td><td> TRUE</td><td>8</td></tr>\n",
       "\t<tr><th scope=row>17</th><td>Cheapside      </td><td>2.2</td><td> 8</td><td>Scrub  </td><td>4.7</td><td> TRUE</td><td>4</td></tr>\n",
       "\t<tr><th scope=row>18</th><td>Pound.Hill     </td><td>4.4</td><td> 2</td><td>Arable </td><td>4.5</td><td>FALSE</td><td>5</td></tr>\n",
       "\t<tr><th scope=row>20</th><td>Farm.Wood      </td><td>0.8</td><td>10</td><td>Scrub  </td><td>5.1</td><td> TRUE</td><td>3</td></tr>\n",
       "</tbody>\n",
       "</table>\n"
      ],
      "text/latex": [
       "A data.frame: 11 × 7\n",
       "\\begin{tabular}{r|lllllll}\n",
       "  & Field.Name & Area & Slope & Vegetation & Soil.pH & Damp & Worm.density\\\\\n",
       "  & <chr> & <dbl> & <int> & <chr> & <dbl> & <lgl> & <int>\\\\\n",
       "\\hline\n",
       "\t2 & Silwood.Bottom  & 5.1 &  2 & Arable  & 5.2 & FALSE & 7\\\\\n",
       "\t4 & Rush.Meadow     & 2.4 &  5 & Meadow  & 4.9 &  TRUE & 5\\\\\n",
       "\t5 & Gunness.Thicket & 3.8 &  0 & Scrub   & 4.2 & FALSE & 6\\\\\n",
       "\t8 & Ashurst         & 2.1 &  0 & Arable  & 4.8 & FALSE & 4\\\\\n",
       "\t9 & The.Orchard     & 1.9 &  0 & Orchard & 5.7 & FALSE & 9\\\\\n",
       "\t11 & Garden.Wood     & 2.9 & 10 & Scrub   & 5.2 & FALSE & 8\\\\\n",
       "\t15 & Pond.Field      & 4.1 &  0 & Meadow  & 5.0 &  TRUE & 6\\\\\n",
       "\t16 & Water.Meadow    & 3.9 &  0 & Meadow  & 4.9 &  TRUE & 8\\\\\n",
       "\t17 & Cheapside       & 2.2 &  8 & Scrub   & 4.7 &  TRUE & 4\\\\\n",
       "\t18 & Pound.Hill      & 4.4 &  2 & Arable  & 4.5 & FALSE & 5\\\\\n",
       "\t20 & Farm.Wood       & 0.8 & 10 & Scrub   & 5.1 &  TRUE & 3\\\\\n",
       "\\end{tabular}\n"
      ],
      "text/markdown": [
       "\n",
       "A data.frame: 11 × 7\n",
       "\n",
       "| <!--/--> | Field.Name &lt;chr&gt; | Area &lt;dbl&gt; | Slope &lt;int&gt; | Vegetation &lt;chr&gt; | Soil.pH &lt;dbl&gt; | Damp &lt;lgl&gt; | Worm.density &lt;int&gt; |\n",
       "|---|---|---|---|---|---|---|---|\n",
       "| 2 | Silwood.Bottom  | 5.1 |  2 | Arable  | 5.2 | FALSE | 7 |\n",
       "| 4 | Rush.Meadow     | 2.4 |  5 | Meadow  | 4.9 |  TRUE | 5 |\n",
       "| 5 | Gunness.Thicket | 3.8 |  0 | Scrub   | 4.2 | FALSE | 6 |\n",
       "| 8 | Ashurst         | 2.1 |  0 | Arable  | 4.8 | FALSE | 4 |\n",
       "| 9 | The.Orchard     | 1.9 |  0 | Orchard | 5.7 | FALSE | 9 |\n",
       "| 11 | Garden.Wood     | 2.9 | 10 | Scrub   | 5.2 | FALSE | 8 |\n",
       "| 15 | Pond.Field      | 4.1 |  0 | Meadow  | 5.0 |  TRUE | 6 |\n",
       "| 16 | Water.Meadow    | 3.9 |  0 | Meadow  | 4.9 |  TRUE | 8 |\n",
       "| 17 | Cheapside       | 2.2 |  8 | Scrub   | 4.7 |  TRUE | 4 |\n",
       "| 18 | Pound.Hill      | 4.4 |  2 | Arable  | 4.5 | FALSE | 5 |\n",
       "| 20 | Farm.Wood       | 0.8 | 10 | Scrub   | 5.1 |  TRUE | 3 |\n",
       "\n"
      ],
      "text/plain": [
       "   Field.Name      Area Slope Vegetation Soil.pH Damp  Worm.density\n",
       "2  Silwood.Bottom  5.1   2    Arable     5.2     FALSE 7           \n",
       "4  Rush.Meadow     2.4   5    Meadow     4.9      TRUE 5           \n",
       "5  Gunness.Thicket 3.8   0    Scrub      4.2     FALSE 6           \n",
       "8  Ashurst         2.1   0    Arable     4.8     FALSE 4           \n",
       "9  The.Orchard     1.9   0    Orchard    5.7     FALSE 9           \n",
       "11 Garden.Wood     2.9  10    Scrub      5.2     FALSE 8           \n",
       "15 Pond.Field      4.1   0    Meadow     5.0      TRUE 6           \n",
       "16 Water.Meadow    3.9   0    Meadow     4.9      TRUE 8           \n",
       "17 Cheapside       2.2   8    Scrub      4.7      TRUE 4           \n",
       "18 Pound.Hill      4.4   2    Arable     4.5     FALSE 5           \n",
       "20 Farm.Wood       0.8  10    Scrub      5.1      TRUE 3           "
      ]
     },
     "metadata": {},
     "output_type": "display_data"
    }
   ],
   "source": [
    "worms[!(worms$Vegetation== \"Grassland\"), ]"
   ]
  },
  {
   "cell_type": "code",
   "execution_count": 19,
   "id": "160ce27e-3e01-4dcb-afde-e64ad4f7b9a7",
   "metadata": {},
   "outputs": [
    {
     "data": {
      "text/html": [
       "'http://www.bio.ic.ac.uk/research/mjcraw/therbook/data/worms.missing.txt'"
      ],
      "text/latex": [
       "'http://www.bio.ic.ac.uk/research/mjcraw/therbook/data/worms.missing.txt'"
      ],
      "text/markdown": [
       "'http://www.bio.ic.ac.uk/research/mjcraw/therbook/data/worms.missing.txt'"
      ],
      "text/plain": [
       "[1] \"http://www.bio.ic.ac.uk/research/mjcraw/therbook/data/worms.missing.txt\""
      ]
     },
     "metadata": {},
     "output_type": "display_data"
    }
   ],
   "source": [
    "baseurl <- \"http://www.bio.ic.ac.uk/research/mjcraw/therbook/data/\"\n",
    "filename <- \"worms.missing.txt\"\n",
    "(fileurl <- paste(baseurl, filename, sep=\"\"))"
   ]
  },
  {
   "cell_type": "code",
   "execution_count": 20,
   "id": "b12c92fb-e016-4a97-8323-766b772eca2c",
   "metadata": {},
   "outputs": [],
   "source": [
    "df = read.table(fileurl,header=TRUE)"
   ]
  },
  {
   "cell_type": "code",
   "execution_count": 22,
   "id": "34b27ed9-8cc3-4fc0-8845-e674927c219a",
   "metadata": {},
   "outputs": [
    {
     "data": {
      "text/html": [
       "<table class=\"dataframe\">\n",
       "<caption>A data.frame: 20 × 7</caption>\n",
       "<thead>\n",
       "\t<tr><th scope=col>Field.Name</th><th scope=col>Area</th><th scope=col>Slope</th><th scope=col>Vegetation</th><th scope=col>Soil.pH</th><th scope=col>Damp</th><th scope=col>Worm.density</th></tr>\n",
       "\t<tr><th scope=col>&lt;chr&gt;</th><th scope=col>&lt;dbl&gt;</th><th scope=col>&lt;int&gt;</th><th scope=col>&lt;chr&gt;</th><th scope=col>&lt;dbl&gt;</th><th scope=col>&lt;lgl&gt;</th><th scope=col>&lt;int&gt;</th></tr>\n",
       "</thead>\n",
       "<tbody>\n",
       "\t<tr><td>Nashs.Field      </td><td>3.6</td><td>11</td><td>Grassland</td><td>4.1</td><td>FALSE</td><td> 4</td></tr>\n",
       "\t<tr><td>Silwood.Bottom   </td><td>5.1</td><td>NA</td><td>Arable   </td><td>5.2</td><td>FALSE</td><td> 7</td></tr>\n",
       "\t<tr><td>Nursery.Field    </td><td>2.8</td><td> 3</td><td>Grassland</td><td>4.3</td><td>FALSE</td><td> 2</td></tr>\n",
       "\t<tr><td>Rush.Meadow      </td><td>2.4</td><td> 5</td><td>Meadow   </td><td>4.9</td><td> TRUE</td><td> 5</td></tr>\n",
       "\t<tr><td>Gunness.Thicket  </td><td>3.8</td><td> 0</td><td>Scrub    </td><td>4.2</td><td>FALSE</td><td> 6</td></tr>\n",
       "\t<tr><td>Oak.Mead         </td><td>3.1</td><td> 2</td><td>Grassland</td><td>3.9</td><td>FALSE</td><td> 2</td></tr>\n",
       "\t<tr><td>Church.Field     </td><td>3.5</td><td> 3</td><td>Grassland</td><td> NA</td><td>   NA</td><td>NA</td></tr>\n",
       "\t<tr><td>Ashurst          </td><td>2.1</td><td> 0</td><td>Arable   </td><td>4.8</td><td>FALSE</td><td> 4</td></tr>\n",
       "\t<tr><td>The.Orchard      </td><td>1.9</td><td> 0</td><td>Orchard  </td><td>5.7</td><td>FALSE</td><td> 9</td></tr>\n",
       "\t<tr><td>Rookery.Slope    </td><td>1.5</td><td> 4</td><td>Grassland</td><td>5.0</td><td> TRUE</td><td> 7</td></tr>\n",
       "\t<tr><td>Garden.Wood      </td><td>2.9</td><td>10</td><td>Scrub    </td><td>5.2</td><td>FALSE</td><td> 8</td></tr>\n",
       "\t<tr><td>North.Gravel     </td><td>3.3</td><td> 1</td><td>Grassland</td><td>4.1</td><td>FALSE</td><td> 1</td></tr>\n",
       "\t<tr><td>South.Gravel     </td><td>3.7</td><td> 2</td><td>Grassland</td><td>4.0</td><td>FALSE</td><td> 2</td></tr>\n",
       "\t<tr><td>Observatory.Ridge</td><td>1.8</td><td> 6</td><td>Grassland</td><td>3.8</td><td>FALSE</td><td> 0</td></tr>\n",
       "\t<tr><td>Pond.Field       </td><td>4.1</td><td> 0</td><td>Meadow   </td><td>5.0</td><td> TRUE</td><td> 6</td></tr>\n",
       "\t<tr><td>Water.Meadow     </td><td>3.9</td><td> 0</td><td>Meadow   </td><td>4.9</td><td> TRUE</td><td> 8</td></tr>\n",
       "\t<tr><td>Cheapside        </td><td>2.2</td><td> 8</td><td>Scrub    </td><td>4.7</td><td> TRUE</td><td> 4</td></tr>\n",
       "\t<tr><td>Pound.Hill       </td><td>4.4</td><td> 2</td><td>Arable   </td><td>4.5</td><td>FALSE</td><td> 5</td></tr>\n",
       "\t<tr><td>Gravel.Pit       </td><td> NA</td><td> 1</td><td>Grassland</td><td>3.5</td><td>FALSE</td><td> 1</td></tr>\n",
       "\t<tr><td>Farm.Wood        </td><td>0.8</td><td>10</td><td>Scrub    </td><td>5.1</td><td> TRUE</td><td> 3</td></tr>\n",
       "</tbody>\n",
       "</table>\n"
      ],
      "text/latex": [
       "A data.frame: 20 × 7\n",
       "\\begin{tabular}{lllllll}\n",
       " Field.Name & Area & Slope & Vegetation & Soil.pH & Damp & Worm.density\\\\\n",
       " <chr> & <dbl> & <int> & <chr> & <dbl> & <lgl> & <int>\\\\\n",
       "\\hline\n",
       "\t Nashs.Field       & 3.6 & 11 & Grassland & 4.1 & FALSE &  4\\\\\n",
       "\t Silwood.Bottom    & 5.1 & NA & Arable    & 5.2 & FALSE &  7\\\\\n",
       "\t Nursery.Field     & 2.8 &  3 & Grassland & 4.3 & FALSE &  2\\\\\n",
       "\t Rush.Meadow       & 2.4 &  5 & Meadow    & 4.9 &  TRUE &  5\\\\\n",
       "\t Gunness.Thicket   & 3.8 &  0 & Scrub     & 4.2 & FALSE &  6\\\\\n",
       "\t Oak.Mead          & 3.1 &  2 & Grassland & 3.9 & FALSE &  2\\\\\n",
       "\t Church.Field      & 3.5 &  3 & Grassland &  NA &    NA & NA\\\\\n",
       "\t Ashurst           & 2.1 &  0 & Arable    & 4.8 & FALSE &  4\\\\\n",
       "\t The.Orchard       & 1.9 &  0 & Orchard   & 5.7 & FALSE &  9\\\\\n",
       "\t Rookery.Slope     & 1.5 &  4 & Grassland & 5.0 &  TRUE &  7\\\\\n",
       "\t Garden.Wood       & 2.9 & 10 & Scrub     & 5.2 & FALSE &  8\\\\\n",
       "\t North.Gravel      & 3.3 &  1 & Grassland & 4.1 & FALSE &  1\\\\\n",
       "\t South.Gravel      & 3.7 &  2 & Grassland & 4.0 & FALSE &  2\\\\\n",
       "\t Observatory.Ridge & 1.8 &  6 & Grassland & 3.8 & FALSE &  0\\\\\n",
       "\t Pond.Field        & 4.1 &  0 & Meadow    & 5.0 &  TRUE &  6\\\\\n",
       "\t Water.Meadow      & 3.9 &  0 & Meadow    & 4.9 &  TRUE &  8\\\\\n",
       "\t Cheapside         & 2.2 &  8 & Scrub     & 4.7 &  TRUE &  4\\\\\n",
       "\t Pound.Hill        & 4.4 &  2 & Arable    & 4.5 & FALSE &  5\\\\\n",
       "\t Gravel.Pit        &  NA &  1 & Grassland & 3.5 & FALSE &  1\\\\\n",
       "\t Farm.Wood         & 0.8 & 10 & Scrub     & 5.1 &  TRUE &  3\\\\\n",
       "\\end{tabular}\n"
      ],
      "text/markdown": [
       "\n",
       "A data.frame: 20 × 7\n",
       "\n",
       "| Field.Name &lt;chr&gt; | Area &lt;dbl&gt; | Slope &lt;int&gt; | Vegetation &lt;chr&gt; | Soil.pH &lt;dbl&gt; | Damp &lt;lgl&gt; | Worm.density &lt;int&gt; |\n",
       "|---|---|---|---|---|---|---|\n",
       "| Nashs.Field       | 3.6 | 11 | Grassland | 4.1 | FALSE |  4 |\n",
       "| Silwood.Bottom    | 5.1 | NA | Arable    | 5.2 | FALSE |  7 |\n",
       "| Nursery.Field     | 2.8 |  3 | Grassland | 4.3 | FALSE |  2 |\n",
       "| Rush.Meadow       | 2.4 |  5 | Meadow    | 4.9 |  TRUE |  5 |\n",
       "| Gunness.Thicket   | 3.8 |  0 | Scrub     | 4.2 | FALSE |  6 |\n",
       "| Oak.Mead          | 3.1 |  2 | Grassland | 3.9 | FALSE |  2 |\n",
       "| Church.Field      | 3.5 |  3 | Grassland |  NA |    NA | NA |\n",
       "| Ashurst           | 2.1 |  0 | Arable    | 4.8 | FALSE |  4 |\n",
       "| The.Orchard       | 1.9 |  0 | Orchard   | 5.7 | FALSE |  9 |\n",
       "| Rookery.Slope     | 1.5 |  4 | Grassland | 5.0 |  TRUE |  7 |\n",
       "| Garden.Wood       | 2.9 | 10 | Scrub     | 5.2 | FALSE |  8 |\n",
       "| North.Gravel      | 3.3 |  1 | Grassland | 4.1 | FALSE |  1 |\n",
       "| South.Gravel      | 3.7 |  2 | Grassland | 4.0 | FALSE |  2 |\n",
       "| Observatory.Ridge | 1.8 |  6 | Grassland | 3.8 | FALSE |  0 |\n",
       "| Pond.Field        | 4.1 |  0 | Meadow    | 5.0 |  TRUE |  6 |\n",
       "| Water.Meadow      | 3.9 |  0 | Meadow    | 4.9 |  TRUE |  8 |\n",
       "| Cheapside         | 2.2 |  8 | Scrub     | 4.7 |  TRUE |  4 |\n",
       "| Pound.Hill        | 4.4 |  2 | Arable    | 4.5 | FALSE |  5 |\n",
       "| Gravel.Pit        |  NA |  1 | Grassland | 3.5 | FALSE |  1 |\n",
       "| Farm.Wood         | 0.8 | 10 | Scrub     | 5.1 |  TRUE |  3 |\n",
       "\n"
      ],
      "text/plain": [
       "   Field.Name        Area Slope Vegetation Soil.pH Damp  Worm.density\n",
       "1  Nashs.Field       3.6  11    Grassland  4.1     FALSE  4          \n",
       "2  Silwood.Bottom    5.1  NA    Arable     5.2     FALSE  7          \n",
       "3  Nursery.Field     2.8   3    Grassland  4.3     FALSE  2          \n",
       "4  Rush.Meadow       2.4   5    Meadow     4.9      TRUE  5          \n",
       "5  Gunness.Thicket   3.8   0    Scrub      4.2     FALSE  6          \n",
       "6  Oak.Mead          3.1   2    Grassland  3.9     FALSE  2          \n",
       "7  Church.Field      3.5   3    Grassland   NA        NA NA          \n",
       "8  Ashurst           2.1   0    Arable     4.8     FALSE  4          \n",
       "9  The.Orchard       1.9   0    Orchard    5.7     FALSE  9          \n",
       "10 Rookery.Slope     1.5   4    Grassland  5.0      TRUE  7          \n",
       "11 Garden.Wood       2.9  10    Scrub      5.2     FALSE  8          \n",
       "12 North.Gravel      3.3   1    Grassland  4.1     FALSE  1          \n",
       "13 South.Gravel      3.7   2    Grassland  4.0     FALSE  2          \n",
       "14 Observatory.Ridge 1.8   6    Grassland  3.8     FALSE  0          \n",
       "15 Pond.Field        4.1   0    Meadow     5.0      TRUE  6          \n",
       "16 Water.Meadow      3.9   0    Meadow     4.9      TRUE  8          \n",
       "17 Cheapside         2.2   8    Scrub      4.7      TRUE  4          \n",
       "18 Pound.Hill        4.4   2    Arable     4.5     FALSE  5          \n",
       "19 Gravel.Pit         NA   1    Grassland  3.5     FALSE  1          \n",
       "20 Farm.Wood         0.8  10    Scrub      5.1      TRUE  3          "
      ]
     },
     "metadata": {},
     "output_type": "display_data"
    }
   ],
   "source": [
    "df"
   ]
  },
  {
   "cell_type": "code",
   "execution_count": 23,
   "id": "948b3c27-07e5-485a-a4ac-af4a45e3f8cc",
   "metadata": {},
   "outputs": [
    {
     "data": {
      "text/html": [
       "<table class=\"dataframe\">\n",
       "<caption>A data.frame: 17 × 7</caption>\n",
       "<thead>\n",
       "\t<tr><th></th><th scope=col>Field.Name</th><th scope=col>Area</th><th scope=col>Slope</th><th scope=col>Vegetation</th><th scope=col>Soil.pH</th><th scope=col>Damp</th><th scope=col>Worm.density</th></tr>\n",
       "\t<tr><th></th><th scope=col>&lt;chr&gt;</th><th scope=col>&lt;dbl&gt;</th><th scope=col>&lt;int&gt;</th><th scope=col>&lt;chr&gt;</th><th scope=col>&lt;dbl&gt;</th><th scope=col>&lt;lgl&gt;</th><th scope=col>&lt;int&gt;</th></tr>\n",
       "</thead>\n",
       "<tbody>\n",
       "\t<tr><th scope=row>1</th><td>Nashs.Field      </td><td>3.6</td><td>11</td><td>Grassland</td><td>4.1</td><td>FALSE</td><td>4</td></tr>\n",
       "\t<tr><th scope=row>3</th><td>Nursery.Field    </td><td>2.8</td><td> 3</td><td>Grassland</td><td>4.3</td><td>FALSE</td><td>2</td></tr>\n",
       "\t<tr><th scope=row>4</th><td>Rush.Meadow      </td><td>2.4</td><td> 5</td><td>Meadow   </td><td>4.9</td><td> TRUE</td><td>5</td></tr>\n",
       "\t<tr><th scope=row>5</th><td>Gunness.Thicket  </td><td>3.8</td><td> 0</td><td>Scrub    </td><td>4.2</td><td>FALSE</td><td>6</td></tr>\n",
       "\t<tr><th scope=row>6</th><td>Oak.Mead         </td><td>3.1</td><td> 2</td><td>Grassland</td><td>3.9</td><td>FALSE</td><td>2</td></tr>\n",
       "\t<tr><th scope=row>8</th><td>Ashurst          </td><td>2.1</td><td> 0</td><td>Arable   </td><td>4.8</td><td>FALSE</td><td>4</td></tr>\n",
       "\t<tr><th scope=row>9</th><td>The.Orchard      </td><td>1.9</td><td> 0</td><td>Orchard  </td><td>5.7</td><td>FALSE</td><td>9</td></tr>\n",
       "\t<tr><th scope=row>10</th><td>Rookery.Slope    </td><td>1.5</td><td> 4</td><td>Grassland</td><td>5.0</td><td> TRUE</td><td>7</td></tr>\n",
       "\t<tr><th scope=row>11</th><td>Garden.Wood      </td><td>2.9</td><td>10</td><td>Scrub    </td><td>5.2</td><td>FALSE</td><td>8</td></tr>\n",
       "\t<tr><th scope=row>12</th><td>North.Gravel     </td><td>3.3</td><td> 1</td><td>Grassland</td><td>4.1</td><td>FALSE</td><td>1</td></tr>\n",
       "\t<tr><th scope=row>13</th><td>South.Gravel     </td><td>3.7</td><td> 2</td><td>Grassland</td><td>4.0</td><td>FALSE</td><td>2</td></tr>\n",
       "\t<tr><th scope=row>14</th><td>Observatory.Ridge</td><td>1.8</td><td> 6</td><td>Grassland</td><td>3.8</td><td>FALSE</td><td>0</td></tr>\n",
       "\t<tr><th scope=row>15</th><td>Pond.Field       </td><td>4.1</td><td> 0</td><td>Meadow   </td><td>5.0</td><td> TRUE</td><td>6</td></tr>\n",
       "\t<tr><th scope=row>16</th><td>Water.Meadow     </td><td>3.9</td><td> 0</td><td>Meadow   </td><td>4.9</td><td> TRUE</td><td>8</td></tr>\n",
       "\t<tr><th scope=row>17</th><td>Cheapside        </td><td>2.2</td><td> 8</td><td>Scrub    </td><td>4.7</td><td> TRUE</td><td>4</td></tr>\n",
       "\t<tr><th scope=row>18</th><td>Pound.Hill       </td><td>4.4</td><td> 2</td><td>Arable   </td><td>4.5</td><td>FALSE</td><td>5</td></tr>\n",
       "\t<tr><th scope=row>20</th><td>Farm.Wood        </td><td>0.8</td><td>10</td><td>Scrub    </td><td>5.1</td><td> TRUE</td><td>3</td></tr>\n",
       "</tbody>\n",
       "</table>\n"
      ],
      "text/latex": [
       "A data.frame: 17 × 7\n",
       "\\begin{tabular}{r|lllllll}\n",
       "  & Field.Name & Area & Slope & Vegetation & Soil.pH & Damp & Worm.density\\\\\n",
       "  & <chr> & <dbl> & <int> & <chr> & <dbl> & <lgl> & <int>\\\\\n",
       "\\hline\n",
       "\t1 & Nashs.Field       & 3.6 & 11 & Grassland & 4.1 & FALSE & 4\\\\\n",
       "\t3 & Nursery.Field     & 2.8 &  3 & Grassland & 4.3 & FALSE & 2\\\\\n",
       "\t4 & Rush.Meadow       & 2.4 &  5 & Meadow    & 4.9 &  TRUE & 5\\\\\n",
       "\t5 & Gunness.Thicket   & 3.8 &  0 & Scrub     & 4.2 & FALSE & 6\\\\\n",
       "\t6 & Oak.Mead          & 3.1 &  2 & Grassland & 3.9 & FALSE & 2\\\\\n",
       "\t8 & Ashurst           & 2.1 &  0 & Arable    & 4.8 & FALSE & 4\\\\\n",
       "\t9 & The.Orchard       & 1.9 &  0 & Orchard   & 5.7 & FALSE & 9\\\\\n",
       "\t10 & Rookery.Slope     & 1.5 &  4 & Grassland & 5.0 &  TRUE & 7\\\\\n",
       "\t11 & Garden.Wood       & 2.9 & 10 & Scrub     & 5.2 & FALSE & 8\\\\\n",
       "\t12 & North.Gravel      & 3.3 &  1 & Grassland & 4.1 & FALSE & 1\\\\\n",
       "\t13 & South.Gravel      & 3.7 &  2 & Grassland & 4.0 & FALSE & 2\\\\\n",
       "\t14 & Observatory.Ridge & 1.8 &  6 & Grassland & 3.8 & FALSE & 0\\\\\n",
       "\t15 & Pond.Field        & 4.1 &  0 & Meadow    & 5.0 &  TRUE & 6\\\\\n",
       "\t16 & Water.Meadow      & 3.9 &  0 & Meadow    & 4.9 &  TRUE & 8\\\\\n",
       "\t17 & Cheapside         & 2.2 &  8 & Scrub     & 4.7 &  TRUE & 4\\\\\n",
       "\t18 & Pound.Hill        & 4.4 &  2 & Arable    & 4.5 & FALSE & 5\\\\\n",
       "\t20 & Farm.Wood         & 0.8 & 10 & Scrub     & 5.1 &  TRUE & 3\\\\\n",
       "\\end{tabular}\n"
      ],
      "text/markdown": [
       "\n",
       "A data.frame: 17 × 7\n",
       "\n",
       "| <!--/--> | Field.Name &lt;chr&gt; | Area &lt;dbl&gt; | Slope &lt;int&gt; | Vegetation &lt;chr&gt; | Soil.pH &lt;dbl&gt; | Damp &lt;lgl&gt; | Worm.density &lt;int&gt; |\n",
       "|---|---|---|---|---|---|---|---|\n",
       "| 1 | Nashs.Field       | 3.6 | 11 | Grassland | 4.1 | FALSE | 4 |\n",
       "| 3 | Nursery.Field     | 2.8 |  3 | Grassland | 4.3 | FALSE | 2 |\n",
       "| 4 | Rush.Meadow       | 2.4 |  5 | Meadow    | 4.9 |  TRUE | 5 |\n",
       "| 5 | Gunness.Thicket   | 3.8 |  0 | Scrub     | 4.2 | FALSE | 6 |\n",
       "| 6 | Oak.Mead          | 3.1 |  2 | Grassland | 3.9 | FALSE | 2 |\n",
       "| 8 | Ashurst           | 2.1 |  0 | Arable    | 4.8 | FALSE | 4 |\n",
       "| 9 | The.Orchard       | 1.9 |  0 | Orchard   | 5.7 | FALSE | 9 |\n",
       "| 10 | Rookery.Slope     | 1.5 |  4 | Grassland | 5.0 |  TRUE | 7 |\n",
       "| 11 | Garden.Wood       | 2.9 | 10 | Scrub     | 5.2 | FALSE | 8 |\n",
       "| 12 | North.Gravel      | 3.3 |  1 | Grassland | 4.1 | FALSE | 1 |\n",
       "| 13 | South.Gravel      | 3.7 |  2 | Grassland | 4.0 | FALSE | 2 |\n",
       "| 14 | Observatory.Ridge | 1.8 |  6 | Grassland | 3.8 | FALSE | 0 |\n",
       "| 15 | Pond.Field        | 4.1 |  0 | Meadow    | 5.0 |  TRUE | 6 |\n",
       "| 16 | Water.Meadow      | 3.9 |  0 | Meadow    | 4.9 |  TRUE | 8 |\n",
       "| 17 | Cheapside         | 2.2 |  8 | Scrub     | 4.7 |  TRUE | 4 |\n",
       "| 18 | Pound.Hill        | 4.4 |  2 | Arable    | 4.5 | FALSE | 5 |\n",
       "| 20 | Farm.Wood         | 0.8 | 10 | Scrub     | 5.1 |  TRUE | 3 |\n",
       "\n"
      ],
      "text/plain": [
       "   Field.Name        Area Slope Vegetation Soil.pH Damp  Worm.density\n",
       "1  Nashs.Field       3.6  11    Grassland  4.1     FALSE 4           \n",
       "3  Nursery.Field     2.8   3    Grassland  4.3     FALSE 2           \n",
       "4  Rush.Meadow       2.4   5    Meadow     4.9      TRUE 5           \n",
       "5  Gunness.Thicket   3.8   0    Scrub      4.2     FALSE 6           \n",
       "6  Oak.Mead          3.1   2    Grassland  3.9     FALSE 2           \n",
       "8  Ashurst           2.1   0    Arable     4.8     FALSE 4           \n",
       "9  The.Orchard       1.9   0    Orchard    5.7     FALSE 9           \n",
       "10 Rookery.Slope     1.5   4    Grassland  5.0      TRUE 7           \n",
       "11 Garden.Wood       2.9  10    Scrub      5.2     FALSE 8           \n",
       "12 North.Gravel      3.3   1    Grassland  4.1     FALSE 1           \n",
       "13 South.Gravel      3.7   2    Grassland  4.0     FALSE 2           \n",
       "14 Observatory.Ridge 1.8   6    Grassland  3.8     FALSE 0           \n",
       "15 Pond.Field        4.1   0    Meadow     5.0      TRUE 6           \n",
       "16 Water.Meadow      3.9   0    Meadow     4.9      TRUE 8           \n",
       "17 Cheapside         2.2   8    Scrub      4.7      TRUE 4           \n",
       "18 Pound.Hill        4.4   2    Arable     4.5     FALSE 5           \n",
       "20 Farm.Wood         0.8  10    Scrub      5.1      TRUE 3           "
      ]
     },
     "metadata": {},
     "output_type": "display_data"
    }
   ],
   "source": [
    "na.omit(df)"
   ]
  },
  {
   "cell_type": "code",
   "execution_count": 24,
   "id": "e2ba49bd-139f-4dfc-8ba4-05644844de2d",
   "metadata": {},
   "outputs": [
    {
     "data": {
      "text/html": [
       "<table class=\"dataframe\">\n",
       "<caption>A data.frame: 17 × 7</caption>\n",
       "<thead>\n",
       "\t<tr><th></th><th scope=col>Field.Name</th><th scope=col>Area</th><th scope=col>Slope</th><th scope=col>Vegetation</th><th scope=col>Soil.pH</th><th scope=col>Damp</th><th scope=col>Worm.density</th></tr>\n",
       "\t<tr><th></th><th scope=col>&lt;chr&gt;</th><th scope=col>&lt;dbl&gt;</th><th scope=col>&lt;int&gt;</th><th scope=col>&lt;chr&gt;</th><th scope=col>&lt;dbl&gt;</th><th scope=col>&lt;lgl&gt;</th><th scope=col>&lt;int&gt;</th></tr>\n",
       "</thead>\n",
       "<tbody>\n",
       "\t<tr><th scope=row>1</th><td>Nashs.Field      </td><td>3.6</td><td>11</td><td>Grassland</td><td>4.1</td><td>FALSE</td><td>4</td></tr>\n",
       "\t<tr><th scope=row>3</th><td>Nursery.Field    </td><td>2.8</td><td> 3</td><td>Grassland</td><td>4.3</td><td>FALSE</td><td>2</td></tr>\n",
       "\t<tr><th scope=row>4</th><td>Rush.Meadow      </td><td>2.4</td><td> 5</td><td>Meadow   </td><td>4.9</td><td> TRUE</td><td>5</td></tr>\n",
       "\t<tr><th scope=row>5</th><td>Gunness.Thicket  </td><td>3.8</td><td> 0</td><td>Scrub    </td><td>4.2</td><td>FALSE</td><td>6</td></tr>\n",
       "\t<tr><th scope=row>6</th><td>Oak.Mead         </td><td>3.1</td><td> 2</td><td>Grassland</td><td>3.9</td><td>FALSE</td><td>2</td></tr>\n",
       "\t<tr><th scope=row>8</th><td>Ashurst          </td><td>2.1</td><td> 0</td><td>Arable   </td><td>4.8</td><td>FALSE</td><td>4</td></tr>\n",
       "\t<tr><th scope=row>9</th><td>The.Orchard      </td><td>1.9</td><td> 0</td><td>Orchard  </td><td>5.7</td><td>FALSE</td><td>9</td></tr>\n",
       "\t<tr><th scope=row>10</th><td>Rookery.Slope    </td><td>1.5</td><td> 4</td><td>Grassland</td><td>5.0</td><td> TRUE</td><td>7</td></tr>\n",
       "\t<tr><th scope=row>11</th><td>Garden.Wood      </td><td>2.9</td><td>10</td><td>Scrub    </td><td>5.2</td><td>FALSE</td><td>8</td></tr>\n",
       "\t<tr><th scope=row>12</th><td>North.Gravel     </td><td>3.3</td><td> 1</td><td>Grassland</td><td>4.1</td><td>FALSE</td><td>1</td></tr>\n",
       "\t<tr><th scope=row>13</th><td>South.Gravel     </td><td>3.7</td><td> 2</td><td>Grassland</td><td>4.0</td><td>FALSE</td><td>2</td></tr>\n",
       "\t<tr><th scope=row>14</th><td>Observatory.Ridge</td><td>1.8</td><td> 6</td><td>Grassland</td><td>3.8</td><td>FALSE</td><td>0</td></tr>\n",
       "\t<tr><th scope=row>15</th><td>Pond.Field       </td><td>4.1</td><td> 0</td><td>Meadow   </td><td>5.0</td><td> TRUE</td><td>6</td></tr>\n",
       "\t<tr><th scope=row>16</th><td>Water.Meadow     </td><td>3.9</td><td> 0</td><td>Meadow   </td><td>4.9</td><td> TRUE</td><td>8</td></tr>\n",
       "\t<tr><th scope=row>17</th><td>Cheapside        </td><td>2.2</td><td> 8</td><td>Scrub    </td><td>4.7</td><td> TRUE</td><td>4</td></tr>\n",
       "\t<tr><th scope=row>18</th><td>Pound.Hill       </td><td>4.4</td><td> 2</td><td>Arable   </td><td>4.5</td><td>FALSE</td><td>5</td></tr>\n",
       "\t<tr><th scope=row>20</th><td>Farm.Wood        </td><td>0.8</td><td>10</td><td>Scrub    </td><td>5.1</td><td> TRUE</td><td>3</td></tr>\n",
       "</tbody>\n",
       "</table>\n"
      ],
      "text/latex": [
       "A data.frame: 17 × 7\n",
       "\\begin{tabular}{r|lllllll}\n",
       "  & Field.Name & Area & Slope & Vegetation & Soil.pH & Damp & Worm.density\\\\\n",
       "  & <chr> & <dbl> & <int> & <chr> & <dbl> & <lgl> & <int>\\\\\n",
       "\\hline\n",
       "\t1 & Nashs.Field       & 3.6 & 11 & Grassland & 4.1 & FALSE & 4\\\\\n",
       "\t3 & Nursery.Field     & 2.8 &  3 & Grassland & 4.3 & FALSE & 2\\\\\n",
       "\t4 & Rush.Meadow       & 2.4 &  5 & Meadow    & 4.9 &  TRUE & 5\\\\\n",
       "\t5 & Gunness.Thicket   & 3.8 &  0 & Scrub     & 4.2 & FALSE & 6\\\\\n",
       "\t6 & Oak.Mead          & 3.1 &  2 & Grassland & 3.9 & FALSE & 2\\\\\n",
       "\t8 & Ashurst           & 2.1 &  0 & Arable    & 4.8 & FALSE & 4\\\\\n",
       "\t9 & The.Orchard       & 1.9 &  0 & Orchard   & 5.7 & FALSE & 9\\\\\n",
       "\t10 & Rookery.Slope     & 1.5 &  4 & Grassland & 5.0 &  TRUE & 7\\\\\n",
       "\t11 & Garden.Wood       & 2.9 & 10 & Scrub     & 5.2 & FALSE & 8\\\\\n",
       "\t12 & North.Gravel      & 3.3 &  1 & Grassland & 4.1 & FALSE & 1\\\\\n",
       "\t13 & South.Gravel      & 3.7 &  2 & Grassland & 4.0 & FALSE & 2\\\\\n",
       "\t14 & Observatory.Ridge & 1.8 &  6 & Grassland & 3.8 & FALSE & 0\\\\\n",
       "\t15 & Pond.Field        & 4.1 &  0 & Meadow    & 5.0 &  TRUE & 6\\\\\n",
       "\t16 & Water.Meadow      & 3.9 &  0 & Meadow    & 4.9 &  TRUE & 8\\\\\n",
       "\t17 & Cheapside         & 2.2 &  8 & Scrub     & 4.7 &  TRUE & 4\\\\\n",
       "\t18 & Pound.Hill        & 4.4 &  2 & Arable    & 4.5 & FALSE & 5\\\\\n",
       "\t20 & Farm.Wood         & 0.8 & 10 & Scrub     & 5.1 &  TRUE & 3\\\\\n",
       "\\end{tabular}\n"
      ],
      "text/markdown": [
       "\n",
       "A data.frame: 17 × 7\n",
       "\n",
       "| <!--/--> | Field.Name &lt;chr&gt; | Area &lt;dbl&gt; | Slope &lt;int&gt; | Vegetation &lt;chr&gt; | Soil.pH &lt;dbl&gt; | Damp &lt;lgl&gt; | Worm.density &lt;int&gt; |\n",
       "|---|---|---|---|---|---|---|---|\n",
       "| 1 | Nashs.Field       | 3.6 | 11 | Grassland | 4.1 | FALSE | 4 |\n",
       "| 3 | Nursery.Field     | 2.8 |  3 | Grassland | 4.3 | FALSE | 2 |\n",
       "| 4 | Rush.Meadow       | 2.4 |  5 | Meadow    | 4.9 |  TRUE | 5 |\n",
       "| 5 | Gunness.Thicket   | 3.8 |  0 | Scrub     | 4.2 | FALSE | 6 |\n",
       "| 6 | Oak.Mead          | 3.1 |  2 | Grassland | 3.9 | FALSE | 2 |\n",
       "| 8 | Ashurst           | 2.1 |  0 | Arable    | 4.8 | FALSE | 4 |\n",
       "| 9 | The.Orchard       | 1.9 |  0 | Orchard   | 5.7 | FALSE | 9 |\n",
       "| 10 | Rookery.Slope     | 1.5 |  4 | Grassland | 5.0 |  TRUE | 7 |\n",
       "| 11 | Garden.Wood       | 2.9 | 10 | Scrub     | 5.2 | FALSE | 8 |\n",
       "| 12 | North.Gravel      | 3.3 |  1 | Grassland | 4.1 | FALSE | 1 |\n",
       "| 13 | South.Gravel      | 3.7 |  2 | Grassland | 4.0 | FALSE | 2 |\n",
       "| 14 | Observatory.Ridge | 1.8 |  6 | Grassland | 3.8 | FALSE | 0 |\n",
       "| 15 | Pond.Field        | 4.1 |  0 | Meadow    | 5.0 |  TRUE | 6 |\n",
       "| 16 | Water.Meadow      | 3.9 |  0 | Meadow    | 4.9 |  TRUE | 8 |\n",
       "| 17 | Cheapside         | 2.2 |  8 | Scrub     | 4.7 |  TRUE | 4 |\n",
       "| 18 | Pound.Hill        | 4.4 |  2 | Arable    | 4.5 | FALSE | 5 |\n",
       "| 20 | Farm.Wood         | 0.8 | 10 | Scrub     | 5.1 |  TRUE | 3 |\n",
       "\n"
      ],
      "text/plain": [
       "   Field.Name        Area Slope Vegetation Soil.pH Damp  Worm.density\n",
       "1  Nashs.Field       3.6  11    Grassland  4.1     FALSE 4           \n",
       "3  Nursery.Field     2.8   3    Grassland  4.3     FALSE 2           \n",
       "4  Rush.Meadow       2.4   5    Meadow     4.9      TRUE 5           \n",
       "5  Gunness.Thicket   3.8   0    Scrub      4.2     FALSE 6           \n",
       "6  Oak.Mead          3.1   2    Grassland  3.9     FALSE 2           \n",
       "8  Ashurst           2.1   0    Arable     4.8     FALSE 4           \n",
       "9  The.Orchard       1.9   0    Orchard    5.7     FALSE 9           \n",
       "10 Rookery.Slope     1.5   4    Grassland  5.0      TRUE 7           \n",
       "11 Garden.Wood       2.9  10    Scrub      5.2     FALSE 8           \n",
       "12 North.Gravel      3.3   1    Grassland  4.1     FALSE 1           \n",
       "13 South.Gravel      3.7   2    Grassland  4.0     FALSE 2           \n",
       "14 Observatory.Ridge 1.8   6    Grassland  3.8     FALSE 0           \n",
       "15 Pond.Field        4.1   0    Meadow     5.0      TRUE 6           \n",
       "16 Water.Meadow      3.9   0    Meadow     4.9      TRUE 8           \n",
       "17 Cheapside         2.2   8    Scrub      4.7      TRUE 4           \n",
       "18 Pound.Hill        4.4   2    Arable     4.5     FALSE 5           \n",
       "20 Farm.Wood         0.8  10    Scrub      5.1      TRUE 3           "
      ]
     },
     "metadata": {},
     "output_type": "display_data"
    }
   ],
   "source": [
    "na.exclude(df)"
   ]
  },
  {
   "cell_type": "code",
   "execution_count": 28,
   "id": "bd0cd776-cf67-4f87-ba54-b6b949b82bbe",
   "metadata": {},
   "outputs": [],
   "source": [
    "#?complete.cases"
   ]
  },
  {
   "cell_type": "code",
   "execution_count": 26,
   "id": "a2078536-e6ae-4a22-8f56-a52f142bb24a",
   "metadata": {},
   "outputs": [
    {
     "data": {
      "text/html": [
       "<style>\n",
       ".list-inline {list-style: none; margin:0; padding: 0}\n",
       ".list-inline>li {display: inline-block}\n",
       ".list-inline>li:not(:last-child)::after {content: \"\\00b7\"; padding: 0 .5ex}\n",
       "</style>\n",
       "<ol class=list-inline><li>TRUE</li><li>FALSE</li><li>TRUE</li><li>TRUE</li><li>TRUE</li><li>TRUE</li><li>FALSE</li><li>TRUE</li><li>TRUE</li><li>TRUE</li><li>TRUE</li><li>TRUE</li><li>TRUE</li><li>TRUE</li><li>TRUE</li><li>TRUE</li><li>TRUE</li><li>TRUE</li><li>FALSE</li><li>TRUE</li></ol>\n"
      ],
      "text/latex": [
       "\\begin{enumerate*}\n",
       "\\item TRUE\n",
       "\\item FALSE\n",
       "\\item TRUE\n",
       "\\item TRUE\n",
       "\\item TRUE\n",
       "\\item TRUE\n",
       "\\item FALSE\n",
       "\\item TRUE\n",
       "\\item TRUE\n",
       "\\item TRUE\n",
       "\\item TRUE\n",
       "\\item TRUE\n",
       "\\item TRUE\n",
       "\\item TRUE\n",
       "\\item TRUE\n",
       "\\item TRUE\n",
       "\\item TRUE\n",
       "\\item TRUE\n",
       "\\item FALSE\n",
       "\\item TRUE\n",
       "\\end{enumerate*}\n"
      ],
      "text/markdown": [
       "1. TRUE\n",
       "2. FALSE\n",
       "3. TRUE\n",
       "4. TRUE\n",
       "5. TRUE\n",
       "6. TRUE\n",
       "7. FALSE\n",
       "8. TRUE\n",
       "9. TRUE\n",
       "10. TRUE\n",
       "11. TRUE\n",
       "12. TRUE\n",
       "13. TRUE\n",
       "14. TRUE\n",
       "15. TRUE\n",
       "16. TRUE\n",
       "17. TRUE\n",
       "18. TRUE\n",
       "19. FALSE\n",
       "20. TRUE\n",
       "\n",
       "\n"
      ],
      "text/plain": [
       " [1]  TRUE FALSE  TRUE  TRUE  TRUE  TRUE FALSE  TRUE  TRUE  TRUE  TRUE  TRUE\n",
       "[13]  TRUE  TRUE  TRUE  TRUE  TRUE  TRUE FALSE  TRUE"
      ]
     },
     "metadata": {},
     "output_type": "display_data"
    }
   ],
   "source": [
    "complete.cases(df)\n",
    "# complete한, 즉 NA가 없는 행 번호를 Logical한 벡터로 알려준다."
   ]
  },
  {
   "cell_type": "code",
   "execution_count": 29,
   "id": "23a12d30-4366-40cc-a277-ea0054d34379",
   "metadata": {},
   "outputs": [
    {
     "data": {
      "text/html": [
       "'logical'"
      ],
      "text/latex": [
       "'logical'"
      ],
      "text/markdown": [
       "'logical'"
      ],
      "text/plain": [
       "[1] \"logical\""
      ]
     },
     "metadata": {},
     "output_type": "display_data"
    }
   ],
   "source": [
    "class(complete.cases(df))"
   ]
  },
  {
   "cell_type": "code",
   "execution_count": 25,
   "id": "ada8ecae-4155-4076-b129-d5d12cb78ed4",
   "metadata": {},
   "outputs": [
    {
     "data": {
      "text/html": [
       "<table class=\"dataframe\">\n",
       "<caption>A data.frame: 17 × 7</caption>\n",
       "<thead>\n",
       "\t<tr><th></th><th scope=col>Field.Name</th><th scope=col>Area</th><th scope=col>Slope</th><th scope=col>Vegetation</th><th scope=col>Soil.pH</th><th scope=col>Damp</th><th scope=col>Worm.density</th></tr>\n",
       "\t<tr><th></th><th scope=col>&lt;chr&gt;</th><th scope=col>&lt;dbl&gt;</th><th scope=col>&lt;int&gt;</th><th scope=col>&lt;chr&gt;</th><th scope=col>&lt;dbl&gt;</th><th scope=col>&lt;lgl&gt;</th><th scope=col>&lt;int&gt;</th></tr>\n",
       "</thead>\n",
       "<tbody>\n",
       "\t<tr><th scope=row>1</th><td>Nashs.Field      </td><td>3.6</td><td>11</td><td>Grassland</td><td>4.1</td><td>FALSE</td><td>4</td></tr>\n",
       "\t<tr><th scope=row>3</th><td>Nursery.Field    </td><td>2.8</td><td> 3</td><td>Grassland</td><td>4.3</td><td>FALSE</td><td>2</td></tr>\n",
       "\t<tr><th scope=row>4</th><td>Rush.Meadow      </td><td>2.4</td><td> 5</td><td>Meadow   </td><td>4.9</td><td> TRUE</td><td>5</td></tr>\n",
       "\t<tr><th scope=row>5</th><td>Gunness.Thicket  </td><td>3.8</td><td> 0</td><td>Scrub    </td><td>4.2</td><td>FALSE</td><td>6</td></tr>\n",
       "\t<tr><th scope=row>6</th><td>Oak.Mead         </td><td>3.1</td><td> 2</td><td>Grassland</td><td>3.9</td><td>FALSE</td><td>2</td></tr>\n",
       "\t<tr><th scope=row>8</th><td>Ashurst          </td><td>2.1</td><td> 0</td><td>Arable   </td><td>4.8</td><td>FALSE</td><td>4</td></tr>\n",
       "\t<tr><th scope=row>9</th><td>The.Orchard      </td><td>1.9</td><td> 0</td><td>Orchard  </td><td>5.7</td><td>FALSE</td><td>9</td></tr>\n",
       "\t<tr><th scope=row>10</th><td>Rookery.Slope    </td><td>1.5</td><td> 4</td><td>Grassland</td><td>5.0</td><td> TRUE</td><td>7</td></tr>\n",
       "\t<tr><th scope=row>11</th><td>Garden.Wood      </td><td>2.9</td><td>10</td><td>Scrub    </td><td>5.2</td><td>FALSE</td><td>8</td></tr>\n",
       "\t<tr><th scope=row>12</th><td>North.Gravel     </td><td>3.3</td><td> 1</td><td>Grassland</td><td>4.1</td><td>FALSE</td><td>1</td></tr>\n",
       "\t<tr><th scope=row>13</th><td>South.Gravel     </td><td>3.7</td><td> 2</td><td>Grassland</td><td>4.0</td><td>FALSE</td><td>2</td></tr>\n",
       "\t<tr><th scope=row>14</th><td>Observatory.Ridge</td><td>1.8</td><td> 6</td><td>Grassland</td><td>3.8</td><td>FALSE</td><td>0</td></tr>\n",
       "\t<tr><th scope=row>15</th><td>Pond.Field       </td><td>4.1</td><td> 0</td><td>Meadow   </td><td>5.0</td><td> TRUE</td><td>6</td></tr>\n",
       "\t<tr><th scope=row>16</th><td>Water.Meadow     </td><td>3.9</td><td> 0</td><td>Meadow   </td><td>4.9</td><td> TRUE</td><td>8</td></tr>\n",
       "\t<tr><th scope=row>17</th><td>Cheapside        </td><td>2.2</td><td> 8</td><td>Scrub    </td><td>4.7</td><td> TRUE</td><td>4</td></tr>\n",
       "\t<tr><th scope=row>18</th><td>Pound.Hill       </td><td>4.4</td><td> 2</td><td>Arable   </td><td>4.5</td><td>FALSE</td><td>5</td></tr>\n",
       "\t<tr><th scope=row>20</th><td>Farm.Wood        </td><td>0.8</td><td>10</td><td>Scrub    </td><td>5.1</td><td> TRUE</td><td>3</td></tr>\n",
       "</tbody>\n",
       "</table>\n"
      ],
      "text/latex": [
       "A data.frame: 17 × 7\n",
       "\\begin{tabular}{r|lllllll}\n",
       "  & Field.Name & Area & Slope & Vegetation & Soil.pH & Damp & Worm.density\\\\\n",
       "  & <chr> & <dbl> & <int> & <chr> & <dbl> & <lgl> & <int>\\\\\n",
       "\\hline\n",
       "\t1 & Nashs.Field       & 3.6 & 11 & Grassland & 4.1 & FALSE & 4\\\\\n",
       "\t3 & Nursery.Field     & 2.8 &  3 & Grassland & 4.3 & FALSE & 2\\\\\n",
       "\t4 & Rush.Meadow       & 2.4 &  5 & Meadow    & 4.9 &  TRUE & 5\\\\\n",
       "\t5 & Gunness.Thicket   & 3.8 &  0 & Scrub     & 4.2 & FALSE & 6\\\\\n",
       "\t6 & Oak.Mead          & 3.1 &  2 & Grassland & 3.9 & FALSE & 2\\\\\n",
       "\t8 & Ashurst           & 2.1 &  0 & Arable    & 4.8 & FALSE & 4\\\\\n",
       "\t9 & The.Orchard       & 1.9 &  0 & Orchard   & 5.7 & FALSE & 9\\\\\n",
       "\t10 & Rookery.Slope     & 1.5 &  4 & Grassland & 5.0 &  TRUE & 7\\\\\n",
       "\t11 & Garden.Wood       & 2.9 & 10 & Scrub     & 5.2 & FALSE & 8\\\\\n",
       "\t12 & North.Gravel      & 3.3 &  1 & Grassland & 4.1 & FALSE & 1\\\\\n",
       "\t13 & South.Gravel      & 3.7 &  2 & Grassland & 4.0 & FALSE & 2\\\\\n",
       "\t14 & Observatory.Ridge & 1.8 &  6 & Grassland & 3.8 & FALSE & 0\\\\\n",
       "\t15 & Pond.Field        & 4.1 &  0 & Meadow    & 5.0 &  TRUE & 6\\\\\n",
       "\t16 & Water.Meadow      & 3.9 &  0 & Meadow    & 4.9 &  TRUE & 8\\\\\n",
       "\t17 & Cheapside         & 2.2 &  8 & Scrub     & 4.7 &  TRUE & 4\\\\\n",
       "\t18 & Pound.Hill        & 4.4 &  2 & Arable    & 4.5 & FALSE & 5\\\\\n",
       "\t20 & Farm.Wood         & 0.8 & 10 & Scrub     & 5.1 &  TRUE & 3\\\\\n",
       "\\end{tabular}\n"
      ],
      "text/markdown": [
       "\n",
       "A data.frame: 17 × 7\n",
       "\n",
       "| <!--/--> | Field.Name &lt;chr&gt; | Area &lt;dbl&gt; | Slope &lt;int&gt; | Vegetation &lt;chr&gt; | Soil.pH &lt;dbl&gt; | Damp &lt;lgl&gt; | Worm.density &lt;int&gt; |\n",
       "|---|---|---|---|---|---|---|---|\n",
       "| 1 | Nashs.Field       | 3.6 | 11 | Grassland | 4.1 | FALSE | 4 |\n",
       "| 3 | Nursery.Field     | 2.8 |  3 | Grassland | 4.3 | FALSE | 2 |\n",
       "| 4 | Rush.Meadow       | 2.4 |  5 | Meadow    | 4.9 |  TRUE | 5 |\n",
       "| 5 | Gunness.Thicket   | 3.8 |  0 | Scrub     | 4.2 | FALSE | 6 |\n",
       "| 6 | Oak.Mead          | 3.1 |  2 | Grassland | 3.9 | FALSE | 2 |\n",
       "| 8 | Ashurst           | 2.1 |  0 | Arable    | 4.8 | FALSE | 4 |\n",
       "| 9 | The.Orchard       | 1.9 |  0 | Orchard   | 5.7 | FALSE | 9 |\n",
       "| 10 | Rookery.Slope     | 1.5 |  4 | Grassland | 5.0 |  TRUE | 7 |\n",
       "| 11 | Garden.Wood       | 2.9 | 10 | Scrub     | 5.2 | FALSE | 8 |\n",
       "| 12 | North.Gravel      | 3.3 |  1 | Grassland | 4.1 | FALSE | 1 |\n",
       "| 13 | South.Gravel      | 3.7 |  2 | Grassland | 4.0 | FALSE | 2 |\n",
       "| 14 | Observatory.Ridge | 1.8 |  6 | Grassland | 3.8 | FALSE | 0 |\n",
       "| 15 | Pond.Field        | 4.1 |  0 | Meadow    | 5.0 |  TRUE | 6 |\n",
       "| 16 | Water.Meadow      | 3.9 |  0 | Meadow    | 4.9 |  TRUE | 8 |\n",
       "| 17 | Cheapside         | 2.2 |  8 | Scrub     | 4.7 |  TRUE | 4 |\n",
       "| 18 | Pound.Hill        | 4.4 |  2 | Arable    | 4.5 | FALSE | 5 |\n",
       "| 20 | Farm.Wood         | 0.8 | 10 | Scrub     | 5.1 |  TRUE | 3 |\n",
       "\n"
      ],
      "text/plain": [
       "   Field.Name        Area Slope Vegetation Soil.pH Damp  Worm.density\n",
       "1  Nashs.Field       3.6  11    Grassland  4.1     FALSE 4           \n",
       "3  Nursery.Field     2.8   3    Grassland  4.3     FALSE 2           \n",
       "4  Rush.Meadow       2.4   5    Meadow     4.9      TRUE 5           \n",
       "5  Gunness.Thicket   3.8   0    Scrub      4.2     FALSE 6           \n",
       "6  Oak.Mead          3.1   2    Grassland  3.9     FALSE 2           \n",
       "8  Ashurst           2.1   0    Arable     4.8     FALSE 4           \n",
       "9  The.Orchard       1.9   0    Orchard    5.7     FALSE 9           \n",
       "10 Rookery.Slope     1.5   4    Grassland  5.0      TRUE 7           \n",
       "11 Garden.Wood       2.9  10    Scrub      5.2     FALSE 8           \n",
       "12 North.Gravel      3.3   1    Grassland  4.1     FALSE 1           \n",
       "13 South.Gravel      3.7   2    Grassland  4.0     FALSE 2           \n",
       "14 Observatory.Ridge 1.8   6    Grassland  3.8     FALSE 0           \n",
       "15 Pond.Field        4.1   0    Meadow     5.0      TRUE 6           \n",
       "16 Water.Meadow      3.9   0    Meadow     4.9      TRUE 8           \n",
       "17 Cheapside         2.2   8    Scrub      4.7      TRUE 4           \n",
       "18 Pound.Hill        4.4   2    Arable     4.5     FALSE 5           \n",
       "20 Farm.Wood         0.8  10    Scrub      5.1      TRUE 3           "
      ]
     },
     "metadata": {},
     "output_type": "display_data"
    }
   ],
   "source": [
    "df[complete.cases(df),]"
   ]
  },
  {
   "cell_type": "code",
   "execution_count": 31,
   "id": "7a553dae-3e19-45e5-940e-073da146ce2f",
   "metadata": {},
   "outputs": [],
   "source": [
    "#?apply"
   ]
  },
  {
   "cell_type": "code",
   "execution_count": 34,
   "id": "d76f202f-4042-4d3a-89e5-5a05694f0e8c",
   "metadata": {},
   "outputs": [
    {
     "data": {
      "text/html": [
       "<style>\n",
       ".dl-inline {width: auto; margin:0; padding: 0}\n",
       ".dl-inline>dt, .dl-inline>dd {float: none; width: auto; display: inline-block}\n",
       ".dl-inline>dt::after {content: \":\\0020\"; padding-right: .5ex}\n",
       ".dl-inline>dt:not(:first-of-type) {padding-left: .5ex}\n",
       "</style><dl class=dl-inline><dt>Field.Name</dt><dd>0</dd><dt>Area</dt><dd>1</dd><dt>Slope</dt><dd>1</dd><dt>Vegetation</dt><dd>0</dd><dt>Soil.pH</dt><dd>1</dd><dt>Damp</dt><dd>1</dd><dt>Worm.density</dt><dd>1</dd></dl>\n"
      ],
      "text/latex": [
       "\\begin{description*}\n",
       "\\item[Field.Name] 0\n",
       "\\item[Area] 1\n",
       "\\item[Slope] 1\n",
       "\\item[Vegetation] 0\n",
       "\\item[Soil.pH] 1\n",
       "\\item[Damp] 1\n",
       "\\item[Worm.density] 1\n",
       "\\end{description*}\n"
      ],
      "text/markdown": [
       "Field.Name\n",
       ":   0Area\n",
       ":   1Slope\n",
       ":   1Vegetation\n",
       ":   0Soil.pH\n",
       ":   1Damp\n",
       ":   1Worm.density\n",
       ":   1\n",
       "\n"
      ],
      "text/plain": [
       "  Field.Name         Area        Slope   Vegetation      Soil.pH         Damp \n",
       "           0            1            1            0            1            1 \n",
       "Worm.density \n",
       "           1 "
      ]
     },
     "metadata": {},
     "output_type": "display_data"
    }
   ],
   "source": [
    "apply(apply(df,2,is.na),2,sum)"
   ]
  },
  {
   "cell_type": "code",
   "execution_count": 35,
   "id": "5206956c-2ab2-4a55-9494-e6eb612d7f9f",
   "metadata": {},
   "outputs": [
    {
     "data": {
      "text/html": [
       "<table class=\"dataframe\">\n",
       "<caption>A matrix: 20 × 7 of type lgl</caption>\n",
       "<thead>\n",
       "\t<tr><th scope=col>Field.Name</th><th scope=col>Area</th><th scope=col>Slope</th><th scope=col>Vegetation</th><th scope=col>Soil.pH</th><th scope=col>Damp</th><th scope=col>Worm.density</th></tr>\n",
       "</thead>\n",
       "<tbody>\n",
       "\t<tr><td>FALSE</td><td>FALSE</td><td>FALSE</td><td>FALSE</td><td>FALSE</td><td>FALSE</td><td>FALSE</td></tr>\n",
       "\t<tr><td>FALSE</td><td>FALSE</td><td> TRUE</td><td>FALSE</td><td>FALSE</td><td>FALSE</td><td>FALSE</td></tr>\n",
       "\t<tr><td>FALSE</td><td>FALSE</td><td>FALSE</td><td>FALSE</td><td>FALSE</td><td>FALSE</td><td>FALSE</td></tr>\n",
       "\t<tr><td>FALSE</td><td>FALSE</td><td>FALSE</td><td>FALSE</td><td>FALSE</td><td>FALSE</td><td>FALSE</td></tr>\n",
       "\t<tr><td>FALSE</td><td>FALSE</td><td>FALSE</td><td>FALSE</td><td>FALSE</td><td>FALSE</td><td>FALSE</td></tr>\n",
       "\t<tr><td>FALSE</td><td>FALSE</td><td>FALSE</td><td>FALSE</td><td>FALSE</td><td>FALSE</td><td>FALSE</td></tr>\n",
       "\t<tr><td>FALSE</td><td>FALSE</td><td>FALSE</td><td>FALSE</td><td> TRUE</td><td> TRUE</td><td> TRUE</td></tr>\n",
       "\t<tr><td>FALSE</td><td>FALSE</td><td>FALSE</td><td>FALSE</td><td>FALSE</td><td>FALSE</td><td>FALSE</td></tr>\n",
       "\t<tr><td>FALSE</td><td>FALSE</td><td>FALSE</td><td>FALSE</td><td>FALSE</td><td>FALSE</td><td>FALSE</td></tr>\n",
       "\t<tr><td>FALSE</td><td>FALSE</td><td>FALSE</td><td>FALSE</td><td>FALSE</td><td>FALSE</td><td>FALSE</td></tr>\n",
       "\t<tr><td>FALSE</td><td>FALSE</td><td>FALSE</td><td>FALSE</td><td>FALSE</td><td>FALSE</td><td>FALSE</td></tr>\n",
       "\t<tr><td>FALSE</td><td>FALSE</td><td>FALSE</td><td>FALSE</td><td>FALSE</td><td>FALSE</td><td>FALSE</td></tr>\n",
       "\t<tr><td>FALSE</td><td>FALSE</td><td>FALSE</td><td>FALSE</td><td>FALSE</td><td>FALSE</td><td>FALSE</td></tr>\n",
       "\t<tr><td>FALSE</td><td>FALSE</td><td>FALSE</td><td>FALSE</td><td>FALSE</td><td>FALSE</td><td>FALSE</td></tr>\n",
       "\t<tr><td>FALSE</td><td>FALSE</td><td>FALSE</td><td>FALSE</td><td>FALSE</td><td>FALSE</td><td>FALSE</td></tr>\n",
       "\t<tr><td>FALSE</td><td>FALSE</td><td>FALSE</td><td>FALSE</td><td>FALSE</td><td>FALSE</td><td>FALSE</td></tr>\n",
       "\t<tr><td>FALSE</td><td>FALSE</td><td>FALSE</td><td>FALSE</td><td>FALSE</td><td>FALSE</td><td>FALSE</td></tr>\n",
       "\t<tr><td>FALSE</td><td>FALSE</td><td>FALSE</td><td>FALSE</td><td>FALSE</td><td>FALSE</td><td>FALSE</td></tr>\n",
       "\t<tr><td>FALSE</td><td> TRUE</td><td>FALSE</td><td>FALSE</td><td>FALSE</td><td>FALSE</td><td>FALSE</td></tr>\n",
       "\t<tr><td>FALSE</td><td>FALSE</td><td>FALSE</td><td>FALSE</td><td>FALSE</td><td>FALSE</td><td>FALSE</td></tr>\n",
       "</tbody>\n",
       "</table>\n"
      ],
      "text/latex": [
       "A matrix: 20 × 7 of type lgl\n",
       "\\begin{tabular}{lllllll}\n",
       " Field.Name & Area & Slope & Vegetation & Soil.pH & Damp & Worm.density\\\\\n",
       "\\hline\n",
       "\t FALSE & FALSE & FALSE & FALSE & FALSE & FALSE & FALSE\\\\\n",
       "\t FALSE & FALSE &  TRUE & FALSE & FALSE & FALSE & FALSE\\\\\n",
       "\t FALSE & FALSE & FALSE & FALSE & FALSE & FALSE & FALSE\\\\\n",
       "\t FALSE & FALSE & FALSE & FALSE & FALSE & FALSE & FALSE\\\\\n",
       "\t FALSE & FALSE & FALSE & FALSE & FALSE & FALSE & FALSE\\\\\n",
       "\t FALSE & FALSE & FALSE & FALSE & FALSE & FALSE & FALSE\\\\\n",
       "\t FALSE & FALSE & FALSE & FALSE &  TRUE &  TRUE &  TRUE\\\\\n",
       "\t FALSE & FALSE & FALSE & FALSE & FALSE & FALSE & FALSE\\\\\n",
       "\t FALSE & FALSE & FALSE & FALSE & FALSE & FALSE & FALSE\\\\\n",
       "\t FALSE & FALSE & FALSE & FALSE & FALSE & FALSE & FALSE\\\\\n",
       "\t FALSE & FALSE & FALSE & FALSE & FALSE & FALSE & FALSE\\\\\n",
       "\t FALSE & FALSE & FALSE & FALSE & FALSE & FALSE & FALSE\\\\\n",
       "\t FALSE & FALSE & FALSE & FALSE & FALSE & FALSE & FALSE\\\\\n",
       "\t FALSE & FALSE & FALSE & FALSE & FALSE & FALSE & FALSE\\\\\n",
       "\t FALSE & FALSE & FALSE & FALSE & FALSE & FALSE & FALSE\\\\\n",
       "\t FALSE & FALSE & FALSE & FALSE & FALSE & FALSE & FALSE\\\\\n",
       "\t FALSE & FALSE & FALSE & FALSE & FALSE & FALSE & FALSE\\\\\n",
       "\t FALSE & FALSE & FALSE & FALSE & FALSE & FALSE & FALSE\\\\\n",
       "\t FALSE &  TRUE & FALSE & FALSE & FALSE & FALSE & FALSE\\\\\n",
       "\t FALSE & FALSE & FALSE & FALSE & FALSE & FALSE & FALSE\\\\\n",
       "\\end{tabular}\n"
      ],
      "text/markdown": [
       "\n",
       "A matrix: 20 × 7 of type lgl\n",
       "\n",
       "| Field.Name | Area | Slope | Vegetation | Soil.pH | Damp | Worm.density |\n",
       "|---|---|---|---|---|---|---|\n",
       "| FALSE | FALSE | FALSE | FALSE | FALSE | FALSE | FALSE |\n",
       "| FALSE | FALSE |  TRUE | FALSE | FALSE | FALSE | FALSE |\n",
       "| FALSE | FALSE | FALSE | FALSE | FALSE | FALSE | FALSE |\n",
       "| FALSE | FALSE | FALSE | FALSE | FALSE | FALSE | FALSE |\n",
       "| FALSE | FALSE | FALSE | FALSE | FALSE | FALSE | FALSE |\n",
       "| FALSE | FALSE | FALSE | FALSE | FALSE | FALSE | FALSE |\n",
       "| FALSE | FALSE | FALSE | FALSE |  TRUE |  TRUE |  TRUE |\n",
       "| FALSE | FALSE | FALSE | FALSE | FALSE | FALSE | FALSE |\n",
       "| FALSE | FALSE | FALSE | FALSE | FALSE | FALSE | FALSE |\n",
       "| FALSE | FALSE | FALSE | FALSE | FALSE | FALSE | FALSE |\n",
       "| FALSE | FALSE | FALSE | FALSE | FALSE | FALSE | FALSE |\n",
       "| FALSE | FALSE | FALSE | FALSE | FALSE | FALSE | FALSE |\n",
       "| FALSE | FALSE | FALSE | FALSE | FALSE | FALSE | FALSE |\n",
       "| FALSE | FALSE | FALSE | FALSE | FALSE | FALSE | FALSE |\n",
       "| FALSE | FALSE | FALSE | FALSE | FALSE | FALSE | FALSE |\n",
       "| FALSE | FALSE | FALSE | FALSE | FALSE | FALSE | FALSE |\n",
       "| FALSE | FALSE | FALSE | FALSE | FALSE | FALSE | FALSE |\n",
       "| FALSE | FALSE | FALSE | FALSE | FALSE | FALSE | FALSE |\n",
       "| FALSE |  TRUE | FALSE | FALSE | FALSE | FALSE | FALSE |\n",
       "| FALSE | FALSE | FALSE | FALSE | FALSE | FALSE | FALSE |\n",
       "\n"
      ],
      "text/plain": [
       "      Field.Name Area  Slope Vegetation Soil.pH Damp  Worm.density\n",
       " [1,] FALSE      FALSE FALSE FALSE      FALSE   FALSE FALSE       \n",
       " [2,] FALSE      FALSE  TRUE FALSE      FALSE   FALSE FALSE       \n",
       " [3,] FALSE      FALSE FALSE FALSE      FALSE   FALSE FALSE       \n",
       " [4,] FALSE      FALSE FALSE FALSE      FALSE   FALSE FALSE       \n",
       " [5,] FALSE      FALSE FALSE FALSE      FALSE   FALSE FALSE       \n",
       " [6,] FALSE      FALSE FALSE FALSE      FALSE   FALSE FALSE       \n",
       " [7,] FALSE      FALSE FALSE FALSE       TRUE    TRUE  TRUE       \n",
       " [8,] FALSE      FALSE FALSE FALSE      FALSE   FALSE FALSE       \n",
       " [9,] FALSE      FALSE FALSE FALSE      FALSE   FALSE FALSE       \n",
       "[10,] FALSE      FALSE FALSE FALSE      FALSE   FALSE FALSE       \n",
       "[11,] FALSE      FALSE FALSE FALSE      FALSE   FALSE FALSE       \n",
       "[12,] FALSE      FALSE FALSE FALSE      FALSE   FALSE FALSE       \n",
       "[13,] FALSE      FALSE FALSE FALSE      FALSE   FALSE FALSE       \n",
       "[14,] FALSE      FALSE FALSE FALSE      FALSE   FALSE FALSE       \n",
       "[15,] FALSE      FALSE FALSE FALSE      FALSE   FALSE FALSE       \n",
       "[16,] FALSE      FALSE FALSE FALSE      FALSE   FALSE FALSE       \n",
       "[17,] FALSE      FALSE FALSE FALSE      FALSE   FALSE FALSE       \n",
       "[18,] FALSE      FALSE FALSE FALSE      FALSE   FALSE FALSE       \n",
       "[19,] FALSE       TRUE FALSE FALSE      FALSE   FALSE FALSE       \n",
       "[20,] FALSE      FALSE FALSE FALSE      FALSE   FALSE FALSE       "
      ]
     },
     "metadata": {},
     "output_type": "display_data"
    }
   ],
   "source": [
    "is.na(df)"
   ]
  },
  {
   "cell_type": "code",
   "execution_count": 37,
   "id": "9a18d973-2ac8-4d8b-b0fa-392a192a1d2b",
   "metadata": {},
   "outputs": [],
   "source": [
    "df[is.na(df)] = 0"
   ]
  },
  {
   "cell_type": "code",
   "execution_count": 38,
   "id": "c861bb16-5dde-4c22-812f-3d92ac98b030",
   "metadata": {},
   "outputs": [
    {
     "data": {
      "text/html": [
       "<table class=\"dataframe\">\n",
       "<caption>A data.frame: 20 × 7</caption>\n",
       "<thead>\n",
       "\t<tr><th scope=col>Field.Name</th><th scope=col>Area</th><th scope=col>Slope</th><th scope=col>Vegetation</th><th scope=col>Soil.pH</th><th scope=col>Damp</th><th scope=col>Worm.density</th></tr>\n",
       "\t<tr><th scope=col>&lt;chr&gt;</th><th scope=col>&lt;dbl&gt;</th><th scope=col>&lt;dbl&gt;</th><th scope=col>&lt;chr&gt;</th><th scope=col>&lt;dbl&gt;</th><th scope=col>&lt;dbl&gt;</th><th scope=col>&lt;dbl&gt;</th></tr>\n",
       "</thead>\n",
       "<tbody>\n",
       "\t<tr><td>Nashs.Field      </td><td>3.6</td><td>11</td><td>Grassland</td><td>4.1</td><td>0</td><td>4</td></tr>\n",
       "\t<tr><td>Silwood.Bottom   </td><td>5.1</td><td> 0</td><td>Arable   </td><td>5.2</td><td>0</td><td>7</td></tr>\n",
       "\t<tr><td>Nursery.Field    </td><td>2.8</td><td> 3</td><td>Grassland</td><td>4.3</td><td>0</td><td>2</td></tr>\n",
       "\t<tr><td>Rush.Meadow      </td><td>2.4</td><td> 5</td><td>Meadow   </td><td>4.9</td><td>1</td><td>5</td></tr>\n",
       "\t<tr><td>Gunness.Thicket  </td><td>3.8</td><td> 0</td><td>Scrub    </td><td>4.2</td><td>0</td><td>6</td></tr>\n",
       "\t<tr><td>Oak.Mead         </td><td>3.1</td><td> 2</td><td>Grassland</td><td>3.9</td><td>0</td><td>2</td></tr>\n",
       "\t<tr><td>Church.Field     </td><td>3.5</td><td> 3</td><td>Grassland</td><td>0.0</td><td>0</td><td>0</td></tr>\n",
       "\t<tr><td>Ashurst          </td><td>2.1</td><td> 0</td><td>Arable   </td><td>4.8</td><td>0</td><td>4</td></tr>\n",
       "\t<tr><td>The.Orchard      </td><td>1.9</td><td> 0</td><td>Orchard  </td><td>5.7</td><td>0</td><td>9</td></tr>\n",
       "\t<tr><td>Rookery.Slope    </td><td>1.5</td><td> 4</td><td>Grassland</td><td>5.0</td><td>1</td><td>7</td></tr>\n",
       "\t<tr><td>Garden.Wood      </td><td>2.9</td><td>10</td><td>Scrub    </td><td>5.2</td><td>0</td><td>8</td></tr>\n",
       "\t<tr><td>North.Gravel     </td><td>3.3</td><td> 1</td><td>Grassland</td><td>4.1</td><td>0</td><td>1</td></tr>\n",
       "\t<tr><td>South.Gravel     </td><td>3.7</td><td> 2</td><td>Grassland</td><td>4.0</td><td>0</td><td>2</td></tr>\n",
       "\t<tr><td>Observatory.Ridge</td><td>1.8</td><td> 6</td><td>Grassland</td><td>3.8</td><td>0</td><td>0</td></tr>\n",
       "\t<tr><td>Pond.Field       </td><td>4.1</td><td> 0</td><td>Meadow   </td><td>5.0</td><td>1</td><td>6</td></tr>\n",
       "\t<tr><td>Water.Meadow     </td><td>3.9</td><td> 0</td><td>Meadow   </td><td>4.9</td><td>1</td><td>8</td></tr>\n",
       "\t<tr><td>Cheapside        </td><td>2.2</td><td> 8</td><td>Scrub    </td><td>4.7</td><td>1</td><td>4</td></tr>\n",
       "\t<tr><td>Pound.Hill       </td><td>4.4</td><td> 2</td><td>Arable   </td><td>4.5</td><td>0</td><td>5</td></tr>\n",
       "\t<tr><td>Gravel.Pit       </td><td>0.0</td><td> 1</td><td>Grassland</td><td>3.5</td><td>0</td><td>1</td></tr>\n",
       "\t<tr><td>Farm.Wood        </td><td>0.8</td><td>10</td><td>Scrub    </td><td>5.1</td><td>1</td><td>3</td></tr>\n",
       "</tbody>\n",
       "</table>\n"
      ],
      "text/latex": [
       "A data.frame: 20 × 7\n",
       "\\begin{tabular}{lllllll}\n",
       " Field.Name & Area & Slope & Vegetation & Soil.pH & Damp & Worm.density\\\\\n",
       " <chr> & <dbl> & <dbl> & <chr> & <dbl> & <dbl> & <dbl>\\\\\n",
       "\\hline\n",
       "\t Nashs.Field       & 3.6 & 11 & Grassland & 4.1 & 0 & 4\\\\\n",
       "\t Silwood.Bottom    & 5.1 &  0 & Arable    & 5.2 & 0 & 7\\\\\n",
       "\t Nursery.Field     & 2.8 &  3 & Grassland & 4.3 & 0 & 2\\\\\n",
       "\t Rush.Meadow       & 2.4 &  5 & Meadow    & 4.9 & 1 & 5\\\\\n",
       "\t Gunness.Thicket   & 3.8 &  0 & Scrub     & 4.2 & 0 & 6\\\\\n",
       "\t Oak.Mead          & 3.1 &  2 & Grassland & 3.9 & 0 & 2\\\\\n",
       "\t Church.Field      & 3.5 &  3 & Grassland & 0.0 & 0 & 0\\\\\n",
       "\t Ashurst           & 2.1 &  0 & Arable    & 4.8 & 0 & 4\\\\\n",
       "\t The.Orchard       & 1.9 &  0 & Orchard   & 5.7 & 0 & 9\\\\\n",
       "\t Rookery.Slope     & 1.5 &  4 & Grassland & 5.0 & 1 & 7\\\\\n",
       "\t Garden.Wood       & 2.9 & 10 & Scrub     & 5.2 & 0 & 8\\\\\n",
       "\t North.Gravel      & 3.3 &  1 & Grassland & 4.1 & 0 & 1\\\\\n",
       "\t South.Gravel      & 3.7 &  2 & Grassland & 4.0 & 0 & 2\\\\\n",
       "\t Observatory.Ridge & 1.8 &  6 & Grassland & 3.8 & 0 & 0\\\\\n",
       "\t Pond.Field        & 4.1 &  0 & Meadow    & 5.0 & 1 & 6\\\\\n",
       "\t Water.Meadow      & 3.9 &  0 & Meadow    & 4.9 & 1 & 8\\\\\n",
       "\t Cheapside         & 2.2 &  8 & Scrub     & 4.7 & 1 & 4\\\\\n",
       "\t Pound.Hill        & 4.4 &  2 & Arable    & 4.5 & 0 & 5\\\\\n",
       "\t Gravel.Pit        & 0.0 &  1 & Grassland & 3.5 & 0 & 1\\\\\n",
       "\t Farm.Wood         & 0.8 & 10 & Scrub     & 5.1 & 1 & 3\\\\\n",
       "\\end{tabular}\n"
      ],
      "text/markdown": [
       "\n",
       "A data.frame: 20 × 7\n",
       "\n",
       "| Field.Name &lt;chr&gt; | Area &lt;dbl&gt; | Slope &lt;dbl&gt; | Vegetation &lt;chr&gt; | Soil.pH &lt;dbl&gt; | Damp &lt;dbl&gt; | Worm.density &lt;dbl&gt; |\n",
       "|---|---|---|---|---|---|---|\n",
       "| Nashs.Field       | 3.6 | 11 | Grassland | 4.1 | 0 | 4 |\n",
       "| Silwood.Bottom    | 5.1 |  0 | Arable    | 5.2 | 0 | 7 |\n",
       "| Nursery.Field     | 2.8 |  3 | Grassland | 4.3 | 0 | 2 |\n",
       "| Rush.Meadow       | 2.4 |  5 | Meadow    | 4.9 | 1 | 5 |\n",
       "| Gunness.Thicket   | 3.8 |  0 | Scrub     | 4.2 | 0 | 6 |\n",
       "| Oak.Mead          | 3.1 |  2 | Grassland | 3.9 | 0 | 2 |\n",
       "| Church.Field      | 3.5 |  3 | Grassland | 0.0 | 0 | 0 |\n",
       "| Ashurst           | 2.1 |  0 | Arable    | 4.8 | 0 | 4 |\n",
       "| The.Orchard       | 1.9 |  0 | Orchard   | 5.7 | 0 | 9 |\n",
       "| Rookery.Slope     | 1.5 |  4 | Grassland | 5.0 | 1 | 7 |\n",
       "| Garden.Wood       | 2.9 | 10 | Scrub     | 5.2 | 0 | 8 |\n",
       "| North.Gravel      | 3.3 |  1 | Grassland | 4.1 | 0 | 1 |\n",
       "| South.Gravel      | 3.7 |  2 | Grassland | 4.0 | 0 | 2 |\n",
       "| Observatory.Ridge | 1.8 |  6 | Grassland | 3.8 | 0 | 0 |\n",
       "| Pond.Field        | 4.1 |  0 | Meadow    | 5.0 | 1 | 6 |\n",
       "| Water.Meadow      | 3.9 |  0 | Meadow    | 4.9 | 1 | 8 |\n",
       "| Cheapside         | 2.2 |  8 | Scrub     | 4.7 | 1 | 4 |\n",
       "| Pound.Hill        | 4.4 |  2 | Arable    | 4.5 | 0 | 5 |\n",
       "| Gravel.Pit        | 0.0 |  1 | Grassland | 3.5 | 0 | 1 |\n",
       "| Farm.Wood         | 0.8 | 10 | Scrub     | 5.1 | 1 | 3 |\n",
       "\n"
      ],
      "text/plain": [
       "   Field.Name        Area Slope Vegetation Soil.pH Damp Worm.density\n",
       "1  Nashs.Field       3.6  11    Grassland  4.1     0    4           \n",
       "2  Silwood.Bottom    5.1   0    Arable     5.2     0    7           \n",
       "3  Nursery.Field     2.8   3    Grassland  4.3     0    2           \n",
       "4  Rush.Meadow       2.4   5    Meadow     4.9     1    5           \n",
       "5  Gunness.Thicket   3.8   0    Scrub      4.2     0    6           \n",
       "6  Oak.Mead          3.1   2    Grassland  3.9     0    2           \n",
       "7  Church.Field      3.5   3    Grassland  0.0     0    0           \n",
       "8  Ashurst           2.1   0    Arable     4.8     0    4           \n",
       "9  The.Orchard       1.9   0    Orchard    5.7     0    9           \n",
       "10 Rookery.Slope     1.5   4    Grassland  5.0     1    7           \n",
       "11 Garden.Wood       2.9  10    Scrub      5.2     0    8           \n",
       "12 North.Gravel      3.3   1    Grassland  4.1     0    1           \n",
       "13 South.Gravel      3.7   2    Grassland  4.0     0    2           \n",
       "14 Observatory.Ridge 1.8   6    Grassland  3.8     0    0           \n",
       "15 Pond.Field        4.1   0    Meadow     5.0     1    6           \n",
       "16 Water.Meadow      3.9   0    Meadow     4.9     1    8           \n",
       "17 Cheapside         2.2   8    Scrub      4.7     1    4           \n",
       "18 Pound.Hill        4.4   2    Arable     4.5     0    5           \n",
       "19 Gravel.Pit        0.0   1    Grassland  3.5     0    1           \n",
       "20 Farm.Wood         0.8  10    Scrub      5.1     1    3           "
      ]
     },
     "metadata": {},
     "output_type": "display_data"
    }
   ],
   "source": [
    "df"
   ]
  },
  {
   "cell_type": "code",
   "execution_count": 49,
   "id": "fa284f62-98f0-4b4b-bc02-a12f6a0834e2",
   "metadata": {},
   "outputs": [
    {
     "data": {
      "text/html": [
       "1"
      ],
      "text/latex": [
       "1"
      ],
      "text/markdown": [
       "1"
      ],
      "text/plain": [
       "[1] 1"
      ]
     },
     "metadata": {},
     "output_type": "display_data"
    }
   ],
   "source": [
    "order(1,3,1,2,3,4)"
   ]
  },
  {
   "cell_type": "code",
   "execution_count": 50,
   "id": "462481f4-bb50-44f9-b419-8bce259b8d60",
   "metadata": {},
   "outputs": [
    {
     "data": {
      "text/html": [
       "<style>\n",
       ".list-inline {list-style: none; margin:0; padding: 0}\n",
       ".list-inline>li {display: inline-block}\n",
       ".list-inline>li:not(:last-child)::after {content: \"\\00b7\"; padding: 0 .5ex}\n",
       "</style>\n",
       "<ol class=list-inline><li>'Grassland'</li><li>'Arable'</li><li>'Grassland'</li><li>'Meadow'</li><li>'Scrub'</li><li>'Grassland'</li><li>'Grassland'</li><li>'Arable'</li><li>'Orchard'</li><li>'Grassland'</li><li>'Scrub'</li><li>'Grassland'</li><li>'Grassland'</li><li>'Grassland'</li><li>'Meadow'</li><li>'Meadow'</li><li>'Scrub'</li><li>'Arable'</li><li>'Grassland'</li><li>'Scrub'</li></ol>\n"
      ],
      "text/latex": [
       "\\begin{enumerate*}\n",
       "\\item 'Grassland'\n",
       "\\item 'Arable'\n",
       "\\item 'Grassland'\n",
       "\\item 'Meadow'\n",
       "\\item 'Scrub'\n",
       "\\item 'Grassland'\n",
       "\\item 'Grassland'\n",
       "\\item 'Arable'\n",
       "\\item 'Orchard'\n",
       "\\item 'Grassland'\n",
       "\\item 'Scrub'\n",
       "\\item 'Grassland'\n",
       "\\item 'Grassland'\n",
       "\\item 'Grassland'\n",
       "\\item 'Meadow'\n",
       "\\item 'Meadow'\n",
       "\\item 'Scrub'\n",
       "\\item 'Arable'\n",
       "\\item 'Grassland'\n",
       "\\item 'Scrub'\n",
       "\\end{enumerate*}\n"
      ],
      "text/markdown": [
       "1. 'Grassland'\n",
       "2. 'Arable'\n",
       "3. 'Grassland'\n",
       "4. 'Meadow'\n",
       "5. 'Scrub'\n",
       "6. 'Grassland'\n",
       "7. 'Grassland'\n",
       "8. 'Arable'\n",
       "9. 'Orchard'\n",
       "10. 'Grassland'\n",
       "11. 'Scrub'\n",
       "12. 'Grassland'\n",
       "13. 'Grassland'\n",
       "14. 'Grassland'\n",
       "15. 'Meadow'\n",
       "16. 'Meadow'\n",
       "17. 'Scrub'\n",
       "18. 'Arable'\n",
       "19. 'Grassland'\n",
       "20. 'Scrub'\n",
       "\n",
       "\n"
      ],
      "text/plain": [
       " [1] \"Grassland\" \"Arable\"    \"Grassland\" \"Meadow\"    \"Scrub\"     \"Grassland\"\n",
       " [7] \"Grassland\" \"Arable\"    \"Orchard\"   \"Grassland\" \"Scrub\"     \"Grassland\"\n",
       "[13] \"Grassland\" \"Grassland\" \"Meadow\"    \"Meadow\"    \"Scrub\"     \"Arable\"   \n",
       "[19] \"Grassland\" \"Scrub\"    "
      ]
     },
     "metadata": {},
     "output_type": "display_data"
    }
   ],
   "source": [
    "worms$Vegetation"
   ]
  },
  {
   "cell_type": "code",
   "execution_count": 45,
   "id": "f06adaf9-bd96-4c98-8b30-03cbb4a4c6ba",
   "metadata": {},
   "outputs": [
    {
     "data": {
      "text/html": [
       "<style>\n",
       ".list-inline {list-style: none; margin:0; padding: 0}\n",
       ".list-inline>li {display: inline-block}\n",
       ".list-inline>li:not(:last-child)::after {content: \"\\00b7\"; padding: 0 .5ex}\n",
       "</style>\n",
       "<ol class=list-inline><li>2</li><li>8</li><li>18</li><li>1</li><li>3</li><li>6</li><li>7</li><li>10</li><li>12</li><li>13</li><li>14</li><li>19</li><li>4</li><li>15</li><li>16</li><li>9</li><li>5</li><li>11</li><li>17</li><li>20</li></ol>\n"
      ],
      "text/latex": [
       "\\begin{enumerate*}\n",
       "\\item 2\n",
       "\\item 8\n",
       "\\item 18\n",
       "\\item 1\n",
       "\\item 3\n",
       "\\item 6\n",
       "\\item 7\n",
       "\\item 10\n",
       "\\item 12\n",
       "\\item 13\n",
       "\\item 14\n",
       "\\item 19\n",
       "\\item 4\n",
       "\\item 15\n",
       "\\item 16\n",
       "\\item 9\n",
       "\\item 5\n",
       "\\item 11\n",
       "\\item 17\n",
       "\\item 20\n",
       "\\end{enumerate*}\n"
      ],
      "text/markdown": [
       "1. 2\n",
       "2. 8\n",
       "3. 18\n",
       "4. 1\n",
       "5. 3\n",
       "6. 6\n",
       "7. 7\n",
       "8. 10\n",
       "9. 12\n",
       "10. 13\n",
       "11. 14\n",
       "12. 19\n",
       "13. 4\n",
       "14. 15\n",
       "15. 16\n",
       "16. 9\n",
       "17. 5\n",
       "18. 11\n",
       "19. 17\n",
       "20. 20\n",
       "\n",
       "\n"
      ],
      "text/plain": [
       " [1]  2  8 18  1  3  6  7 10 12 13 14 19  4 15 16  9  5 11 17 20"
      ]
     },
     "metadata": {},
     "output_type": "display_data"
    }
   ],
   "source": [
    "order(worms$Vegetation)"
   ]
  },
  {
   "cell_type": "code",
   "execution_count": 51,
   "id": "d875d43f-1ec2-4c89-9b9f-823a46632e16",
   "metadata": {},
   "outputs": [
    {
     "data": {
      "text/html": [
       "<style>\n",
       ".list-inline {list-style: none; margin:0; padding: 0}\n",
       ".list-inline>li {display: inline-block}\n",
       ".list-inline>li:not(:last-child)::after {content: \"\\00b7\"; padding: 0 .5ex}\n",
       "</style>\n",
       "<ol class=list-inline><li>-4</li><li>-7</li><li>-2</li><li>-5</li><li>-6</li><li>-2</li><li>-3</li><li>-4</li><li>-9</li><li>-7</li><li>-8</li><li>-1</li><li>-2</li><li>0</li><li>-6</li><li>-8</li><li>-4</li><li>-5</li><li>-1</li><li>-3</li></ol>\n"
      ],
      "text/latex": [
       "\\begin{enumerate*}\n",
       "\\item -4\n",
       "\\item -7\n",
       "\\item -2\n",
       "\\item -5\n",
       "\\item -6\n",
       "\\item -2\n",
       "\\item -3\n",
       "\\item -4\n",
       "\\item -9\n",
       "\\item -7\n",
       "\\item -8\n",
       "\\item -1\n",
       "\\item -2\n",
       "\\item 0\n",
       "\\item -6\n",
       "\\item -8\n",
       "\\item -4\n",
       "\\item -5\n",
       "\\item -1\n",
       "\\item -3\n",
       "\\end{enumerate*}\n"
      ],
      "text/markdown": [
       "1. -4\n",
       "2. -7\n",
       "3. -2\n",
       "4. -5\n",
       "5. -6\n",
       "6. -2\n",
       "7. -3\n",
       "8. -4\n",
       "9. -9\n",
       "10. -7\n",
       "11. -8\n",
       "12. -1\n",
       "13. -2\n",
       "14. 0\n",
       "15. -6\n",
       "16. -8\n",
       "17. -4\n",
       "18. -5\n",
       "19. -1\n",
       "20. -3\n",
       "\n",
       "\n"
      ],
      "text/plain": [
       " [1] -4 -7 -2 -5 -6 -2 -3 -4 -9 -7 -8 -1 -2  0 -6 -8 -4 -5 -1 -3"
      ]
     },
     "metadata": {},
     "output_type": "display_data"
    }
   ],
   "source": [
    "-worms$Worm.density"
   ]
  },
  {
   "cell_type": "code",
   "execution_count": 47,
   "id": "64101424-c7bb-4c90-9e4b-6c360273bfb0",
   "metadata": {},
   "outputs": [
    {
     "data": {
      "text/html": [
       "<style>\n",
       ".list-inline {list-style: none; margin:0; padding: 0}\n",
       ".list-inline>li {display: inline-block}\n",
       ".list-inline>li:not(:last-child)::after {content: \"\\00b7\"; padding: 0 .5ex}\n",
       "</style>\n",
       "<ol class=list-inline><li>9</li><li>11</li><li>16</li><li>2</li><li>10</li><li>5</li><li>15</li><li>4</li><li>18</li><li>1</li><li>8</li><li>17</li><li>7</li><li>20</li><li>3</li><li>6</li><li>13</li><li>12</li><li>19</li><li>14</li></ol>\n"
      ],
      "text/latex": [
       "\\begin{enumerate*}\n",
       "\\item 9\n",
       "\\item 11\n",
       "\\item 16\n",
       "\\item 2\n",
       "\\item 10\n",
       "\\item 5\n",
       "\\item 15\n",
       "\\item 4\n",
       "\\item 18\n",
       "\\item 1\n",
       "\\item 8\n",
       "\\item 17\n",
       "\\item 7\n",
       "\\item 20\n",
       "\\item 3\n",
       "\\item 6\n",
       "\\item 13\n",
       "\\item 12\n",
       "\\item 19\n",
       "\\item 14\n",
       "\\end{enumerate*}\n"
      ],
      "text/markdown": [
       "1. 9\n",
       "2. 11\n",
       "3. 16\n",
       "4. 2\n",
       "5. 10\n",
       "6. 5\n",
       "7. 15\n",
       "8. 4\n",
       "9. 18\n",
       "10. 1\n",
       "11. 8\n",
       "12. 17\n",
       "13. 7\n",
       "14. 20\n",
       "15. 3\n",
       "16. 6\n",
       "17. 13\n",
       "18. 12\n",
       "19. 19\n",
       "20. 14\n",
       "\n",
       "\n"
      ],
      "text/plain": [
       " [1]  9 11 16  2 10  5 15  4 18  1  8 17  7 20  3  6 13 12 19 14"
      ]
     },
     "metadata": {},
     "output_type": "display_data"
    }
   ],
   "source": [
    "order(-worms$Worm.density)"
   ]
  },
  {
   "cell_type": "code",
   "execution_count": 43,
   "id": "f88a7fd3-3149-477d-9d6e-abe777f7d246",
   "metadata": {},
   "outputs": [
    {
     "data": {
      "text/html": [
       "<style>\n",
       ".list-inline {list-style: none; margin:0; padding: 0}\n",
       ".list-inline>li {display: inline-block}\n",
       ".list-inline>li:not(:last-child)::after {content: \"\\00b7\"; padding: 0 .5ex}\n",
       "</style>\n",
       "<ol class=list-inline><li>2</li><li>18</li><li>8</li><li>10</li><li>1</li><li>7</li><li>3</li><li>6</li><li>13</li><li>12</li><li>19</li><li>14</li><li>16</li><li>15</li><li>4</li><li>9</li><li>11</li><li>5</li><li>17</li><li>20</li></ol>\n"
      ],
      "text/latex": [
       "\\begin{enumerate*}\n",
       "\\item 2\n",
       "\\item 18\n",
       "\\item 8\n",
       "\\item 10\n",
       "\\item 1\n",
       "\\item 7\n",
       "\\item 3\n",
       "\\item 6\n",
       "\\item 13\n",
       "\\item 12\n",
       "\\item 19\n",
       "\\item 14\n",
       "\\item 16\n",
       "\\item 15\n",
       "\\item 4\n",
       "\\item 9\n",
       "\\item 11\n",
       "\\item 5\n",
       "\\item 17\n",
       "\\item 20\n",
       "\\end{enumerate*}\n"
      ],
      "text/markdown": [
       "1. 2\n",
       "2. 18\n",
       "3. 8\n",
       "4. 10\n",
       "5. 1\n",
       "6. 7\n",
       "7. 3\n",
       "8. 6\n",
       "9. 13\n",
       "10. 12\n",
       "11. 19\n",
       "12. 14\n",
       "13. 16\n",
       "14. 15\n",
       "15. 4\n",
       "16. 9\n",
       "17. 11\n",
       "18. 5\n",
       "19. 17\n",
       "20. 20\n",
       "\n",
       "\n"
      ],
      "text/plain": [
       " [1]  2 18  8 10  1  7  3  6 13 12 19 14 16 15  4  9 11  5 17 20"
      ]
     },
     "metadata": {},
     "output_type": "display_data"
    }
   ],
   "source": [
    "order(worms$Vegetation,-worms$Worm.density)"
   ]
  },
  {
   "cell_type": "code",
   "execution_count": 40,
   "id": "d201e864-a852-4e18-959e-23d9c274d086",
   "metadata": {},
   "outputs": [
    {
     "data": {
      "text/html": [
       "<table class=\"dataframe\">\n",
       "<caption>A data.frame: 20 × 7</caption>\n",
       "<thead>\n",
       "\t<tr><th></th><th scope=col>Field.Name</th><th scope=col>Area</th><th scope=col>Slope</th><th scope=col>Vegetation</th><th scope=col>Soil.pH</th><th scope=col>Damp</th><th scope=col>Worm.density</th></tr>\n",
       "\t<tr><th></th><th scope=col>&lt;chr&gt;</th><th scope=col>&lt;dbl&gt;</th><th scope=col>&lt;int&gt;</th><th scope=col>&lt;chr&gt;</th><th scope=col>&lt;dbl&gt;</th><th scope=col>&lt;lgl&gt;</th><th scope=col>&lt;int&gt;</th></tr>\n",
       "</thead>\n",
       "<tbody>\n",
       "\t<tr><th scope=row>2</th><td>Silwood.Bottom   </td><td>5.1</td><td> 2</td><td>Arable   </td><td>5.2</td><td>FALSE</td><td>7</td></tr>\n",
       "\t<tr><th scope=row>18</th><td>Pound.Hill       </td><td>4.4</td><td> 2</td><td>Arable   </td><td>4.5</td><td>FALSE</td><td>5</td></tr>\n",
       "\t<tr><th scope=row>8</th><td>Ashurst          </td><td>2.1</td><td> 0</td><td>Arable   </td><td>4.8</td><td>FALSE</td><td>4</td></tr>\n",
       "\t<tr><th scope=row>10</th><td>Rookery.Slope    </td><td>1.5</td><td> 4</td><td>Grassland</td><td>5.0</td><td> TRUE</td><td>7</td></tr>\n",
       "\t<tr><th scope=row>1</th><td>Nashs.Field      </td><td>3.6</td><td>11</td><td>Grassland</td><td>4.1</td><td>FALSE</td><td>4</td></tr>\n",
       "\t<tr><th scope=row>7</th><td>Church.Field     </td><td>3.5</td><td> 3</td><td>Grassland</td><td>4.2</td><td>FALSE</td><td>3</td></tr>\n",
       "\t<tr><th scope=row>3</th><td>Nursery.Field    </td><td>2.8</td><td> 3</td><td>Grassland</td><td>4.3</td><td>FALSE</td><td>2</td></tr>\n",
       "\t<tr><th scope=row>6</th><td>Oak.Mead         </td><td>3.1</td><td> 2</td><td>Grassland</td><td>3.9</td><td>FALSE</td><td>2</td></tr>\n",
       "\t<tr><th scope=row>13</th><td>South.Gravel     </td><td>3.7</td><td> 2</td><td>Grassland</td><td>4.0</td><td>FALSE</td><td>2</td></tr>\n",
       "\t<tr><th scope=row>12</th><td>North.Gravel     </td><td>3.3</td><td> 1</td><td>Grassland</td><td>4.1</td><td>FALSE</td><td>1</td></tr>\n",
       "\t<tr><th scope=row>19</th><td>Gravel.Pit       </td><td>2.9</td><td> 1</td><td>Grassland</td><td>3.5</td><td>FALSE</td><td>1</td></tr>\n",
       "\t<tr><th scope=row>14</th><td>Observatory.Ridge</td><td>1.8</td><td> 6</td><td>Grassland</td><td>3.8</td><td>FALSE</td><td>0</td></tr>\n",
       "\t<tr><th scope=row>16</th><td>Water.Meadow     </td><td>3.9</td><td> 0</td><td>Meadow   </td><td>4.9</td><td> TRUE</td><td>8</td></tr>\n",
       "\t<tr><th scope=row>15</th><td>Pond.Field       </td><td>4.1</td><td> 0</td><td>Meadow   </td><td>5.0</td><td> TRUE</td><td>6</td></tr>\n",
       "\t<tr><th scope=row>4</th><td>Rush.Meadow      </td><td>2.4</td><td> 5</td><td>Meadow   </td><td>4.9</td><td> TRUE</td><td>5</td></tr>\n",
       "\t<tr><th scope=row>9</th><td>The.Orchard      </td><td>1.9</td><td> 0</td><td>Orchard  </td><td>5.7</td><td>FALSE</td><td>9</td></tr>\n",
       "\t<tr><th scope=row>11</th><td>Garden.Wood      </td><td>2.9</td><td>10</td><td>Scrub    </td><td>5.2</td><td>FALSE</td><td>8</td></tr>\n",
       "\t<tr><th scope=row>5</th><td>Gunness.Thicket  </td><td>3.8</td><td> 0</td><td>Scrub    </td><td>4.2</td><td>FALSE</td><td>6</td></tr>\n",
       "\t<tr><th scope=row>17</th><td>Cheapside        </td><td>2.2</td><td> 8</td><td>Scrub    </td><td>4.7</td><td> TRUE</td><td>4</td></tr>\n",
       "\t<tr><th scope=row>20</th><td>Farm.Wood        </td><td>0.8</td><td>10</td><td>Scrub    </td><td>5.1</td><td> TRUE</td><td>3</td></tr>\n",
       "</tbody>\n",
       "</table>\n"
      ],
      "text/latex": [
       "A data.frame: 20 × 7\n",
       "\\begin{tabular}{r|lllllll}\n",
       "  & Field.Name & Area & Slope & Vegetation & Soil.pH & Damp & Worm.density\\\\\n",
       "  & <chr> & <dbl> & <int> & <chr> & <dbl> & <lgl> & <int>\\\\\n",
       "\\hline\n",
       "\t2 & Silwood.Bottom    & 5.1 &  2 & Arable    & 5.2 & FALSE & 7\\\\\n",
       "\t18 & Pound.Hill        & 4.4 &  2 & Arable    & 4.5 & FALSE & 5\\\\\n",
       "\t8 & Ashurst           & 2.1 &  0 & Arable    & 4.8 & FALSE & 4\\\\\n",
       "\t10 & Rookery.Slope     & 1.5 &  4 & Grassland & 5.0 &  TRUE & 7\\\\\n",
       "\t1 & Nashs.Field       & 3.6 & 11 & Grassland & 4.1 & FALSE & 4\\\\\n",
       "\t7 & Church.Field      & 3.5 &  3 & Grassland & 4.2 & FALSE & 3\\\\\n",
       "\t3 & Nursery.Field     & 2.8 &  3 & Grassland & 4.3 & FALSE & 2\\\\\n",
       "\t6 & Oak.Mead          & 3.1 &  2 & Grassland & 3.9 & FALSE & 2\\\\\n",
       "\t13 & South.Gravel      & 3.7 &  2 & Grassland & 4.0 & FALSE & 2\\\\\n",
       "\t12 & North.Gravel      & 3.3 &  1 & Grassland & 4.1 & FALSE & 1\\\\\n",
       "\t19 & Gravel.Pit        & 2.9 &  1 & Grassland & 3.5 & FALSE & 1\\\\\n",
       "\t14 & Observatory.Ridge & 1.8 &  6 & Grassland & 3.8 & FALSE & 0\\\\\n",
       "\t16 & Water.Meadow      & 3.9 &  0 & Meadow    & 4.9 &  TRUE & 8\\\\\n",
       "\t15 & Pond.Field        & 4.1 &  0 & Meadow    & 5.0 &  TRUE & 6\\\\\n",
       "\t4 & Rush.Meadow       & 2.4 &  5 & Meadow    & 4.9 &  TRUE & 5\\\\\n",
       "\t9 & The.Orchard       & 1.9 &  0 & Orchard   & 5.7 & FALSE & 9\\\\\n",
       "\t11 & Garden.Wood       & 2.9 & 10 & Scrub     & 5.2 & FALSE & 8\\\\\n",
       "\t5 & Gunness.Thicket   & 3.8 &  0 & Scrub     & 4.2 & FALSE & 6\\\\\n",
       "\t17 & Cheapside         & 2.2 &  8 & Scrub     & 4.7 &  TRUE & 4\\\\\n",
       "\t20 & Farm.Wood         & 0.8 & 10 & Scrub     & 5.1 &  TRUE & 3\\\\\n",
       "\\end{tabular}\n"
      ],
      "text/markdown": [
       "\n",
       "A data.frame: 20 × 7\n",
       "\n",
       "| <!--/--> | Field.Name &lt;chr&gt; | Area &lt;dbl&gt; | Slope &lt;int&gt; | Vegetation &lt;chr&gt; | Soil.pH &lt;dbl&gt; | Damp &lt;lgl&gt; | Worm.density &lt;int&gt; |\n",
       "|---|---|---|---|---|---|---|---|\n",
       "| 2 | Silwood.Bottom    | 5.1 |  2 | Arable    | 5.2 | FALSE | 7 |\n",
       "| 18 | Pound.Hill        | 4.4 |  2 | Arable    | 4.5 | FALSE | 5 |\n",
       "| 8 | Ashurst           | 2.1 |  0 | Arable    | 4.8 | FALSE | 4 |\n",
       "| 10 | Rookery.Slope     | 1.5 |  4 | Grassland | 5.0 |  TRUE | 7 |\n",
       "| 1 | Nashs.Field       | 3.6 | 11 | Grassland | 4.1 | FALSE | 4 |\n",
       "| 7 | Church.Field      | 3.5 |  3 | Grassland | 4.2 | FALSE | 3 |\n",
       "| 3 | Nursery.Field     | 2.8 |  3 | Grassland | 4.3 | FALSE | 2 |\n",
       "| 6 | Oak.Mead          | 3.1 |  2 | Grassland | 3.9 | FALSE | 2 |\n",
       "| 13 | South.Gravel      | 3.7 |  2 | Grassland | 4.0 | FALSE | 2 |\n",
       "| 12 | North.Gravel      | 3.3 |  1 | Grassland | 4.1 | FALSE | 1 |\n",
       "| 19 | Gravel.Pit        | 2.9 |  1 | Grassland | 3.5 | FALSE | 1 |\n",
       "| 14 | Observatory.Ridge | 1.8 |  6 | Grassland | 3.8 | FALSE | 0 |\n",
       "| 16 | Water.Meadow      | 3.9 |  0 | Meadow    | 4.9 |  TRUE | 8 |\n",
       "| 15 | Pond.Field        | 4.1 |  0 | Meadow    | 5.0 |  TRUE | 6 |\n",
       "| 4 | Rush.Meadow       | 2.4 |  5 | Meadow    | 4.9 |  TRUE | 5 |\n",
       "| 9 | The.Orchard       | 1.9 |  0 | Orchard   | 5.7 | FALSE | 9 |\n",
       "| 11 | Garden.Wood       | 2.9 | 10 | Scrub     | 5.2 | FALSE | 8 |\n",
       "| 5 | Gunness.Thicket   | 3.8 |  0 | Scrub     | 4.2 | FALSE | 6 |\n",
       "| 17 | Cheapside         | 2.2 |  8 | Scrub     | 4.7 |  TRUE | 4 |\n",
       "| 20 | Farm.Wood         | 0.8 | 10 | Scrub     | 5.1 |  TRUE | 3 |\n",
       "\n"
      ],
      "text/plain": [
       "   Field.Name        Area Slope Vegetation Soil.pH Damp  Worm.density\n",
       "2  Silwood.Bottom    5.1   2    Arable     5.2     FALSE 7           \n",
       "18 Pound.Hill        4.4   2    Arable     4.5     FALSE 5           \n",
       "8  Ashurst           2.1   0    Arable     4.8     FALSE 4           \n",
       "10 Rookery.Slope     1.5   4    Grassland  5.0      TRUE 7           \n",
       "1  Nashs.Field       3.6  11    Grassland  4.1     FALSE 4           \n",
       "7  Church.Field      3.5   3    Grassland  4.2     FALSE 3           \n",
       "3  Nursery.Field     2.8   3    Grassland  4.3     FALSE 2           \n",
       "6  Oak.Mead          3.1   2    Grassland  3.9     FALSE 2           \n",
       "13 South.Gravel      3.7   2    Grassland  4.0     FALSE 2           \n",
       "12 North.Gravel      3.3   1    Grassland  4.1     FALSE 1           \n",
       "19 Gravel.Pit        2.9   1    Grassland  3.5     FALSE 1           \n",
       "14 Observatory.Ridge 1.8   6    Grassland  3.8     FALSE 0           \n",
       "16 Water.Meadow      3.9   0    Meadow     4.9      TRUE 8           \n",
       "15 Pond.Field        4.1   0    Meadow     5.0      TRUE 6           \n",
       "4  Rush.Meadow       2.4   5    Meadow     4.9      TRUE 5           \n",
       "9  The.Orchard       1.9   0    Orchard    5.7     FALSE 9           \n",
       "11 Garden.Wood       2.9  10    Scrub      5.2     FALSE 8           \n",
       "5  Gunness.Thicket   3.8   0    Scrub      4.2     FALSE 6           \n",
       "17 Cheapside         2.2   8    Scrub      4.7      TRUE 4           \n",
       "20 Farm.Wood         0.8  10    Scrub      5.1      TRUE 3           "
      ]
     },
     "metadata": {},
     "output_type": "display_data"
    }
   ],
   "source": [
    "worms[order(worms$Vegetation,-worms$Worm.density),]"
   ]
  },
  {
   "cell_type": "code",
   "execution_count": 54,
   "id": "7646a4bc-5c98-464a-8967-30dcedb2d6bb",
   "metadata": {},
   "outputs": [
    {
     "data": {
      "text/html": [
       "<table class=\"dataframe\">\n",
       "<caption>A data.frame: 20 × 7</caption>\n",
       "<thead>\n",
       "\t<tr><th></th><th scope=col>Field.Name</th><th scope=col>Area</th><th scope=col>Slope</th><th scope=col>Vegetation</th><th scope=col>Soil.pH</th><th scope=col>Damp</th><th scope=col>Worm.density</th></tr>\n",
       "\t<tr><th></th><th scope=col>&lt;chr&gt;</th><th scope=col>&lt;dbl&gt;</th><th scope=col>&lt;int&gt;</th><th scope=col>&lt;chr&gt;</th><th scope=col>&lt;dbl&gt;</th><th scope=col>&lt;lgl&gt;</th><th scope=col>&lt;int&gt;</th></tr>\n",
       "</thead>\n",
       "<tbody>\n",
       "\t<tr><th scope=row>11</th><td>Garden.Wood      </td><td>2.9</td><td>10</td><td>Scrub    </td><td>5.2</td><td>FALSE</td><td>8</td></tr>\n",
       "\t<tr><th scope=row>5</th><td>Gunness.Thicket  </td><td>3.8</td><td> 0</td><td>Scrub    </td><td>4.2</td><td>FALSE</td><td>6</td></tr>\n",
       "\t<tr><th scope=row>17</th><td>Cheapside        </td><td>2.2</td><td> 8</td><td>Scrub    </td><td>4.7</td><td> TRUE</td><td>4</td></tr>\n",
       "\t<tr><th scope=row>20</th><td>Farm.Wood        </td><td>0.8</td><td>10</td><td>Scrub    </td><td>5.1</td><td> TRUE</td><td>3</td></tr>\n",
       "\t<tr><th scope=row>9</th><td>The.Orchard      </td><td>1.9</td><td> 0</td><td>Orchard  </td><td>5.7</td><td>FALSE</td><td>9</td></tr>\n",
       "\t<tr><th scope=row>16</th><td>Water.Meadow     </td><td>3.9</td><td> 0</td><td>Meadow   </td><td>4.9</td><td> TRUE</td><td>8</td></tr>\n",
       "\t<tr><th scope=row>15</th><td>Pond.Field       </td><td>4.1</td><td> 0</td><td>Meadow   </td><td>5.0</td><td> TRUE</td><td>6</td></tr>\n",
       "\t<tr><th scope=row>4</th><td>Rush.Meadow      </td><td>2.4</td><td> 5</td><td>Meadow   </td><td>4.9</td><td> TRUE</td><td>5</td></tr>\n",
       "\t<tr><th scope=row>10</th><td>Rookery.Slope    </td><td>1.5</td><td> 4</td><td>Grassland</td><td>5.0</td><td> TRUE</td><td>7</td></tr>\n",
       "\t<tr><th scope=row>1</th><td>Nashs.Field      </td><td>3.6</td><td>11</td><td>Grassland</td><td>4.1</td><td>FALSE</td><td>4</td></tr>\n",
       "\t<tr><th scope=row>7</th><td>Church.Field     </td><td>3.5</td><td> 3</td><td>Grassland</td><td>4.2</td><td>FALSE</td><td>3</td></tr>\n",
       "\t<tr><th scope=row>3</th><td>Nursery.Field    </td><td>2.8</td><td> 3</td><td>Grassland</td><td>4.3</td><td>FALSE</td><td>2</td></tr>\n",
       "\t<tr><th scope=row>6</th><td>Oak.Mead         </td><td>3.1</td><td> 2</td><td>Grassland</td><td>3.9</td><td>FALSE</td><td>2</td></tr>\n",
       "\t<tr><th scope=row>13</th><td>South.Gravel     </td><td>3.7</td><td> 2</td><td>Grassland</td><td>4.0</td><td>FALSE</td><td>2</td></tr>\n",
       "\t<tr><th scope=row>12</th><td>North.Gravel     </td><td>3.3</td><td> 1</td><td>Grassland</td><td>4.1</td><td>FALSE</td><td>1</td></tr>\n",
       "\t<tr><th scope=row>19</th><td>Gravel.Pit       </td><td>2.9</td><td> 1</td><td>Grassland</td><td>3.5</td><td>FALSE</td><td>1</td></tr>\n",
       "\t<tr><th scope=row>14</th><td>Observatory.Ridge</td><td>1.8</td><td> 6</td><td>Grassland</td><td>3.8</td><td>FALSE</td><td>0</td></tr>\n",
       "\t<tr><th scope=row>2</th><td>Silwood.Bottom   </td><td>5.1</td><td> 2</td><td>Arable   </td><td>5.2</td><td>FALSE</td><td>7</td></tr>\n",
       "\t<tr><th scope=row>18</th><td>Pound.Hill       </td><td>4.4</td><td> 2</td><td>Arable   </td><td>4.5</td><td>FALSE</td><td>5</td></tr>\n",
       "\t<tr><th scope=row>8</th><td>Ashurst          </td><td>2.1</td><td> 0</td><td>Arable   </td><td>4.8</td><td>FALSE</td><td>4</td></tr>\n",
       "</tbody>\n",
       "</table>\n"
      ],
      "text/latex": [
       "A data.frame: 20 × 7\n",
       "\\begin{tabular}{r|lllllll}\n",
       "  & Field.Name & Area & Slope & Vegetation & Soil.pH & Damp & Worm.density\\\\\n",
       "  & <chr> & <dbl> & <int> & <chr> & <dbl> & <lgl> & <int>\\\\\n",
       "\\hline\n",
       "\t11 & Garden.Wood       & 2.9 & 10 & Scrub     & 5.2 & FALSE & 8\\\\\n",
       "\t5 & Gunness.Thicket   & 3.8 &  0 & Scrub     & 4.2 & FALSE & 6\\\\\n",
       "\t17 & Cheapside         & 2.2 &  8 & Scrub     & 4.7 &  TRUE & 4\\\\\n",
       "\t20 & Farm.Wood         & 0.8 & 10 & Scrub     & 5.1 &  TRUE & 3\\\\\n",
       "\t9 & The.Orchard       & 1.9 &  0 & Orchard   & 5.7 & FALSE & 9\\\\\n",
       "\t16 & Water.Meadow      & 3.9 &  0 & Meadow    & 4.9 &  TRUE & 8\\\\\n",
       "\t15 & Pond.Field        & 4.1 &  0 & Meadow    & 5.0 &  TRUE & 6\\\\\n",
       "\t4 & Rush.Meadow       & 2.4 &  5 & Meadow    & 4.9 &  TRUE & 5\\\\\n",
       "\t10 & Rookery.Slope     & 1.5 &  4 & Grassland & 5.0 &  TRUE & 7\\\\\n",
       "\t1 & Nashs.Field       & 3.6 & 11 & Grassland & 4.1 & FALSE & 4\\\\\n",
       "\t7 & Church.Field      & 3.5 &  3 & Grassland & 4.2 & FALSE & 3\\\\\n",
       "\t3 & Nursery.Field     & 2.8 &  3 & Grassland & 4.3 & FALSE & 2\\\\\n",
       "\t6 & Oak.Mead          & 3.1 &  2 & Grassland & 3.9 & FALSE & 2\\\\\n",
       "\t13 & South.Gravel      & 3.7 &  2 & Grassland & 4.0 & FALSE & 2\\\\\n",
       "\t12 & North.Gravel      & 3.3 &  1 & Grassland & 4.1 & FALSE & 1\\\\\n",
       "\t19 & Gravel.Pit        & 2.9 &  1 & Grassland & 3.5 & FALSE & 1\\\\\n",
       "\t14 & Observatory.Ridge & 1.8 &  6 & Grassland & 3.8 & FALSE & 0\\\\\n",
       "\t2 & Silwood.Bottom    & 5.1 &  2 & Arable    & 5.2 & FALSE & 7\\\\\n",
       "\t18 & Pound.Hill        & 4.4 &  2 & Arable    & 4.5 & FALSE & 5\\\\\n",
       "\t8 & Ashurst           & 2.1 &  0 & Arable    & 4.8 & FALSE & 4\\\\\n",
       "\\end{tabular}\n"
      ],
      "text/markdown": [
       "\n",
       "A data.frame: 20 × 7\n",
       "\n",
       "| <!--/--> | Field.Name &lt;chr&gt; | Area &lt;dbl&gt; | Slope &lt;int&gt; | Vegetation &lt;chr&gt; | Soil.pH &lt;dbl&gt; | Damp &lt;lgl&gt; | Worm.density &lt;int&gt; |\n",
       "|---|---|---|---|---|---|---|---|\n",
       "| 11 | Garden.Wood       | 2.9 | 10 | Scrub     | 5.2 | FALSE | 8 |\n",
       "| 5 | Gunness.Thicket   | 3.8 |  0 | Scrub     | 4.2 | FALSE | 6 |\n",
       "| 17 | Cheapside         | 2.2 |  8 | Scrub     | 4.7 |  TRUE | 4 |\n",
       "| 20 | Farm.Wood         | 0.8 | 10 | Scrub     | 5.1 |  TRUE | 3 |\n",
       "| 9 | The.Orchard       | 1.9 |  0 | Orchard   | 5.7 | FALSE | 9 |\n",
       "| 16 | Water.Meadow      | 3.9 |  0 | Meadow    | 4.9 |  TRUE | 8 |\n",
       "| 15 | Pond.Field        | 4.1 |  0 | Meadow    | 5.0 |  TRUE | 6 |\n",
       "| 4 | Rush.Meadow       | 2.4 |  5 | Meadow    | 4.9 |  TRUE | 5 |\n",
       "| 10 | Rookery.Slope     | 1.5 |  4 | Grassland | 5.0 |  TRUE | 7 |\n",
       "| 1 | Nashs.Field       | 3.6 | 11 | Grassland | 4.1 | FALSE | 4 |\n",
       "| 7 | Church.Field      | 3.5 |  3 | Grassland | 4.2 | FALSE | 3 |\n",
       "| 3 | Nursery.Field     | 2.8 |  3 | Grassland | 4.3 | FALSE | 2 |\n",
       "| 6 | Oak.Mead          | 3.1 |  2 | Grassland | 3.9 | FALSE | 2 |\n",
       "| 13 | South.Gravel      | 3.7 |  2 | Grassland | 4.0 | FALSE | 2 |\n",
       "| 12 | North.Gravel      | 3.3 |  1 | Grassland | 4.1 | FALSE | 1 |\n",
       "| 19 | Gravel.Pit        | 2.9 |  1 | Grassland | 3.5 | FALSE | 1 |\n",
       "| 14 | Observatory.Ridge | 1.8 |  6 | Grassland | 3.8 | FALSE | 0 |\n",
       "| 2 | Silwood.Bottom    | 5.1 |  2 | Arable    | 5.2 | FALSE | 7 |\n",
       "| 18 | Pound.Hill        | 4.4 |  2 | Arable    | 4.5 | FALSE | 5 |\n",
       "| 8 | Ashurst           | 2.1 |  0 | Arable    | 4.8 | FALSE | 4 |\n",
       "\n"
      ],
      "text/plain": [
       "   Field.Name        Area Slope Vegetation Soil.pH Damp  Worm.density\n",
       "11 Garden.Wood       2.9  10    Scrub      5.2     FALSE 8           \n",
       "5  Gunness.Thicket   3.8   0    Scrub      4.2     FALSE 6           \n",
       "17 Cheapside         2.2   8    Scrub      4.7      TRUE 4           \n",
       "20 Farm.Wood         0.8  10    Scrub      5.1      TRUE 3           \n",
       "9  The.Orchard       1.9   0    Orchard    5.7     FALSE 9           \n",
       "16 Water.Meadow      3.9   0    Meadow     4.9      TRUE 8           \n",
       "15 Pond.Field        4.1   0    Meadow     5.0      TRUE 6           \n",
       "4  Rush.Meadow       2.4   5    Meadow     4.9      TRUE 5           \n",
       "10 Rookery.Slope     1.5   4    Grassland  5.0      TRUE 7           \n",
       "1  Nashs.Field       3.6  11    Grassland  4.1     FALSE 4           \n",
       "7  Church.Field      3.5   3    Grassland  4.2     FALSE 3           \n",
       "3  Nursery.Field     2.8   3    Grassland  4.3     FALSE 2           \n",
       "6  Oak.Mead          3.1   2    Grassland  3.9     FALSE 2           \n",
       "13 South.Gravel      3.7   2    Grassland  4.0     FALSE 2           \n",
       "12 North.Gravel      3.3   1    Grassland  4.1     FALSE 1           \n",
       "19 Gravel.Pit        2.9   1    Grassland  3.5     FALSE 1           \n",
       "14 Observatory.Ridge 1.8   6    Grassland  3.8     FALSE 0           \n",
       "2  Silwood.Bottom    5.1   2    Arable     5.2     FALSE 7           \n",
       "18 Pound.Hill        4.4   2    Arable     4.5     FALSE 5           \n",
       "8  Ashurst           2.1   0    Arable     4.8     FALSE 4           "
      ]
     },
     "metadata": {},
     "output_type": "display_data"
    }
   ],
   "source": [
    "worms[order(-rank(worms$Vegetation),-worms$Worm.density),]"
   ]
  },
  {
   "cell_type": "code",
   "execution_count": 55,
   "id": "d131ec6f-fad9-4391-9441-287bfa2b2f12",
   "metadata": {},
   "outputs": [
    {
     "data": {
      "text/html": [
       "<style>\n",
       ".list-inline {list-style: none; margin:0; padding: 0}\n",
       ".list-inline>li {display: inline-block}\n",
       ".list-inline>li:not(:last-child)::after {content: \"\\00b7\"; padding: 0 .5ex}\n",
       "</style>\n",
       "<ol class=list-inline><li>'Field.Name'</li><li>'Area'</li><li>'Slope'</li><li>'Vegetation'</li><li>'Soil.pH'</li><li>'Damp'</li><li>'Worm.density'</li></ol>\n"
      ],
      "text/latex": [
       "\\begin{enumerate*}\n",
       "\\item 'Field.Name'\n",
       "\\item 'Area'\n",
       "\\item 'Slope'\n",
       "\\item 'Vegetation'\n",
       "\\item 'Soil.pH'\n",
       "\\item 'Damp'\n",
       "\\item 'Worm.density'\n",
       "\\end{enumerate*}\n"
      ],
      "text/markdown": [
       "1. 'Field.Name'\n",
       "2. 'Area'\n",
       "3. 'Slope'\n",
       "4. 'Vegetation'\n",
       "5. 'Soil.pH'\n",
       "6. 'Damp'\n",
       "7. 'Worm.density'\n",
       "\n",
       "\n"
      ],
      "text/plain": [
       "[1] \"Field.Name\"   \"Area\"         \"Slope\"        \"Vegetation\"   \"Soil.pH\"     \n",
       "[6] \"Damp\"         \"Worm.density\""
      ]
     },
     "metadata": {},
     "output_type": "display_data"
    }
   ],
   "source": [
    "names(worms)"
   ]
  },
  {
   "cell_type": "code",
   "execution_count": 56,
   "id": "7196b8e6-5d17-48b7-b6cd-c3891960b79f",
   "metadata": {},
   "outputs": [
    {
     "data": {
      "text/html": [
       "<table class=\"dataframe\">\n",
       "<caption>A data.frame: 20 × 2</caption>\n",
       "<thead>\n",
       "\t<tr><th scope=col>Slope</th><th scope=col>Soil.pH</th></tr>\n",
       "\t<tr><th scope=col>&lt;int&gt;</th><th scope=col>&lt;dbl&gt;</th></tr>\n",
       "</thead>\n",
       "<tbody>\n",
       "\t<tr><td>11</td><td>4.1</td></tr>\n",
       "\t<tr><td> 2</td><td>5.2</td></tr>\n",
       "\t<tr><td> 3</td><td>4.3</td></tr>\n",
       "\t<tr><td> 5</td><td>4.9</td></tr>\n",
       "\t<tr><td> 0</td><td>4.2</td></tr>\n",
       "\t<tr><td> 2</td><td>3.9</td></tr>\n",
       "\t<tr><td> 3</td><td>4.2</td></tr>\n",
       "\t<tr><td> 0</td><td>4.8</td></tr>\n",
       "\t<tr><td> 0</td><td>5.7</td></tr>\n",
       "\t<tr><td> 4</td><td>5.0</td></tr>\n",
       "\t<tr><td>10</td><td>5.2</td></tr>\n",
       "\t<tr><td> 1</td><td>4.1</td></tr>\n",
       "\t<tr><td> 2</td><td>4.0</td></tr>\n",
       "\t<tr><td> 6</td><td>3.8</td></tr>\n",
       "\t<tr><td> 0</td><td>5.0</td></tr>\n",
       "\t<tr><td> 0</td><td>4.9</td></tr>\n",
       "\t<tr><td> 8</td><td>4.7</td></tr>\n",
       "\t<tr><td> 2</td><td>4.5</td></tr>\n",
       "\t<tr><td> 1</td><td>3.5</td></tr>\n",
       "\t<tr><td>10</td><td>5.1</td></tr>\n",
       "</tbody>\n",
       "</table>\n"
      ],
      "text/latex": [
       "A data.frame: 20 × 2\n",
       "\\begin{tabular}{ll}\n",
       " Slope & Soil.pH\\\\\n",
       " <int> & <dbl>\\\\\n",
       "\\hline\n",
       "\t 11 & 4.1\\\\\n",
       "\t  2 & 5.2\\\\\n",
       "\t  3 & 4.3\\\\\n",
       "\t  5 & 4.9\\\\\n",
       "\t  0 & 4.2\\\\\n",
       "\t  2 & 3.9\\\\\n",
       "\t  3 & 4.2\\\\\n",
       "\t  0 & 4.8\\\\\n",
       "\t  0 & 5.7\\\\\n",
       "\t  4 & 5.0\\\\\n",
       "\t 10 & 5.2\\\\\n",
       "\t  1 & 4.1\\\\\n",
       "\t  2 & 4.0\\\\\n",
       "\t  6 & 3.8\\\\\n",
       "\t  0 & 5.0\\\\\n",
       "\t  0 & 4.9\\\\\n",
       "\t  8 & 4.7\\\\\n",
       "\t  2 & 4.5\\\\\n",
       "\t  1 & 3.5\\\\\n",
       "\t 10 & 5.1\\\\\n",
       "\\end{tabular}\n"
      ],
      "text/markdown": [
       "\n",
       "A data.frame: 20 × 2\n",
       "\n",
       "| Slope &lt;int&gt; | Soil.pH &lt;dbl&gt; |\n",
       "|---|---|\n",
       "| 11 | 4.1 |\n",
       "|  2 | 5.2 |\n",
       "|  3 | 4.3 |\n",
       "|  5 | 4.9 |\n",
       "|  0 | 4.2 |\n",
       "|  2 | 3.9 |\n",
       "|  3 | 4.2 |\n",
       "|  0 | 4.8 |\n",
       "|  0 | 5.7 |\n",
       "|  4 | 5.0 |\n",
       "| 10 | 5.2 |\n",
       "|  1 | 4.1 |\n",
       "|  2 | 4.0 |\n",
       "|  6 | 3.8 |\n",
       "|  0 | 5.0 |\n",
       "|  0 | 4.9 |\n",
       "|  8 | 4.7 |\n",
       "|  2 | 4.5 |\n",
       "|  1 | 3.5 |\n",
       "| 10 | 5.1 |\n",
       "\n"
      ],
      "text/plain": [
       "   Slope Soil.pH\n",
       "1  11    4.1    \n",
       "2   2    5.2    \n",
       "3   3    4.3    \n",
       "4   5    4.9    \n",
       "5   0    4.2    \n",
       "6   2    3.9    \n",
       "7   3    4.2    \n",
       "8   0    4.8    \n",
       "9   0    5.7    \n",
       "10  4    5.0    \n",
       "11 10    5.2    \n",
       "12  1    4.1    \n",
       "13  2    4.0    \n",
       "14  6    3.8    \n",
       "15  0    5.0    \n",
       "16  0    4.9    \n",
       "17  8    4.7    \n",
       "18  2    4.5    \n",
       "19  1    3.5    \n",
       "20 10    5.1    "
      ]
     },
     "metadata": {},
     "output_type": "display_data"
    }
   ],
   "source": [
    "worms[,grep(\"^S\",names(worms))]"
   ]
  },
  {
   "cell_type": "code",
   "execution_count": null,
   "id": "4a463962-b1ae-437a-bcd2-8a7295fe51d3",
   "metadata": {},
   "outputs": [],
   "source": []
  }
 ],
 "metadata": {
  "kernelspec": {
   "display_name": "R",
   "language": "R",
   "name": "ir"
  },
  "language_info": {
   "codemirror_mode": "r",
   "file_extension": ".r",
   "mimetype": "text/x-r-source",
   "name": "R",
   "pygments_lexer": "r",
   "version": "4.2.2"
  }
 },
 "nbformat": 4,
 "nbformat_minor": 5
}
