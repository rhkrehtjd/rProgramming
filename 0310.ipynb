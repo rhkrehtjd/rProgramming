{
 "cells": [
  {
   "cell_type": "code",
   "execution_count": 7,
   "id": "73f38f2d-a584-44ce-8d94-8b0d7bbe8be6",
   "metadata": {},
   "outputs": [
    {
     "data": {
      "text/html": [
       "<table class=\"dataframe\">\n",
       "<caption>A matrix: 4 × 5 of type int</caption>\n",
       "<tbody>\n",
       "\t<tr><td>1</td><td>0</td><td>2</td><td>2</td><td>2</td></tr>\n",
       "\t<tr><td>1</td><td>3</td><td>0</td><td>1</td><td>5</td></tr>\n",
       "\t<tr><td>2</td><td>4</td><td>0</td><td>2</td><td>1</td></tr>\n",
       "\t<tr><td>3</td><td>2</td><td>0</td><td>1</td><td>2</td></tr>\n",
       "</tbody>\n",
       "</table>\n"
      ],
      "text/latex": [
       "A matrix: 4 × 5 of type int\n",
       "\\begin{tabular}{lllll}\n",
       "\t 1 & 0 & 2 & 2 & 2\\\\\n",
       "\t 1 & 3 & 0 & 1 & 5\\\\\n",
       "\t 2 & 4 & 0 & 2 & 1\\\\\n",
       "\t 3 & 2 & 0 & 1 & 2\\\\\n",
       "\\end{tabular}\n"
      ],
      "text/markdown": [
       "\n",
       "A matrix: 4 × 5 of type int\n",
       "\n",
       "| 1 | 0 | 2 | 2 | 2 |\n",
       "| 1 | 3 | 0 | 1 | 5 |\n",
       "| 2 | 4 | 0 | 2 | 1 |\n",
       "| 3 | 2 | 0 | 1 | 2 |\n",
       "\n"
      ],
      "text/plain": [
       "     [,1] [,2] [,3] [,4] [,5]\n",
       "[1,] 1    0    2    2    2   \n",
       "[2,] 1    3    0    1    5   \n",
       "[3,] 2    4    0    2    1   \n",
       "[4,] 3    2    0    1    2   "
      ]
     },
     "metadata": {},
     "output_type": "display_data"
    }
   ],
   "source": [
    "set.seed(1)\n",
    "X <- matrix(rpois(20, 1.5), nrow=4)\n",
    "X"
   ]
  },
  {
   "cell_type": "code",
   "execution_count": 8,
   "id": "5196024d-a993-4d81-b5dc-9735fd2e698a",
   "metadata": {},
   "outputs": [
    {
     "data": {
      "text/html": [
       "<style>\n",
       ".list-inline {list-style: none; margin:0; padding: 0}\n",
       ".list-inline>li {display: inline-block}\n",
       ".list-inline>li:not(:last-child)::after {content: \"\\00b7\"; padding: 0 .5ex}\n",
       "</style>\n",
       "<ol class=list-inline><li>1</li><li>1</li><li>2</li><li>3</li><li>0</li><li>3</li><li>4</li><li>2</li><li>2</li><li>0</li><li>0</li><li>0</li><li>2</li><li>1</li><li>2</li><li>1</li><li>2</li><li>5</li><li>1</li><li>2</li></ol>\n"
      ],
      "text/latex": [
       "\\begin{enumerate*}\n",
       "\\item 1\n",
       "\\item 1\n",
       "\\item 2\n",
       "\\item 3\n",
       "\\item 0\n",
       "\\item 3\n",
       "\\item 4\n",
       "\\item 2\n",
       "\\item 2\n",
       "\\item 0\n",
       "\\item 0\n",
       "\\item 0\n",
       "\\item 2\n",
       "\\item 1\n",
       "\\item 2\n",
       "\\item 1\n",
       "\\item 2\n",
       "\\item 5\n",
       "\\item 1\n",
       "\\item 2\n",
       "\\end{enumerate*}\n"
      ],
      "text/markdown": [
       "1. 1\n",
       "2. 1\n",
       "3. 2\n",
       "4. 3\n",
       "5. 0\n",
       "6. 3\n",
       "7. 4\n",
       "8. 2\n",
       "9. 2\n",
       "10. 0\n",
       "11. 0\n",
       "12. 0\n",
       "13. 2\n",
       "14. 1\n",
       "15. 2\n",
       "16. 1\n",
       "17. 2\n",
       "18. 5\n",
       "19. 1\n",
       "20. 2\n",
       "\n",
       "\n"
      ],
      "text/plain": [
       " [1] 1 1 2 3 0 3 4 2 2 0 0 0 2 1 2 1 2 5 1 2"
      ]
     },
     "metadata": {},
     "output_type": "display_data"
    }
   ],
   "source": [
    "set.seed(1)\n",
    "rpois(20,1.5)"
   ]
  },
  {
   "cell_type": "code",
   "execution_count": 6,
   "id": "bf09b8f4-6b1b-49c9-bad0-f890c7f6bbd0",
   "metadata": {},
   "outputs": [
    {
     "data": {
      "text/html": [
       "<table class=\"dataframe\">\n",
       "<caption>A matrix: 4 × 5 of type int</caption>\n",
       "<tbody>\n",
       "\t<tr><th scope=row>Trial.1</th><td>1</td><td>0</td><td>2</td><td>2</td><td>2</td></tr>\n",
       "\t<tr><th scope=row>Trial.2</th><td>1</td><td>3</td><td>0</td><td>1</td><td>5</td></tr>\n",
       "\t<tr><th scope=row>Trial.3</th><td>2</td><td>4</td><td>0</td><td>2</td><td>1</td></tr>\n",
       "\t<tr><th scope=row>Trial.4</th><td>3</td><td>2</td><td>0</td><td>1</td><td>2</td></tr>\n",
       "</tbody>\n",
       "</table>\n"
      ],
      "text/latex": [
       "A matrix: 4 × 5 of type int\n",
       "\\begin{tabular}{r|lllll}\n",
       "\tTrial.1 & 1 & 0 & 2 & 2 & 2\\\\\n",
       "\tTrial.2 & 1 & 3 & 0 & 1 & 5\\\\\n",
       "\tTrial.3 & 2 & 4 & 0 & 2 & 1\\\\\n",
       "\tTrial.4 & 3 & 2 & 0 & 1 & 2\\\\\n",
       "\\end{tabular}\n"
      ],
      "text/markdown": [
       "\n",
       "A matrix: 4 × 5 of type int\n",
       "\n",
       "| Trial.1 | 1 | 0 | 2 | 2 | 2 |\n",
       "| Trial.2 | 1 | 3 | 0 | 1 | 5 |\n",
       "| Trial.3 | 2 | 4 | 0 | 2 | 1 |\n",
       "| Trial.4 | 3 | 2 | 0 | 1 | 2 |\n",
       "\n"
      ],
      "text/plain": [
       "        [,1] [,2] [,3] [,4] [,5]\n",
       "Trial.1 1    0    2    2    2   \n",
       "Trial.2 1    3    0    1    5   \n",
       "Trial.3 2    4    0    2    1   \n",
       "Trial.4 3    2    0    1    2   "
      ]
     },
     "metadata": {},
     "output_type": "display_data"
    }
   ],
   "source": [
    "rownames(X) <- rownames(X, do.NULL=FALSE, prefix=\"Trial.\")\n",
    "X"
   ]
  },
  {
   "cell_type": "code",
   "execution_count": 11,
   "id": "342fdd31-53d4-4449-9819-622b1d263875",
   "metadata": {},
   "outputs": [],
   "source": [
    "set.seed(1)\n",
    "X <- matrix(rpois(20, 1.5), nrow=4)"
   ]
  },
  {
   "cell_type": "code",
   "execution_count": 12,
   "id": "c6ef70fd-0291-44e3-bf98-64a7be5ea0b2",
   "metadata": {},
   "outputs": [
    {
     "data": {
      "text/html": [
       "<table class=\"dataframe\">\n",
       "<caption>A matrix: 4 × 5 of type int</caption>\n",
       "<tbody>\n",
       "\t<tr><td>1</td><td>0</td><td>2</td><td>2</td><td>2</td></tr>\n",
       "\t<tr><td>1</td><td>3</td><td>0</td><td>1</td><td>5</td></tr>\n",
       "\t<tr><td>2</td><td>4</td><td>0</td><td>2</td><td>1</td></tr>\n",
       "\t<tr><td>3</td><td>2</td><td>0</td><td>1</td><td>2</td></tr>\n",
       "</tbody>\n",
       "</table>\n"
      ],
      "text/latex": [
       "A matrix: 4 × 5 of type int\n",
       "\\begin{tabular}{lllll}\n",
       "\t 1 & 0 & 2 & 2 & 2\\\\\n",
       "\t 1 & 3 & 0 & 1 & 5\\\\\n",
       "\t 2 & 4 & 0 & 2 & 1\\\\\n",
       "\t 3 & 2 & 0 & 1 & 2\\\\\n",
       "\\end{tabular}\n"
      ],
      "text/markdown": [
       "\n",
       "A matrix: 4 × 5 of type int\n",
       "\n",
       "| 1 | 0 | 2 | 2 | 2 |\n",
       "| 1 | 3 | 0 | 1 | 5 |\n",
       "| 2 | 4 | 0 | 2 | 1 |\n",
       "| 3 | 2 | 0 | 1 | 2 |\n",
       "\n"
      ],
      "text/plain": [
       "     [,1] [,2] [,3] [,4] [,5]\n",
       "[1,] 1    0    2    2    2   \n",
       "[2,] 1    3    0    1    5   \n",
       "[3,] 2    4    0    2    1   \n",
       "[4,] 3    2    0    1    2   "
      ]
     },
     "metadata": {},
     "output_type": "display_data"
    }
   ],
   "source": [
    "rownames(X) <- rownames(X, prefix=\"Trial.\")\n",
    "X"
   ]
  },
  {
   "cell_type": "code",
   "execution_count": 7,
   "id": "0d771230-0ad4-4a99-a671-8eb302a8a655",
   "metadata": {},
   "outputs": [
    {
     "data": {
      "text/html": [
       "<table class=\"dataframe\">\n",
       "<caption>A matrix: 4 × 5 of type int</caption>\n",
       "<tbody>\n",
       "\t<tr><td>1</td><td>0</td><td>2</td><td>2</td><td>2</td></tr>\n",
       "\t<tr><td>1</td><td>3</td><td>0</td><td>1</td><td>5</td></tr>\n",
       "\t<tr><td>2</td><td>4</td><td>0</td><td>2</td><td>1</td></tr>\n",
       "\t<tr><td>3</td><td>2</td><td>0</td><td>1</td><td>2</td></tr>\n",
       "</tbody>\n",
       "</table>\n"
      ],
      "text/latex": [
       "A matrix: 4 × 5 of type int\n",
       "\\begin{tabular}{lllll}\n",
       "\t 1 & 0 & 2 & 2 & 2\\\\\n",
       "\t 1 & 3 & 0 & 1 & 5\\\\\n",
       "\t 2 & 4 & 0 & 2 & 1\\\\\n",
       "\t 3 & 2 & 0 & 1 & 2\\\\\n",
       "\\end{tabular}\n"
      ],
      "text/markdown": [
       "\n",
       "A matrix: 4 × 5 of type int\n",
       "\n",
       "| 1 | 0 | 2 | 2 | 2 |\n",
       "| 1 | 3 | 0 | 1 | 5 |\n",
       "| 2 | 4 | 0 | 2 | 1 |\n",
       "| 3 | 2 | 0 | 1 | 2 |\n",
       "\n"
      ],
      "text/plain": [
       "     [,1] [,2] [,3] [,4] [,5]\n",
       "[1,] 1    0    2    2    2   \n",
       "[2,] 1    3    0    1    5   \n",
       "[3,] 2    4    0    2    1   \n",
       "[4,] 3    2    0    1    2   "
      ]
     },
     "metadata": {},
     "output_type": "display_data"
    }
   ],
   "source": [
    "set.seed(1)\n",
    "X <- matrix(rpois(20, 1.5), nrow=4)"
   ]
  },
  {
   "cell_type": "code",
   "execution_count": 10,
   "id": "626eb0f6-8cab-4780-b575-cee6f4532e18",
   "metadata": {},
   "outputs": [
    {
     "data": {
      "text/html": [
       "<table class=\"dataframe\">\n",
       "<caption>A matrix: 4 × 5 of type int</caption>\n",
       "<tbody>\n",
       "\t<tr><th scope=row>row1</th><td>1</td><td>0</td><td>2</td><td>2</td><td>2</td></tr>\n",
       "\t<tr><th scope=row>row2</th><td>1</td><td>3</td><td>0</td><td>1</td><td>5</td></tr>\n",
       "\t<tr><th scope=row>row3</th><td>2</td><td>4</td><td>0</td><td>2</td><td>1</td></tr>\n",
       "\t<tr><th scope=row>row4</th><td>3</td><td>2</td><td>0</td><td>1</td><td>2</td></tr>\n",
       "</tbody>\n",
       "</table>\n"
      ],
      "text/latex": [
       "A matrix: 4 × 5 of type int\n",
       "\\begin{tabular}{r|lllll}\n",
       "\trow1 & 1 & 0 & 2 & 2 & 2\\\\\n",
       "\trow2 & 1 & 3 & 0 & 1 & 5\\\\\n",
       "\trow3 & 2 & 4 & 0 & 2 & 1\\\\\n",
       "\trow4 & 3 & 2 & 0 & 1 & 2\\\\\n",
       "\\end{tabular}\n"
      ],
      "text/markdown": [
       "\n",
       "A matrix: 4 × 5 of type int\n",
       "\n",
       "| row1 | 1 | 0 | 2 | 2 | 2 |\n",
       "| row2 | 1 | 3 | 0 | 1 | 5 |\n",
       "| row3 | 2 | 4 | 0 | 2 | 1 |\n",
       "| row4 | 3 | 2 | 0 | 1 | 2 |\n",
       "\n"
      ],
      "text/plain": [
       "     [,1] [,2] [,3] [,4] [,5]\n",
       "row1 1    0    2    2    2   \n",
       "row2 1    3    0    1    5   \n",
       "row3 2    4    0    2    1   \n",
       "row4 3    2    0    1    2   "
      ]
     },
     "metadata": {},
     "output_type": "display_data"
    }
   ],
   "source": [
    "rownames(X) <- rownames(X, do.NULL=FALSE)\n",
    "X"
   ]
  },
  {
   "cell_type": "code",
   "execution_count": 13,
   "id": "746e376c-5bcb-4d04-b8ab-012f0b0bbc07",
   "metadata": {},
   "outputs": [
    {
     "data": {
      "text/html": [
       "<table class=\"dataframe\">\n",
       "<caption>A matrix: 4 × 5 of type int</caption>\n",
       "<thead>\n",
       "\t<tr><th></th><th scope=col>drug.1</th><th scope=col>drug.2</th><th scope=col>drug.3</th><th scope=col>drug.4</th><th scope=col>drug.5</th></tr>\n",
       "</thead>\n",
       "<tbody>\n",
       "\t<tr><th scope=row>row.1</th><td>1</td><td>0</td><td>2</td><td>2</td><td>2</td></tr>\n",
       "\t<tr><th scope=row>row.2</th><td>1</td><td>3</td><td>0</td><td>1</td><td>5</td></tr>\n",
       "\t<tr><th scope=row>row.3</th><td>2</td><td>4</td><td>0</td><td>2</td><td>1</td></tr>\n",
       "\t<tr><th scope=row>row.4</th><td>3</td><td>2</td><td>0</td><td>1</td><td>2</td></tr>\n",
       "</tbody>\n",
       "</table>\n"
      ],
      "text/latex": [
       "A matrix: 4 × 5 of type int\n",
       "\\begin{tabular}{r|lllll}\n",
       "  & drug.1 & drug.2 & drug.3 & drug.4 & drug.5\\\\\n",
       "\\hline\n",
       "\trow.1 & 1 & 0 & 2 & 2 & 2\\\\\n",
       "\trow.2 & 1 & 3 & 0 & 1 & 5\\\\\n",
       "\trow.3 & 2 & 4 & 0 & 2 & 1\\\\\n",
       "\trow.4 & 3 & 2 & 0 & 1 & 2\\\\\n",
       "\\end{tabular}\n"
      ],
      "text/markdown": [
       "\n",
       "A matrix: 4 × 5 of type int\n",
       "\n",
       "| <!--/--> | drug.1 | drug.2 | drug.3 | drug.4 | drug.5 |\n",
       "|---|---|---|---|---|---|\n",
       "| row.1 | 1 | 0 | 2 | 2 | 2 |\n",
       "| row.2 | 1 | 3 | 0 | 1 | 5 |\n",
       "| row.3 | 2 | 4 | 0 | 2 | 1 |\n",
       "| row.4 | 3 | 2 | 0 | 1 | 2 |\n",
       "\n"
      ],
      "text/plain": [
       "      drug.1 drug.2 drug.3 drug.4 drug.5\n",
       "row.1 1      0      2      2      2     \n",
       "row.2 1      3      0      1      5     \n",
       "row.3 2      4      0      2      1     \n",
       "row.4 3      2      0      1      2     "
      ]
     },
     "metadata": {},
     "output_type": "display_data"
    }
   ],
   "source": [
    "dimnames(X) <- list(paste(\"row.\", 1:4, sep=\"\"), paste(\"drug.\", 1:5, \n",
    "sep=\"\"))\n",
    "X"
   ]
  },
  {
   "cell_type": "code",
   "execution_count": 14,
   "id": "c21b2e96-300c-47cd-a4dd-8b2ac1bf3a93",
   "metadata": {},
   "outputs": [
    {
     "data": {
      "text/html": [
       "<style>\n",
       ".list-inline {list-style: none; margin:0; padding: 0}\n",
       ".list-inline>li {display: inline-block}\n",
       ".list-inline>li:not(:last-child)::after {content: \"\\00b7\"; padding: 0 .5ex}\n",
       "</style>\n",
       "<ol class=list-inline><li>'row.1'</li><li>'row.2'</li><li>'row.3'</li><li>'row.4'</li></ol>\n"
      ],
      "text/latex": [
       "\\begin{enumerate*}\n",
       "\\item 'row.1'\n",
       "\\item 'row.2'\n",
       "\\item 'row.3'\n",
       "\\item 'row.4'\n",
       "\\end{enumerate*}\n"
      ],
      "text/markdown": [
       "1. 'row.1'\n",
       "2. 'row.2'\n",
       "3. 'row.3'\n",
       "4. 'row.4'\n",
       "\n",
       "\n"
      ],
      "text/plain": [
       "[1] \"row.1\" \"row.2\" \"row.3\" \"row.4\""
      ]
     },
     "metadata": {},
     "output_type": "display_data"
    }
   ],
   "source": [
    "paste(\"row.\", 1:4, sep=\"\")"
   ]
  },
  {
   "cell_type": "code",
   "execution_count": 18,
   "id": "32950ef0-acbb-46c1-9f53-79fd3e462d2c",
   "metadata": {},
   "outputs": [
    {
     "data": {
      "text/html": [
       "<style>\n",
       ".list-inline {list-style: none; margin:0; padding: 0}\n",
       ".list-inline>li {display: inline-block}\n",
       ".list-inline>li:not(:last-child)::after {content: \"\\00b7\"; padding: 0 .5ex}\n",
       "</style>\n",
       "<ol class=list-inline><li>'row. 1'</li><li>'row. 1'</li><li>'row. 1'</li><li>'row. 1'</li></ol>\n"
      ],
      "text/latex": [
       "\\begin{enumerate*}\n",
       "\\item 'row. 1'\n",
       "\\item 'row. 1'\n",
       "\\item 'row. 1'\n",
       "\\item 'row. 1'\n",
       "\\end{enumerate*}\n"
      ],
      "text/markdown": [
       "1. 'row. 1'\n",
       "2. 'row. 1'\n",
       "3. 'row. 1'\n",
       "4. 'row. 1'\n",
       "\n",
       "\n"
      ],
      "text/plain": [
       "[1] \"row. 1\" \"row. 1\" \"row. 1\" \"row. 1\""
      ]
     },
     "metadata": {},
     "output_type": "display_data"
    }
   ],
   "source": [
    "paste(\"row.\",c(1,1,1,1))"
   ]
  },
  {
   "cell_type": "code",
   "execution_count": 19,
   "id": "b2fa2ec8-ae1a-41aa-bde2-0389b8df0b5b",
   "metadata": {},
   "outputs": [
    {
     "data": {
      "text/html": [
       "<style>\n",
       ".list-inline {list-style: none; margin:0; padding: 0}\n",
       ".list-inline>li {display: inline-block}\n",
       ".list-inline>li:not(:last-child)::after {content: \"\\00b7\"; padding: 0 .5ex}\n",
       "</style>\n",
       "<ol class=list-inline><li>'row. 1'</li><li>'row. 2'</li><li>'row. 3'</li><li>'row. 4'</li></ol>\n"
      ],
      "text/latex": [
       "\\begin{enumerate*}\n",
       "\\item 'row. 1'\n",
       "\\item 'row. 2'\n",
       "\\item 'row. 3'\n",
       "\\item 'row. 4'\n",
       "\\end{enumerate*}\n"
      ],
      "text/markdown": [
       "1. 'row. 1'\n",
       "2. 'row. 2'\n",
       "3. 'row. 3'\n",
       "4. 'row. 4'\n",
       "\n",
       "\n"
      ],
      "text/plain": [
       "[1] \"row. 1\" \"row. 2\" \"row. 3\" \"row. 4\""
      ]
     },
     "metadata": {},
     "output_type": "display_data"
    }
   ],
   "source": [
    "paste(\"row.\", 1:4)"
   ]
  },
  {
   "cell_type": "code",
   "execution_count": 20,
   "id": "f10c3a83-0198-4450-83fe-c63af3fafa5b",
   "metadata": {},
   "outputs": [
    {
     "data": {
      "text/html": [
       "<ol>\n",
       "\t<li><style>\n",
       ".list-inline {list-style: none; margin:0; padding: 0}\n",
       ".list-inline>li {display: inline-block}\n",
       ".list-inline>li:not(:last-child)::after {content: \"\\00b7\"; padding: 0 .5ex}\n",
       "</style>\n",
       "<ol class=list-inline><li>'row.1'</li><li>'row.2'</li><li>'row.3'</li><li>'row.4'</li></ol>\n",
       "</li>\n",
       "\t<li><style>\n",
       ".list-inline {list-style: none; margin:0; padding: 0}\n",
       ".list-inline>li {display: inline-block}\n",
       ".list-inline>li:not(:last-child)::after {content: \"\\00b7\"; padding: 0 .5ex}\n",
       "</style>\n",
       "<ol class=list-inline><li>'drug.1'</li><li>'drug.2'</li><li>'drug.3'</li><li>'drug.4'</li><li>'drug.5'</li></ol>\n",
       "</li>\n",
       "</ol>\n"
      ],
      "text/latex": [
       "\\begin{enumerate}\n",
       "\\item \\begin{enumerate*}\n",
       "\\item 'row.1'\n",
       "\\item 'row.2'\n",
       "\\item 'row.3'\n",
       "\\item 'row.4'\n",
       "\\end{enumerate*}\n",
       "\n",
       "\\item \\begin{enumerate*}\n",
       "\\item 'drug.1'\n",
       "\\item 'drug.2'\n",
       "\\item 'drug.3'\n",
       "\\item 'drug.4'\n",
       "\\item 'drug.5'\n",
       "\\end{enumerate*}\n",
       "\n",
       "\\end{enumerate}\n"
      ],
      "text/markdown": [
       "1. 1. 'row.1'\n",
       "2. 'row.2'\n",
       "3. 'row.3'\n",
       "4. 'row.4'\n",
       "\n",
       "\n",
       "\n",
       "2. 1. 'drug.1'\n",
       "2. 'drug.2'\n",
       "3. 'drug.3'\n",
       "4. 'drug.4'\n",
       "5. 'drug.5'\n",
       "\n",
       "\n",
       "\n",
       "\n",
       "\n"
      ],
      "text/plain": [
       "[[1]]\n",
       "[1] \"row.1\" \"row.2\" \"row.3\" \"row.4\"\n",
       "\n",
       "[[2]]\n",
       "[1] \"drug.1\" \"drug.2\" \"drug.3\" \"drug.4\" \"drug.5\"\n"
      ]
     },
     "metadata": {},
     "output_type": "display_data"
    }
   ],
   "source": [
    "list(paste(\"row.\", 1:4, sep=\"\"), paste(\"drug.\", 1:5, \n",
    "sep=\"\"))"
   ]
  },
  {
   "cell_type": "code",
   "execution_count": 1,
   "id": "0cae9249-ba2a-42b4-b6e8-c06c3a20f00c",
   "metadata": {},
   "outputs": [],
   "source": [
    "set.seed(1)\n",
    "X <- matrix(rpois(20, 1.5), nrow=4)"
   ]
  },
  {
   "cell_type": "code",
   "execution_count": 2,
   "id": "bcf2bfe1-a2da-4417-b1a1-d351af8a5a90",
   "metadata": {},
   "outputs": [
    {
     "data": {
      "text/html": [
       "2.5"
      ],
      "text/latex": [
       "2.5"
      ],
      "text/markdown": [
       "2.5"
      ],
      "text/plain": [
       "[1] 2.5"
      ]
     },
     "metadata": {},
     "output_type": "display_data"
    }
   ],
   "source": [
    "mean(X[,5])"
   ]
  },
  {
   "cell_type": "code",
   "execution_count": 3,
   "id": "c38966b2-e24c-4833-93cb-6a21bb52a3cd",
   "metadata": {},
   "outputs": [
    {
     "data": {
      "text/html": [
       "1.3"
      ],
      "text/latex": [
       "1.3"
      ],
      "text/markdown": [
       "1.3"
      ],
      "text/plain": [
       "[1] 1.3"
      ]
     },
     "metadata": {},
     "output_type": "display_data"
    }
   ],
   "source": [
    "var(X[4,])"
   ]
  },
  {
   "cell_type": "code",
   "execution_count": 4,
   "id": "b04fc5db-4cdf-4b59-a7bb-02378b704ac5",
   "metadata": {},
   "outputs": [
    {
     "data": {
      "text/html": [
       "<style>\n",
       ".list-inline {list-style: none; margin:0; padding: 0}\n",
       ".list-inline>li {display: inline-block}\n",
       ".list-inline>li:not(:last-child)::after {content: \"\\00b7\"; padding: 0 .5ex}\n",
       "</style>\n",
       "<ol class=list-inline><li>7</li><li>10</li><li>9</li><li>8</li></ol>\n"
      ],
      "text/latex": [
       "\\begin{enumerate*}\n",
       "\\item 7\n",
       "\\item 10\n",
       "\\item 9\n",
       "\\item 8\n",
       "\\end{enumerate*}\n"
      ],
      "text/markdown": [
       "1. 7\n",
       "2. 10\n",
       "3. 9\n",
       "4. 8\n",
       "\n",
       "\n"
      ],
      "text/plain": [
       "[1]  7 10  9  8"
      ]
     },
     "metadata": {},
     "output_type": "display_data"
    }
   ],
   "source": [
    "rowSums(X)"
   ]
  },
  {
   "cell_type": "code",
   "execution_count": 5,
   "id": "47bfd234-e709-41c9-bf59-42a1335a378e",
   "metadata": {},
   "outputs": [
    {
     "data": {
      "text/html": [
       "<style>\n",
       ".list-inline {list-style: none; margin:0; padding: 0}\n",
       ".list-inline>li {display: inline-block}\n",
       ".list-inline>li:not(:last-child)::after {content: \"\\00b7\"; padding: 0 .5ex}\n",
       "</style>\n",
       "<ol class=list-inline><li>7</li><li>9</li><li>2</li><li>6</li><li>10</li></ol>\n"
      ],
      "text/latex": [
       "\\begin{enumerate*}\n",
       "\\item 7\n",
       "\\item 9\n",
       "\\item 2\n",
       "\\item 6\n",
       "\\item 10\n",
       "\\end{enumerate*}\n"
      ],
      "text/markdown": [
       "1. 7\n",
       "2. 9\n",
       "3. 2\n",
       "4. 6\n",
       "5. 10\n",
       "\n",
       "\n"
      ],
      "text/plain": [
       "[1]  7  9  2  6 10"
      ]
     },
     "metadata": {},
     "output_type": "display_data"
    }
   ],
   "source": [
    "colSums(X)"
   ]
  },
  {
   "cell_type": "code",
   "execution_count": 6,
   "id": "0b7226b3-60a0-4231-9dc8-b0751f6d4d39",
   "metadata": {},
   "outputs": [
    {
     "data": {
      "text/html": [
       "<style>\n",
       ".list-inline {list-style: none; margin:0; padding: 0}\n",
       ".list-inline>li {display: inline-block}\n",
       ".list-inline>li:not(:last-child)::after {content: \"\\00b7\"; padding: 0 .5ex}\n",
       "</style>\n",
       "<ol class=list-inline><li>1.4</li><li>2</li><li>1.8</li><li>1.6</li></ol>\n"
      ],
      "text/latex": [
       "\\begin{enumerate*}\n",
       "\\item 1.4\n",
       "\\item 2\n",
       "\\item 1.8\n",
       "\\item 1.6\n",
       "\\end{enumerate*}\n"
      ],
      "text/markdown": [
       "1. 1.4\n",
       "2. 2\n",
       "3. 1.8\n",
       "4. 1.6\n",
       "\n",
       "\n"
      ],
      "text/plain": [
       "[1] 1.4 2.0 1.8 1.6"
      ]
     },
     "metadata": {},
     "output_type": "display_data"
    }
   ],
   "source": [
    "rowMeans(X)"
   ]
  },
  {
   "cell_type": "code",
   "execution_count": 7,
   "id": "198f23f0-c437-421a-b91d-9d0e4975cf78",
   "metadata": {},
   "outputs": [
    {
     "data": {
      "text/html": [
       "<style>\n",
       ".list-inline {list-style: none; margin:0; padding: 0}\n",
       ".list-inline>li {display: inline-block}\n",
       ".list-inline>li:not(:last-child)::after {content: \"\\00b7\"; padding: 0 .5ex}\n",
       "</style>\n",
       "<ol class=list-inline><li>1.75</li><li>2.25</li><li>0.5</li><li>1.5</li><li>2.5</li></ol>\n"
      ],
      "text/latex": [
       "\\begin{enumerate*}\n",
       "\\item 1.75\n",
       "\\item 2.25\n",
       "\\item 0.5\n",
       "\\item 1.5\n",
       "\\item 2.5\n",
       "\\end{enumerate*}\n"
      ],
      "text/markdown": [
       "1. 1.75\n",
       "2. 2.25\n",
       "3. 0.5\n",
       "4. 1.5\n",
       "5. 2.5\n",
       "\n",
       "\n"
      ],
      "text/plain": [
       "[1] 1.75 2.25 0.50 1.50 2.50"
      ]
     },
     "metadata": {},
     "output_type": "display_data"
    }
   ],
   "source": [
    "colMeans(X)"
   ]
  },
  {
   "cell_type": "code",
   "execution_count": 8,
   "id": "ae063ccc-4a31-4f18-8e8c-9df57f03e88b",
   "metadata": {},
   "outputs": [
    {
     "data": {
      "text/html": [
       "<style>\n",
       ".list-inline {list-style: none; margin:0; padding: 0}\n",
       ".list-inline>li {display: inline-block}\n",
       ".list-inline>li:not(:last-child)::after {content: \"\\00b7\"; padding: 0 .5ex}\n",
       "</style>\n",
       "<ol class=list-inline><li>1.75</li><li>2.25</li><li>0.5</li><li>1.5</li><li>2.5</li></ol>\n"
      ],
      "text/latex": [
       "\\begin{enumerate*}\n",
       "\\item 1.75\n",
       "\\item 2.25\n",
       "\\item 0.5\n",
       "\\item 1.5\n",
       "\\item 2.5\n",
       "\\end{enumerate*}\n"
      ],
      "text/markdown": [
       "1. 1.75\n",
       "2. 2.25\n",
       "3. 0.5\n",
       "4. 1.5\n",
       "5. 2.5\n",
       "\n",
       "\n"
      ],
      "text/plain": [
       "[1] 1.75 2.25 0.50 1.50 2.50"
      ]
     },
     "metadata": {},
     "output_type": "display_data"
    }
   ],
   "source": [
    "apply(X,2,mean)"
   ]
  },
  {
   "cell_type": "markdown",
   "id": "d070d7fe-5052-4018-afd6-3a0a0637002c",
   "metadata": {},
   "source": [
    "- 1행과 4행을 그룹 A, 2행과 3행을 그룹 B로 하여 그룹별로 계산하기 위해 group이라는 벡터 생성"
   ]
  },
  {
   "cell_type": "code",
   "execution_count": 9,
   "id": "1185b054-9b99-40c6-959b-91fb47c7a698",
   "metadata": {},
   "outputs": [],
   "source": [
    "group=c(\"A\",\"B\",\"B\",\"A\")"
   ]
  },
  {
   "cell_type": "code",
   "execution_count": 10,
   "id": "206177a9-f354-41c7-bcff-39ce48a3ea5d",
   "metadata": {},
   "outputs": [
    {
     "data": {
      "text/html": [
       "<table class=\"dataframe\">\n",
       "<caption>A matrix: 2 × 5 of type int</caption>\n",
       "<tbody>\n",
       "\t<tr><th scope=row>A</th><td>4</td><td>2</td><td>2</td><td>3</td><td>4</td></tr>\n",
       "\t<tr><th scope=row>B</th><td>3</td><td>7</td><td>0</td><td>3</td><td>6</td></tr>\n",
       "</tbody>\n",
       "</table>\n"
      ],
      "text/latex": [
       "A matrix: 2 × 5 of type int\n",
       "\\begin{tabular}{r|lllll}\n",
       "\tA & 4 & 2 & 2 & 3 & 4\\\\\n",
       "\tB & 3 & 7 & 0 & 3 & 6\\\\\n",
       "\\end{tabular}\n"
      ],
      "text/markdown": [
       "\n",
       "A matrix: 2 × 5 of type int\n",
       "\n",
       "| A | 4 | 2 | 2 | 3 | 4 |\n",
       "| B | 3 | 7 | 0 | 3 | 6 |\n",
       "\n"
      ],
      "text/plain": [
       "  [,1] [,2] [,3] [,4] [,5]\n",
       "A 4    2    2    3    4   \n",
       "B 3    7    0    3    6   "
      ]
     },
     "metadata": {},
     "output_type": "display_data"
    }
   ],
   "source": [
    "rowsum(X,group)"
   ]
  },
  {
   "cell_type": "code",
   "execution_count": 11,
   "id": "befd35bc-142e-4aa6-a373-9af2a87589cc",
   "metadata": {},
   "outputs": [
    {
     "data": {
      "text/html": [
       "<table class=\"dataframe\">\n",
       "<caption>A matrix: 2 × 5 of type int</caption>\n",
       "<thead>\n",
       "\t<tr><th></th><th scope=col>1</th><th scope=col>2</th><th scope=col>3</th><th scope=col>4</th><th scope=col>5</th></tr>\n",
       "</thead>\n",
       "<tbody>\n",
       "\t<tr><th scope=row>A</th><td>4</td><td>2</td><td>2</td><td>3</td><td>4</td></tr>\n",
       "\t<tr><th scope=row>B</th><td>3</td><td>7</td><td>0</td><td>3</td><td>6</td></tr>\n",
       "</tbody>\n",
       "</table>\n"
      ],
      "text/latex": [
       "A matrix: 2 × 5 of type int\n",
       "\\begin{tabular}{r|lllll}\n",
       "  & 1 & 2 & 3 & 4 & 5\\\\\n",
       "\\hline\n",
       "\tA & 4 & 2 & 2 & 3 & 4\\\\\n",
       "\tB & 3 & 7 & 0 & 3 & 6\\\\\n",
       "\\end{tabular}\n"
      ],
      "text/markdown": [
       "\n",
       "A matrix: 2 × 5 of type int\n",
       "\n",
       "| <!--/--> | 1 | 2 | 3 | 4 | 5 |\n",
       "|---|---|---|---|---|---|\n",
       "| A | 4 | 2 | 2 | 3 | 4 |\n",
       "| B | 3 | 7 | 0 | 3 | 6 |\n",
       "\n"
      ],
      "text/plain": [
       "  1 2 3 4 5\n",
       "A 4 2 2 3 4\n",
       "B 3 7 0 3 6"
      ]
     },
     "metadata": {},
     "output_type": "display_data"
    }
   ],
   "source": [
    "tapply(X, list(group[row(X)], col(X)), sum)"
   ]
  },
  {
   "cell_type": "code",
   "execution_count": 12,
   "id": "276c8cad-e786-4c0c-8b55-cf9fb0fd1a2b",
   "metadata": {},
   "outputs": [
    {
     "data": {
      "text/html": [
       "<table class=\"dataframe\">\n",
       "<caption>A data.frame: 2 × 6</caption>\n",
       "<thead>\n",
       "\t<tr><th scope=col>Group.1</th><th scope=col>V1</th><th scope=col>V2</th><th scope=col>V3</th><th scope=col>V4</th><th scope=col>V5</th></tr>\n",
       "\t<tr><th scope=col>&lt;chr&gt;</th><th scope=col>&lt;int&gt;</th><th scope=col>&lt;int&gt;</th><th scope=col>&lt;int&gt;</th><th scope=col>&lt;int&gt;</th><th scope=col>&lt;int&gt;</th></tr>\n",
       "</thead>\n",
       "<tbody>\n",
       "\t<tr><td>A</td><td>4</td><td>2</td><td>2</td><td>3</td><td>4</td></tr>\n",
       "\t<tr><td>B</td><td>3</td><td>7</td><td>0</td><td>3</td><td>6</td></tr>\n",
       "</tbody>\n",
       "</table>\n"
      ],
      "text/latex": [
       "A data.frame: 2 × 6\n",
       "\\begin{tabular}{llllll}\n",
       " Group.1 & V1 & V2 & V3 & V4 & V5\\\\\n",
       " <chr> & <int> & <int> & <int> & <int> & <int>\\\\\n",
       "\\hline\n",
       "\t A & 4 & 2 & 2 & 3 & 4\\\\\n",
       "\t B & 3 & 7 & 0 & 3 & 6\\\\\n",
       "\\end{tabular}\n"
      ],
      "text/markdown": [
       "\n",
       "A data.frame: 2 × 6\n",
       "\n",
       "| Group.1 &lt;chr&gt; | V1 &lt;int&gt; | V2 &lt;int&gt; | V3 &lt;int&gt; | V4 &lt;int&gt; | V5 &lt;int&gt; |\n",
       "|---|---|---|---|---|---|\n",
       "| A | 4 | 2 | 2 | 3 | 4 |\n",
       "| B | 3 | 7 | 0 | 3 | 6 |\n",
       "\n"
      ],
      "text/plain": [
       "  Group.1 V1 V2 V3 V4 V5\n",
       "1 A       4  2  2  3  4 \n",
       "2 B       3  7  0  3  6 "
      ]
     },
     "metadata": {},
     "output_type": "display_data"
    }
   ],
   "source": [
    "aggregate(X, list(group), sum)"
   ]
  },
  {
   "cell_type": "code",
   "execution_count": 13,
   "id": "67e4b794-a60a-4e07-80bd-087f9579f893",
   "metadata": {},
   "outputs": [
    {
     "data": {
      "text/html": [
       "<style>\n",
       ".list-inline {list-style: none; margin:0; padding: 0}\n",
       ".list-inline>li {display: inline-block}\n",
       ".list-inline>li:not(:last-child)::after {content: \"\\00b7\"; padding: 0 .5ex}\n",
       "</style>\n",
       "<ol class=list-inline><li>0</li><li>2</li><li>4</li><li>6</li><li>8</li><li>10</li><li>12</li><li>14</li><li>16</li><li>18</li><li>20</li><li>22</li><li>24</li><li>26</li><li>28</li><li>30</li><li>32</li><li>34</li><li>36</li><li>38</li><li>40</li><li>42</li><li>44</li><li>46</li><li>48</li><li>50</li></ol>\n"
      ],
      "text/latex": [
       "\\begin{enumerate*}\n",
       "\\item 0\n",
       "\\item 2\n",
       "\\item 4\n",
       "\\item 6\n",
       "\\item 8\n",
       "\\item 10\n",
       "\\item 12\n",
       "\\item 14\n",
       "\\item 16\n",
       "\\item 18\n",
       "\\item 20\n",
       "\\item 22\n",
       "\\item 24\n",
       "\\item 26\n",
       "\\item 28\n",
       "\\item 30\n",
       "\\item 32\n",
       "\\item 34\n",
       "\\item 36\n",
       "\\item 38\n",
       "\\item 40\n",
       "\\item 42\n",
       "\\item 44\n",
       "\\item 46\n",
       "\\item 48\n",
       "\\item 50\n",
       "\\end{enumerate*}\n"
      ],
      "text/markdown": [
       "1. 0\n",
       "2. 2\n",
       "3. 4\n",
       "4. 6\n",
       "5. 8\n",
       "6. 10\n",
       "7. 12\n",
       "8. 14\n",
       "9. 16\n",
       "10. 18\n",
       "11. 20\n",
       "12. 22\n",
       "13. 24\n",
       "14. 26\n",
       "15. 28\n",
       "16. 30\n",
       "17. 32\n",
       "18. 34\n",
       "19. 36\n",
       "20. 38\n",
       "21. 40\n",
       "22. 42\n",
       "23. 44\n",
       "24. 46\n",
       "25. 48\n",
       "26. 50\n",
       "\n",
       "\n"
      ],
      "text/plain": [
       " [1]  0  2  4  6  8 10 12 14 16 18 20 22 24 26 28 30 32 34 36 38 40 42 44 46 48\n",
       "[26] 50"
      ]
     },
     "metadata": {},
     "output_type": "display_data"
    }
   ],
   "source": [
    "x <- seq(0, 50, 2); x\n",
    "y <- c(1, 0.960235403, 0.844663774, 0.706936329, 0.7086414, 0.609795365, 0.513252644, 0.471399685, 0.384081274, 0.372277798, 0.334087432, 0.273307329, 0.25162333, 0.222786515, 0.210216526, 0.190591821, 0.166907195, 0.140731643, 0.12028785, 0.116460713, 0.092736872, 0.083972607, 0.088291404, 0.071790589, 0.059327414, 0.061706234)"
   ]
  },
  {
   "cell_type": "code",
   "execution_count": 14,
   "id": "43db3306-efd8-4c09-b700-d491c4680768",
   "metadata": {},
   "outputs": [
    {
     "data": {
      "text/plain": [
       "\n",
       "Call:\n",
       "lm(formula = log(y) ~ x)\n",
       "\n",
       "Coefficients:\n",
       "(Intercept)            x  \n",
       "    0.04688     -0.05849  \n"
      ]
     },
     "metadata": {},
     "output_type": "display_data"
    }
   ],
   "source": [
    "lm(log(y)~x)"
   ]
  },
  {
   "cell_type": "code",
   "execution_count": 15,
   "id": "a159eb3e-12c6-4f72-bb0a-8e3dca463f0e",
   "metadata": {},
   "outputs": [],
   "source": [
    "a <- seq(0.01, 0.2, 0.005)"
   ]
  },
  {
   "cell_type": "code",
   "execution_count": 16,
   "id": "8e7a6b26-2ff2-408b-8fd1-40865ffe15fb",
   "metadata": {},
   "outputs": [],
   "source": [
    "sumsq <- function(a, xv=x, yv=y) { \n",
    "  yf <- exp(-a*xv)\n",
    "  sum((yv-yf)^2) \n",
    "}"
   ]
  },
  {
   "cell_type": "code",
   "execution_count": 17,
   "id": "6607a40b-c4b5-4e05-acd4-3fbe3db690bf",
   "metadata": {},
   "outputs": [
    {
     "data": {
      "text/html": [
       "0.055"
      ],
      "text/latex": [
       "0.055"
      ],
      "text/markdown": [
       "0.055"
      ],
      "text/plain": [
       "[1] 0.055"
      ]
     },
     "metadata": {},
     "output_type": "display_data"
    }
   ],
   "source": [
    "a[min(sapply(a, sumsq)) == sapply(a, sumsq) ]"
   ]
  },
  {
   "cell_type": "code",
   "execution_count": 18,
   "id": "db3cea13-fd79-425f-a71e-87a3250f3337",
   "metadata": {},
   "outputs": [],
   "source": [
    "y <- c(8,3,5,7,6,6,8,9,2,3,9,4,10,4,11)\n"
   ]
  },
  {
   "cell_type": "code",
   "execution_count": 19,
   "id": "2c767b25-1aca-4631-9a50-3f2758497199",
   "metadata": {},
   "outputs": [
    {
     "data": {
      "text/html": [
       "<style>\n",
       ".list-inline {list-style: none; margin:0; padding: 0}\n",
       ".list-inline>li {display: inline-block}\n",
       ".list-inline>li:not(:last-child)::after {content: \"\\00b7\"; padding: 0 .5ex}\n",
       "</style>\n",
       "<ol class=list-inline><li>2</li><li>7</li><li>8</li><li>8</li><li>3</li><li>10</li><li>9</li><li>5</li><li>9</li><li>4</li><li>6</li><li>6</li><li>11</li><li>3</li><li>4</li></ol>\n"
      ],
      "text/latex": [
       "\\begin{enumerate*}\n",
       "\\item 2\n",
       "\\item 7\n",
       "\\item 8\n",
       "\\item 8\n",
       "\\item 3\n",
       "\\item 10\n",
       "\\item 9\n",
       "\\item 5\n",
       "\\item 9\n",
       "\\item 4\n",
       "\\item 6\n",
       "\\item 6\n",
       "\\item 11\n",
       "\\item 3\n",
       "\\item 4\n",
       "\\end{enumerate*}\n"
      ],
      "text/markdown": [
       "1. 2\n",
       "2. 7\n",
       "3. 8\n",
       "4. 8\n",
       "5. 3\n",
       "6. 10\n",
       "7. 9\n",
       "8. 5\n",
       "9. 9\n",
       "10. 4\n",
       "11. 6\n",
       "12. 6\n",
       "13. 11\n",
       "14. 3\n",
       "15. 4\n",
       "\n",
       "\n"
      ],
      "text/plain": [
       " [1]  2  7  8  8  3 10  9  5  9  4  6  6 11  3  4"
      ]
     },
     "metadata": {},
     "output_type": "display_data"
    }
   ],
   "source": [
    "set.seed(1)\n",
    "sample(y)"
   ]
  },
  {
   "cell_type": "code",
   "execution_count": 22,
   "id": "d98cce38-b91e-47f2-9c40-22c5ee33586d",
   "metadata": {},
   "outputs": [
    {
     "name": "stdout",
     "output_type": "stream",
     "text": [
      "[1] 3\n",
      "[1] 9\n",
      "[1] 20\n",
      "[1] 38\n",
      "[1] 65\n"
     ]
    }
   ],
   "source": [
    "j=k=0\n",
    "for (i in 1:5) {  \n",
    "  j <- j+1\n",
    "  k <- k+i*j\n",
    "  print(i+j+k) \n",
    "}\n"
   ]
  },
  {
   "cell_type": "code",
   "execution_count": 23,
   "id": "3e16e8dd-ce62-4ce0-9013-7f8f69a3344a",
   "metadata": {},
   "outputs": [
    {
     "data": {
      "text/html": [
       "<style>\n",
       ".list-inline {list-style: none; margin:0; padding: 0}\n",
       ".list-inline>li {display: inline-block}\n",
       ".list-inline>li:not(:last-child)::after {content: \"\\00b7\"; padding: 0 .5ex}\n",
       "</style>\n",
       "<ol class=list-inline><li>1</li><li>0</li></ol>\n"
      ],
      "text/latex": [
       "\\begin{enumerate*}\n",
       "\\item 1\n",
       "\\item 0\n",
       "\\end{enumerate*}\n"
      ],
      "text/markdown": [
       "1. 1\n",
       "2. 0\n",
       "\n",
       "\n"
      ],
      "text/plain": [
       "[1] 1 0"
      ]
     },
     "metadata": {},
     "output_type": "display_data"
    }
   ],
   "source": [
    "cumprod(1:0)"
   ]
  },
  {
   "cell_type": "code",
   "execution_count": 25,
   "id": "9828e938-5e05-4db3-a488-ea497fb2517b",
   "metadata": {},
   "outputs": [
    {
     "data": {
      "text/html": [
       "<style>\n",
       ".list-inline {list-style: none; margin:0; padding: 0}\n",
       ".list-inline>li {display: inline-block}\n",
       ".list-inline>li:not(:last-child)::after {content: \"\\00b7\"; padding: 0 .5ex}\n",
       "</style>\n",
       "<ol class=list-inline><li>1</li><li>2</li><li>6</li><li>0</li></ol>\n"
      ],
      "text/latex": [
       "\\begin{enumerate*}\n",
       "\\item 1\n",
       "\\item 2\n",
       "\\item 6\n",
       "\\item 0\n",
       "\\end{enumerate*}\n"
      ],
      "text/markdown": [
       "1. 1\n",
       "2. 2\n",
       "3. 6\n",
       "4. 0\n",
       "\n",
       "\n"
      ],
      "text/plain": [
       "[1] 1 2 6 0"
      ]
     },
     "metadata": {},
     "output_type": "display_data"
    }
   ],
   "source": [
    "cumprod(c(1,2,3,0))"
   ]
  },
  {
   "cell_type": "code",
   "execution_count": 26,
   "id": "600a9c6a-183d-4c41-90fb-46498a409ea6",
   "metadata": {},
   "outputs": [
    {
     "data": {
      "text/html": [
       "1"
      ],
      "text/latex": [
       "1"
      ],
      "text/markdown": [
       "1"
      ],
      "text/plain": [
       "[1] 1"
      ]
     },
     "metadata": {},
     "output_type": "display_data"
    }
   ],
   "source": [
    "gamma(1)"
   ]
  },
  {
   "cell_type": "code",
   "execution_count": 27,
   "id": "d19ede41-8cc5-4647-80f0-b71fa755b878",
   "metadata": {},
   "outputs": [
    {
     "name": "stderr",
     "output_type": "stream",
     "text": [
      "Warning message in gamma(0):\n",
      "“NaN이 생성되었습니다”\n"
     ]
    },
    {
     "data": {
      "text/html": [
       "NaN"
      ],
      "text/latex": [
       "NaN"
      ],
      "text/markdown": [
       "NaN"
      ],
      "text/plain": [
       "[1] NaN"
      ]
     },
     "metadata": {},
     "output_type": "display_data"
    }
   ],
   "source": [
    "gamma(0)"
   ]
  },
  {
   "cell_type": "code",
   "execution_count": 28,
   "id": "9c8c897f-1c9b-496c-a831-7c617afa7402",
   "metadata": {},
   "outputs": [
    {
     "data": {
      "text/html": [
       "1"
      ],
      "text/latex": [
       "1"
      ],
      "text/markdown": [
       "1"
      ],
      "text/plain": [
       "[1] 1"
      ]
     },
     "metadata": {},
     "output_type": "display_data"
    }
   ],
   "source": [
    "gamma(2)"
   ]
  },
  {
   "cell_type": "code",
   "execution_count": 29,
   "id": "843ef6d1-0ab7-4148-b608-b8460eb47c6f",
   "metadata": {},
   "outputs": [
    {
     "data": {
      "text/html": [
       "2"
      ],
      "text/latex": [
       "2"
      ],
      "text/markdown": [
       "2"
      ],
      "text/plain": [
       "[1] 2"
      ]
     },
     "metadata": {},
     "output_type": "display_data"
    }
   ],
   "source": [
    "gamma(3)"
   ]
  },
  {
   "cell_type": "code",
   "execution_count": 30,
   "id": "f163830d-6d7f-490f-91cc-be0a6db0a19c",
   "metadata": {},
   "outputs": [
    {
     "data": {
      "text/html": [
       "6"
      ],
      "text/latex": [
       "6"
      ],
      "text/markdown": [
       "6"
      ],
      "text/plain": [
       "[1] 6"
      ]
     },
     "metadata": {},
     "output_type": "display_data"
    }
   ],
   "source": [
    "gamma(4)"
   ]
  },
  {
   "cell_type": "markdown",
   "id": "2837b697-4ca2-44bc-bfb2-8643f83a0dae",
   "metadata": {},
   "source": [
    "$\\Gamma(x+1)=x!$"
   ]
  },
  {
   "cell_type": "code",
   "execution_count": 31,
   "id": "d322e1e9-a0c4-46f0-a0d5-5f448aaeadad",
   "metadata": {},
   "outputs": [],
   "source": [
    "Area <- c(3.6, 5.1, 2.8, 2.4, 3.8, 3.1, 3.5, 2.1, 1.9, 1.5, 2.9, 3.3, 3.7, 1.8, 4.1, 3.9, 2.2, 4.4, 2.9, 0.8)"
   ]
  },
  {
   "cell_type": "code",
   "execution_count": 32,
   "id": "85eb4e28-c040-4345-bece-71ad75950912",
   "metadata": {},
   "outputs": [
    {
     "data": {
      "text/html": [
       "<style>\n",
       ".list-inline {list-style: none; margin:0; padding: 0}\n",
       ".list-inline>li {display: inline-block}\n",
       ".list-inline>li:not(:last-child)::after {content: \"\\00b7\"; padding: 0 .5ex}\n",
       "</style>\n",
       "<ol class=list-inline><li>'big'</li><li>'big'</li><li>'small'</li><li>'small'</li><li>'big'</li><li>'big'</li><li>'big'</li><li>'small'</li><li>'small'</li><li>'small'</li><li>'small'</li><li>'big'</li><li>'big'</li><li>'small'</li><li>'big'</li><li>'big'</li><li>'small'</li><li>'big'</li><li>'small'</li><li>'small'</li></ol>\n"
      ],
      "text/latex": [
       "\\begin{enumerate*}\n",
       "\\item 'big'\n",
       "\\item 'big'\n",
       "\\item 'small'\n",
       "\\item 'small'\n",
       "\\item 'big'\n",
       "\\item 'big'\n",
       "\\item 'big'\n",
       "\\item 'small'\n",
       "\\item 'small'\n",
       "\\item 'small'\n",
       "\\item 'small'\n",
       "\\item 'big'\n",
       "\\item 'big'\n",
       "\\item 'small'\n",
       "\\item 'big'\n",
       "\\item 'big'\n",
       "\\item 'small'\n",
       "\\item 'big'\n",
       "\\item 'small'\n",
       "\\item 'small'\n",
       "\\end{enumerate*}\n"
      ],
      "text/markdown": [
       "1. 'big'\n",
       "2. 'big'\n",
       "3. 'small'\n",
       "4. 'small'\n",
       "5. 'big'\n",
       "6. 'big'\n",
       "7. 'big'\n",
       "8. 'small'\n",
       "9. 'small'\n",
       "10. 'small'\n",
       "11. 'small'\n",
       "12. 'big'\n",
       "13. 'big'\n",
       "14. 'small'\n",
       "15. 'big'\n",
       "16. 'big'\n",
       "17. 'small'\n",
       "18. 'big'\n",
       "19. 'small'\n",
       "20. 'small'\n",
       "\n",
       "\n"
      ],
      "text/plain": [
       " [1] \"big\"   \"big\"   \"small\" \"small\" \"big\"   \"big\"   \"big\"   \"small\" \"small\"\n",
       "[10] \"small\" \"small\" \"big\"   \"big\"   \"small\" \"big\"   \"big\"   \"small\" \"big\"  \n",
       "[19] \"small\" \"small\""
      ]
     },
     "metadata": {},
     "output_type": "display_data"
    }
   ],
   "source": [
    "ifelse(Area>median(Area), \"big\", \"small\") "
   ]
  },
  {
   "cell_type": "code",
   "execution_count": 33,
   "id": "339592bc-dc04-4a28-a34c-b8f835596f86",
   "metadata": {},
   "outputs": [
    {
     "data": {
      "text/html": [
       "-Inf"
      ],
      "text/latex": [
       "-Inf"
      ],
      "text/markdown": [
       "-Inf"
      ],
      "text/plain": [
       "[1] -Inf"
      ]
     },
     "metadata": {},
     "output_type": "display_data"
    }
   ],
   "source": [
    "log(0)"
   ]
  },
  {
   "cell_type": "code",
   "execution_count": 36,
   "id": "033cbd32-7769-401e-a043-86c6826d0a9e",
   "metadata": {},
   "outputs": [],
   "source": [
    "set.seed(1)\n",
    "x <- runif(10000000) "
   ]
  },
  {
   "cell_type": "code",
   "execution_count": 37,
   "id": "8a598b89-38ff-49a6-a2f1-6c3c089305f8",
   "metadata": {},
   "outputs": [
    {
     "data": {
      "text/plain": [
       " 사용자  시스템 elapsed \n",
       "  0.014   0.004   0.018 "
      ]
     },
     "metadata": {},
     "output_type": "display_data"
    }
   ],
   "source": [
    "system.time(max(x))"
   ]
  },
  {
   "cell_type": "code",
   "execution_count": 38,
   "id": "f7b2a6e4-7e23-409d-920f-5479e782904e",
   "metadata": {},
   "outputs": [],
   "source": [
    "pc <- proc.time()  "
   ]
  },
  {
   "cell_type": "code",
   "execution_count": null,
   "id": "6a03db3e-7a18-48f2-9c15-36e8efc037fd",
   "metadata": {},
   "outputs": [],
   "source": []
  }
 ],
 "metadata": {
  "kernelspec": {
   "display_name": "R",
   "language": "R",
   "name": "ir"
  },
  "language_info": {
   "codemirror_mode": "r",
   "file_extension": ".r",
   "mimetype": "text/x-r-source",
   "name": "R",
   "pygments_lexer": "r",
   "version": "4.2.2"
  }
 },
 "nbformat": 4,
 "nbformat_minor": 5
}
