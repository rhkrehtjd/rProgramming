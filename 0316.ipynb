{
 "cells": [
  {
   "cell_type": "code",
   "execution_count": 3,
   "id": "51f1770e-a5b4-4205-afff-b6d9b3cd258b",
   "metadata": {},
   "outputs": [],
   "source": [
    "set.seed(1)\n",
    "x = runif(10)\n",
    "y = letters[1:10]\n",
    "z = sample(c(rep(T,5),rep(F,5)))"
   ]
  },
  {
   "cell_type": "code",
   "execution_count": 4,
   "id": "7a2a31bb-471e-4c30-ad62-1ab086217e64",
   "metadata": {},
   "outputs": [],
   "source": [
    "new = data.frame(y,z,x)"
   ]
  },
  {
   "cell_type": "code",
   "execution_count": 5,
   "id": "947c2823-6d6d-49e7-ab02-ad03fc3dfefd",
   "metadata": {},
   "outputs": [
    {
     "data": {
      "text/html": [
       "<table class=\"dataframe\">\n",
       "<caption>A data.frame: 10 × 3</caption>\n",
       "<thead>\n",
       "\t<tr><th scope=col>y</th><th scope=col>z</th><th scope=col>x</th></tr>\n",
       "\t<tr><th scope=col>&lt;chr&gt;</th><th scope=col>&lt;lgl&gt;</th><th scope=col>&lt;dbl&gt;</th></tr>\n",
       "</thead>\n",
       "<tbody>\n",
       "\t<tr><td>a</td><td> TRUE</td><td>0.26550866</td></tr>\n",
       "\t<tr><td>b</td><td> TRUE</td><td>0.37212390</td></tr>\n",
       "\t<tr><td>c</td><td> TRUE</td><td>0.57285336</td></tr>\n",
       "\t<tr><td>d</td><td>FALSE</td><td>0.90820779</td></tr>\n",
       "\t<tr><td>e</td><td> TRUE</td><td>0.20168193</td></tr>\n",
       "\t<tr><td>f</td><td>FALSE</td><td>0.89838968</td></tr>\n",
       "\t<tr><td>g</td><td>FALSE</td><td>0.94467527</td></tr>\n",
       "\t<tr><td>h</td><td>FALSE</td><td>0.66079779</td></tr>\n",
       "\t<tr><td>i</td><td> TRUE</td><td>0.62911404</td></tr>\n",
       "\t<tr><td>j</td><td>FALSE</td><td>0.06178627</td></tr>\n",
       "</tbody>\n",
       "</table>\n"
      ],
      "text/latex": [
       "A data.frame: 10 × 3\n",
       "\\begin{tabular}{lll}\n",
       " y & z & x\\\\\n",
       " <chr> & <lgl> & <dbl>\\\\\n",
       "\\hline\n",
       "\t a &  TRUE & 0.26550866\\\\\n",
       "\t b &  TRUE & 0.37212390\\\\\n",
       "\t c &  TRUE & 0.57285336\\\\\n",
       "\t d & FALSE & 0.90820779\\\\\n",
       "\t e &  TRUE & 0.20168193\\\\\n",
       "\t f & FALSE & 0.89838968\\\\\n",
       "\t g & FALSE & 0.94467527\\\\\n",
       "\t h & FALSE & 0.66079779\\\\\n",
       "\t i &  TRUE & 0.62911404\\\\\n",
       "\t j & FALSE & 0.06178627\\\\\n",
       "\\end{tabular}\n"
      ],
      "text/markdown": [
       "\n",
       "A data.frame: 10 × 3\n",
       "\n",
       "| y &lt;chr&gt; | z &lt;lgl&gt; | x &lt;dbl&gt; |\n",
       "|---|---|---|\n",
       "| a |  TRUE | 0.26550866 |\n",
       "| b |  TRUE | 0.37212390 |\n",
       "| c |  TRUE | 0.57285336 |\n",
       "| d | FALSE | 0.90820779 |\n",
       "| e |  TRUE | 0.20168193 |\n",
       "| f | FALSE | 0.89838968 |\n",
       "| g | FALSE | 0.94467527 |\n",
       "| h | FALSE | 0.66079779 |\n",
       "| i |  TRUE | 0.62911404 |\n",
       "| j | FALSE | 0.06178627 |\n",
       "\n"
      ],
      "text/plain": [
       "   y z     x         \n",
       "1  a  TRUE 0.26550866\n",
       "2  b  TRUE 0.37212390\n",
       "3  c  TRUE 0.57285336\n",
       "4  d FALSE 0.90820779\n",
       "5  e  TRUE 0.20168193\n",
       "6  f FALSE 0.89838968\n",
       "7  g FALSE 0.94467527\n",
       "8  h FALSE 0.66079779\n",
       "9  i  TRUE 0.62911404\n",
       "10 j FALSE 0.06178627"
      ]
     },
     "metadata": {},
     "output_type": "display_data"
    }
   ],
   "source": [
    "new"
   ]
  },
  {
   "cell_type": "markdown",
   "id": "b848cd7c-6c63-45aa-93dd-940eb2bd4db9",
   "metadata": {},
   "source": [
    "- 포아송분포와 관련된 함수들\n",
    "  - dpois : 확률밀도함수(probability density function)\n",
    "\n",
    "  - ppois : 누적분포함수(cumulative distribution function)\n",
    "\n",
    "  - qpois : 누적분포함수의 역함수(inverse cumulative distribution function)\n",
    "\n",
    "  - rpois : 임의추출\n",
    "\n"
   ]
  },
  {
   "cell_type": "code",
   "execution_count": 6,
   "id": "044eab9c-88fa-4c6c-8a71-44ee67cd748e",
   "metadata": {},
   "outputs": [
    {
     "data": {
      "text/plain": [
       "y\n",
       "  0   1   2   3   4   5   6   7   8 \n",
       "342 532 340 179  83  18   4   1   1 "
      ]
     },
     "metadata": {},
     "output_type": "display_data"
    }
   ],
   "source": [
    "set.seed(1)\n",
    "y =rpois(1500,1.5)\n",
    "\n",
    "table(y)"
   ]
  },
  {
   "cell_type": "code",
   "execution_count": 7,
   "id": "bb98f678-891a-4146-b9ca-380dd153f105",
   "metadata": {},
   "outputs": [],
   "source": [
    "short = as.data.frame(table(y))"
   ]
  },
  {
   "cell_type": "code",
   "execution_count": 8,
   "id": "6513e555-9377-4218-84a1-0443f52e960a",
   "metadata": {},
   "outputs": [
    {
     "data": {
      "text/html": [
       "<table class=\"dataframe\">\n",
       "<caption>A data.frame: 9 × 2</caption>\n",
       "<thead>\n",
       "\t<tr><th scope=col>y</th><th scope=col>Freq</th></tr>\n",
       "\t<tr><th scope=col>&lt;fct&gt;</th><th scope=col>&lt;int&gt;</th></tr>\n",
       "</thead>\n",
       "<tbody>\n",
       "\t<tr><td>0</td><td>342</td></tr>\n",
       "\t<tr><td>1</td><td>532</td></tr>\n",
       "\t<tr><td>2</td><td>340</td></tr>\n",
       "\t<tr><td>3</td><td>179</td></tr>\n",
       "\t<tr><td>4</td><td> 83</td></tr>\n",
       "\t<tr><td>5</td><td> 18</td></tr>\n",
       "\t<tr><td>6</td><td>  4</td></tr>\n",
       "\t<tr><td>7</td><td>  1</td></tr>\n",
       "\t<tr><td>8</td><td>  1</td></tr>\n",
       "</tbody>\n",
       "</table>\n"
      ],
      "text/latex": [
       "A data.frame: 9 × 2\n",
       "\\begin{tabular}{ll}\n",
       " y & Freq\\\\\n",
       " <fct> & <int>\\\\\n",
       "\\hline\n",
       "\t 0 & 342\\\\\n",
       "\t 1 & 532\\\\\n",
       "\t 2 & 340\\\\\n",
       "\t 3 & 179\\\\\n",
       "\t 4 &  83\\\\\n",
       "\t 5 &  18\\\\\n",
       "\t 6 &   4\\\\\n",
       "\t 7 &   1\\\\\n",
       "\t 8 &   1\\\\\n",
       "\\end{tabular}\n"
      ],
      "text/markdown": [
       "\n",
       "A data.frame: 9 × 2\n",
       "\n",
       "| y &lt;fct&gt; | Freq &lt;int&gt; |\n",
       "|---|---|\n",
       "| 0 | 342 |\n",
       "| 1 | 532 |\n",
       "| 2 | 340 |\n",
       "| 3 | 179 |\n",
       "| 4 |  83 |\n",
       "| 5 |  18 |\n",
       "| 6 |   4 |\n",
       "| 7 |   1 |\n",
       "| 8 |   1 |\n",
       "\n"
      ],
      "text/plain": [
       "  y Freq\n",
       "1 0 342 \n",
       "2 1 532 \n",
       "3 2 340 \n",
       "4 3 179 \n",
       "5 4  83 \n",
       "6 5  18 \n",
       "7 6   4 \n",
       "8 7   1 \n",
       "9 8   1 "
      ]
     },
     "metadata": {},
     "output_type": "display_data"
    }
   ],
   "source": [
    "short"
   ]
  },
  {
   "cell_type": "code",
   "execution_count": 10,
   "id": "f7d23035-7a22-4520-b889-0472e5357404",
   "metadata": {},
   "outputs": [
    {
     "data": {
      "text/html": [
       "1500"
      ],
      "text/latex": [
       "1500"
      ],
      "text/markdown": [
       "1500"
      ],
      "text/plain": [
       "[1] 1500"
      ]
     },
     "metadata": {},
     "output_type": "display_data"
    }
   ],
   "source": [
    "index = rep(1:9,short$Freq)\n",
    "length(index)"
   ]
  },
  {
   "cell_type": "code",
   "execution_count": 11,
   "id": "75e758e9-64cb-492d-ac51-d100eddb16a3",
   "metadata": {},
   "outputs": [],
   "source": [
    "long = short[index,]"
   ]
  },
  {
   "cell_type": "code",
   "execution_count": 14,
   "id": "eadc6f36-70c8-4d7a-860e-62aeb6417fa1",
   "metadata": {},
   "outputs": [
    {
     "data": {
      "text/html": [
       "<table class=\"dataframe\">\n",
       "<caption>A data.frame: 6 × 2</caption>\n",
       "<thead>\n",
       "\t<tr><th></th><th scope=col>y</th><th scope=col>Freq</th></tr>\n",
       "\t<tr><th></th><th scope=col>&lt;fct&gt;</th><th scope=col>&lt;int&gt;</th></tr>\n",
       "</thead>\n",
       "<tbody>\n",
       "\t<tr><th scope=row>7</th><td>6</td><td>4</td></tr>\n",
       "\t<tr><th scope=row>7.1</th><td>6</td><td>4</td></tr>\n",
       "\t<tr><th scope=row>7.2</th><td>6</td><td>4</td></tr>\n",
       "\t<tr><th scope=row>7.3</th><td>6</td><td>4</td></tr>\n",
       "\t<tr><th scope=row>8</th><td>7</td><td>1</td></tr>\n",
       "\t<tr><th scope=row>9</th><td>8</td><td>1</td></tr>\n",
       "</tbody>\n",
       "</table>\n"
      ],
      "text/latex": [
       "A data.frame: 6 × 2\n",
       "\\begin{tabular}{r|ll}\n",
       "  & y & Freq\\\\\n",
       "  & <fct> & <int>\\\\\n",
       "\\hline\n",
       "\t7 & 6 & 4\\\\\n",
       "\t7.1 & 6 & 4\\\\\n",
       "\t7.2 & 6 & 4\\\\\n",
       "\t7.3 & 6 & 4\\\\\n",
       "\t8 & 7 & 1\\\\\n",
       "\t9 & 8 & 1\\\\\n",
       "\\end{tabular}\n"
      ],
      "text/markdown": [
       "\n",
       "A data.frame: 6 × 2\n",
       "\n",
       "| <!--/--> | y &lt;fct&gt; | Freq &lt;int&gt; |\n",
       "|---|---|---|\n",
       "| 7 | 6 | 4 |\n",
       "| 7.1 | 6 | 4 |\n",
       "| 7.2 | 6 | 4 |\n",
       "| 7.3 | 6 | 4 |\n",
       "| 8 | 7 | 1 |\n",
       "| 9 | 8 | 1 |\n",
       "\n"
      ],
      "text/plain": [
       "    y Freq\n",
       "7   6 4   \n",
       "7.1 6 4   \n",
       "7.2 6 4   \n",
       "7.3 6 4   \n",
       "8   7 1   \n",
       "9   8 1   "
      ]
     },
     "metadata": {},
     "output_type": "display_data"
    }
   ],
   "source": [
    "tail(long)"
   ]
  },
  {
   "cell_type": "code",
   "execution_count": 15,
   "id": "3244acf1-6490-4505-be5b-7e6ed0c437f1",
   "metadata": {},
   "outputs": [
    {
     "data": {
      "text/html": [
       "'http://www.bio.ic.ac.uk/research/mjcraw/therbook/data/dups.txt'"
      ],
      "text/latex": [
       "'http://www.bio.ic.ac.uk/research/mjcraw/therbook/data/dups.txt'"
      ],
      "text/markdown": [
       "'http://www.bio.ic.ac.uk/research/mjcraw/therbook/data/dups.txt'"
      ],
      "text/plain": [
       "[1] \"http://www.bio.ic.ac.uk/research/mjcraw/therbook/data/dups.txt\""
      ]
     },
     "metadata": {},
     "output_type": "display_data"
    }
   ],
   "source": [
    "baseurl <- \"http://www.bio.ic.ac.uk/research/mjcraw/therbook/data/\"\n",
    "filename <- \"dups.txt\"\n",
    "(fileurl <- paste(baseurl, filename, sep=\"\"))"
   ]
  },
  {
   "cell_type": "code",
   "execution_count": 16,
   "id": "e435d54f-6773-480b-a169-16cb1fc4743d",
   "metadata": {},
   "outputs": [],
   "source": [
    "df = read.table(fileurl,header=TRUE)"
   ]
  },
  {
   "cell_type": "code",
   "execution_count": 17,
   "id": "e2912427-17ad-49d0-90d8-af99b94d9f67",
   "metadata": {},
   "outputs": [
    {
     "data": {
      "text/html": [
       "<table class=\"dataframe\">\n",
       "<caption>A data.frame: 6 × 4</caption>\n",
       "<thead>\n",
       "\t<tr><th></th><th scope=col>cow</th><th scope=col>dog</th><th scope=col>cat</th><th scope=col>bat</th></tr>\n",
       "\t<tr><th></th><th scope=col>&lt;int&gt;</th><th scope=col>&lt;int&gt;</th><th scope=col>&lt;int&gt;</th><th scope=col>&lt;int&gt;</th></tr>\n",
       "</thead>\n",
       "<tbody>\n",
       "\t<tr><th scope=row>1</th><td>1</td><td>2</td><td>3</td><td>1</td></tr>\n",
       "\t<tr><th scope=row>2</th><td>1</td><td>2</td><td>2</td><td>1</td></tr>\n",
       "\t<tr><th scope=row>3</th><td>3</td><td>2</td><td>1</td><td>1</td></tr>\n",
       "\t<tr><th scope=row>4</th><td>4</td><td>4</td><td>2</td><td>1</td></tr>\n",
       "\t<tr><th scope=row>5</th><td>3</td><td>2</td><td>1</td><td>1</td></tr>\n",
       "\t<tr><th scope=row>6</th><td>6</td><td>1</td><td>2</td><td>5</td></tr>\n",
       "</tbody>\n",
       "</table>\n"
      ],
      "text/latex": [
       "A data.frame: 6 × 4\n",
       "\\begin{tabular}{r|llll}\n",
       "  & cow & dog & cat & bat\\\\\n",
       "  & <int> & <int> & <int> & <int>\\\\\n",
       "\\hline\n",
       "\t1 & 1 & 2 & 3 & 1\\\\\n",
       "\t2 & 1 & 2 & 2 & 1\\\\\n",
       "\t3 & 3 & 2 & 1 & 1\\\\\n",
       "\t4 & 4 & 4 & 2 & 1\\\\\n",
       "\t5 & 3 & 2 & 1 & 1\\\\\n",
       "\t6 & 6 & 1 & 2 & 5\\\\\n",
       "\\end{tabular}\n"
      ],
      "text/markdown": [
       "\n",
       "A data.frame: 6 × 4\n",
       "\n",
       "| <!--/--> | cow &lt;int&gt; | dog &lt;int&gt; | cat &lt;int&gt; | bat &lt;int&gt; |\n",
       "|---|---|---|---|---|\n",
       "| 1 | 1 | 2 | 3 | 1 |\n",
       "| 2 | 1 | 2 | 2 | 1 |\n",
       "| 3 | 3 | 2 | 1 | 1 |\n",
       "| 4 | 4 | 4 | 2 | 1 |\n",
       "| 5 | 3 | 2 | 1 | 1 |\n",
       "| 6 | 6 | 1 | 2 | 5 |\n",
       "\n"
      ],
      "text/plain": [
       "  cow dog cat bat\n",
       "1 1   2   3   1  \n",
       "2 1   2   2   1  \n",
       "3 3   2   1   1  \n",
       "4 4   4   2   1  \n",
       "5 3   2   1   1  \n",
       "6 6   1   2   5  "
      ]
     },
     "metadata": {},
     "output_type": "display_data"
    }
   ],
   "source": [
    "head(df)"
   ]
  },
  {
   "cell_type": "code",
   "execution_count": 18,
   "id": "7a5a1952-eed0-4a79-b1cb-898297ef2c19",
   "metadata": {},
   "outputs": [
    {
     "data": {
      "text/html": [
       "<table class=\"dataframe\">\n",
       "<caption>A data.frame: 6 × 4</caption>\n",
       "<thead>\n",
       "\t<tr><th></th><th scope=col>cow</th><th scope=col>dog</th><th scope=col>cat</th><th scope=col>bat</th></tr>\n",
       "\t<tr><th></th><th scope=col>&lt;int&gt;</th><th scope=col>&lt;int&gt;</th><th scope=col>&lt;int&gt;</th><th scope=col>&lt;int&gt;</th></tr>\n",
       "</thead>\n",
       "<tbody>\n",
       "\t<tr><th scope=row>1</th><td>1</td><td>2</td><td>3</td><td>1</td></tr>\n",
       "\t<tr><th scope=row>2</th><td>1</td><td>2</td><td>2</td><td>1</td></tr>\n",
       "\t<tr><th scope=row>3</th><td>3</td><td>2</td><td>1</td><td>1</td></tr>\n",
       "\t<tr><th scope=row>4</th><td>4</td><td>4</td><td>2</td><td>1</td></tr>\n",
       "\t<tr><th scope=row>6</th><td>6</td><td>1</td><td>2</td><td>5</td></tr>\n",
       "\t<tr><th scope=row>7</th><td>1</td><td>2</td><td>3</td><td>2</td></tr>\n",
       "</tbody>\n",
       "</table>\n"
      ],
      "text/latex": [
       "A data.frame: 6 × 4\n",
       "\\begin{tabular}{r|llll}\n",
       "  & cow & dog & cat & bat\\\\\n",
       "  & <int> & <int> & <int> & <int>\\\\\n",
       "\\hline\n",
       "\t1 & 1 & 2 & 3 & 1\\\\\n",
       "\t2 & 1 & 2 & 2 & 1\\\\\n",
       "\t3 & 3 & 2 & 1 & 1\\\\\n",
       "\t4 & 4 & 4 & 2 & 1\\\\\n",
       "\t6 & 6 & 1 & 2 & 5\\\\\n",
       "\t7 & 1 & 2 & 3 & 2\\\\\n",
       "\\end{tabular}\n"
      ],
      "text/markdown": [
       "\n",
       "A data.frame: 6 × 4\n",
       "\n",
       "| <!--/--> | cow &lt;int&gt; | dog &lt;int&gt; | cat &lt;int&gt; | bat &lt;int&gt; |\n",
       "|---|---|---|---|---|\n",
       "| 1 | 1 | 2 | 3 | 1 |\n",
       "| 2 | 1 | 2 | 2 | 1 |\n",
       "| 3 | 3 | 2 | 1 | 1 |\n",
       "| 4 | 4 | 4 | 2 | 1 |\n",
       "| 6 | 6 | 1 | 2 | 5 |\n",
       "| 7 | 1 | 2 | 3 | 2 |\n",
       "\n"
      ],
      "text/plain": [
       "  cow dog cat bat\n",
       "1 1   2   3   1  \n",
       "2 1   2   2   1  \n",
       "3 3   2   1   1  \n",
       "4 4   4   2   1  \n",
       "6 6   1   2   5  \n",
       "7 1   2   3   2  "
      ]
     },
     "metadata": {},
     "output_type": "display_data"
    }
   ],
   "source": [
    "unique(df)"
   ]
  },
  {
   "cell_type": "code",
   "execution_count": 20,
   "id": "b32385df-83f6-498d-a34c-cb5049905fbc",
   "metadata": {},
   "outputs": [
    {
     "data": {
      "text/html": [
       "<table class=\"dataframe\">\n",
       "<caption>A data.frame: 1 × 4</caption>\n",
       "<thead>\n",
       "\t<tr><th></th><th scope=col>cow</th><th scope=col>dog</th><th scope=col>cat</th><th scope=col>bat</th></tr>\n",
       "\t<tr><th></th><th scope=col>&lt;int&gt;</th><th scope=col>&lt;int&gt;</th><th scope=col>&lt;int&gt;</th><th scope=col>&lt;int&gt;</th></tr>\n",
       "</thead>\n",
       "<tbody>\n",
       "\t<tr><th scope=row>5</th><td>3</td><td>2</td><td>1</td><td>1</td></tr>\n",
       "</tbody>\n",
       "</table>\n"
      ],
      "text/latex": [
       "A data.frame: 1 × 4\n",
       "\\begin{tabular}{r|llll}\n",
       "  & cow & dog & cat & bat\\\\\n",
       "  & <int> & <int> & <int> & <int>\\\\\n",
       "\\hline\n",
       "\t5 & 3 & 2 & 1 & 1\\\\\n",
       "\\end{tabular}\n"
      ],
      "text/markdown": [
       "\n",
       "A data.frame: 1 × 4\n",
       "\n",
       "| <!--/--> | cow &lt;int&gt; | dog &lt;int&gt; | cat &lt;int&gt; | bat &lt;int&gt; |\n",
       "|---|---|---|---|---|\n",
       "| 5 | 3 | 2 | 1 | 1 |\n",
       "\n"
      ],
      "text/plain": [
       "  cow dog cat bat\n",
       "5 3   2   1   1  "
      ]
     },
     "metadata": {},
     "output_type": "display_data"
    }
   ],
   "source": [
    "df[duplicated(df),]"
   ]
  },
  {
   "cell_type": "code",
   "execution_count": 21,
   "id": "f76cfc26-2e86-46b5-8cb6-76eb88a0a60a",
   "metadata": {},
   "outputs": [],
   "source": [
    "url1 <- \"http://www.bio.ic.ac.uk/research/mjcraw/therbook/data/lifeforms.txt\""
   ]
  },
  {
   "cell_type": "code",
   "execution_count": 22,
   "id": "15461e02-480f-4b03-8e76-28c2eb965a1c",
   "metadata": {},
   "outputs": [],
   "source": [
    "df1 = read.table(url1, header=TRUE)"
   ]
  },
  {
   "cell_type": "code",
   "execution_count": 23,
   "id": "2c7e4c3c-9dd0-434e-836f-ff278847110a",
   "metadata": {},
   "outputs": [
    {
     "data": {
      "text/html": [
       "<table class=\"dataframe\">\n",
       "<caption>A data.frame: 5 × 3</caption>\n",
       "<thead>\n",
       "\t<tr><th scope=col>Genus</th><th scope=col>species</th><th scope=col>lifeform</th></tr>\n",
       "\t<tr><th scope=col>&lt;chr&gt;</th><th scope=col>&lt;chr&gt;</th><th scope=col>&lt;chr&gt;</th></tr>\n",
       "</thead>\n",
       "<tbody>\n",
       "\t<tr><td>Acer  </td><td>platanoides</td><td>tree  </td></tr>\n",
       "\t<tr><td>Acer  </td><td>palmatum   </td><td>tree  </td></tr>\n",
       "\t<tr><td>Ajuga </td><td>reptans    </td><td>herb  </td></tr>\n",
       "\t<tr><td>Conyza</td><td>sumatrensis</td><td>annual</td></tr>\n",
       "\t<tr><td>Lamium</td><td>album      </td><td>herb  </td></tr>\n",
       "</tbody>\n",
       "</table>\n"
      ],
      "text/latex": [
       "A data.frame: 5 × 3\n",
       "\\begin{tabular}{lll}\n",
       " Genus & species & lifeform\\\\\n",
       " <chr> & <chr> & <chr>\\\\\n",
       "\\hline\n",
       "\t Acer   & platanoides & tree  \\\\\n",
       "\t Acer   & palmatum    & tree  \\\\\n",
       "\t Ajuga  & reptans     & herb  \\\\\n",
       "\t Conyza & sumatrensis & annual\\\\\n",
       "\t Lamium & album       & herb  \\\\\n",
       "\\end{tabular}\n"
      ],
      "text/markdown": [
       "\n",
       "A data.frame: 5 × 3\n",
       "\n",
       "| Genus &lt;chr&gt; | species &lt;chr&gt; | lifeform &lt;chr&gt; |\n",
       "|---|---|---|\n",
       "| Acer   | platanoides | tree   |\n",
       "| Acer   | palmatum    | tree   |\n",
       "| Ajuga  | reptans     | herb   |\n",
       "| Conyza | sumatrensis | annual |\n",
       "| Lamium | album       | herb   |\n",
       "\n"
      ],
      "text/plain": [
       "  Genus  species     lifeform\n",
       "1 Acer   platanoides tree    \n",
       "2 Acer   palmatum    tree    \n",
       "3 Ajuga  reptans     herb    \n",
       "4 Conyza sumatrensis annual  \n",
       "5 Lamium album       herb    "
      ]
     },
     "metadata": {},
     "output_type": "display_data"
    }
   ],
   "source": [
    "df1"
   ]
  },
  {
   "cell_type": "code",
   "execution_count": 24,
   "id": "49a3beb3-320a-4b76-9da2-62aafbe1deb3",
   "metadata": {},
   "outputs": [
    {
     "data": {
      "text/html": [
       "<table class=\"dataframe\">\n",
       "<caption>A data.frame: 6 × 3</caption>\n",
       "<thead>\n",
       "\t<tr><th scope=col>Genus</th><th scope=col>species</th><th scope=col>flowering</th></tr>\n",
       "\t<tr><th scope=col>&lt;chr&gt;</th><th scope=col>&lt;chr&gt;</th><th scope=col>&lt;chr&gt;</th></tr>\n",
       "</thead>\n",
       "<tbody>\n",
       "\t<tr><td>Acer     </td><td>platanoides  </td><td>May    </td></tr>\n",
       "\t<tr><td>Ajuga    </td><td>reptans      </td><td>June   </td></tr>\n",
       "\t<tr><td>Brassica </td><td>napus        </td><td>April  </td></tr>\n",
       "\t<tr><td>Chamerion</td><td>angustifolium</td><td>July   </td></tr>\n",
       "\t<tr><td>Conyza   </td><td>bilbaoana    </td><td>August </td></tr>\n",
       "\t<tr><td>Lamium   </td><td>album        </td><td>January</td></tr>\n",
       "</tbody>\n",
       "</table>\n"
      ],
      "text/latex": [
       "A data.frame: 6 × 3\n",
       "\\begin{tabular}{lll}\n",
       " Genus & species & flowering\\\\\n",
       " <chr> & <chr> & <chr>\\\\\n",
       "\\hline\n",
       "\t Acer      & platanoides   & May    \\\\\n",
       "\t Ajuga     & reptans       & June   \\\\\n",
       "\t Brassica  & napus         & April  \\\\\n",
       "\t Chamerion & angustifolium & July   \\\\\n",
       "\t Conyza    & bilbaoana     & August \\\\\n",
       "\t Lamium    & album         & January\\\\\n",
       "\\end{tabular}\n"
      ],
      "text/markdown": [
       "\n",
       "A data.frame: 6 × 3\n",
       "\n",
       "| Genus &lt;chr&gt; | species &lt;chr&gt; | flowering &lt;chr&gt; |\n",
       "|---|---|---|\n",
       "| Acer      | platanoides   | May     |\n",
       "| Ajuga     | reptans       | June    |\n",
       "| Brassica  | napus         | April   |\n",
       "| Chamerion | angustifolium | July    |\n",
       "| Conyza    | bilbaoana     | August  |\n",
       "| Lamium    | album         | January |\n",
       "\n"
      ],
      "text/plain": [
       "  Genus     species       flowering\n",
       "1 Acer      platanoides   May      \n",
       "2 Ajuga     reptans       June     \n",
       "3 Brassica  napus         April    \n",
       "4 Chamerion angustifolium July     \n",
       "5 Conyza    bilbaoana     August   \n",
       "6 Lamium    album         January  "
      ]
     },
     "metadata": {},
     "output_type": "display_data"
    }
   ],
   "source": [
    "url2 <- \"http://www.bio.ic.ac.uk/research/mjcraw/therbook/data/fltimes.txt\"\n",
    "(df2 <- read.table(url2, header=TRUE))"
   ]
  },
  {
   "cell_type": "code",
   "execution_count": 25,
   "id": "f9627913-7bfb-49f6-892a-845378425ad8",
   "metadata": {},
   "outputs": [
    {
     "data": {
      "text/html": [
       "<table class=\"dataframe\">\n",
       "<caption>A data.frame: 3 × 4</caption>\n",
       "<thead>\n",
       "\t<tr><th scope=col>Genus</th><th scope=col>species</th><th scope=col>lifeform</th><th scope=col>flowering</th></tr>\n",
       "\t<tr><th scope=col>&lt;chr&gt;</th><th scope=col>&lt;chr&gt;</th><th scope=col>&lt;chr&gt;</th><th scope=col>&lt;chr&gt;</th></tr>\n",
       "</thead>\n",
       "<tbody>\n",
       "\t<tr><td>Acer  </td><td>platanoides</td><td>tree</td><td>May    </td></tr>\n",
       "\t<tr><td>Ajuga </td><td>reptans    </td><td>herb</td><td>June   </td></tr>\n",
       "\t<tr><td>Lamium</td><td>album      </td><td>herb</td><td>January</td></tr>\n",
       "</tbody>\n",
       "</table>\n"
      ],
      "text/latex": [
       "A data.frame: 3 × 4\n",
       "\\begin{tabular}{llll}\n",
       " Genus & species & lifeform & flowering\\\\\n",
       " <chr> & <chr> & <chr> & <chr>\\\\\n",
       "\\hline\n",
       "\t Acer   & platanoides & tree & May    \\\\\n",
       "\t Ajuga  & reptans     & herb & June   \\\\\n",
       "\t Lamium & album       & herb & January\\\\\n",
       "\\end{tabular}\n"
      ],
      "text/markdown": [
       "\n",
       "A data.frame: 3 × 4\n",
       "\n",
       "| Genus &lt;chr&gt; | species &lt;chr&gt; | lifeform &lt;chr&gt; | flowering &lt;chr&gt; |\n",
       "|---|---|---|---|\n",
       "| Acer   | platanoides | tree | May     |\n",
       "| Ajuga  | reptans     | herb | June    |\n",
       "| Lamium | album       | herb | January |\n",
       "\n"
      ],
      "text/plain": [
       "  Genus  species     lifeform flowering\n",
       "1 Acer   platanoides tree     May      \n",
       "2 Ajuga  reptans     herb     June     \n",
       "3 Lamium album       herb     January  "
      ]
     },
     "metadata": {},
     "output_type": "display_data"
    }
   ],
   "source": [
    "merge(df1,df2)"
   ]
  },
  {
   "cell_type": "code",
   "execution_count": 26,
   "id": "42f04084-3a7e-4db0-8761-2b4530178dc5",
   "metadata": {},
   "outputs": [],
   "source": [
    "both = merge(df1,df2,all=T)"
   ]
  },
  {
   "cell_type": "code",
   "execution_count": 27,
   "id": "7c93dba1-dad8-4733-956b-a1d0b7adebcf",
   "metadata": {},
   "outputs": [
    {
     "data": {
      "text/html": [
       "<table class=\"dataframe\">\n",
       "<caption>A data.frame: 8 × 4</caption>\n",
       "<thead>\n",
       "\t<tr><th scope=col>Genus</th><th scope=col>species</th><th scope=col>lifeform</th><th scope=col>flowering</th></tr>\n",
       "\t<tr><th scope=col>&lt;chr&gt;</th><th scope=col>&lt;chr&gt;</th><th scope=col>&lt;chr&gt;</th><th scope=col>&lt;chr&gt;</th></tr>\n",
       "</thead>\n",
       "<tbody>\n",
       "\t<tr><td>Acer     </td><td>palmatum     </td><td>tree  </td><td>NA     </td></tr>\n",
       "\t<tr><td>Acer     </td><td>platanoides  </td><td>tree  </td><td>May    </td></tr>\n",
       "\t<tr><td>Ajuga    </td><td>reptans      </td><td>herb  </td><td>June   </td></tr>\n",
       "\t<tr><td>Brassica </td><td>napus        </td><td>NA    </td><td>April  </td></tr>\n",
       "\t<tr><td>Chamerion</td><td>angustifolium</td><td>NA    </td><td>July   </td></tr>\n",
       "\t<tr><td>Conyza   </td><td>bilbaoana    </td><td>NA    </td><td>August </td></tr>\n",
       "\t<tr><td>Conyza   </td><td>sumatrensis  </td><td>annual</td><td>NA     </td></tr>\n",
       "\t<tr><td>Lamium   </td><td>album        </td><td>herb  </td><td>January</td></tr>\n",
       "</tbody>\n",
       "</table>\n"
      ],
      "text/latex": [
       "A data.frame: 8 × 4\n",
       "\\begin{tabular}{llll}\n",
       " Genus & species & lifeform & flowering\\\\\n",
       " <chr> & <chr> & <chr> & <chr>\\\\\n",
       "\\hline\n",
       "\t Acer      & palmatum      & tree   & NA     \\\\\n",
       "\t Acer      & platanoides   & tree   & May    \\\\\n",
       "\t Ajuga     & reptans       & herb   & June   \\\\\n",
       "\t Brassica  & napus         & NA     & April  \\\\\n",
       "\t Chamerion & angustifolium & NA     & July   \\\\\n",
       "\t Conyza    & bilbaoana     & NA     & August \\\\\n",
       "\t Conyza    & sumatrensis   & annual & NA     \\\\\n",
       "\t Lamium    & album         & herb   & January\\\\\n",
       "\\end{tabular}\n"
      ],
      "text/markdown": [
       "\n",
       "A data.frame: 8 × 4\n",
       "\n",
       "| Genus &lt;chr&gt; | species &lt;chr&gt; | lifeform &lt;chr&gt; | flowering &lt;chr&gt; |\n",
       "|---|---|---|---|\n",
       "| Acer      | palmatum      | tree   | NA      |\n",
       "| Acer      | platanoides   | tree   | May     |\n",
       "| Ajuga     | reptans       | herb   | June    |\n",
       "| Brassica  | napus         | NA     | April   |\n",
       "| Chamerion | angustifolium | NA     | July    |\n",
       "| Conyza    | bilbaoana     | NA     | August  |\n",
       "| Conyza    | sumatrensis   | annual | NA      |\n",
       "| Lamium    | album         | herb   | January |\n",
       "\n"
      ],
      "text/plain": [
       "  Genus     species       lifeform flowering\n",
       "1 Acer      palmatum      tree     NA       \n",
       "2 Acer      platanoides   tree     May      \n",
       "3 Ajuga     reptans       herb     June     \n",
       "4 Brassica  napus         NA       April    \n",
       "5 Chamerion angustifolium NA       July     \n",
       "6 Conyza    bilbaoana     NA       August   \n",
       "7 Conyza    sumatrensis   annual   NA       \n",
       "8 Lamium    album         herb     January  "
      ]
     },
     "metadata": {},
     "output_type": "display_data"
    }
   ],
   "source": [
    "both"
   ]
  },
  {
   "cell_type": "code",
   "execution_count": 28,
   "id": "bf3a4f31-26d5-41bf-8f94-8e088cb4c608",
   "metadata": {},
   "outputs": [
    {
     "data": {
      "text/html": [
       "<table class=\"dataframe\">\n",
       "<caption>A data.frame: 8 × 3</caption>\n",
       "<thead>\n",
       "\t<tr><th scope=col>name1</th><th scope=col>name2</th><th scope=col>seed</th></tr>\n",
       "\t<tr><th scope=col>&lt;chr&gt;</th><th scope=col>&lt;chr&gt;</th><th scope=col>&lt;dbl&gt;</th></tr>\n",
       "</thead>\n",
       "<tbody>\n",
       "\t<tr><td>Acer     </td><td>platanoides  </td><td>32.0</td></tr>\n",
       "\t<tr><td>Lamium   </td><td>album        </td><td>12.0</td></tr>\n",
       "\t<tr><td>Ajuga    </td><td>reptans      </td><td> 4.0</td></tr>\n",
       "\t<tr><td>Chamerion</td><td>angustifolium</td><td> 1.5</td></tr>\n",
       "\t<tr><td>Conyza   </td><td>bilbaoana    </td><td> 0.5</td></tr>\n",
       "\t<tr><td>Brassica </td><td>napus        </td><td> 7.0</td></tr>\n",
       "\t<tr><td>Acer     </td><td>palmatum     </td><td>21.0</td></tr>\n",
       "\t<tr><td>Conyza   </td><td>sumatrensis  </td><td> 0.6</td></tr>\n",
       "</tbody>\n",
       "</table>\n"
      ],
      "text/latex": [
       "A data.frame: 8 × 3\n",
       "\\begin{tabular}{lll}\n",
       " name1 & name2 & seed\\\\\n",
       " <chr> & <chr> & <dbl>\\\\\n",
       "\\hline\n",
       "\t Acer      & platanoides   & 32.0\\\\\n",
       "\t Lamium    & album         & 12.0\\\\\n",
       "\t Ajuga     & reptans       &  4.0\\\\\n",
       "\t Chamerion & angustifolium &  1.5\\\\\n",
       "\t Conyza    & bilbaoana     &  0.5\\\\\n",
       "\t Brassica  & napus         &  7.0\\\\\n",
       "\t Acer      & palmatum      & 21.0\\\\\n",
       "\t Conyza    & sumatrensis   &  0.6\\\\\n",
       "\\end{tabular}\n"
      ],
      "text/markdown": [
       "\n",
       "A data.frame: 8 × 3\n",
       "\n",
       "| name1 &lt;chr&gt; | name2 &lt;chr&gt; | seed &lt;dbl&gt; |\n",
       "|---|---|---|\n",
       "| Acer      | platanoides   | 32.0 |\n",
       "| Lamium    | album         | 12.0 |\n",
       "| Ajuga     | reptans       |  4.0 |\n",
       "| Chamerion | angustifolium |  1.5 |\n",
       "| Conyza    | bilbaoana     |  0.5 |\n",
       "| Brassica  | napus         |  7.0 |\n",
       "| Acer      | palmatum      | 21.0 |\n",
       "| Conyza    | sumatrensis   |  0.6 |\n",
       "\n"
      ],
      "text/plain": [
       "  name1     name2         seed\n",
       "1 Acer      platanoides   32.0\n",
       "2 Lamium    album         12.0\n",
       "3 Ajuga     reptans        4.0\n",
       "4 Chamerion angustifolium  1.5\n",
       "5 Conyza    bilbaoana      0.5\n",
       "6 Brassica  napus          7.0\n",
       "7 Acer      palmatum      21.0\n",
       "8 Conyza    sumatrensis    0.6"
      ]
     },
     "metadata": {},
     "output_type": "display_data"
    }
   ],
   "source": [
    "url3 <- \"http://www.bio.ic.ac.uk/research/mjcraw/therbook/data/seedwts.txt\"\n",
    "(df3 <- read.table(url3, header=TRUE))"
   ]
  },
  {
   "cell_type": "code",
   "execution_count": 30,
   "id": "c76aad07-1caa-4762-a0f1-96510a0f7c6b",
   "metadata": {},
   "outputs": [
    {
     "data": {
      "text/html": [
       "<table class=\"dataframe\">\n",
       "<caption>A data.frame: 8 × 5</caption>\n",
       "<thead>\n",
       "\t<tr><th scope=col>Genus</th><th scope=col>species</th><th scope=col>lifeform</th><th scope=col>flowering</th><th scope=col>seed</th></tr>\n",
       "\t<tr><th scope=col>&lt;chr&gt;</th><th scope=col>&lt;chr&gt;</th><th scope=col>&lt;chr&gt;</th><th scope=col>&lt;chr&gt;</th><th scope=col>&lt;dbl&gt;</th></tr>\n",
       "</thead>\n",
       "<tbody>\n",
       "\t<tr><td>Acer     </td><td>palmatum     </td><td>tree  </td><td>NA     </td><td>21.0</td></tr>\n",
       "\t<tr><td>Acer     </td><td>platanoides  </td><td>tree  </td><td>May    </td><td>32.0</td></tr>\n",
       "\t<tr><td>Ajuga    </td><td>reptans      </td><td>herb  </td><td>June   </td><td> 4.0</td></tr>\n",
       "\t<tr><td>Brassica </td><td>napus        </td><td>NA    </td><td>April  </td><td> 7.0</td></tr>\n",
       "\t<tr><td>Chamerion</td><td>angustifolium</td><td>NA    </td><td>July   </td><td> 1.5</td></tr>\n",
       "\t<tr><td>Conyza   </td><td>bilbaoana    </td><td>NA    </td><td>August </td><td> 0.5</td></tr>\n",
       "\t<tr><td>Conyza   </td><td>sumatrensis  </td><td>annual</td><td>NA     </td><td> 0.6</td></tr>\n",
       "\t<tr><td>Lamium   </td><td>album        </td><td>herb  </td><td>January</td><td>12.0</td></tr>\n",
       "</tbody>\n",
       "</table>\n"
      ],
      "text/latex": [
       "A data.frame: 8 × 5\n",
       "\\begin{tabular}{lllll}\n",
       " Genus & species & lifeform & flowering & seed\\\\\n",
       " <chr> & <chr> & <chr> & <chr> & <dbl>\\\\\n",
       "\\hline\n",
       "\t Acer      & palmatum      & tree   & NA      & 21.0\\\\\n",
       "\t Acer      & platanoides   & tree   & May     & 32.0\\\\\n",
       "\t Ajuga     & reptans       & herb   & June    &  4.0\\\\\n",
       "\t Brassica  & napus         & NA     & April   &  7.0\\\\\n",
       "\t Chamerion & angustifolium & NA     & July    &  1.5\\\\\n",
       "\t Conyza    & bilbaoana     & NA     & August  &  0.5\\\\\n",
       "\t Conyza    & sumatrensis   & annual & NA      &  0.6\\\\\n",
       "\t Lamium    & album         & herb   & January & 12.0\\\\\n",
       "\\end{tabular}\n"
      ],
      "text/markdown": [
       "\n",
       "A data.frame: 8 × 5\n",
       "\n",
       "| Genus &lt;chr&gt; | species &lt;chr&gt; | lifeform &lt;chr&gt; | flowering &lt;chr&gt; | seed &lt;dbl&gt; |\n",
       "|---|---|---|---|---|\n",
       "| Acer      | palmatum      | tree   | NA      | 21.0 |\n",
       "| Acer      | platanoides   | tree   | May     | 32.0 |\n",
       "| Ajuga     | reptans       | herb   | June    |  4.0 |\n",
       "| Brassica  | napus         | NA     | April   |  7.0 |\n",
       "| Chamerion | angustifolium | NA     | July    |  1.5 |\n",
       "| Conyza    | bilbaoana     | NA     | August  |  0.5 |\n",
       "| Conyza    | sumatrensis   | annual | NA      |  0.6 |\n",
       "| Lamium    | album         | herb   | January | 12.0 |\n",
       "\n"
      ],
      "text/plain": [
       "  Genus     species       lifeform flowering seed\n",
       "1 Acer      palmatum      tree     NA        21.0\n",
       "2 Acer      platanoides   tree     May       32.0\n",
       "3 Ajuga     reptans       herb     June       4.0\n",
       "4 Brassica  napus         NA       April      7.0\n",
       "5 Chamerion angustifolium NA       July       1.5\n",
       "6 Conyza    bilbaoana     NA       August     0.5\n",
       "7 Conyza    sumatrensis   annual   NA         0.6\n",
       "8 Lamium    album         herb     January   12.0"
      ]
     },
     "metadata": {},
     "output_type": "display_data"
    }
   ],
   "source": [
    "merge(both,df3,by.x=c(\"Genus\",\"species\"),by.y=c(\"name1\",\"name2\"))"
   ]
  },
  {
   "cell_type": "code",
   "execution_count": 31,
   "id": "856c7b64-fe65-4045-9521-dee937e99c1e",
   "metadata": {},
   "outputs": [],
   "source": [
    "url <- \"http://www.bio.ic.ac.uk/research/mjcraw/therbook/data/sales.txt\""
   ]
  },
  {
   "cell_type": "code",
   "execution_count": 32,
   "id": "d2a51a97-8351-4485-ac01-b57a7247694a",
   "metadata": {},
   "outputs": [],
   "source": [
    "sales = read.table(url,header=TRUE)"
   ]
  },
  {
   "cell_type": "code",
   "execution_count": 33,
   "id": "6960eb5c-8d0c-41ff-8112-51d930c91d2c",
   "metadata": {},
   "outputs": [
    {
     "data": {
      "text/html": [
       "<table class=\"dataframe\">\n",
       "<caption>A data.frame: 5 × 5</caption>\n",
       "<thead>\n",
       "\t<tr><th></th><th scope=col>name</th><th scope=col>spring</th><th scope=col>summer</th><th scope=col>autumn</th><th scope=col>winter</th></tr>\n",
       "\t<tr><th></th><th scope=col>&lt;chr&gt;</th><th scope=col>&lt;int&gt;</th><th scope=col>&lt;int&gt;</th><th scope=col>&lt;int&gt;</th><th scope=col>&lt;int&gt;</th></tr>\n",
       "</thead>\n",
       "<tbody>\n",
       "\t<tr><th scope=row>1</th><td>Jane.Smith     </td><td>14</td><td>18</td><td>11</td><td>12</td></tr>\n",
       "\t<tr><th scope=row>2</th><td>Robert.Jones   </td><td>17</td><td>18</td><td>10</td><td>13</td></tr>\n",
       "\t<tr><th scope=row>3</th><td>Dick.Rogers    </td><td>12</td><td>16</td><td> 9</td><td>14</td></tr>\n",
       "\t<tr><th scope=row>4</th><td>William.Edwards</td><td>15</td><td>14</td><td>11</td><td>10</td></tr>\n",
       "\t<tr><th scope=row>5</th><td>Janet.Jones    </td><td>11</td><td>17</td><td>11</td><td>16</td></tr>\n",
       "</tbody>\n",
       "</table>\n"
      ],
      "text/latex": [
       "A data.frame: 5 × 5\n",
       "\\begin{tabular}{r|lllll}\n",
       "  & name & spring & summer & autumn & winter\\\\\n",
       "  & <chr> & <int> & <int> & <int> & <int>\\\\\n",
       "\\hline\n",
       "\t1 & Jane.Smith      & 14 & 18 & 11 & 12\\\\\n",
       "\t2 & Robert.Jones    & 17 & 18 & 10 & 13\\\\\n",
       "\t3 & Dick.Rogers     & 12 & 16 &  9 & 14\\\\\n",
       "\t4 & William.Edwards & 15 & 14 & 11 & 10\\\\\n",
       "\t5 & Janet.Jones     & 11 & 17 & 11 & 16\\\\\n",
       "\\end{tabular}\n"
      ],
      "text/markdown": [
       "\n",
       "A data.frame: 5 × 5\n",
       "\n",
       "| <!--/--> | name &lt;chr&gt; | spring &lt;int&gt; | summer &lt;int&gt; | autumn &lt;int&gt; | winter &lt;int&gt; |\n",
       "|---|---|---|---|---|---|\n",
       "| 1 | Jane.Smith      | 14 | 18 | 11 | 12 |\n",
       "| 2 | Robert.Jones    | 17 | 18 | 10 | 13 |\n",
       "| 3 | Dick.Rogers     | 12 | 16 |  9 | 14 |\n",
       "| 4 | William.Edwards | 15 | 14 | 11 | 10 |\n",
       "| 5 | Janet.Jones     | 11 | 17 | 11 | 16 |\n",
       "\n"
      ],
      "text/plain": [
       "  name            spring summer autumn winter\n",
       "1 Jane.Smith      14     18     11     12    \n",
       "2 Robert.Jones    17     18     10     13    \n",
       "3 Dick.Rogers     12     16      9     14    \n",
       "4 William.Edwards 15     14     11     10    \n",
       "5 Janet.Jones     11     17     11     16    "
      ]
     },
     "metadata": {},
     "output_type": "display_data"
    }
   ],
   "source": [
    "head(sales)"
   ]
  },
  {
   "cell_type": "code",
   "execution_count": 39,
   "id": "ef862804-b566-40cf-a637-781551cdfdb9",
   "metadata": {},
   "outputs": [],
   "source": [
    "people_mean = rowMeans(sales[,2:5])"
   ]
  },
  {
   "cell_type": "code",
   "execution_count": 40,
   "id": "f69ecc20-a2e4-4eea-ab94-e8ef34d6e864",
   "metadata": {},
   "outputs": [
    {
     "data": {
      "text/html": [
       "<style>\n",
       ".list-inline {list-style: none; margin:0; padding: 0}\n",
       ".list-inline>li {display: inline-block}\n",
       ".list-inline>li:not(:last-child)::after {content: \"\\00b7\"; padding: 0 .5ex}\n",
       "</style>\n",
       "<ol class=list-inline><li>13.75</li><li>14.5</li><li>12.75</li><li>12.5</li><li>13.75</li></ol>\n"
      ],
      "text/latex": [
       "\\begin{enumerate*}\n",
       "\\item 13.75\n",
       "\\item 14.5\n",
       "\\item 12.75\n",
       "\\item 12.5\n",
       "\\item 13.75\n",
       "\\end{enumerate*}\n"
      ],
      "text/markdown": [
       "1. 13.75\n",
       "2. 14.5\n",
       "3. 12.75\n",
       "4. 12.5\n",
       "5. 13.75\n",
       "\n",
       "\n"
      ],
      "text/plain": [
       "[1] 13.75 14.50 12.75 12.50 13.75"
      ]
     },
     "metadata": {},
     "output_type": "display_data"
    }
   ],
   "source": [
    "people_mean"
   ]
  },
  {
   "cell_type": "code",
   "execution_count": 41,
   "id": "c26097d8-5b73-4316-893a-cd33425cb754",
   "metadata": {},
   "outputs": [
    {
     "data": {
      "text/html": [
       "13.45"
      ],
      "text/latex": [
       "13.45"
      ],
      "text/markdown": [
       "13.45"
      ],
      "text/plain": [
       "[1] 13.45"
      ]
     },
     "metadata": {},
     "output_type": "display_data"
    }
   ],
   "source": [
    "mean(people_mean)"
   ]
  },
  {
   "cell_type": "code",
   "execution_count": 42,
   "id": "9e3e0704-2b6d-4f95-8aa7-d0c1bb6955a2",
   "metadata": {},
   "outputs": [],
   "source": [
    "diff_mean <- people_mean  - mean(people_mean )"
   ]
  },
  {
   "cell_type": "code",
   "execution_count": 43,
   "id": "df5403c7-88ee-4a55-9587-8be65a43206a",
   "metadata": {},
   "outputs": [
    {
     "data": {
      "text/html": [
       "<style>\n",
       ".list-inline {list-style: none; margin:0; padding: 0}\n",
       ".list-inline>li {display: inline-block}\n",
       ".list-inline>li:not(:last-child)::after {content: \"\\00b7\"; padding: 0 .5ex}\n",
       "</style>\n",
       "<ol class=list-inline><li>0.300000000000001</li><li>1.05</li><li>-0.699999999999999</li><li>-0.949999999999999</li><li>0.300000000000001</li></ol>\n"
      ],
      "text/latex": [
       "\\begin{enumerate*}\n",
       "\\item 0.300000000000001\n",
       "\\item 1.05\n",
       "\\item -0.699999999999999\n",
       "\\item -0.949999999999999\n",
       "\\item 0.300000000000001\n",
       "\\end{enumerate*}\n"
      ],
      "text/markdown": [
       "1. 0.300000000000001\n",
       "2. 1.05\n",
       "3. -0.699999999999999\n",
       "4. -0.949999999999999\n",
       "5. 0.300000000000001\n",
       "\n",
       "\n"
      ],
      "text/plain": [
       "[1]  0.30  1.05 -0.70 -0.95  0.30"
      ]
     },
     "metadata": {},
     "output_type": "display_data"
    }
   ],
   "source": [
    "diff_mean"
   ]
  },
  {
   "cell_type": "code",
   "execution_count": 44,
   "id": "1f921b03-9cd3-4ae1-89ee-4e3b3cf530b8",
   "metadata": {},
   "outputs": [],
   "source": [
    "new_sales = cbind(sales, diff_mean)"
   ]
  },
  {
   "cell_type": "code",
   "execution_count": 45,
   "id": "f7865350-944e-4e27-a946-71cfca4113b3",
   "metadata": {},
   "outputs": [
    {
     "data": {
      "text/html": [
       "<table class=\"dataframe\">\n",
       "<caption>A data.frame: 5 × 6</caption>\n",
       "<thead>\n",
       "\t<tr><th scope=col>name</th><th scope=col>spring</th><th scope=col>summer</th><th scope=col>autumn</th><th scope=col>winter</th><th scope=col>diff_mean</th></tr>\n",
       "\t<tr><th scope=col>&lt;chr&gt;</th><th scope=col>&lt;int&gt;</th><th scope=col>&lt;int&gt;</th><th scope=col>&lt;int&gt;</th><th scope=col>&lt;int&gt;</th><th scope=col>&lt;dbl&gt;</th></tr>\n",
       "</thead>\n",
       "<tbody>\n",
       "\t<tr><td>Jane.Smith     </td><td>14</td><td>18</td><td>11</td><td>12</td><td> 0.30</td></tr>\n",
       "\t<tr><td>Robert.Jones   </td><td>17</td><td>18</td><td>10</td><td>13</td><td> 1.05</td></tr>\n",
       "\t<tr><td>Dick.Rogers    </td><td>12</td><td>16</td><td> 9</td><td>14</td><td>-0.70</td></tr>\n",
       "\t<tr><td>William.Edwards</td><td>15</td><td>14</td><td>11</td><td>10</td><td>-0.95</td></tr>\n",
       "\t<tr><td>Janet.Jones    </td><td>11</td><td>17</td><td>11</td><td>16</td><td> 0.30</td></tr>\n",
       "</tbody>\n",
       "</table>\n"
      ],
      "text/latex": [
       "A data.frame: 5 × 6\n",
       "\\begin{tabular}{llllll}\n",
       " name & spring & summer & autumn & winter & diff\\_mean\\\\\n",
       " <chr> & <int> & <int> & <int> & <int> & <dbl>\\\\\n",
       "\\hline\n",
       "\t Jane.Smith      & 14 & 18 & 11 & 12 &  0.30\\\\\n",
       "\t Robert.Jones    & 17 & 18 & 10 & 13 &  1.05\\\\\n",
       "\t Dick.Rogers     & 12 & 16 &  9 & 14 & -0.70\\\\\n",
       "\t William.Edwards & 15 & 14 & 11 & 10 & -0.95\\\\\n",
       "\t Janet.Jones     & 11 & 17 & 11 & 16 &  0.30\\\\\n",
       "\\end{tabular}\n"
      ],
      "text/markdown": [
       "\n",
       "A data.frame: 5 × 6\n",
       "\n",
       "| name &lt;chr&gt; | spring &lt;int&gt; | summer &lt;int&gt; | autumn &lt;int&gt; | winter &lt;int&gt; | diff_mean &lt;dbl&gt; |\n",
       "|---|---|---|---|---|---|\n",
       "| Jane.Smith      | 14 | 18 | 11 | 12 |  0.30 |\n",
       "| Robert.Jones    | 17 | 18 | 10 | 13 |  1.05 |\n",
       "| Dick.Rogers     | 12 | 16 |  9 | 14 | -0.70 |\n",
       "| William.Edwards | 15 | 14 | 11 | 10 | -0.95 |\n",
       "| Janet.Jones     | 11 | 17 | 11 | 16 |  0.30 |\n",
       "\n"
      ],
      "text/plain": [
       "  name            spring summer autumn winter diff_mean\n",
       "1 Jane.Smith      14     18     11     12      0.30    \n",
       "2 Robert.Jones    17     18     10     13      1.05    \n",
       "3 Dick.Rogers     12     16      9     14     -0.70    \n",
       "4 William.Edwards 15     14     11     10     -0.95    \n",
       "5 Janet.Jones     11     17     11     16      0.30    "
      ]
     },
     "metadata": {},
     "output_type": "display_data"
    }
   ],
   "source": [
    "new_sales"
   ]
  },
  {
   "cell_type": "code",
   "execution_count": 47,
   "id": "b24cc74c-f5ac-4ce0-afee-023483f59c0b",
   "metadata": {},
   "outputs": [],
   "source": [
    "seasons_mean = colMeans(sales[,2:5])"
   ]
  },
  {
   "cell_type": "code",
   "execution_count": 49,
   "id": "291302f7-9349-4ded-b8f6-9bfcb6dba702",
   "metadata": {},
   "outputs": [
    {
     "data": {
      "text/html": [
       "<style>\n",
       ".dl-inline {width: auto; margin:0; padding: 0}\n",
       ".dl-inline>dt, .dl-inline>dd {float: none; width: auto; display: inline-block}\n",
       ".dl-inline>dt::after {content: \":\\0020\"; padding-right: .5ex}\n",
       ".dl-inline>dt:not(:first-of-type) {padding-left: .5ex}\n",
       "</style><dl class=dl-inline><dt>spring</dt><dd>13.8</dd><dt>summer</dt><dd>16.6</dd><dt>autumn</dt><dd>10.4</dd><dt>winter</dt><dd>13</dd></dl>\n"
      ],
      "text/latex": [
       "\\begin{description*}\n",
       "\\item[spring] 13.8\n",
       "\\item[summer] 16.6\n",
       "\\item[autumn] 10.4\n",
       "\\item[winter] 13\n",
       "\\end{description*}\n"
      ],
      "text/markdown": [
       "spring\n",
       ":   13.8summer\n",
       ":   16.6autumn\n",
       ":   10.4winter\n",
       ":   13\n",
       "\n"
      ],
      "text/plain": [
       "spring summer autumn winter \n",
       "  13.8   16.6   10.4   13.0 "
      ]
     },
     "metadata": {},
     "output_type": "display_data"
    }
   ],
   "source": [
    "seasons_mean"
   ]
  },
  {
   "cell_type": "code",
   "execution_count": 50,
   "id": "fb79a624-126b-4e57-bc07-f0a3abd6bd56",
   "metadata": {},
   "outputs": [
    {
     "data": {
      "text/html": [
       "<style>\n",
       ".dl-inline {width: auto; margin:0; padding: 0}\n",
       ".dl-inline>dt, .dl-inline>dd {float: none; width: auto; display: inline-block}\n",
       ".dl-inline>dt::after {content: \":\\0020\"; padding-right: .5ex}\n",
       ".dl-inline>dt:not(:first-of-type) {padding-left: .5ex}\n",
       "</style><dl class=dl-inline><dt>spring</dt><dd>0.35</dd><dt>summer</dt><dd>3.15</dd><dt>autumn</dt><dd>-3.05</dd><dt>winter</dt><dd>-0.450000000000001</dd></dl>\n"
      ],
      "text/latex": [
       "\\begin{description*}\n",
       "\\item[spring] 0.35\n",
       "\\item[summer] 3.15\n",
       "\\item[autumn] -3.05\n",
       "\\item[winter] -0.450000000000001\n",
       "\\end{description*}\n"
      ],
      "text/markdown": [
       "spring\n",
       ":   0.35summer\n",
       ":   3.15autumn\n",
       ":   -3.05winter\n",
       ":   -0.450000000000001\n",
       "\n"
      ],
      "text/plain": [
       "spring summer autumn winter \n",
       "  0.35   3.15  -3.05  -0.45 "
      ]
     },
     "metadata": {},
     "output_type": "display_data"
    },
    {
     "data": {
      "text/html": [
       "<style>\n",
       ".dl-inline {width: auto; margin:0; padding: 0}\n",
       ".dl-inline>dt, .dl-inline>dd {float: none; width: auto; display: inline-block}\n",
       ".dl-inline>dt::after {content: \":\\0020\"; padding-right: .5ex}\n",
       ".dl-inline>dt:not(:first-of-type) {padding-left: .5ex}\n",
       "</style><dl class=dl-inline><dt>spring</dt><dd>0.35</dd><dt>summer</dt><dd>3.15</dd><dt>autumn</dt><dd>-3.05</dd><dt>winter</dt><dd>-0.450000000000001</dd></dl>\n"
      ],
      "text/latex": [
       "\\begin{description*}\n",
       "\\item[spring] 0.35\n",
       "\\item[summer] 3.15\n",
       "\\item[autumn] -3.05\n",
       "\\item[winter] -0.450000000000001\n",
       "\\end{description*}\n"
      ],
      "text/markdown": [
       "spring\n",
       ":   0.35summer\n",
       ":   3.15autumn\n",
       ":   -3.05winter\n",
       ":   -0.450000000000001\n",
       "\n"
      ],
      "text/plain": [
       "spring summer autumn winter \n",
       "  0.35   3.15  -3.05  -0.45 "
      ]
     },
     "metadata": {},
     "output_type": "display_data"
    }
   ],
   "source": [
    "(seasons <- seasons_mean - mean(seasons_mean))\n",
    "seasons"
   ]
  },
  {
   "cell_type": "code",
   "execution_count": 51,
   "id": "8e810b6f-115c-4a65-a32b-639ea9baa801",
   "metadata": {},
   "outputs": [
    {
     "data": {
      "text/html": [
       "<style>\n",
       ".dl-inline {width: auto; margin:0; padding: 0}\n",
       ".dl-inline>dt, .dl-inline>dd {float: none; width: auto; display: inline-block}\n",
       ".dl-inline>dt::after {content: \":\\0020\"; padding-right: .5ex}\n",
       ".dl-inline>dt:not(:first-of-type) {padding-left: .5ex}\n",
       "</style><dl class=dl-inline><dt>spring</dt><dd>0.35</dd><dt>summer</dt><dd>3.15</dd><dt>autumn</dt><dd>-3.05</dd><dt>winter</dt><dd>-0.450000000000001</dd></dl>\n"
      ],
      "text/latex": [
       "\\begin{description*}\n",
       "\\item[spring] 0.35\n",
       "\\item[summer] 3.15\n",
       "\\item[autumn] -3.05\n",
       "\\item[winter] -0.450000000000001\n",
       "\\end{description*}\n"
      ],
      "text/markdown": [
       "spring\n",
       ":   0.35summer\n",
       ":   3.15autumn\n",
       ":   -3.05winter\n",
       ":   -0.450000000000001\n",
       "\n"
      ],
      "text/plain": [
       "spring summer autumn winter \n",
       "  0.35   3.15  -3.05  -0.45 "
      ]
     },
     "metadata": {},
     "output_type": "display_data"
    }
   ],
   "source": [
    "seasons"
   ]
  },
  {
   "cell_type": "code",
   "execution_count": 61,
   "id": "3b75fd46-8e6f-4410-9028-178c7dccfebd",
   "metadata": {},
   "outputs": [],
   "source": [
    "new.row <- new_sales[1, ]"
   ]
  },
  {
   "cell_type": "code",
   "execution_count": 62,
   "id": "3c55d49d-f87d-4a86-86a5-0d9a3b1ba098",
   "metadata": {},
   "outputs": [
    {
     "data": {
      "text/html": [
       "<table class=\"dataframe\">\n",
       "<caption>A data.frame: 1 × 6</caption>\n",
       "<thead>\n",
       "\t<tr><th></th><th scope=col>name</th><th scope=col>spring</th><th scope=col>summer</th><th scope=col>autumn</th><th scope=col>winter</th><th scope=col>diff_mean</th></tr>\n",
       "\t<tr><th></th><th scope=col>&lt;chr&gt;</th><th scope=col>&lt;int&gt;</th><th scope=col>&lt;int&gt;</th><th scope=col>&lt;int&gt;</th><th scope=col>&lt;int&gt;</th><th scope=col>&lt;dbl&gt;</th></tr>\n",
       "</thead>\n",
       "<tbody>\n",
       "\t<tr><th scope=row>1</th><td>Jane.Smith</td><td>14</td><td>18</td><td>11</td><td>12</td><td>0.3</td></tr>\n",
       "</tbody>\n",
       "</table>\n"
      ],
      "text/latex": [
       "A data.frame: 1 × 6\n",
       "\\begin{tabular}{r|llllll}\n",
       "  & name & spring & summer & autumn & winter & diff\\_mean\\\\\n",
       "  & <chr> & <int> & <int> & <int> & <int> & <dbl>\\\\\n",
       "\\hline\n",
       "\t1 & Jane.Smith & 14 & 18 & 11 & 12 & 0.3\\\\\n",
       "\\end{tabular}\n"
      ],
      "text/markdown": [
       "\n",
       "A data.frame: 1 × 6\n",
       "\n",
       "| <!--/--> | name &lt;chr&gt; | spring &lt;int&gt; | summer &lt;int&gt; | autumn &lt;int&gt; | winter &lt;int&gt; | diff_mean &lt;dbl&gt; |\n",
       "|---|---|---|---|---|---|---|\n",
       "| 1 | Jane.Smith | 14 | 18 | 11 | 12 | 0.3 |\n",
       "\n"
      ],
      "text/plain": [
       "  name       spring summer autumn winter diff_mean\n",
       "1 Jane.Smith 14     18     11     12     0.3      "
      ]
     },
     "metadata": {},
     "output_type": "display_data"
    }
   ],
   "source": [
    "new.row"
   ]
  },
  {
   "cell_type": "code",
   "execution_count": 63,
   "id": "ed2dbb62-0773-48cf-8ad8-80b4000100d7",
   "metadata": {},
   "outputs": [
    {
     "data": {
      "text/html": [
       "<table class=\"dataframe\">\n",
       "<caption>A data.frame: 1 × 1</caption>\n",
       "<thead>\n",
       "\t<tr><th></th><th scope=col>spring</th></tr>\n",
       "\t<tr><th></th><th scope=col>&lt;int&gt;</th></tr>\n",
       "</thead>\n",
       "<tbody>\n",
       "\t<tr><th scope=row>1</th><td>14</td></tr>\n",
       "</tbody>\n",
       "</table>\n"
      ],
      "text/latex": [
       "A data.frame: 1 × 1\n",
       "\\begin{tabular}{r|l}\n",
       "  & spring\\\\\n",
       "  & <int>\\\\\n",
       "\\hline\n",
       "\t1 & 14\\\\\n",
       "\\end{tabular}\n"
      ],
      "text/markdown": [
       "\n",
       "A data.frame: 1 × 1\n",
       "\n",
       "| <!--/--> | spring &lt;int&gt; |\n",
       "|---|---|\n",
       "| 1 | 14 |\n",
       "\n"
      ],
      "text/plain": [
       "  spring\n",
       "1 14    "
      ]
     },
     "metadata": {},
     "output_type": "display_data"
    }
   ],
   "source": [
    "new.row[2]"
   ]
  },
  {
   "cell_type": "code",
   "execution_count": 58,
   "id": "0e3ba254-dde6-4f14-bae2-e102ad05c571",
   "metadata": {},
   "outputs": [],
   "source": [
    "new.row[1] <- \"seasonal effects\""
   ]
  },
  {
   "cell_type": "code",
   "execution_count": 59,
   "id": "86182d81-dc5e-4a97-8f69-3ececaba08de",
   "metadata": {},
   "outputs": [
    {
     "data": {
      "text/html": [
       "<table class=\"dataframe\">\n",
       "<caption>A data.frame: 1 × 6</caption>\n",
       "<thead>\n",
       "\t<tr><th></th><th scope=col>name</th><th scope=col>spring</th><th scope=col>summer</th><th scope=col>autumn</th><th scope=col>winter</th><th scope=col>diff_mean</th></tr>\n",
       "\t<tr><th></th><th scope=col>&lt;chr&gt;</th><th scope=col>&lt;int&gt;</th><th scope=col>&lt;int&gt;</th><th scope=col>&lt;int&gt;</th><th scope=col>&lt;int&gt;</th><th scope=col>&lt;dbl&gt;</th></tr>\n",
       "</thead>\n",
       "<tbody>\n",
       "\t<tr><th scope=row>1</th><td>seasonal effects</td><td>14</td><td>18</td><td>11</td><td>12</td><td>0.3</td></tr>\n",
       "</tbody>\n",
       "</table>\n"
      ],
      "text/latex": [
       "A data.frame: 1 × 6\n",
       "\\begin{tabular}{r|llllll}\n",
       "  & name & spring & summer & autumn & winter & diff\\_mean\\\\\n",
       "  & <chr> & <int> & <int> & <int> & <int> & <dbl>\\\\\n",
       "\\hline\n",
       "\t1 & seasonal effects & 14 & 18 & 11 & 12 & 0.3\\\\\n",
       "\\end{tabular}\n"
      ],
      "text/markdown": [
       "\n",
       "A data.frame: 1 × 6\n",
       "\n",
       "| <!--/--> | name &lt;chr&gt; | spring &lt;int&gt; | summer &lt;int&gt; | autumn &lt;int&gt; | winter &lt;int&gt; | diff_mean &lt;dbl&gt; |\n",
       "|---|---|---|---|---|---|---|\n",
       "| 1 | seasonal effects | 14 | 18 | 11 | 12 | 0.3 |\n",
       "\n"
      ],
      "text/plain": [
       "  name             spring summer autumn winter diff_mean\n",
       "1 seasonal effects 14     18     11     12     0.3      "
      ]
     },
     "metadata": {},
     "output_type": "display_data"
    }
   ],
   "source": [
    "new.row"
   ]
  },
  {
   "cell_type": "code",
   "execution_count": 60,
   "id": "408dea1b-4114-4558-911b-cdd71cced9f4",
   "metadata": {},
   "outputs": [
    {
     "data": {
      "text/html": [
       "<table class=\"dataframe\">\n",
       "<caption>A data.frame: 1 × 1</caption>\n",
       "<thead>\n",
       "\t<tr><th></th><th scope=col>name</th></tr>\n",
       "\t<tr><th></th><th scope=col>&lt;chr&gt;</th></tr>\n",
       "</thead>\n",
       "<tbody>\n",
       "\t<tr><th scope=row>1</th><td>seasonal effects</td></tr>\n",
       "</tbody>\n",
       "</table>\n"
      ],
      "text/latex": [
       "A data.frame: 1 × 1\n",
       "\\begin{tabular}{r|l}\n",
       "  & name\\\\\n",
       "  & <chr>\\\\\n",
       "\\hline\n",
       "\t1 & seasonal effects\\\\\n",
       "\\end{tabular}\n"
      ],
      "text/markdown": [
       "\n",
       "A data.frame: 1 × 1\n",
       "\n",
       "| <!--/--> | name &lt;chr&gt; |\n",
       "|---|---|\n",
       "| 1 | seasonal effects |\n",
       "\n"
      ],
      "text/plain": [
       "  name            \n",
       "1 seasonal effects"
      ]
     },
     "metadata": {},
     "output_type": "display_data"
    }
   ],
   "source": [
    "new.row[1]"
   ]
  },
  {
   "cell_type": "code",
   "execution_count": 64,
   "id": "c30e5ab2-97dc-4009-8f9c-bcd4dedd898a",
   "metadata": {},
   "outputs": [
    {
     "data": {
      "text/html": [
       "<style>\n",
       ".dl-inline {width: auto; margin:0; padding: 0}\n",
       ".dl-inline>dt, .dl-inline>dd {float: none; width: auto; display: inline-block}\n",
       ".dl-inline>dt::after {content: \":\\0020\"; padding-right: .5ex}\n",
       ".dl-inline>dt:not(:first-of-type) {padding-left: .5ex}\n",
       "</style><dl class=dl-inline><dt>spring</dt><dd>0.35</dd><dt>summer</dt><dd>3.15</dd><dt>autumn</dt><dd>-3.05</dd><dt>winter</dt><dd>-0.450000000000001</dd></dl>\n"
      ],
      "text/latex": [
       "\\begin{description*}\n",
       "\\item[spring] 0.35\n",
       "\\item[summer] 3.15\n",
       "\\item[autumn] -3.05\n",
       "\\item[winter] -0.450000000000001\n",
       "\\end{description*}\n"
      ],
      "text/markdown": [
       "spring\n",
       ":   0.35summer\n",
       ":   3.15autumn\n",
       ":   -3.05winter\n",
       ":   -0.450000000000001\n",
       "\n"
      ],
      "text/plain": [
       "spring summer autumn winter \n",
       "  0.35   3.15  -3.05  -0.45 "
      ]
     },
     "metadata": {},
     "output_type": "display_data"
    }
   ],
   "source": [
    "seasons"
   ]
  },
  {
   "cell_type": "code",
   "execution_count": 65,
   "id": "bdd07a4f-2348-41ad-8552-3b3f801ffca7",
   "metadata": {},
   "outputs": [],
   "source": [
    "new.row[2:5] = seasons"
   ]
  },
  {
   "cell_type": "code",
   "execution_count": 66,
   "id": "89a66cd3-0050-4f4a-b68b-7823f1fd4772",
   "metadata": {},
   "outputs": [],
   "source": [
    "new.row[6] = 0"
   ]
  },
  {
   "cell_type": "code",
   "execution_count": 67,
   "id": "b3cb36d1-95e6-4be6-9b31-c024d8633c56",
   "metadata": {},
   "outputs": [
    {
     "data": {
      "text/html": [
       "<table class=\"dataframe\">\n",
       "<caption>A data.frame: 1 × 6</caption>\n",
       "<thead>\n",
       "\t<tr><th></th><th scope=col>name</th><th scope=col>spring</th><th scope=col>summer</th><th scope=col>autumn</th><th scope=col>winter</th><th scope=col>diff_mean</th></tr>\n",
       "\t<tr><th></th><th scope=col>&lt;chr&gt;</th><th scope=col>&lt;dbl&gt;</th><th scope=col>&lt;dbl&gt;</th><th scope=col>&lt;dbl&gt;</th><th scope=col>&lt;dbl&gt;</th><th scope=col>&lt;dbl&gt;</th></tr>\n",
       "</thead>\n",
       "<tbody>\n",
       "\t<tr><th scope=row>1</th><td>Jane.Smith</td><td>0.35</td><td>3.15</td><td>-3.05</td><td>-0.45</td><td>0</td></tr>\n",
       "</tbody>\n",
       "</table>\n"
      ],
      "text/latex": [
       "A data.frame: 1 × 6\n",
       "\\begin{tabular}{r|llllll}\n",
       "  & name & spring & summer & autumn & winter & diff\\_mean\\\\\n",
       "  & <chr> & <dbl> & <dbl> & <dbl> & <dbl> & <dbl>\\\\\n",
       "\\hline\n",
       "\t1 & Jane.Smith & 0.35 & 3.15 & -3.05 & -0.45 & 0\\\\\n",
       "\\end{tabular}\n"
      ],
      "text/markdown": [
       "\n",
       "A data.frame: 1 × 6\n",
       "\n",
       "| <!--/--> | name &lt;chr&gt; | spring &lt;dbl&gt; | summer &lt;dbl&gt; | autumn &lt;dbl&gt; | winter &lt;dbl&gt; | diff_mean &lt;dbl&gt; |\n",
       "|---|---|---|---|---|---|---|\n",
       "| 1 | Jane.Smith | 0.35 | 3.15 | -3.05 | -0.45 | 0 |\n",
       "\n"
      ],
      "text/plain": [
       "  name       spring summer autumn winter diff_mean\n",
       "1 Jane.Smith 0.35   3.15   -3.05  -0.45  0        "
      ]
     },
     "metadata": {},
     "output_type": "display_data"
    }
   ],
   "source": [
    "new.row"
   ]
  },
  {
   "cell_type": "code",
   "execution_count": 70,
   "id": "d0ac5a5e-18d6-43c3-93c8-cbd129ec708c",
   "metadata": {},
   "outputs": [],
   "source": [
    "\n",
    "new.frame = rbind(new_sales, new.row)"
   ]
  },
  {
   "cell_type": "code",
   "execution_count": 71,
   "id": "54cee912-507b-48e6-9512-f30d82cafa09",
   "metadata": {},
   "outputs": [
    {
     "data": {
      "text/html": [
       "<table class=\"dataframe\">\n",
       "<caption>A data.frame: 6 × 6</caption>\n",
       "<thead>\n",
       "\t<tr><th scope=col>name</th><th scope=col>spring</th><th scope=col>summer</th><th scope=col>autumn</th><th scope=col>winter</th><th scope=col>diff_mean</th></tr>\n",
       "\t<tr><th scope=col>&lt;chr&gt;</th><th scope=col>&lt;dbl&gt;</th><th scope=col>&lt;dbl&gt;</th><th scope=col>&lt;dbl&gt;</th><th scope=col>&lt;dbl&gt;</th><th scope=col>&lt;dbl&gt;</th></tr>\n",
       "</thead>\n",
       "<tbody>\n",
       "\t<tr><td>Jane.Smith     </td><td>14.00</td><td>18.00</td><td>11.00</td><td>12.00</td><td> 0.30</td></tr>\n",
       "\t<tr><td>Robert.Jones   </td><td>17.00</td><td>18.00</td><td>10.00</td><td>13.00</td><td> 1.05</td></tr>\n",
       "\t<tr><td>Dick.Rogers    </td><td>12.00</td><td>16.00</td><td> 9.00</td><td>14.00</td><td>-0.70</td></tr>\n",
       "\t<tr><td>William.Edwards</td><td>15.00</td><td>14.00</td><td>11.00</td><td>10.00</td><td>-0.95</td></tr>\n",
       "\t<tr><td>Janet.Jones    </td><td>11.00</td><td>17.00</td><td>11.00</td><td>16.00</td><td> 0.30</td></tr>\n",
       "\t<tr><td>Jane.Smith     </td><td> 0.35</td><td> 3.15</td><td>-3.05</td><td>-0.45</td><td> 0.00</td></tr>\n",
       "</tbody>\n",
       "</table>\n"
      ],
      "text/latex": [
       "A data.frame: 6 × 6\n",
       "\\begin{tabular}{llllll}\n",
       " name & spring & summer & autumn & winter & diff\\_mean\\\\\n",
       " <chr> & <dbl> & <dbl> & <dbl> & <dbl> & <dbl>\\\\\n",
       "\\hline\n",
       "\t Jane.Smith      & 14.00 & 18.00 & 11.00 & 12.00 &  0.30\\\\\n",
       "\t Robert.Jones    & 17.00 & 18.00 & 10.00 & 13.00 &  1.05\\\\\n",
       "\t Dick.Rogers     & 12.00 & 16.00 &  9.00 & 14.00 & -0.70\\\\\n",
       "\t William.Edwards & 15.00 & 14.00 & 11.00 & 10.00 & -0.95\\\\\n",
       "\t Janet.Jones     & 11.00 & 17.00 & 11.00 & 16.00 &  0.30\\\\\n",
       "\t Jane.Smith      &  0.35 &  3.15 & -3.05 & -0.45 &  0.00\\\\\n",
       "\\end{tabular}\n"
      ],
      "text/markdown": [
       "\n",
       "A data.frame: 6 × 6\n",
       "\n",
       "| name &lt;chr&gt; | spring &lt;dbl&gt; | summer &lt;dbl&gt; | autumn &lt;dbl&gt; | winter &lt;dbl&gt; | diff_mean &lt;dbl&gt; |\n",
       "|---|---|---|---|---|---|\n",
       "| Jane.Smith      | 14.00 | 18.00 | 11.00 | 12.00 |  0.30 |\n",
       "| Robert.Jones    | 17.00 | 18.00 | 10.00 | 13.00 |  1.05 |\n",
       "| Dick.Rogers     | 12.00 | 16.00 |  9.00 | 14.00 | -0.70 |\n",
       "| William.Edwards | 15.00 | 14.00 | 11.00 | 10.00 | -0.95 |\n",
       "| Janet.Jones     | 11.00 | 17.00 | 11.00 | 16.00 |  0.30 |\n",
       "| Jane.Smith      |  0.35 |  3.15 | -3.05 | -0.45 |  0.00 |\n",
       "\n"
      ],
      "text/plain": [
       "  name            spring summer autumn winter diff_mean\n",
       "1 Jane.Smith      14.00  18.00  11.00  12.00   0.30    \n",
       "2 Robert.Jones    17.00  18.00  10.00  13.00   1.05    \n",
       "3 Dick.Rogers     12.00  16.00   9.00  14.00  -0.70    \n",
       "4 William.Edwards 15.00  14.00  11.00  10.00  -0.95    \n",
       "5 Janet.Jones     11.00  17.00  11.00  16.00   0.30    \n",
       "6 Jane.Smith       0.35   3.15  -3.05  -0.45   0.00    "
      ]
     },
     "metadata": {},
     "output_type": "display_data"
    }
   ],
   "source": [
    "new.frame"
   ]
  },
  {
   "cell_type": "code",
   "execution_count": null,
   "id": "08e4f3d3-a191-44fe-b25f-4487a7ad5ef0",
   "metadata": {},
   "outputs": [],
   "source": []
  }
 ],
 "metadata": {
  "kernelspec": {
   "display_name": "R",
   "language": "R",
   "name": "ir"
  },
  "language_info": {
   "codemirror_mode": "r",
   "file_extension": ".r",
   "mimetype": "text/x-r-source",
   "name": "R",
   "pygments_lexer": "r",
   "version": "4.2.2"
  }
 },
 "nbformat": 4,
 "nbformat_minor": 5
}
